{
 "cells": [
  {
   "cell_type": "code",
   "execution_count": 1,
   "id": "2c3e78a5",
   "metadata": {},
   "outputs": [
    {
     "ename": "FileNotFoundError",
     "evalue": "[Errno 2] No such file or directory: 'best_params.pickle'",
     "output_type": "error",
     "traceback": [
      "\u001b[1;31m---------------------------------------------------------------------------\u001b[0m",
      "\u001b[1;31mFileNotFoundError\u001b[0m                         Traceback (most recent call last)",
      "\u001b[1;32md:\\new pc stuff\\E-learning\\Year 3\\Graduation Project\\sentiment-analysis-yelp\\code\\playground.ipynb Cell 1\u001b[0m in \u001b[0;36m<cell line: 2>\u001b[1;34m()\u001b[0m\n\u001b[0;32m      <a href='vscode-notebook-cell:/d%3A/new%20pc%20stuff/E-learning/Year%203/Graduation%20Project/sentiment-analysis-yelp/code/playground.ipynb#W0sZmlsZQ%3D%3D?line=0'>1</a>\u001b[0m \u001b[39mimport\u001b[39;00m \u001b[39mpickle\u001b[39;00m\n\u001b[1;32m----> <a href='vscode-notebook-cell:/d%3A/new%20pc%20stuff/E-learning/Year%203/Graduation%20Project/sentiment-analysis-yelp/code/playground.ipynb#W0sZmlsZQ%3D%3D?line=1'>2</a>\u001b[0m best_params \u001b[39m=\u001b[39m pickle\u001b[39m.\u001b[39mload(\u001b[39mopen\u001b[39;49m(\u001b[39m\"\u001b[39;49m\u001b[39mbest_params.pickle\u001b[39;49m\u001b[39m\"\u001b[39;49m, \u001b[39m\"\u001b[39;49m\u001b[39mrb\u001b[39;49m\u001b[39m\"\u001b[39;49m))\n\u001b[0;32m      <a href='vscode-notebook-cell:/d%3A/new%20pc%20stuff/E-learning/Year%203/Graduation%20Project/sentiment-analysis-yelp/code/playground.ipynb#W0sZmlsZQ%3D%3D?line=2'>3</a>\u001b[0m best_params\n",
      "\u001b[1;31mFileNotFoundError\u001b[0m: [Errno 2] No such file or directory: 'best_params.pickle'"
     ]
    }
   ],
   "source": [
    "import pickle\n",
    "best_params = pickle.load(open(\"best_params.pickle\", \"rb\"))\n",
    "best_params"
   ]
  },
  {
   "cell_type": "code",
   "execution_count": 1,
   "id": "68646ec2",
   "metadata": {},
   "outputs": [
    {
     "name": "stderr",
     "output_type": "stream",
     "text": [
      "c:\\Users\\user\\AppData\\Local\\Programs\\Python\\Python310\\lib\\site-packages\\numpy\\_distributor_init.py:30: UserWarning: loaded more than 1 DLL from .libs:\n",
      "c:\\Users\\user\\AppData\\Local\\Programs\\Python\\Python310\\lib\\site-packages\\numpy\\.libs\\libopenblas.EL2C6PLE4ZYW3ECEVIV3OXXGRN2NRFM2.gfortran-win_amd64.dll\n",
      "c:\\Users\\user\\AppData\\Local\\Programs\\Python\\Python310\\lib\\site-packages\\numpy\\.libs\\libopenblas.FB5AE2TYXYH2IJRDKGDGQ3XBKLKTF43H.gfortran-win_amd64.dll\n",
      "  warnings.warn(\"loaded more than 1 DLL from .libs:\"\n"
     ]
    }
   ],
   "source": [
    "import pandas as pd\n",
    "import sklearn\n",
    "import numpy as np\n",
    "from imblearn.over_sampling import SMOTE,RandomOverSampler\n",
    "from sklearn import metrics\n",
    "from sklearn.tree import DecisionTreeClassifier\n",
    "from sklearn.ensemble import RandomForestClassifier\n",
    "from sklearn.model_selection import train_test_split\n",
    "from gensim.test.utils import common_texts\n",
    "from gensim.models import Word2Vec\n",
    "import nltk"
   ]
  },
  {
   "cell_type": "code",
   "execution_count": 2,
   "id": "ae8498fc",
   "metadata": {},
   "outputs": [],
   "source": [
    "from nlp_ai_utils import *"
   ]
  },
  {
   "cell_type": "code",
   "execution_count": 3,
   "id": "d099a423",
   "metadata": {},
   "outputs": [],
   "source": [
    "df = pd.read_csv(\"../smaller_dataset/yelp coffee/raw_yelp_review_data_processed.csv\")\n",
    "df_unprocessed = pd.read_csv(\"../smaller_dataset/yelp coffee/raw_yelp_review_data.csv\")"
   ]
  },
  {
   "cell_type": "code",
   "execution_count": 19,
   "id": "4a77d7ba",
   "metadata": {},
   "outputs": [],
   "source": [
    "y = df['star_rating']\n",
    "classes_range = range(1,6)"
   ]
  },
  {
   "cell_type": "code",
   "execution_count": 20,
   "id": "82ec5cfc",
   "metadata": {},
   "outputs": [
    {
     "data": {
      "text/plain": [
       "[1, 2, 3, 4, 5]"
      ]
     },
     "execution_count": 20,
     "metadata": {},
     "output_type": "execute_result"
    }
   ],
   "source": [
    "list(classes_range)"
   ]
  },
  {
   "cell_type": "code",
   "execution_count": 21,
   "id": "67ebc2e0",
   "metadata": {},
   "outputs": [
    {
     "data": {
      "image/png": "[encoded data removed]",
      "text/plain": [
       "<Figure size 432x288 with 1 Axes>"
      ]
     },
     "metadata": {},
     "output_type": "display_data"
    }
   ],
   "source": [
    "visualize_ratings_pie(y,1,5)"
   ]
  },
  {
   "cell_type": "code",
   "execution_count": 16,
   "id": "64d37679",
   "metadata": {},
   "outputs": [
    {
     "data": {
      "text/plain": [
       "[1, 2, 3, 4, 5]"
      ]
     },
     "execution_count": 16,
     "metadata": {},
     "output_type": "execute_result"
    }
   ],
   "source": [
    "test1 = list(range(1,6))\n",
    "test2 = [1,2,3,4,5]\n",
    "\n",
    "test1"
   ]
  },
  {
   "cell_type": "code",
   "execution_count": null,
   "id": "cff3785f",
   "metadata": {},
   "outputs": [],
   "source": []
  },
  {
   "cell_type": "code",
   "execution_count": 24,
   "id": "3eaae7a4",
   "metadata": {},
   "outputs": [],
   "source": [
    "def tokenize_review(text):\n",
    "    return nltk.word_tokenize(text)"
   ]
  },
  {
   "cell_type": "code",
   "execution_count": 25,
   "id": "07ba20ab",
   "metadata": {},
   "outputs": [],
   "source": [
    "reviews_tokens = [tokenize_review(review) for review in X]"
   ]
  },
  {
   "cell_type": "code",
   "execution_count": 1,
   "id": "ab7c714d",
   "metadata": {},
   "outputs": [
    {
     "ename": "NameError",
     "evalue": "name 'Word2Vec' is not defined",
     "output_type": "error",
     "traceback": [
      "\u001b[1;31m---------------------------------------------------------------------------\u001b[0m",
      "\u001b[1;31mNameError\u001b[0m                                 Traceback (most recent call last)",
      "\u001b[1;32m~\\AppData\\Local\\Temp/ipykernel_17436/1362027351.py\u001b[0m in \u001b[0;36m<module>\u001b[1;34m\u001b[0m\n\u001b[1;32m----> 1\u001b[1;33m \u001b[0mmodel\u001b[0m \u001b[1;33m=\u001b[0m \u001b[0mWord2Vec\u001b[0m\u001b[1;33m(\u001b[0m\u001b[0msentences\u001b[0m\u001b[1;33m=\u001b[0m\u001b[0mreviews_tokens\u001b[0m\u001b[1;33m,\u001b[0m \u001b[0mvector_size\u001b[0m\u001b[1;33m=\u001b[0m\u001b[1;36m100\u001b[0m\u001b[1;33m,\u001b[0m \u001b[0mwindow\u001b[0m\u001b[1;33m=\u001b[0m\u001b[1;36m5\u001b[0m\u001b[1;33m,\u001b[0m \u001b[0mmin_count\u001b[0m\u001b[1;33m=\u001b[0m\u001b[1;36m1\u001b[0m\u001b[1;33m,\u001b[0m \u001b[0mworkers\u001b[0m\u001b[1;33m=\u001b[0m\u001b[1;36m4\u001b[0m\u001b[1;33m)\u001b[0m\u001b[1;33m\u001b[0m\u001b[1;33m\u001b[0m\u001b[0m\n\u001b[0m\u001b[0;32m      2\u001b[0m \u001b[0mmodel\u001b[0m\u001b[1;33m.\u001b[0m\u001b[0msave\u001b[0m\u001b[1;33m(\u001b[0m\u001b[1;34m\"test_w2v.model\"\u001b[0m\u001b[1;33m)\u001b[0m\u001b[1;33m\u001b[0m\u001b[1;33m\u001b[0m\u001b[0m\n",
      "\u001b[1;31mNameError\u001b[0m: name 'Word2Vec' is not defined"
     ]
    }
   ],
   "source": [
    "model = Word2Vec(sentences=reviews_tokens, vector_size=100, window=5, min_count=1, workers=4)\n",
    "# model.save(\"test_w2v.model\")"
   ]
  },
  {
   "cell_type": "code",
   "execution_count": 35,
   "id": "00d35cfa",
   "metadata": {},
   "outputs": [],
   "source": [
    "X = np.zeros((len(reviews_tokens), model.vector_size))\n",
    "labels = y\n",
    "for i, review in enumerate(reviews_tokens):\n",
    "    for word in review:\n",
    "        if word in model.wv:\n",
    "            X[i] += model.wv[word]\n",
    "    X[i] /= len(reviews_tokens)"
   ]
  },
  {
   "cell_type": "code",
   "execution_count": 44,
   "id": "fe317b16",
   "metadata": {},
   "outputs": [],
   "source": [
    "x_train,x_test,y_train,y_test = train_test_split(X,labels,stratify=labels,test_size=0.2,random_state=42)"
   ]
  },
  {
   "cell_type": "code",
   "execution_count": 50,
   "id": "b8614f96",
   "metadata": {},
   "outputs": [],
   "source": [
    "clf = RandomForestClassifier(random_state=42)\n",
    "clf.fit(x_train, y_train)\n",
    "y_pred = clf.predict(x_test)\n",
    "accuracy = metrics.accuracy_score(y_test,y_pred)"
   ]
  },
  {
   "cell_type": "code",
   "execution_count": 51,
   "id": "c7303511",
   "metadata": {},
   "outputs": [
    {
     "data": {
      "text/plain": [
       "0.5516992046276211"
      ]
     },
     "execution_count": 51,
     "metadata": {},
     "output_type": "execute_result"
    }
   ],
   "source": [
    "accuracy"
   ]
  },
  {
   "cell_type": "code",
   "execution_count": 60,
   "id": "4ad7f747",
   "metadata": {},
   "outputs": [],
   "source": [
    "test_review = \"This coffee is a vibe. I cannot imagine living in a world where you do not exist, Starbucks.\"\n",
    "test_token = nltk.word_tokenize(test_review)\n",
    "test_vector = np.zeros(model.vector_size)\n",
    "for word in test_token:\n",
    "    if word in model.wv:\n",
    "        test_vector += model.wv[word]\n",
    "test_vector /= len(test_token)\n",
    "predicted_label = clf.predict([test_vector])[0]"
   ]
  },
  {
   "cell_type": "code",
   "execution_count": 61,
   "id": "087c6fd6",
   "metadata": {},
   "outputs": [
    {
     "data": {
      "text/plain": [
       "4"
      ]
     },
     "execution_count": 61,
     "metadata": {},
     "output_type": "execute_result"
    }
   ],
   "source": [
    "predicted_label"
   ]
  }
 ],
 "metadata": {
  "kernelspec": {
   "display_name": "Python 3 (ipykernel)",
   "language": "python",
   "name": "python3"
  },
  "language_info": {
   "codemirror_mode": {
    "name": "ipython",
    "version": 3
   },
   "file_extension": ".py",
   "mimetype": "text/x-python",
   "name": "python",
   "nbconvert_exporter": "python",
   "pygments_lexer": "ipython3",
   "version": "3.10.10"
  }
 },
 "nbformat": 4,
 "nbformat_minor": 5
}
