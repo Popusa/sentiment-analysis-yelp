{
  "cells": [
    {
      "cell_type": "code",
      "execution_count": 1,
      "metadata": {
        "id": "rifd8reqW3F6"
      },
      "outputs": [
        {
          "name": "stderr",
          "output_type": "stream",
          "text": [
            "The system cannot find the path specified.\n"
          ]
        }
      ],
      "source": [
        "!pip install pandas numpy nltk scikit-learn wordcloud seaborn gensim tensorflow imblearn xgboost matplotlib unrar pyunpack more-itertools patool > /dev/null"
      ]
    },
    {
      "cell_type": "code",
      "execution_count": 2,
      "metadata": {
        "colab": {
          "base_uri": "https://localhost:8080/"
        },
        "id": "K95MLp74Whnn",
        "outputId": "26b3c0a8-7b9c-47c7-d2db-edebf00644fc"
      },
      "outputs": [
        {
          "name": "stderr",
          "output_type": "stream",
          "text": [
            "c:\\Users\\user\\AppData\\Local\\Programs\\Python\\Python310\\lib\\site-packages\\numpy\\_distributor_init.py:30: UserWarning: loaded more than 1 DLL from .libs:\n",
            "c:\\Users\\user\\AppData\\Local\\Programs\\Python\\Python310\\lib\\site-packages\\numpy\\.libs\\libopenblas.EL2C6PLE4ZYW3ECEVIV3OXXGRN2NRFM2.gfortran-win_amd64.dll\n",
            "c:\\Users\\user\\AppData\\Local\\Programs\\Python\\Python310\\lib\\site-packages\\numpy\\.libs\\libopenblas.FB5AE2TYXYH2IJRDKGDGQ3XBKLKTF43H.gfortran-win_amd64.dll\n",
            "  warnings.warn(\"loaded more than 1 DLL from .libs:\"\n",
            "[nltk_data] Downloading package punkt to\n",
            "[nltk_data]     C:\\Users\\user\\AppData\\Roaming\\nltk_data...\n",
            "[nltk_data]   Package punkt is already up-to-date!\n",
            "[nltk_data] Downloading package stopwords to\n",
            "[nltk_data]     C:\\Users\\user\\AppData\\Roaming\\nltk_data...\n",
            "[nltk_data]   Package stopwords is already up-to-date!\n",
            "[nltk_data] Downloading package averaged_perceptron_tagger to\n",
            "[nltk_data]     C:\\Users\\user\\AppData\\Roaming\\nltk_data...\n",
            "[nltk_data]   Package averaged_perceptron_tagger is already up-to-\n",
            "[nltk_data]       date!\n",
            "[nltk_data] Downloading package wordnet to\n",
            "[nltk_data]     C:\\Users\\user\\AppData\\Roaming\\nltk_data...\n",
            "[nltk_data]   Package wordnet is already up-to-date!\n",
            "[nltk_data] Downloading package vader_lexicon to\n",
            "[nltk_data]     C:\\Users\\user\\AppData\\Roaming\\nltk_data...\n",
            "[nltk_data]   Package vader_lexicon is already up-to-date!\n"
          ]
        },
        {
          "data": {
            "text/plain": [
              "True"
            ]
          },
          "execution_count": 2,
          "metadata": {},
          "output_type": "execute_result"
        }
      ],
      "source": [
        "from nlp_ai_utils import *\n",
        "from chunks_urls import CHUNKS_URLS\n",
        "from updating_values import DATA_LIMIT\n",
        "nltk.download('punkt')\n",
        "nltk.download('stopwords')\n",
        "nltk.download('averaged_perceptron_tagger')\n",
        "nltk.download('wordnet')\n",
        "nltk.download('vader_lexicon')"
      ]
    },
    {
      "cell_type": "code",
      "execution_count": 3,
      "metadata": {
        "id": "HKLXkAIk4xWR"
      },
      "outputs": [],
      "source": [
        "#Set this to false if you are running this on your local machine, and true if you are running this on google colab\n",
        "GDRIVE = False\n",
        "\n",
        "LOCAL_DIR = '../pickle_files/'"
      ]
    },
    {
      "cell_type": "code",
      "execution_count": 4,
      "metadata": {
        "id": "p5TthWK2Whno"
      },
      "outputs": [],
      "source": [
        "#TF_ENABLE_ONEDNN_OPTS = 0\n",
        "URLS = CHUNKS_URLS\n",
        "LIMIT = DATA_LIMIT\n",
        "LARGER_DATASET_PATH = \"../larger_dataset\"\n",
        "PREPROCESSED_CHUNKS_PATH = LARGER_DATASET_PATH + \"/preprocessed_data_chunks/\"\n",
        "BASE_FILE_NAME = \"chunk_\"\n",
        "FILE_FORMAT = \".csv\"\n",
        "ACTUAL_DATA_SHAPE = 6990280\n",
        "RANDOM_STATE = 42"
      ]
    },
    {
      "cell_type": "code",
      "execution_count": 5,
      "metadata": {
        "colab": {
          "base_uri": "https://localhost:8080/"
        },
        "id": "R_zFMpwCWhno",
        "outputId": "b1f3b37d-804d-4c1d-dd58-7812f9e15977"
      },
      "outputs": [
        {
          "name": "stdout",
          "output_type": "stream",
          "text": [
            "chunk_1 already exists.\n",
            "chunk_2 already exists.\n",
            "chunk_3 already exists.\n",
            "chunk_4 already exists.\n",
            "chunk_5 already exists.\n",
            "chunk_6 already exists.\n"
          ]
        }
      ],
      "source": [
        "if not os.path.exists(LARGER_DATASET_PATH):\n",
        "    os.mkdir(LARGER_DATASET_PATH)\n",
        "if not os.path.exists(PREPROCESSED_CHUNKS_PATH):\n",
        "    os.mkdir(PREPROCESSED_CHUNKS_PATH)\n",
        "get_chunks(URLS,LIMIT,1,BASE_FILE_NAME,PREPROCESSED_CHUNKS_PATH,FILE_FORMAT)"
      ]
    },
    {
      "cell_type": "code",
      "execution_count": 6,
      "metadata": {
        "id": "wmWRJ1SFWhno"
      },
      "outputs": [],
      "source": [
        "#get all names of downloaded files\n",
        "all_file_names = get_all_file_names(BASE_FILE_NAME,LIMIT)"
      ]
    },
    {
      "cell_type": "code",
      "execution_count": 7,
      "metadata": {
        "id": "DAZRHnjmWhno"
      },
      "outputs": [],
      "source": [
        "#read all chunks into a list\n",
        "list_dfs = read_chunks(all_file_names,PREPROCESSED_CHUNKS_PATH,FILE_FORMAT)"
      ]
    },
    {
      "cell_type": "code",
      "execution_count": 8,
      "metadata": {
        "id": "YI2hHGAUWhno"
      },
      "outputs": [],
      "source": [
        "#concatenate all chunks into a singular df\n",
        "df = group_up_chunks(list_dfs)"
      ]
    },
    {
      "cell_type": "code",
      "execution_count": 9,
      "metadata": {
        "id": "fEjoDPCmWhno"
      },
      "outputs": [],
      "source": [
        "review_data = df[['text', 'stars']].copy()"
      ]
    },
    {
      "cell_type": "code",
      "execution_count": 10,
      "metadata": {
        "id": "KMInJzTLWhnp"
      },
      "outputs": [],
      "source": [
        "review_data.reset_index(inplace = True)\n",
        "review_data.drop(['index'],axis = 1,inplace = True)"
      ]
    },
    {
      "cell_type": "code",
      "execution_count": 11,
      "metadata": {
        "id": "4kuvY3cfWhnp"
      },
      "outputs": [],
      "source": [
        "review_data.rename(columns = {'text':'full_review_text','stars':'star_rating'}, inplace = True)"
      ]
    },
    {
      "cell_type": "code",
      "execution_count": 12,
      "metadata": {
        "id": "VDNLY2NaWhnp"
      },
      "outputs": [],
      "source": [
        "review_data['full_review_text'] = pd.Series([str(text) for text in review_data['full_review_text']])"
      ]
    },
    {
      "cell_type": "code",
      "execution_count": 13,
      "metadata": {
        "id": "v6NDgOeZWhnp"
      },
      "outputs": [],
      "source": [
        "review_data.isnull().sum()\n",
        "review_data.dropna(inplace = True)"
      ]
    },
    {
      "cell_type": "code",
      "execution_count": 14,
      "metadata": {
        "id": "Xm0rucFqWhnp"
      },
      "outputs": [],
      "source": [
        "review_data['full_review_text'].replace('', np.nan, inplace=True)\n",
        "review_data.dropna(inplace = True)"
      ]
    },
    {
      "cell_type": "code",
      "execution_count": 15,
      "metadata": {
        "colab": {
          "base_uri": "https://localhost:8080/"
        },
        "id": "V2ZLPQ5EWhnp",
        "outputId": "439a322a-7e9a-4b21-e457-0f36fb8237cf"
      },
      "outputs": [
        {
          "data": {
            "text/plain": [
              "699030"
            ]
          },
          "execution_count": 15,
          "metadata": {},
          "output_type": "execute_result"
        }
      ],
      "source": [
        "len(review_data['full_review_text'])"
      ]
    },
    {
      "attachments": {},
      "cell_type": "markdown",
      "metadata": {
        "id": "8naulMOaWhnp"
      },
      "source": [
        "## Comparisons"
      ]
    },
    {
      "cell_type": "code",
      "execution_count": 16,
      "metadata": {
        "id": "xjY8OFXSWhnq"
      },
      "outputs": [],
      "source": [
        "X = review_data['full_review_text']\n",
        "y = review_data['star_rating']"
      ]
    },
    {
      "attachments": {},
      "cell_type": "markdown",
      "metadata": {
        "id": "4Cy1d2F7Whnq"
      },
      "source": [
        "### Sentiment Polarity"
      ]
    },
    {
      "cell_type": "code",
      "execution_count": 17,
      "metadata": {
        "id": "293RkaYJWhnq"
      },
      "outputs": [],
      "source": [
        "if GDRIVE:\n",
        "  if os.path.exists(\"sent_data.pickle\"):\n",
        "      sent_data = pickle.load(open(\"sent_data.pickle\",'rb'))\n",
        "  else:\n",
        "      sid = SentimentIntensityAnalyzer()\n",
        "      sent_polarity_info = [sid.polarity_scores(review) for review in review_data['full_review_text']]\n",
        "else:\n",
        "  if os.path.exists(LOCAL_DIR + \"sent_data.pickle\"):\n",
        "      sent_data = pickle.load(open(LOCAL_DIR + \"sent_data.pickle\",'rb'))\n",
        "  else:\n",
        "      sid = SentimentIntensityAnalyzer()\n",
        "      sent_polarity_info = [sid.polarity_scores(review) for review in review_data['full_review_text']]"
      ]
    },
    {
      "cell_type": "code",
      "execution_count": 18,
      "metadata": {
        "id": "S_DoH38qWhnq"
      },
      "outputs": [],
      "source": [
        "if GDRIVE:\n",
        "  if not os.path.exists(\"sent_data.pickle\"):\n",
        "      review_sentiment = [classify_sentiment(scores) for scores in sent_polarity_info]\n",
        "      sent_polarity = [extract_sent_polarity(scores) for scores in sent_polarity_info]\n",
        "      review_data['str_sent'] = review_sentiment\n",
        "      review_data['sent_polarity'] = sent_polarity\n",
        "      sentiment_labels = translate_labels(y)\n",
        "      y_true_sent = encode_sent(sentiment_labels)\n",
        "      y_pred_sent = encode_sent(review_data['str_sent'])\n",
        "else:\n",
        "  if not os.path.exists(\"../pickle_files/sent_data.pickle\"):\n",
        "    review_sentiment = [classify_sentiment(scores) for scores in sent_polarity_info]\n",
        "    sent_polarity = [extract_sent_polarity(scores) for scores in sent_polarity_info]\n",
        "    review_data['str_sent'] = review_sentiment\n",
        "    review_data['sent_polarity'] = sent_polarity\n",
        "    sentiment_labels = translate_labels(y)\n",
        "    y_true_sent = encode_sent(sentiment_labels)\n",
        "    y_pred_sent = encode_sent(review_data['str_sent'])"
      ]
    },
    {
      "cell_type": "code",
      "execution_count": 19,
      "metadata": {
        "id": "SBidEoAIWhnr"
      },
      "outputs": [],
      "source": [
        "if GDRIVE:\n",
        "  if not os.path.exists(\"sent_data.pickle\"):\n",
        "      sent_data = review_data[['str_sent', 'sent_polarity']].copy()\n",
        "      pickle_out = open(\"sent_data.pickle\",'wb')\n",
        "      pickle.dump(sent_data,pickle_out)\n",
        "      pickle_out.close()\n",
        "else:\n",
        "  if not os.path.exists(\"../pickle_files/sent_data.pickle\"):\n",
        "    sent_data = review_data[['str_sent', 'sent_polarity']].copy()\n",
        "    pickle_out = open(\"../pickle_files/sent_data.pickle\",'wb')\n",
        "    pickle.dump(sent_data,pickle_out)\n",
        "    pickle_out.close() "
      ]
    },
    {
      "cell_type": "code",
      "execution_count": 20,
      "metadata": {
        "id": "VXIDNPcgWhnr"
      },
      "outputs": [],
      "source": [
        "if GDRIVE:\n",
        "  if not os.path.exists(\"sent_data.pickle\"):\n",
        "      print(metrics.accuracy_score(y_true_sent,y_pred_sent))\n",
        "else:\n",
        "  if not os.path.exists(\"../pickle_files/sent_data.pickle\"):\n",
        "    print(metrics.accuracy_score(y_true_sent,y_pred_sent))"
      ]
    },
    {
      "cell_type": "code",
      "execution_count": 21,
      "metadata": {
        "colab": {
          "base_uri": "https://localhost:8080/"
        },
        "id": "Ayl0pBrwAlI9",
        "outputId": "555ae394-1704-49c0-ef17-9b3d15105a60"
      },
      "outputs": [
        {
          "name": "stdout",
          "output_type": "stream",
          "text": [
            "0.7532166001459165\n"
          ]
        }
      ],
      "source": [
        "sentiment_labels = translate_labels(y)\n",
        "y_true_sent = encode_sent(sentiment_labels)\n",
        "y_pred_sent = encode_sent(sent_data['str_sent'])\n",
        "print(metrics.accuracy_score(y_true_sent,y_pred_sent))"
      ]
    },
    {
      "attachments": {},
      "cell_type": "markdown",
      "metadata": {
        "id": "vG84ADPtWhnr"
      },
      "source": [
        "### Machine Learning Models"
      ]
    },
    {
      "attachments": {},
      "cell_type": "markdown",
      "metadata": {
        "id": "sZ0MJhumWhnr"
      },
      "source": [
        "#### Word Embedding"
      ]
    },
    {
      "cell_type": "code",
      "execution_count": 22,
      "metadata": {
        "id": "wX79PWYqWhnr"
      },
      "outputs": [],
      "source": [
        "if GDRIVE:\n",
        "  if not os.path.exists('pickle_files'):\n",
        "      os.mkdir('pickle_files')\n",
        "else:\n",
        "  if not os.path.exists('../pickle_files'):\n",
        "    os.mkdir('../pickle_files')"
      ]
    },
    {
      "cell_type": "code",
      "execution_count": 23,
      "metadata": {
        "id": "qa2i6gGCWhnr"
      },
      "outputs": [],
      "source": [
        "count_model = CountVectorizer()"
      ]
    },
    {
      "cell_type": "code",
      "execution_count": 24,
      "metadata": {
        "colab": {
          "base_uri": "https://localhost:8080/"
        },
        "id": "M6DgGc5AWhnr",
        "outputId": "c9c42c04-cb56-4431-d567-eb0787917786"
      },
      "outputs": [
        {
          "name": "stdout",
          "output_type": "stream",
          "text": [
            "Creating Embedding From Scratch.\n"
          ]
        }
      ],
      "source": [
        "if GDRIVE:\n",
        "  if not os.path.exists(\"pickle_files/word2vec_model_sklearn.pickle\"):\n",
        "      print(\"Creating Embedding From Scratch.\")\n",
        "      word2vec_model_sklearn = count_model.fit_transform(X.apply(lambda x: np.str_(x)))\n",
        "      pickle_out = open(\"pickle_files/word2vec_model_sklearn.pickle\",'wb')\n",
        "      pickle.dump(word2vec_model_sklearn,pickle_out)\n",
        "      pickle_out.close()\n",
        "  else:\n",
        "      print(\"Found Pickle File.\")\n",
        "      word2vec_model_sklearn = pickle.load(open(\"pickle_files/word2vec_model_sklearn.pickle\",'rb'))\n",
        "else:\n",
        "  if not os.path.exists(\"../pickle_files/word2vec_model_sklearn.pickle\"):\n",
        "      print(\"Creating Embedding From Scratch.\")\n",
        "      word2vec_model_sklearn = count_model.fit_transform(X.apply(lambda x: np.str_(x)))\n",
        "      pickle_out = open(\"../pickle_files/word2vec_model_sklearn.pickle\",'wb')\n",
        "      pickle.dump(word2vec_model_sklearn,pickle_out)\n",
        "      pickle_out.close()\n",
        "  else:\n",
        "      print(\"Found Pickle File.\")\n",
        "      word2vec_model_sklearn = pickle.load(open(\"../pickle_files/word2vec_model_sklearn.pickle\",'rb'))"
      ]
    },
    {
      "cell_type": "code",
      "execution_count": 25,
      "metadata": {
        "id": "PPVx6u2sWhns"
      },
      "outputs": [],
      "source": [
        "#word2vec_model_sklearn_array = word2vec_model_sklearn.toarray()"
      ]
    },
    {
      "cell_type": "code",
      "execution_count": 26,
      "metadata": {
        "id": "TyImbVlpWhns"
      },
      "outputs": [],
      "source": [
        "x_train,x_test,y_train,y_test = create_train_test_split(word2vec_model_sklearn,y_true_sent,test_size=0.2)"
      ]
    },
    {
      "attachments": {},
      "cell_type": "markdown",
      "metadata": {
        "id": "aHn-92ciWhns"
      },
      "source": [
        "#### Data Resampling"
      ]
    },
    {
      "cell_type": "code",
      "execution_count": 27,
      "metadata": {
        "id": "YziFpxmDWhns"
      },
      "outputs": [],
      "source": [
        "if GDRIVE:\n",
        "  if not os.path.exists(\"pickle_files/smote_x_y_train.pickle\"):\n",
        "      random_undersampler = RandomUnderSampler(random_state=RANDOM_STATE)\n",
        "      x_train,y_train = random_undersampler.fit_resample(x_train,y_train)\n",
        "else:\n",
        "  if not os.path.exists(\"../pickle_files/smote_x_y_train.pickle\"):\n",
        "      random_undersampler = RandomUnderSampler(random_state=RANDOM_STATE)\n",
        "      x_train,y_train = random_undersampler.fit_resample(x_train,y_train)"
      ]
    },
    {
      "cell_type": "code",
      "execution_count": 28,
      "metadata": {
        "id": "Wte7WKONWhns"
      },
      "outputs": [],
      "source": [
        "if GDRIVE:\n",
        "  if not os.path.exists(\"pickle_files/smote_x_y_train.pickle\"):\n",
        "      pickle_out = open(\"pickle_files/smote_x_y_train.pickle\",'wb')\n",
        "      pickle.dump({'x_train':x_train,'y_train':y_train},pickle_out)\n",
        "      pickle_out.close()\n",
        "else:\n",
        "  if not os.path.exists(\"../pickle_files/smote_x_y_train.pickle\"):\n",
        "      pickle_out = open(\"../pickle_files/smote_x_y_train.pickle\",'wb')\n",
        "      pickle.dump({'x_train':x_train,'y_train':y_train},pickle_out)\n",
        "      pickle_out.close()"
      ]
    },
    {
      "cell_type": "code",
      "execution_count": null,
      "metadata": {},
      "outputs": [],
      "source": [
        "scaler = StandardScaler()\n",
        "x_train = scaler.fit_transform(x_train)\n",
        "y_train = scaler.fit_transform(y_train)"
      ]
    },
    {
      "attachments": {},
      "cell_type": "markdown",
      "metadata": {
        "id": "s8Zf5uQ1Whns"
      },
      "source": [
        "#### Training and Results"
      ]
    },
    {
      "cell_type": "code",
      "execution_count": 29,
      "metadata": {
        "id": "WuEq1AZiWhns"
      },
      "outputs": [],
      "source": [
        "rf_clf = RandomForestClassifier(n_estimators=25,random_state=RANDOM_STATE)\n",
        "lr_clf = LogisticRegression(random_state=RANDOM_STATE)\n",
        "bag_mnnb_clf = BaggingClassifier(base_estimator = MultinomialNB(),n_estimators=25,random_state = RANDOM_STATE)\n",
        "xgb_clf = XGBClassifier(random_state = RANDOM_STATE)"
      ]
    },
    {
      "cell_type": "code",
      "execution_count": 30,
      "metadata": {
        "id": "1aOWB9rYWhns"
      },
      "outputs": [],
      "source": [
        "y_train_xgb,y_test_xgb = adjust_xgb_labels(y_train,y_test)"
      ]
    },
    {
      "cell_type": "code",
      "execution_count": 31,
      "metadata": {
        "id": "z0QRCmejWhnt"
      },
      "outputs": [
        {
          "name": "stderr",
          "output_type": "stream",
          "text": [
            "c:\\Users\\user\\AppData\\Local\\Programs\\Python\\Python310\\lib\\site-packages\\sklearn\\linear_model\\_logistic.py:444: ConvergenceWarning: lbfgs failed to converge (status=1):\n",
            "STOP: TOTAL NO. of ITERATIONS REACHED LIMIT.\n",
            "\n",
            "Increase the number of iterations (max_iter) or scale the data as shown in:\n",
            "    https://scikit-learn.org/stable/modules/preprocessing.html\n",
            "Please also refer to the documentation for alternative solver options:\n",
            "    https://scikit-learn.org/stable/modules/linear_model.html#logistic-regression\n",
            "  n_iter_i = _check_optimize_result(\n"
          ]
        }
      ],
      "source": [
        "if GDRIVE:\n",
        "  if not os.path.exists('pickle_files/rf.pickle'):\n",
        "    rf_clf.fit(x_train,y_train)\n",
        "    y_pred_rf = rf_clf.predict(x_test)\n",
        "    pickle_out = open(\"pickle_files/rf.pickle\",'wb')\n",
        "    pickle.dump({'rf_clf':rf_clf,'rf_pred':y_pred_rf},pickle_out)\n",
        "    pickle_out.close()\n",
        "\n",
        "  if not os.path.exists('pickle_files/lr.pickle'):\n",
        "    lr_clf.fit(x_train,y_train)\n",
        "    y_pred_lr = lr_clf.predict(x_test)\n",
        "    pickle_out = open(\"pickle_files/lr.pickle\",'wb')\n",
        "    pickle.dump({'lr_clf':lr_clf,'lr_pred':y_pred_lr},pickle_out)\n",
        "    pickle_out.close()\n",
        "\n",
        "  if not os.path.exists('pickle_files/bag_mnnb.pickle'):\n",
        "    bag_mnnb_clf.fit(x_train,y_train)\n",
        "    y_pred_mnnb = bag_mnnb_clf.predict(x_test)\n",
        "    pickle_out = open(\"pickle_files/bag_mnnb.pickle\",'wb')\n",
        "    pickle.dump({'bag_mnnb_clf':bag_mnnb_clf,'y_pred_mnnb':y_pred_mnnb},pickle_out)\n",
        "    pickle_out.close()\n",
        "\n",
        "  if not os.path.exists('pickle_files/xgb.pickle'):\n",
        "    xgb_clf.fit(x_train,y_train_xgb)\n",
        "    y_pred_xgb = xgb_clf.predict(x_test)\n",
        "    pickle_out = open(\"pickle_files/xgb.pickle\",'wb')\n",
        "    pickle.dump({'xgb_clf':xgb_clf,'xgb_pred':y_pred_xgb},pickle_out)\n",
        "    pickle_out.close()\n",
        "else:\n",
        "  if not os.path.exists('../pickle_files/rf.pickle'):\n",
        "    rf_clf.fit(x_train,y_train)\n",
        "    y_pred_rf = rf_clf.predict(x_test)\n",
        "    pickle_out = open(\"../pickle_files/rf.pickle\",'wb')\n",
        "    pickle.dump({'rf_clf':rf_clf,'rf_pred':y_pred_rf},pickle_out)\n",
        "    pickle_out.close()\n",
        "\n",
        "  if not os.path.exists('../pickle_files/lr.pickle'):\n",
        "    lr_clf.fit(x_train,y_train)\n",
        "    y_pred_lr = lr_clf.predict(x_test)\n",
        "    pickle_out = open(\"../pickle_files/lr.pickle\",'wb')\n",
        "    pickle.dump({'lr_clf':lr_clf,'lr_pred':y_pred_lr},pickle_out)\n",
        "    pickle_out.close()\n",
        "\n",
        "  if not os.path.exists('../pickle_files/bag_mnnb.pickle'):\n",
        "    bag_mnnb_clf.fit(x_train,y_train)\n",
        "    y_pred_mnnb = bag_mnnb_clf.predict(x_test)\n",
        "    pickle_out = open(\"../pickle_files/bag_mnnb.pickle\",'wb')\n",
        "    pickle.dump({'bag_mnnb_clf':bag_mnnb_clf,'y_pred_mnnb':y_pred_mnnb},pickle_out)\n",
        "    pickle_out.close()\n",
        "\n",
        "  if not os.path.exists('../pickle_files/xgb.pickle'):\n",
        "    xgb_clf.fit(x_train,y_train_xgb)\n",
        "    y_pred_xgb = xgb_clf.predict(x_test)\n",
        "    pickle_out = open(\"../pickle_files/xgb.pickle\",'wb')\n",
        "    pickle.dump({'xgb_clf':xgb_clf,'xgb_pred':y_pred_xgb},pickle_out)\n",
        "    pickle_out.close() "
      ]
    },
    {
      "cell_type": "code",
      "execution_count": 32,
      "metadata": {
        "colab": {
          "base_uri": "https://localhost:8080/",
          "height": 1000
        },
        "id": "YrqwLXu7Whnt",
        "outputId": "2557418f-bfa1-47c8-ad5c-8ac69d8020be"
      },
      "outputs": [
        {
          "data": {
            "image/png": "[encoded data removed]",
            "text/plain": [
              "<Figure size 432x288 with 2 Axes>"
            ]
          },
          "metadata": {
            "needs_background": "light"
          },
          "output_type": "display_data"
        },
        {
          "name": "stdout",
          "output_type": "stream",
          "text": [
            "ROC/AUC for each class: \n",
            "\n",
            "{1: 0.8187845522901055, 2: 0.8288083072789042, 3: 0.6790200781234398}\n",
            "\n",
            "\n",
            "Classification Report = \n",
            "                precision    recall  f1-score   support\n",
            "\n",
            "           1       0.93      0.76      0.83     94517\n",
            "           2       0.69      0.76      0.72     31563\n",
            "           3       0.25      0.53      0.34     13726\n",
            "\n",
            "    accuracy                           0.73    139806\n",
            "   macro avg       0.63      0.68      0.63    139806\n",
            "weighted avg       0.81      0.73      0.76    139806\n",
            "\n"
          ]
        },
        {
          "data": {
            "image/png": "[encoded data removed]",
            "text/plain": [
              "<Figure size 432x288 with 1 Axes>"
            ]
          },
          "metadata": {
            "needs_background": "light"
          },
          "output_type": "display_data"
        },
        {
          "data": {
            "image/png": "[encoded data removed]",
            "text/plain": [
              "<Figure size 432x288 with 2 Axes>"
            ]
          },
          "metadata": {
            "needs_background": "light"
          },
          "output_type": "display_data"
        },
        {
          "name": "stdout",
          "output_type": "stream",
          "text": [
            "ROC/AUC for each class: \n",
            "\n",
            "{1: 0.8783990555534975, 2: 0.8715529185840747, 3: 0.7438856936999774}\n",
            "\n",
            "\n",
            "Classification Report = \n",
            "                precision    recall  f1-score   support\n",
            "\n",
            "           1       0.96      0.83      0.89     94517\n",
            "           2       0.83      0.79      0.81     31563\n",
            "           3       0.31      0.64      0.42     13726\n",
            "\n",
            "    accuracy                           0.80    139806\n",
            "   macro avg       0.70      0.75      0.71    139806\n",
            "weighted avg       0.87      0.80      0.83    139806\n",
            "\n"
          ]
        },
        {
          "data": {
            "image/png": "[encoded data removed]",
            "text/plain": [
              "<Figure size 432x288 with 1 Axes>"
            ]
          },
          "metadata": {
            "needs_background": "light"
          },
          "output_type": "display_data"
        },
        {
          "data": {
            "image/png": "[encoded data removed]",
            "text/plain": [
              "<Figure size 432x288 with 2 Axes>"
            ]
          },
          "metadata": {
            "needs_background": "light"
          },
          "output_type": "display_data"
        },
        {
          "name": "stdout",
          "output_type": "stream",
          "text": [
            "ROC/AUC for each class: \n",
            "\n",
            "{1: 0.8384751627605974, 2: 0.8032651868340432, 3: 0.7513660478492779}\n",
            "\n",
            "\n",
            "Classification Report = \n",
            "                precision    recall  f1-score   support\n",
            "\n",
            "           1       0.97      0.72      0.83     94517\n",
            "           2       0.69      0.70      0.69     31563\n",
            "           3       0.26      0.73      0.38     13726\n",
            "\n",
            "    accuracy                           0.71    139806\n",
            "   macro avg       0.64      0.71      0.63    139806\n",
            "weighted avg       0.84      0.71      0.75    139806\n",
            "\n"
          ]
        },
        {
          "data": {
            "image/png": "[encoded data removed]",
            "text/plain": [
              "<Figure size 432x288 with 1 Axes>"
            ]
          },
          "metadata": {
            "needs_background": "light"
          },
          "output_type": "display_data"
        },
        {
          "data": {
            "image/png": "[encoded data removed]",
            "text/plain": [
              "<Figure size 432x288 with 2 Axes>"
            ]
          },
          "metadata": {
            "needs_background": "light"
          },
          "output_type": "display_data"
        },
        {
          "name": "stdout",
          "output_type": "stream",
          "text": [
            "ROC/AUC for each class: \n",
            "\n",
            "{0: 0.8591632425198409, 1: 0.8578328461876407, 2: 0.7464709398629155}\n",
            "\n",
            "\n",
            "Classification Report = \n",
            "                precision    recall  f1-score   support\n",
            "\n",
            "           0       0.95      0.80      0.87     94517\n",
            "           1       0.78      0.78      0.78     31563\n",
            "           2       0.31      0.65      0.42     13726\n",
            "\n",
            "    accuracy                           0.78    139806\n",
            "   macro avg       0.68      0.74      0.69    139806\n",
            "weighted avg       0.85      0.78      0.80    139806\n",
            "\n"
          ]
        },
        {
          "data": {
            "image/png": "[encoded data removed]",
            "text/plain": [
              "<Figure size 432x288 with 1 Axes>"
            ]
          },
          "metadata": {
            "needs_background": "light"
          },
          "output_type": "display_data"
        }
      ],
      "source": [
        "show_metrics('rf',rf_clf,x_test,y_test,y_pred_rf,x_train,y_train,5)\n",
        "show_metrics('lr',lr_clf,x_test,y_test,y_pred_lr,x_train,y_train,5)\n",
        "show_metrics('bag_mnnb',bag_mnnb_clf,x_test,y_test,y_pred_mnnb,x_train,y_train,5)\n",
        "show_metrics('xgb',xgb_clf,x_test,y_test_xgb,y_pred_xgb,x_train,y_train_xgb,5)"
      ]
    }
  ],
  "metadata": {
    "colab": {
      "provenance": []
    },
    "kernelspec": {
      "display_name": "Python 3 (ipykernel)",
      "language": "python",
      "name": "python3"
    },
    "language_info": {
      "codemirror_mode": {
        "name": "ipython",
        "version": 3
      },
      "file_extension": ".py",
      "mimetype": "text/x-python",
      "name": "python",
      "nbconvert_exporter": "python",
      "pygments_lexer": "ipython3",
      "version": "3.10.10"
    }
  },
  "nbformat": 4,
  "nbformat_minor": 0
}
