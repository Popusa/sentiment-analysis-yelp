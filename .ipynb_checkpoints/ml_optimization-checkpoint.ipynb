{
 "cells": [
  {
   "cell_type": "markdown",
   "id": "0e3c6923",
   "metadata": {},
   "source": [
    "### File: Model Optimization"
   ]
  },
  {
   "cell_type": "markdown",
   "id": "998b5a2d",
   "metadata": {},
   "source": [
    "##### Goals and Objectives of this file:\n",
    "\n",
    "##### 1. Basic Model Training and Word Embedding Testing\n",
    "##### 2. Data Processing => over/under sampling the classes  =>  word embeddings => Mnnb Hyperparameter Tuning\n",
    "##### 3. Several Classifiers Testing => Different ML Algorithms tests => (hyper)parameter Tuning\n",
    "##### 4. Training and Testing => accuracy => precision => confusion matrix => roc/auc curves => learning curve"
   ]
  },
  {
   "cell_type": "code",
   "execution_count": 1,
   "id": "d8218a34",
   "metadata": {},
   "outputs": [],
   "source": [
    "import numpy as np\n",
    "import pandas as pd\n",
    "import matplotlib.pyplot as plt\n",
    "import nltk\n",
    "from nltk.corpus import stopwords\n",
    "from nltk.stem import WordNetLemmatizer\n",
    "import string\n",
    "from sklearn.feature_extraction.text import TfidfVectorizer\n",
    "from sklearn.model_selection import train_test_split\n",
    "from sklearn.linear_model import LogisticRegression\n",
    "import tensorflow as tf\n",
    "import imblearn\n",
    "import pickle\n",
    "from imblearn.over_sampling import SMOTE,RandomOverSampler\n",
    "from imblearn.under_sampling import RandomUnderSampler\n",
    "from sklearn.neighbors import KNeighborsClassifier\n",
    "from sklearn.covariance import EllipticEnvelope\n",
    "from sklearn.neighbors import LocalOutlierFactor\n",
    "from sklearn.ensemble import IsolationForest\n",
    "from sklearn import metrics\n",
    "from sklearn.naive_bayes import MultinomialNB\n",
    "from sklearn.pipeline import Pipeline\n",
    "from sklearn.metrics import ConfusionMatrixDisplay\n",
    "from sklearn.model_selection import learning_curve\n",
    "from sklearn.feature_extraction.text import CountVectorizer\n",
    "from gensim.models import Word2Vec\n",
    "from nltk.sentiment.vader import SentimentIntensityAnalyzer\n",
    "from sklearn.model_selection import GridSearchCV\n",
    "from sklearn.model_selection import RandomizedSearchCV\n",
    "from mlxtend.feature_selection import SequentialFeatureSelector as SFS\n",
    "from mlxtend.plotting import plot_sequential_feature_selection as plot_sfs\n",
    "from sklearn.ensemble import RandomForestClassifier\n",
    "from sklearn.metrics import accuracy_score\n",
    "from sklearn.svm import SVC\n",
    "from sklearn.ensemble import BaggingClassifier\n",
    "from sklearn.ensemble import AdaBoostClassifier\n",
    "from sklearn.neighbors import KNeighborsClassifier\n",
    "from xgboost import XGBClassifier\n",
    "from sklearn.model_selection import StratifiedKFold"
   ]
  },
  {
   "cell_type": "markdown",
   "id": "2c510bd6",
   "metadata": {},
   "source": [
    "### 1. Basic Model Training and Vectorizer Testing"
   ]
  },
  {
   "cell_type": "code",
   "execution_count": 2,
   "id": "564a2a35",
   "metadata": {},
   "outputs": [],
   "source": [
    "df = pd.read_csv(\"datasets/yelp coffee/raw_yelp_review_data_processed.csv\")"
   ]
  },
  {
   "cell_type": "code",
   "execution_count": 3,
   "id": "4987f2c7",
   "metadata": {},
   "outputs": [],
   "source": [
    "def remove_stop_words(text):\n",
    "    tokens = nltk.word_tokenize(text)\n",
    "    stop_words = set(stopwords.words('english'))\n",
    "    tokens = [token for token in tokens if token.lower() not in stop_words]\n",
    "    return ' '.join(tokens)"
   ]
  },
  {
   "cell_type": "code",
   "execution_count": 4,
   "id": "fbd0aeed",
   "metadata": {},
   "outputs": [],
   "source": [
    "df['full_review_text'] = [remove_stop_words(text) for text in df['full_review_text']]"
   ]
  },
  {
   "cell_type": "code",
   "execution_count": 5,
   "id": "a3001b63",
   "metadata": {},
   "outputs": [],
   "source": [
    "X = df['full_review_text']\n",
    "y = df['star_rating']"
   ]
  },
  {
   "cell_type": "code",
   "execution_count": 6,
   "id": "deec2f25",
   "metadata": {},
   "outputs": [],
   "source": [
    "def create_data_split(X,y,vectorizer=False,test_size = 0.2):\n",
    "    x_train,x_test,y_train,y_test = train_test_split(X, y, test_size=test_size,random_state = 42)\n",
    "    if vectorizer:\n",
    "        vectorizer = vectorizer\n",
    "        train_embed = vectorizer.fit_transform(x_train)\n",
    "        test_embed = vectorizer.transform(x_test)\n",
    "        return train_embed,test_embed,y_train,y_test\n",
    "    else:\n",
    "        return x_train,x_test,y_train,y_test"
   ]
  },
  {
   "cell_type": "code",
   "execution_count": 7,
   "id": "c25b79c8",
   "metadata": {},
   "outputs": [],
   "source": [
    "x_train_tfidf,x_test_tfidf,y_train,y_test = create_data_split(X,y,TfidfVectorizer())"
   ]
  },
  {
   "cell_type": "code",
   "execution_count": 8,
   "id": "2d551afb",
   "metadata": {},
   "outputs": [
    {
     "name": "stdout",
     "output_type": "stream",
     "text": [
      "Model accuracy: 47.94%\n"
     ]
    }
   ],
   "source": [
    "model_NB = MultinomialNB()\n",
    "model_NB.fit(x_train_tfidf, y_train)\n",
    "accuracy = model_NB.score(x_test_tfidf, y_test)\n",
    "print(\"Model accuracy: {:.2f}%\".format(accuracy * 100))"
   ]
  },
  {
   "cell_type": "markdown",
   "id": "48b749e8",
   "metadata": {},
   "source": [
    "### This result can be better..."
   ]
  },
  {
   "cell_type": "markdown",
   "id": "d3965849",
   "metadata": {},
   "source": [
    "### 2. Data Processing"
   ]
  },
  {
   "cell_type": "code",
   "execution_count": 9,
   "id": "9aade812",
   "metadata": {
    "scrolled": false
   },
   "outputs": [
    {
     "data": {
      "image/png": "[encoded data removed]",
      "text/plain": [
       "<Figure size 432x288 with 1 Axes>"
      ]
     },
     "metadata": {},
     "output_type": "display_data"
    }
   ],
   "source": [
    "_, _, autotexts = plt.pie(y.value_counts(),colors = ['blue','green','red','black','orange'],labels = [1,2,3,4,5],autopct= '%1.1f%%')\n",
    "for autotext in autotexts:\n",
    "    autotext.set_color('white')"
   ]
  },
  {
   "cell_type": "markdown",
   "id": "9d580040",
   "metadata": {},
   "source": [
    "### This dataset will be balanced using several different techniques."
   ]
  },
  {
   "cell_type": "markdown",
   "id": "fed577d9",
   "metadata": {},
   "source": [
    "### 2.1 Data Resampling"
   ]
  },
  {
   "cell_type": "markdown",
   "id": "f4cde7ac",
   "metadata": {},
   "source": [
    "#### Random Oversampling"
   ]
  },
  {
   "cell_type": "code",
   "execution_count": 10,
   "id": "d1415d97",
   "metadata": {},
   "outputs": [],
   "source": [
    "random_oversampler = RandomOverSampler(random_state=42)\n",
    "ro_x_tfidf,ro_y = random_oversampler.fit_resample(x_train_tfidf, y_train)"
   ]
  },
  {
   "cell_type": "code",
   "execution_count": 11,
   "id": "ee56e0fe",
   "metadata": {},
   "outputs": [
    {
     "data": {
      "text/plain": [
       "5    2787\n",
       "1    2787\n",
       "4    2787\n",
       "2    2787\n",
       "3    2787\n",
       "Name: star_rating, dtype: int64"
      ]
     },
     "execution_count": 11,
     "metadata": {},
     "output_type": "execute_result"
    }
   ],
   "source": [
    "ro_y.value_counts()"
   ]
  },
  {
   "cell_type": "code",
   "execution_count": 12,
   "id": "84cffa4e",
   "metadata": {},
   "outputs": [
    {
     "name": "stdout",
     "output_type": "stream",
     "text": [
      "Model accuracy: 53.00%\n"
     ]
    }
   ],
   "source": [
    "model_NB = MultinomialNB()\n",
    "model_NB.fit(ro_x_tfidf, ro_y)\n",
    "accuracy = model_NB.score(x_test_tfidf, y_test)\n",
    "print(\"Model accuracy: {:.2f}%\".format(accuracy * 100))"
   ]
  },
  {
   "cell_type": "markdown",
   "id": "7f8f64bc",
   "metadata": {},
   "source": [
    "#### Random Undersampling"
   ]
  },
  {
   "cell_type": "code",
   "execution_count": 13,
   "id": "ac55a63d",
   "metadata": {},
   "outputs": [],
   "source": [
    "random_underSampler = RandomUnderSampler(random_state=42)\n",
    "ru_x_tfidf,ru_y = random_underSampler.fit_resample(x_train_tfidf, y_train)"
   ]
  },
  {
   "cell_type": "code",
   "execution_count": 14,
   "id": "616f5425",
   "metadata": {},
   "outputs": [
    {
     "data": {
      "text/plain": [
       "1    200\n",
       "2    200\n",
       "3    200\n",
       "4    200\n",
       "5    200\n",
       "Name: star_rating, dtype: int64"
      ]
     },
     "execution_count": 14,
     "metadata": {},
     "output_type": "execute_result"
    }
   ],
   "source": [
    "ru_y.value_counts()"
   ]
  },
  {
   "cell_type": "code",
   "execution_count": 15,
   "id": "cbdc22fd",
   "metadata": {},
   "outputs": [
    {
     "name": "stdout",
     "output_type": "stream",
     "text": [
      "Model accuracy: 42.73%\n"
     ]
    }
   ],
   "source": [
    "model_NB = MultinomialNB()\n",
    "model_NB.fit(ru_x_tfidf, ru_y)\n",
    "accuracy = model_NB.score(x_test_tfidf, y_test)\n",
    "print(\"Model accuracy: {:.2f}%\".format(accuracy * 100))"
   ]
  },
  {
   "cell_type": "markdown",
   "id": "6fde487c",
   "metadata": {},
   "source": [
    "#### SMOTE"
   ]
  },
  {
   "cell_type": "code",
   "execution_count": 16,
   "id": "2a8ca470",
   "metadata": {},
   "outputs": [],
   "source": [
    "smote_resample = SMOTE(random_state=42)\n",
    "smote_x_tfidf,smote_y = smote_resample.fit_resample(x_train_tfidf, y_train)"
   ]
  },
  {
   "cell_type": "code",
   "execution_count": 17,
   "id": "cef225fe",
   "metadata": {},
   "outputs": [
    {
     "data": {
      "text/plain": [
       "5    2787\n",
       "1    2787\n",
       "4    2787\n",
       "2    2787\n",
       "3    2787\n",
       "Name: star_rating, dtype: int64"
      ]
     },
     "execution_count": 17,
     "metadata": {},
     "output_type": "execute_result"
    }
   ],
   "source": [
    "smote_y.value_counts()"
   ]
  },
  {
   "cell_type": "code",
   "execution_count": 18,
   "id": "a44aed76",
   "metadata": {},
   "outputs": [
    {
     "name": "stdout",
     "output_type": "stream",
     "text": [
      "Model accuracy: 50.33%\n"
     ]
    }
   ],
   "source": [
    "model_NB = MultinomialNB()\n",
    "model_NB.fit(smote_x_tfidf, smote_y)\n",
    "accuracy = model_NB.score(x_test_tfidf, y_test)\n",
    "print(\"Model accuracy: {:.2f}%\".format(accuracy * 100))"
   ]
  },
  {
   "cell_type": "markdown",
   "id": "425b7176",
   "metadata": {},
   "source": [
    "### According to the accuracy results: Random Oversampling was the best method for data resampling."
   ]
  },
  {
   "cell_type": "markdown",
   "id": "eed7d3de",
   "metadata": {},
   "source": [
    "### 2.2 Word Embeddings"
   ]
  },
  {
   "cell_type": "markdown",
   "id": "f5edaaec",
   "metadata": {},
   "source": [
    "### Word2Vec (BoW)"
   ]
  },
  {
   "cell_type": "code",
   "execution_count": 19,
   "id": "d8af0314",
   "metadata": {},
   "outputs": [],
   "source": [
    "#bow_vectorizer = CountVectorizer(ngram_range=(1, 2),encoding = 'utf-8',binary=False)\n",
    "bow_vectorizer = CountVectorizer()\n",
    "bow_matrix = bow_vectorizer.fit_transform(X)\n",
    "bow_array = bow_matrix.toarray()\n",
    "bow_df = pd.DataFrame(data=bow_array,columns = bow_vectorizer.vocabulary_.keys())"
   ]
  },
  {
   "cell_type": "code",
   "execution_count": 20,
   "id": "3f2fe256",
   "metadata": {},
   "outputs": [
    {
     "data": {
      "text/html": [
       "<div>\n",
       "<style scoped>\n",
       "    .dataframe tbody tr th:only-of-type {\n",
       "        vertical-align: middle;\n",
       "    }\n",
       "\n",
       "    .dataframe tbody tr th {\n",
       "        vertical-align: top;\n",
       "    }\n",
       "\n",
       "    .dataframe thead th {\n",
       "        text-align: right;\n",
       "    }\n",
       "</style>\n",
       "<table border=\"1\" class=\"dataframe\">\n",
       "  <thead>\n",
       "    <tr style=\"text-align: right;\">\n",
       "      <th></th>\n",
       "      <th>love</th>\n",
       "      <th>loved</th>\n",
       "      <th>atmosphere</th>\n",
       "      <th>every</th>\n",
       "      <th>corner</th>\n",
       "      <th>coffee</th>\n",
       "      <th>shop</th>\n",
       "      <th>style</th>\n",
       "      <th>swing</th>\n",
       "      <th>ordered</th>\n",
       "      <th>...</th>\n",
       "      <th>deliciousand</th>\n",
       "      <th>rustica</th>\n",
       "      <th>romaine</th>\n",
       "      <th>predictably</th>\n",
       "      <th>roomier</th>\n",
       "      <th>windowed</th>\n",
       "      <th>actuality</th>\n",
       "      <th>crass</th>\n",
       "      <th>budha</th>\n",
       "      <th>digestion</th>\n",
       "    </tr>\n",
       "  </thead>\n",
       "  <tbody>\n",
       "    <tr>\n",
       "      <th>0</th>\n",
       "      <td>0</td>\n",
       "      <td>0</td>\n",
       "      <td>0</td>\n",
       "      <td>0</td>\n",
       "      <td>0</td>\n",
       "      <td>0</td>\n",
       "      <td>0</td>\n",
       "      <td>0</td>\n",
       "      <td>0</td>\n",
       "      <td>0</td>\n",
       "      <td>...</td>\n",
       "      <td>0</td>\n",
       "      <td>0</td>\n",
       "      <td>0</td>\n",
       "      <td>0</td>\n",
       "      <td>0</td>\n",
       "      <td>0</td>\n",
       "      <td>0</td>\n",
       "      <td>0</td>\n",
       "      <td>0</td>\n",
       "      <td>0</td>\n",
       "    </tr>\n",
       "    <tr>\n",
       "      <th>1</th>\n",
       "      <td>0</td>\n",
       "      <td>0</td>\n",
       "      <td>0</td>\n",
       "      <td>0</td>\n",
       "      <td>0</td>\n",
       "      <td>0</td>\n",
       "      <td>0</td>\n",
       "      <td>0</td>\n",
       "      <td>0</td>\n",
       "      <td>0</td>\n",
       "      <td>...</td>\n",
       "      <td>0</td>\n",
       "      <td>0</td>\n",
       "      <td>0</td>\n",
       "      <td>0</td>\n",
       "      <td>0</td>\n",
       "      <td>0</td>\n",
       "      <td>0</td>\n",
       "      <td>0</td>\n",
       "      <td>0</td>\n",
       "      <td>0</td>\n",
       "    </tr>\n",
       "    <tr>\n",
       "      <th>2</th>\n",
       "      <td>0</td>\n",
       "      <td>0</td>\n",
       "      <td>0</td>\n",
       "      <td>0</td>\n",
       "      <td>0</td>\n",
       "      <td>0</td>\n",
       "      <td>0</td>\n",
       "      <td>0</td>\n",
       "      <td>0</td>\n",
       "      <td>0</td>\n",
       "      <td>...</td>\n",
       "      <td>0</td>\n",
       "      <td>0</td>\n",
       "      <td>0</td>\n",
       "      <td>0</td>\n",
       "      <td>0</td>\n",
       "      <td>0</td>\n",
       "      <td>0</td>\n",
       "      <td>0</td>\n",
       "      <td>0</td>\n",
       "      <td>0</td>\n",
       "    </tr>\n",
       "    <tr>\n",
       "      <th>3</th>\n",
       "      <td>0</td>\n",
       "      <td>0</td>\n",
       "      <td>0</td>\n",
       "      <td>0</td>\n",
       "      <td>0</td>\n",
       "      <td>0</td>\n",
       "      <td>0</td>\n",
       "      <td>0</td>\n",
       "      <td>0</td>\n",
       "      <td>0</td>\n",
       "      <td>...</td>\n",
       "      <td>0</td>\n",
       "      <td>0</td>\n",
       "      <td>0</td>\n",
       "      <td>0</td>\n",
       "      <td>0</td>\n",
       "      <td>0</td>\n",
       "      <td>0</td>\n",
       "      <td>0</td>\n",
       "      <td>0</td>\n",
       "      <td>0</td>\n",
       "    </tr>\n",
       "    <tr>\n",
       "      <th>4</th>\n",
       "      <td>0</td>\n",
       "      <td>0</td>\n",
       "      <td>0</td>\n",
       "      <td>0</td>\n",
       "      <td>0</td>\n",
       "      <td>0</td>\n",
       "      <td>0</td>\n",
       "      <td>0</td>\n",
       "      <td>0</td>\n",
       "      <td>0</td>\n",
       "      <td>...</td>\n",
       "      <td>0</td>\n",
       "      <td>0</td>\n",
       "      <td>0</td>\n",
       "      <td>0</td>\n",
       "      <td>0</td>\n",
       "      <td>0</td>\n",
       "      <td>0</td>\n",
       "      <td>0</td>\n",
       "      <td>0</td>\n",
       "      <td>0</td>\n",
       "    </tr>\n",
       "  </tbody>\n",
       "</table>\n",
       "<p>5 rows × 18470 columns</p>\n",
       "</div>"
      ],
      "text/plain": [
       "   love  loved  atmosphere  every  corner  coffee  shop  style  swing  \\\n",
       "0     0      0           0      0       0       0     0      0      0   \n",
       "1     0      0           0      0       0       0     0      0      0   \n",
       "2     0      0           0      0       0       0     0      0      0   \n",
       "3     0      0           0      0       0       0     0      0      0   \n",
       "4     0      0           0      0       0       0     0      0      0   \n",
       "\n",
       "   ordered  ...  deliciousand  rustica  romaine  predictably  roomier  \\\n",
       "0        0  ...             0        0        0            0        0   \n",
       "1        0  ...             0        0        0            0        0   \n",
       "2        0  ...             0        0        0            0        0   \n",
       "3        0  ...             0        0        0            0        0   \n",
       "4        0  ...             0        0        0            0        0   \n",
       "\n",
       "   windowed  actuality  crass  budha  digestion  \n",
       "0         0          0      0      0          0  \n",
       "1         0          0      0      0          0  \n",
       "2         0          0      0      0          0  \n",
       "3         0          0      0      0          0  \n",
       "4         0          0      0      0          0  \n",
       "\n",
       "[5 rows x 18470 columns]"
      ]
     },
     "execution_count": 20,
     "metadata": {},
     "output_type": "execute_result"
    }
   ],
   "source": [
    "bow_df.head()"
   ]
  },
  {
   "cell_type": "code",
   "execution_count": 21,
   "id": "f39c674c",
   "metadata": {},
   "outputs": [],
   "source": [
    "#bow_df.describe()"
   ]
  },
  {
   "cell_type": "code",
   "execution_count": 22,
   "id": "155ac7a0",
   "metadata": {
    "scrolled": false
   },
   "outputs": [
    {
     "data": {
      "text/plain": [
       "8"
      ]
     },
     "execution_count": 22,
     "metadata": {},
     "output_type": "execute_result"
    }
   ],
   "source": [
    "(bow_df['love'] != 0).sum()"
   ]
  },
  {
   "cell_type": "markdown",
   "id": "cea3e262",
   "metadata": {},
   "source": [
    "### TF-IDF "
   ]
  },
  {
   "cell_type": "code",
   "execution_count": 23,
   "id": "25c6ebca",
   "metadata": {},
   "outputs": [],
   "source": [
    "tf_idf_vectorizer = TfidfVectorizer()\n",
    "tf_idf_matrix = tf_idf_vectorizer.fit_transform(X)\n",
    "tf_idf_array = bow_matrix.toarray()\n",
    "tf_idf_df = pd.DataFrame(data=tf_idf_array,columns=bow_vectorizer.vocabulary_.keys())"
   ]
  },
  {
   "cell_type": "code",
   "execution_count": 24,
   "id": "9a348d2a",
   "metadata": {},
   "outputs": [
    {
     "data": {
      "text/html": [
       "<div>\n",
       "<style scoped>\n",
       "    .dataframe tbody tr th:only-of-type {\n",
       "        vertical-align: middle;\n",
       "    }\n",
       "\n",
       "    .dataframe tbody tr th {\n",
       "        vertical-align: top;\n",
       "    }\n",
       "\n",
       "    .dataframe thead th {\n",
       "        text-align: right;\n",
       "    }\n",
       "</style>\n",
       "<table border=\"1\" class=\"dataframe\">\n",
       "  <thead>\n",
       "    <tr style=\"text-align: right;\">\n",
       "      <th></th>\n",
       "      <th>love</th>\n",
       "      <th>loved</th>\n",
       "      <th>atmosphere</th>\n",
       "      <th>every</th>\n",
       "      <th>corner</th>\n",
       "      <th>coffee</th>\n",
       "      <th>shop</th>\n",
       "      <th>style</th>\n",
       "      <th>swing</th>\n",
       "      <th>ordered</th>\n",
       "      <th>...</th>\n",
       "      <th>deliciousand</th>\n",
       "      <th>rustica</th>\n",
       "      <th>romaine</th>\n",
       "      <th>predictably</th>\n",
       "      <th>roomier</th>\n",
       "      <th>windowed</th>\n",
       "      <th>actuality</th>\n",
       "      <th>crass</th>\n",
       "      <th>budha</th>\n",
       "      <th>digestion</th>\n",
       "    </tr>\n",
       "  </thead>\n",
       "  <tbody>\n",
       "    <tr>\n",
       "      <th>0</th>\n",
       "      <td>0</td>\n",
       "      <td>0</td>\n",
       "      <td>0</td>\n",
       "      <td>0</td>\n",
       "      <td>0</td>\n",
       "      <td>0</td>\n",
       "      <td>0</td>\n",
       "      <td>0</td>\n",
       "      <td>0</td>\n",
       "      <td>0</td>\n",
       "      <td>...</td>\n",
       "      <td>0</td>\n",
       "      <td>0</td>\n",
       "      <td>0</td>\n",
       "      <td>0</td>\n",
       "      <td>0</td>\n",
       "      <td>0</td>\n",
       "      <td>0</td>\n",
       "      <td>0</td>\n",
       "      <td>0</td>\n",
       "      <td>0</td>\n",
       "    </tr>\n",
       "    <tr>\n",
       "      <th>1</th>\n",
       "      <td>0</td>\n",
       "      <td>0</td>\n",
       "      <td>0</td>\n",
       "      <td>0</td>\n",
       "      <td>0</td>\n",
       "      <td>0</td>\n",
       "      <td>0</td>\n",
       "      <td>0</td>\n",
       "      <td>0</td>\n",
       "      <td>0</td>\n",
       "      <td>...</td>\n",
       "      <td>0</td>\n",
       "      <td>0</td>\n",
       "      <td>0</td>\n",
       "      <td>0</td>\n",
       "      <td>0</td>\n",
       "      <td>0</td>\n",
       "      <td>0</td>\n",
       "      <td>0</td>\n",
       "      <td>0</td>\n",
       "      <td>0</td>\n",
       "    </tr>\n",
       "    <tr>\n",
       "      <th>2</th>\n",
       "      <td>0</td>\n",
       "      <td>0</td>\n",
       "      <td>0</td>\n",
       "      <td>0</td>\n",
       "      <td>0</td>\n",
       "      <td>0</td>\n",
       "      <td>0</td>\n",
       "      <td>0</td>\n",
       "      <td>0</td>\n",
       "      <td>0</td>\n",
       "      <td>...</td>\n",
       "      <td>0</td>\n",
       "      <td>0</td>\n",
       "      <td>0</td>\n",
       "      <td>0</td>\n",
       "      <td>0</td>\n",
       "      <td>0</td>\n",
       "      <td>0</td>\n",
       "      <td>0</td>\n",
       "      <td>0</td>\n",
       "      <td>0</td>\n",
       "    </tr>\n",
       "    <tr>\n",
       "      <th>3</th>\n",
       "      <td>0</td>\n",
       "      <td>0</td>\n",
       "      <td>0</td>\n",
       "      <td>0</td>\n",
       "      <td>0</td>\n",
       "      <td>0</td>\n",
       "      <td>0</td>\n",
       "      <td>0</td>\n",
       "      <td>0</td>\n",
       "      <td>0</td>\n",
       "      <td>...</td>\n",
       "      <td>0</td>\n",
       "      <td>0</td>\n",
       "      <td>0</td>\n",
       "      <td>0</td>\n",
       "      <td>0</td>\n",
       "      <td>0</td>\n",
       "      <td>0</td>\n",
       "      <td>0</td>\n",
       "      <td>0</td>\n",
       "      <td>0</td>\n",
       "    </tr>\n",
       "    <tr>\n",
       "      <th>4</th>\n",
       "      <td>0</td>\n",
       "      <td>0</td>\n",
       "      <td>0</td>\n",
       "      <td>0</td>\n",
       "      <td>0</td>\n",
       "      <td>0</td>\n",
       "      <td>0</td>\n",
       "      <td>0</td>\n",
       "      <td>0</td>\n",
       "      <td>0</td>\n",
       "      <td>...</td>\n",
       "      <td>0</td>\n",
       "      <td>0</td>\n",
       "      <td>0</td>\n",
       "      <td>0</td>\n",
       "      <td>0</td>\n",
       "      <td>0</td>\n",
       "      <td>0</td>\n",
       "      <td>0</td>\n",
       "      <td>0</td>\n",
       "      <td>0</td>\n",
       "    </tr>\n",
       "  </tbody>\n",
       "</table>\n",
       "<p>5 rows × 18470 columns</p>\n",
       "</div>"
      ],
      "text/plain": [
       "   love  loved  atmosphere  every  corner  coffee  shop  style  swing  \\\n",
       "0     0      0           0      0       0       0     0      0      0   \n",
       "1     0      0           0      0       0       0     0      0      0   \n",
       "2     0      0           0      0       0       0     0      0      0   \n",
       "3     0      0           0      0       0       0     0      0      0   \n",
       "4     0      0           0      0       0       0     0      0      0   \n",
       "\n",
       "   ordered  ...  deliciousand  rustica  romaine  predictably  roomier  \\\n",
       "0        0  ...             0        0        0            0        0   \n",
       "1        0  ...             0        0        0            0        0   \n",
       "2        0  ...             0        0        0            0        0   \n",
       "3        0  ...             0        0        0            0        0   \n",
       "4        0  ...             0        0        0            0        0   \n",
       "\n",
       "   windowed  actuality  crass  budha  digestion  \n",
       "0         0          0      0      0          0  \n",
       "1         0          0      0      0          0  \n",
       "2         0          0      0      0          0  \n",
       "3         0          0      0      0          0  \n",
       "4         0          0      0      0          0  \n",
       "\n",
       "[5 rows x 18470 columns]"
      ]
     },
     "execution_count": 24,
     "metadata": {},
     "output_type": "execute_result"
    }
   ],
   "source": [
    "tf_idf_df.head()"
   ]
  },
  {
   "cell_type": "code",
   "execution_count": 25,
   "id": "ad8253a3",
   "metadata": {},
   "outputs": [],
   "source": [
    "#tf_idf_df.describe()"
   ]
  },
  {
   "cell_type": "code",
   "execution_count": 26,
   "id": "3619b268",
   "metadata": {
    "scrolled": true
   },
   "outputs": [
    {
     "data": {
      "text/plain": [
       "8"
      ]
     },
     "execution_count": 26,
     "metadata": {},
     "output_type": "execute_result"
    }
   ],
   "source": [
    "(tf_idf_df['love'] != 0).sum()"
   ]
  },
  {
   "cell_type": "markdown",
   "id": "cc1f9003",
   "metadata": {},
   "source": [
    "### Word2Vec vs TF-IDF (with Random Resampling)"
   ]
  },
  {
   "cell_type": "code",
   "execution_count": 27,
   "id": "c4cfe20f",
   "metadata": {},
   "outputs": [],
   "source": [
    "random_oversampler = RandomOverSampler(random_state=42)"
   ]
  },
  {
   "cell_type": "code",
   "execution_count": 28,
   "id": "e17baa65",
   "metadata": {},
   "outputs": [
    {
     "name": "stdout",
     "output_type": "stream",
     "text": [
      "Model accuracy: 55.24%\n"
     ]
    }
   ],
   "source": [
    "x_train_bow,x_test_bow,y_train,y_test = create_data_split(X,y,vectorizer=bow_vectorizer)\n",
    "ro_x_bow,ro_y = random_oversampler.fit_resample(x_train_bow, y_train)\n",
    "model_NB = MultinomialNB()\n",
    "model_NB.fit(ro_x_bow, ro_y)\n",
    "accuracy = model_NB.score(x_test_bow, y_test)\n",
    "print(\"Model accuracy: {:.2f}%\".format(accuracy * 100))"
   ]
  },
  {
   "cell_type": "code",
   "execution_count": 29,
   "id": "f25f6aa9",
   "metadata": {},
   "outputs": [
    {
     "name": "stdout",
     "output_type": "stream",
     "text": [
      "Model accuracy: 53.00%\n"
     ]
    }
   ],
   "source": [
    "x_train_tfidf,x_test_tfidf,y_train,y_test = create_data_split(X,y,vectorizer=TfidfVectorizer())\n",
    "ro_x_tfidf,ro_y = random_oversampler.fit_resample(x_train_tfidf, y_train)\n",
    "model_NB = MultinomialNB()\n",
    "model_NB.fit(ro_x_tfidf, ro_y)\n",
    "accuracy = model_NB.score(x_test_tfidf, y_test)\n",
    "print(\"Model accuracy: {:.2f}%\".format(accuracy * 100))"
   ]
  },
  {
   "cell_type": "markdown",
   "id": "fbccb6cf",
   "metadata": {},
   "source": [
    "### Based on the previous results: Word2Vec Outperformed TF-IDF"
   ]
  },
  {
   "cell_type": "markdown",
   "id": "136cb5c1",
   "metadata": {},
   "source": [
    "### Now, the next step is to find the best resampling technique for Word2Vec"
   ]
  },
  {
   "cell_type": "code",
   "execution_count": 30,
   "id": "272b5325",
   "metadata": {},
   "outputs": [],
   "source": [
    "random_underSampler = RandomUnderSampler(random_state=42)"
   ]
  },
  {
   "cell_type": "code",
   "execution_count": 31,
   "id": "4618b3cc",
   "metadata": {},
   "outputs": [
    {
     "name": "stdout",
     "output_type": "stream",
     "text": [
      "Model accuracy: 37.82%\n"
     ]
    }
   ],
   "source": [
    "ru_x_bow,ru_y = random_underSampler.fit_resample(x_train_bow, y_train)\n",
    "model_NB = MultinomialNB()\n",
    "model_NB.fit(ru_x_bow, ru_y)\n",
    "accuracy = model_NB.score(x_test_bow, y_test)\n",
    "print(\"Model accuracy: {:.2f}%\".format(accuracy * 100))"
   ]
  },
  {
   "cell_type": "code",
   "execution_count": 32,
   "id": "28aa67d4",
   "metadata": {},
   "outputs": [],
   "source": [
    "smote_resample = SMOTE(random_state=42)"
   ]
  },
  {
   "cell_type": "code",
   "execution_count": 33,
   "id": "883ced02",
   "metadata": {},
   "outputs": [
    {
     "name": "stdout",
     "output_type": "stream",
     "text": [
      "Model accuracy: 57.12%\n"
     ]
    }
   ],
   "source": [
    "smote_x_bow,smote_y = smote_resample.fit_resample(x_train_bow, y_train)\n",
    "model_NB = MultinomialNB()\n",
    "model_NB.fit(smote_x_bow, smote_y)\n",
    "accuracy = model_NB.score(x_test_bow, y_test)\n",
    "print(\"Model accuracy: {:.2f}%\".format(accuracy * 100))"
   ]
  },
  {
   "cell_type": "code",
   "execution_count": 34,
   "id": "34806e37",
   "metadata": {},
   "outputs": [
    {
     "name": "stdout",
     "output_type": "stream",
     "text": [
      "Random Forest Classification Report = \n",
      "                precision    recall  f1-score   support\n",
      "\n",
      "           1       0.56      0.19      0.28        53\n",
      "           2       0.26      0.13      0.17        69\n",
      "           3       0.36      0.19      0.25       157\n",
      "           4       0.48      0.56      0.51       445\n",
      "           5       0.68      0.75      0.71       659\n",
      "\n",
      "    accuracy                           0.57      1383\n",
      "   macro avg       0.47      0.36      0.39      1383\n",
      "weighted avg       0.55      0.57      0.55      1383\n",
      "\n"
     ]
    }
   ],
   "source": [
    "y_pred = model_NB.predict(x_test_bow)\n",
    "print(\"Random Forest Classification Report = \\n \",metrics.classification_report(y_test,y_pred))"
   ]
  },
  {
   "cell_type": "markdown",
   "id": "e420ef66",
   "metadata": {},
   "source": [
    "### Based on these results: SMOTE was the best resampling technique specifically for Word2Vec"
   ]
  },
  {
   "cell_type": "code",
   "execution_count": 35,
   "id": "782d6f72",
   "metadata": {},
   "outputs": [
    {
     "data": {
      "image/png": "[encoded data removed]",
      "text/plain": [
       "<Figure size 432x288 with 1 Axes>"
      ]
     },
     "metadata": {},
     "output_type": "display_data"
    }
   ],
   "source": [
    "_, _, autotexts = plt.pie(smote_y.value_counts(),colors = ['blue','green','red','black','orange'],labels = [1,2,3,4,5],autopct= '%1.1f%%')\n",
    "for autotext in autotexts:\n",
    "    autotext.set_color('white')"
   ]
  },
  {
   "cell_type": "code",
   "execution_count": 36,
   "id": "111f1fd8",
   "metadata": {},
   "outputs": [
    {
     "data": {
      "text/plain": [
       "<13935x16530 sparse matrix of type '<class 'numpy.int64'>'\n",
       "\twith 773296 stored elements in Compressed Sparse Row format>"
      ]
     },
     "execution_count": 36,
     "metadata": {},
     "output_type": "execute_result"
    }
   ],
   "source": [
    "smote_x_bow"
   ]
  },
  {
   "cell_type": "markdown",
   "id": "5b103371",
   "metadata": {},
   "source": [
    "### 2.3 Hyperparameter Tuning on the MNB model."
   ]
  },
  {
   "cell_type": "markdown",
   "id": "6133d384",
   "metadata": {},
   "source": [
    "### First Step: Validation split\n",
    "\n",
    "### Dataset will be split further from train-test into train-validation-test to better evaluate the model."
   ]
  },
  {
   "cell_type": "markdown",
   "id": "09c5f702",
   "metadata": {},
   "source": [
    "#### some definitons:\n",
    "\n",
    "#### 1. x_train_cont = x_bow with smote resampling and validation split\n",
    "\n",
    "#### 2. x_val = x_test with smote resampling and validation split\n",
    "\n",
    "#### 3. y_train_val = y_train with smote resampling and validation split\n",
    "\n",
    "#### 4. y_val = y_test with smote resampling and validation split"
   ]
  },
  {
   "cell_type": "code",
   "execution_count": 37,
   "id": "177d8159",
   "metadata": {},
   "outputs": [],
   "source": [
    "x_train_val, x_val, y_train_val, y_val = create_data_split(smote_x_bow, smote_y, test_size=0.25) # 0.25 x 0.8 = 0.2"
   ]
  },
  {
   "cell_type": "markdown",
   "id": "464e9757",
   "metadata": {},
   "source": [
    "### Second Step: Hyperparameter Tuning"
   ]
  },
  {
   "cell_type": "markdown",
   "id": "6ea4a389",
   "metadata": {},
   "source": [
    "### 1. Grid Search"
   ]
  },
  {
   "cell_type": "code",
   "execution_count": 38,
   "id": "ccd339f3",
   "metadata": {
    "scrolled": true
   },
   "outputs": [
    {
     "name": "stdout",
     "output_type": "stream",
     "text": [
      "Fitting 5 folds for each of 9 candidates, totalling 45 fits\n",
      "[CV] END ............................................alpha=1; total time=   0.0s\n",
      "[CV] END ............................................alpha=1; total time=   0.0s\n",
      "[CV] END ............................................alpha=1; total time=   0.0s\n",
      "[CV] END ............................................alpha=1; total time=   0.0s\n",
      "[CV] END ............................................alpha=1; total time=   0.0s\n",
      "[CV] END ............................................alpha=2; total time=   0.0s\n",
      "[CV] END ............................................alpha=2; total time=   0.0s\n",
      "[CV] END ............................................alpha=2; total time=   0.0s\n",
      "[CV] END ............................................alpha=2; total time=   0.0s\n",
      "[CV] END ............................................alpha=2; total time=   0.0s\n",
      "[CV] END ............................................alpha=3; total time=   0.0s\n",
      "[CV] END ............................................alpha=3; total time=   0.0s\n",
      "[CV] END ............................................alpha=3; total time=   0.0s\n",
      "[CV] END ............................................alpha=3; total time=   0.0s\n",
      "[CV] END ............................................alpha=3; total time=   0.0s\n",
      "[CV] END ............................................alpha=4; total time=   0.0s\n",
      "[CV] END ............................................alpha=4; total time=   0.0s\n",
      "[CV] END ............................................alpha=4; total time=   0.0s\n",
      "[CV] END ............................................alpha=4; total time=   0.0s\n",
      "[CV] END ............................................alpha=4; total time=   0.0s\n",
      "[CV] END ............................................alpha=5; total time=   0.0s\n",
      "[CV] END ............................................alpha=5; total time=   0.0s\n",
      "[CV] END ............................................alpha=5; total time=   0.0s\n",
      "[CV] END ............................................alpha=5; total time=   0.0s\n",
      "[CV] END ............................................alpha=5; total time=   0.0s\n",
      "[CV] END ............................................alpha=6; total time=   0.0s\n",
      "[CV] END ............................................alpha=6; total time=   0.0s\n",
      "[CV] END ............................................alpha=6; total time=   0.0s\n",
      "[CV] END ............................................alpha=6; total time=   0.0s\n",
      "[CV] END ............................................alpha=6; total time=   0.0s\n",
      "[CV] END ............................................alpha=7; total time=   0.0s\n",
      "[CV] END ............................................alpha=7; total time=   0.0s\n",
      "[CV] END ............................................alpha=7; total time=   0.0s\n",
      "[CV] END ............................................alpha=7; total time=   0.0s\n",
      "[CV] END ............................................alpha=7; total time=   0.0s\n",
      "[CV] END ............................................alpha=8; total time=   0.0s\n",
      "[CV] END ............................................alpha=8; total time=   0.0s\n",
      "[CV] END ............................................alpha=8; total time=   0.0s\n",
      "[CV] END ............................................alpha=8; total time=   0.0s\n",
      "[CV] END ............................................alpha=8; total time=   0.0s\n",
      "[CV] END ............................................alpha=9; total time=   0.0s\n",
      "[CV] END ............................................alpha=9; total time=   0.0s\n",
      "[CV] END ............................................alpha=9; total time=   0.0s\n",
      "[CV] END ............................................alpha=9; total time=   0.0s\n",
      "[CV] END ............................................alpha=9; total time=   0.0s\n",
      "{'alpha': 1}\n",
      "0.5814751303719061\n"
     ]
    }
   ],
   "source": [
    "param_grid = {\"alpha\": range(1,10)}\n",
    "mnnb = MultinomialNB()\n",
    "grid_search = GridSearchCV(mnnb, param_grid,cv=5, verbose=2)\n",
    "\n",
    "grid_search.fit(x_train_val, y_train_val)\n",
    "\n",
    "print(grid_search.best_params_)\n",
    "print(grid_search.best_score_)"
   ]
  },
  {
   "cell_type": "code",
   "execution_count": 39,
   "id": "c2072416",
   "metadata": {},
   "outputs": [
    {
     "name": "stdout",
     "output_type": "stream",
     "text": [
      "0.6997416515166013\n",
      "0.5938576349024111\n"
     ]
    }
   ],
   "source": [
    "print(grid_search.score(x_train_val, y_train_val))\n",
    "print(grid_search.score(x_val, y_val))"
   ]
  },
  {
   "cell_type": "markdown",
   "id": "3ff126a3",
   "metadata": {},
   "source": [
    "### 2. Randomized hyperparameter optimization"
   ]
  },
  {
   "cell_type": "code",
   "execution_count": 40,
   "id": "46cec56b",
   "metadata": {
    "scrolled": true
   },
   "outputs": [
    {
     "name": "stdout",
     "output_type": "stream",
     "text": [
      "Fitting 5 folds for each of 5 candidates, totalling 25 fits\n"
     ]
    },
    {
     "data": {
      "text/html": [
       "<style>#sk-container-id-1 {color: black;background-color: white;}#sk-container-id-1 pre{padding: 0;}#sk-container-id-1 div.sk-toggleable {background-color: white;}#sk-container-id-1 label.sk-toggleable__label {cursor: pointer;display: block;width: 100%;margin-bottom: 0;padding: 0.3em;box-sizing: border-box;text-align: center;}#sk-container-id-1 label.sk-toggleable__label-arrow:before {content: \"▸\";float: left;margin-right: 0.25em;color: #696969;}#sk-container-id-1 label.sk-toggleable__label-arrow:hover:before {color: black;}#sk-container-id-1 div.sk-estimator:hover label.sk-toggleable__label-arrow:before {color: black;}#sk-container-id-1 div.sk-toggleable__content {max-height: 0;max-width: 0;overflow: hidden;text-align: left;background-color: #f0f8ff;}#sk-container-id-1 div.sk-toggleable__content pre {margin: 0.2em;color: black;border-radius: 0.25em;background-color: #f0f8ff;}#sk-container-id-1 input.sk-toggleable__control:checked~div.sk-toggleable__content {max-height: 200px;max-width: 100%;overflow: auto;}#sk-container-id-1 input.sk-toggleable__control:checked~label.sk-toggleable__label-arrow:before {content: \"▾\";}#sk-container-id-1 div.sk-estimator input.sk-toggleable__control:checked~label.sk-toggleable__label {background-color: #d4ebff;}#sk-container-id-1 div.sk-label input.sk-toggleable__control:checked~label.sk-toggleable__label {background-color: #d4ebff;}#sk-container-id-1 input.sk-hidden--visually {border: 0;clip: rect(1px 1px 1px 1px);clip: rect(1px, 1px, 1px, 1px);height: 1px;margin: -1px;overflow: hidden;padding: 0;position: absolute;width: 1px;}#sk-container-id-1 div.sk-estimator {font-family: monospace;background-color: #f0f8ff;border: 1px dotted black;border-radius: 0.25em;box-sizing: border-box;margin-bottom: 0.5em;}#sk-container-id-1 div.sk-estimator:hover {background-color: #d4ebff;}#sk-container-id-1 div.sk-parallel-item::after {content: \"\";width: 100%;border-bottom: 1px solid gray;flex-grow: 1;}#sk-container-id-1 div.sk-label:hover label.sk-toggleable__label {background-color: #d4ebff;}#sk-container-id-1 div.sk-serial::before {content: \"\";position: absolute;border-left: 1px solid gray;box-sizing: border-box;top: 0;bottom: 0;left: 50%;z-index: 0;}#sk-container-id-1 div.sk-serial {display: flex;flex-direction: column;align-items: center;background-color: white;padding-right: 0.2em;padding-left: 0.2em;position: relative;}#sk-container-id-1 div.sk-item {position: relative;z-index: 1;}#sk-container-id-1 div.sk-parallel {display: flex;align-items: stretch;justify-content: center;background-color: white;position: relative;}#sk-container-id-1 div.sk-item::before, #sk-container-id-1 div.sk-parallel-item::before {content: \"\";position: absolute;border-left: 1px solid gray;box-sizing: border-box;top: 0;bottom: 0;left: 50%;z-index: -1;}#sk-container-id-1 div.sk-parallel-item {display: flex;flex-direction: column;z-index: 1;position: relative;background-color: white;}#sk-container-id-1 div.sk-parallel-item:first-child::after {align-self: flex-end;width: 50%;}#sk-container-id-1 div.sk-parallel-item:last-child::after {align-self: flex-start;width: 50%;}#sk-container-id-1 div.sk-parallel-item:only-child::after {width: 0;}#sk-container-id-1 div.sk-dashed-wrapped {border: 1px dashed gray;margin: 0 0.4em 0.5em 0.4em;box-sizing: border-box;padding-bottom: 0.4em;background-color: white;}#sk-container-id-1 div.sk-label label {font-family: monospace;font-weight: bold;display: inline-block;line-height: 1.2em;}#sk-container-id-1 div.sk-label-container {text-align: center;}#sk-container-id-1 div.sk-container {/* jupyter's `normalize.less` sets `[hidden] { display: none; }` but bootstrap.min.css set `[hidden] { display: none !important; }` so we also need the `!important` here to be able to override the default hidden behavior on the sphinx rendered scikit-learn.org. See: https://github.com/scikit-learn/scikit-learn/issues/21755 */display: inline-block !important;position: relative;}#sk-container-id-1 div.sk-text-repr-fallback {display: none;}</style><div id=\"sk-container-id-1\" class=\"sk-top-container\"><div class=\"sk-text-repr-fallback\"><pre>RandomizedSearchCV(cv=5, estimator=MultinomialNB(), n_iter=5, n_jobs=-1,\n",
       "                   param_distributions={&#x27;alpha&#x27;: range(1, 10)}, verbose=2)</pre><b>In a Jupyter environment, please rerun this cell to show the HTML representation or trust the notebook. <br />On GitHub, the HTML representation is unable to render, please try loading this page with nbviewer.org.</b></div><div class=\"sk-container\" hidden><div class=\"sk-item sk-dashed-wrapped\"><div class=\"sk-label-container\"><div class=\"sk-label sk-toggleable\"><input class=\"sk-toggleable__control sk-hidden--visually\" id=\"sk-estimator-id-1\" type=\"checkbox\" ><label for=\"sk-estimator-id-1\" class=\"sk-toggleable__label sk-toggleable__label-arrow\">RandomizedSearchCV</label><div class=\"sk-toggleable__content\"><pre>RandomizedSearchCV(cv=5, estimator=MultinomialNB(), n_iter=5, n_jobs=-1,\n",
       "                   param_distributions={&#x27;alpha&#x27;: range(1, 10)}, verbose=2)</pre></div></div></div><div class=\"sk-parallel\"><div class=\"sk-parallel-item\"><div class=\"sk-item\"><div class=\"sk-label-container\"><div class=\"sk-label sk-toggleable\"><input class=\"sk-toggleable__control sk-hidden--visually\" id=\"sk-estimator-id-2\" type=\"checkbox\" ><label for=\"sk-estimator-id-2\" class=\"sk-toggleable__label sk-toggleable__label-arrow\">estimator: MultinomialNB</label><div class=\"sk-toggleable__content\"><pre>MultinomialNB()</pre></div></div></div><div class=\"sk-serial\"><div class=\"sk-item\"><div class=\"sk-estimator sk-toggleable\"><input class=\"sk-toggleable__control sk-hidden--visually\" id=\"sk-estimator-id-3\" type=\"checkbox\" ><label for=\"sk-estimator-id-3\" class=\"sk-toggleable__label sk-toggleable__label-arrow\">MultinomialNB</label><div class=\"sk-toggleable__content\"><pre>MultinomialNB()</pre></div></div></div></div></div></div></div></div></div></div>"
      ],
      "text/plain": [
       "RandomizedSearchCV(cv=5, estimator=MultinomialNB(), n_iter=5, n_jobs=-1,\n",
       "                   param_distributions={'alpha': range(1, 10)}, verbose=2)"
      ]
     },
     "execution_count": 40,
     "metadata": {},
     "output_type": "execute_result"
    }
   ],
   "source": [
    "mnnb = MultinomialNB()\n",
    "random_search = RandomizedSearchCV(mnnb, param_grid, cv=5, verbose=2, n_jobs=-1, n_iter=5)\n",
    "random_search.fit(x_train_val, y_train_val)"
   ]
  },
  {
   "cell_type": "code",
   "execution_count": 41,
   "id": "071a216a",
   "metadata": {},
   "outputs": [
    {
     "data": {
      "text/plain": [
       "0.5938576349024111"
      ]
     },
     "execution_count": 41,
     "metadata": {},
     "output_type": "execute_result"
    }
   ],
   "source": [
    "random_search.score(x_val, y_val)"
   ]
  },
  {
   "cell_type": "markdown",
   "id": "2cdc742f",
   "metadata": {},
   "source": [
    "### Based on these results, the alpha value is best kept at default (1.0) as there is beneficial progess that occurs after that point."
   ]
  },
  {
   "cell_type": "markdown",
   "id": "80d4a129",
   "metadata": {},
   "source": [
    "### 3. Several Classifiers Testing"
   ]
  },
  {
   "cell_type": "markdown",
   "id": "f0da90c4",
   "metadata": {},
   "source": [
    "### First Step: Machine Learning Algorithms"
   ]
  },
  {
   "cell_type": "markdown",
   "id": "01cf1801",
   "metadata": {},
   "source": [
    "### 3.1 Different Algorithms"
   ]
  },
  {
   "cell_type": "markdown",
   "id": "8cef0ffb",
   "metadata": {},
   "source": [
    "### 1. Random Forest"
   ]
  },
  {
   "cell_type": "code",
   "execution_count": 42,
   "id": "8fcb7203",
   "metadata": {},
   "outputs": [
    {
     "name": "stdout",
     "output_type": "stream",
     "text": [
      "Accuracy: 0.736796785304248\n"
     ]
    }
   ],
   "source": [
    "rf_clf = RandomForestClassifier(random_state=42)\n",
    "rf_clf.fit(x_train_val, y_train_val)\n",
    "y_pred_rf = rf_clf.predict(x_val)\n",
    "accuracy_rf = accuracy_score(y_val, y_pred_rf)\n",
    "print(\"Accuracy:\", accuracy_rf)"
   ]
  },
  {
   "cell_type": "markdown",
   "id": "da4889c3",
   "metadata": {},
   "source": [
    "### 2. SVM"
   ]
  },
  {
   "cell_type": "code",
   "execution_count": 43,
   "id": "c785dcfc",
   "metadata": {},
   "outputs": [
    {
     "name": "stdout",
     "output_type": "stream",
     "text": [
      "Accuracy: 0.6928817451205511\n"
     ]
    }
   ],
   "source": [
    "svm_clf = SVC(kernel='rbf', C=10, gamma=0.1,random_state = 42)\n",
    "svm_clf.fit(x_train_val, y_train_val)\n",
    "y_pred_svm = svm_clf.predict(x_val)\n",
    "accuracy_svm = accuracy_score(y_val, y_pred_svm)\n",
    "print(\"Accuracy:\", accuracy_svm)"
   ]
  },
  {
   "cell_type": "markdown",
   "id": "a50c5288",
   "metadata": {},
   "source": [
    "### 3. Ensemble (Bagging) Model (KNN) "
   ]
  },
  {
   "cell_type": "code",
   "execution_count": 44,
   "id": "c6e53d39",
   "metadata": {},
   "outputs": [
    {
     "name": "stdout",
     "output_type": "stream",
     "text": [
      "Accuracy: 0.5505166475315729\n"
     ]
    }
   ],
   "source": [
    "ens_knn_clf = BaggingClassifier(KNeighborsClassifier(),random_state = 42)\n",
    "ens_knn_clf.fit(x_train_val, y_train_val)\n",
    "y_pred_ens_knn = ens_knn_clf.predict(x_val)\n",
    "accuracy_ens_knn = accuracy_score(y_val, y_pred_ens_knn)\n",
    "print(\"Accuracy:\", accuracy_ens_knn)"
   ]
  },
  {
   "cell_type": "markdown",
   "id": "878b8c26",
   "metadata": {},
   "source": [
    "### 4. Ensemble (Bagging) Model (MNNB)"
   ]
  },
  {
   "cell_type": "code",
   "execution_count": 45,
   "id": "532c77c0",
   "metadata": {},
   "outputs": [
    {
     "name": "stdout",
     "output_type": "stream",
     "text": [
      "Accuracy: 0.5901262916188289\n"
     ]
    }
   ],
   "source": [
    "ens_mnnb_clf = BaggingClassifier(MultinomialNB(),random_state = 42)\n",
    "ens_mnnb_clf.fit(x_train_val, y_train_val)\n",
    "y_pred_ens_mnnb = ens_mnnb_clf.predict(x_val)\n",
    "accuracy_ens_mnnb = accuracy_score(y_val, y_pred_ens_mnnb)\n",
    "print(\"Accuracy:\", accuracy_ens_mnnb)"
   ]
  },
  {
   "cell_type": "markdown",
   "id": "dddaac1a",
   "metadata": {},
   "source": [
    "### 5. Ensemble (Adaboost) Model (MNNB)"
   ]
  },
  {
   "cell_type": "code",
   "execution_count": 46,
   "id": "f1ba6a4c",
   "metadata": {},
   "outputs": [
    {
     "name": "stdout",
     "output_type": "stream",
     "text": [
      "Accuracy: 0.5364523536165328\n"
     ]
    }
   ],
   "source": [
    "ens_mnnb_clf = AdaBoostClassifier(MultinomialNB(),random_state = 42)\n",
    "ens_mnnb_clf.fit(x_train_val, y_train_val)\n",
    "y_pred_ens_mnnb_ada = ens_mnnb_clf.predict(x_val)\n",
    "accuracy_ens_mnnb_ada = accuracy_score(y_val, y_pred_ens_mnnb_ada)\n",
    "print(\"Accuracy:\", accuracy_ens_mnnb_ada)"
   ]
  },
  {
   "cell_type": "markdown",
   "id": "669045f1",
   "metadata": {},
   "source": [
    "### 6. Gradient Boosting (XGBoost)"
   ]
  },
  {
   "cell_type": "markdown",
   "id": "faa4a0b1",
   "metadata": {},
   "source": [
    "#### Some Label adjustments specifically for XGBoost"
   ]
  },
  {
   "cell_type": "code",
   "execution_count": 47,
   "id": "6b8fb0b5",
   "metadata": {},
   "outputs": [],
   "source": [
    "y_train_xgb = []\n",
    "y_val_xgb = []\n",
    "\n",
    "for label in y_train_val:\n",
    "    y_train_xgb.append(label - 1)\n",
    "    \n",
    "for label in y_val:\n",
    "    y_val_xgb.append(label - 1)"
   ]
  },
  {
   "cell_type": "markdown",
   "id": "271ab12b",
   "metadata": {},
   "source": [
    "#### Model Training"
   ]
  },
  {
   "cell_type": "code",
   "execution_count": 48,
   "id": "b97cc1e9",
   "metadata": {
    "scrolled": true
   },
   "outputs": [
    {
     "name": "stdout",
     "output_type": "stream",
     "text": [
      "Accuracy: 0.8659586681974741\n"
     ]
    }
   ],
   "source": [
    "xgb_model = XGBClassifier(random_state = 42)\n",
    "xgb_model.fit(x_train_val, y_train_xgb)\n",
    "y_pred_xgb = xgb_model.predict(x_val)\n",
    "accuracy_xgb = accuracy_score(y_val_xgb, y_pred_xgb)\n",
    "print(\"Accuracy:\", accuracy_xgb)"
   ]
  },
  {
   "cell_type": "markdown",
   "id": "46da63a0",
   "metadata": {},
   "source": [
    "### Based on these results, The best ML model was XGBoost"
   ]
  },
  {
   "cell_type": "markdown",
   "id": "adf3ed10",
   "metadata": {},
   "source": [
    "### 3.2 Parameter Tuning"
   ]
  },
  {
   "cell_type": "code",
   "execution_count": 49,
   "id": "8b2b905c",
   "metadata": {},
   "outputs": [],
   "source": [
    "num_cv = 5"
   ]
  },
  {
   "cell_type": "code",
   "execution_count": 50,
   "id": "5173b906",
   "metadata": {},
   "outputs": [],
   "source": [
    "params = {'learning_rate': [0.1, 0.2,0.3],\n",
    "              'max_depth': [5, 7, 9],\n",
    "              'min_child_weight': [1, 3, 5],\n",
    "              'subsample': [0.5, 0.7, 1.0],\n",
    "              'colsample_bytree': [0.5, 0.7, 1.0],\n",
    "              'gamma':[1,2,3],\n",
    "              'alpha':[0.001,0.01,0.1],\n",
    "         }"
   ]
  },
  {
   "cell_type": "code",
   "execution_count": 51,
   "id": "1f3d0ed2",
   "metadata": {
    "scrolled": true
   },
   "outputs": [],
   "source": [
    "# try:\n",
    "#     pickle.load(open(\"best_params.pickle\", \"rb\"))\n",
    "#     raise SystemExit(\"Found Pickle File. Execute Next cell.\")\n",
    "# except:\n",
    "#     xgb_clf = XGBClassifier(random_state = 42)\n",
    "#     grid_search = GridSearchCV(xgb_clf, params,cv=num_cv, verbose=2)\n",
    "#     grid_search.fit(x_train_val, y_train_xgb)\n",
    "\n",
    "#     pickle_out = open('best_params.pickle','wb')\n",
    "#     pickle.dump(grid_search.best_params_,pickle_out)\n",
    "#     pickle_out.close()"
   ]
  },
  {
   "cell_type": "markdown",
   "id": "a3bddb20",
   "metadata": {},
   "source": [
    "{'colsample_bytree': 0.7,\n",
    " 'learning_rate': 0.3,\n",
    " 'max_depth': 9,\n",
    " 'min_child_weight': 1,\n",
    " 'subsample': 1.0}"
   ]
  },
  {
   "cell_type": "code",
   "execution_count": 52,
   "id": "da2c2437",
   "metadata": {},
   "outputs": [
    {
     "data": {
      "text/plain": [
       "{'colsample_bytree': 0.7,\n",
       " 'learning_rate': 0.3,\n",
       " 'max_depth': 9,\n",
       " 'min_child_weight': 1,\n",
       " 'subsample': 1.0}"
      ]
     },
     "execution_count": 52,
     "metadata": {},
     "output_type": "execute_result"
    }
   ],
   "source": [
    "best_params = pickle.load(open(\"best_params.pickle\", \"rb\"))\n",
    "best_params"
   ]
  },
  {
   "cell_type": "code",
   "execution_count": 53,
   "id": "6068a778",
   "metadata": {},
   "outputs": [
    {
     "name": "stdout",
     "output_type": "stream",
     "text": [
      "Accuracy: 0.8648105625717566\n"
     ]
    }
   ],
   "source": [
    "xgb_model_new = XGBClassifier(colsample_bytree = 0.7,\n",
    " learning_rate = 0.3,\n",
    " max_depth = 9,\n",
    " min_child_weight = 1,\n",
    " subsample = 1.0,\n",
    " random_state = 42)\n",
    "xgb_model_new.fit(x_train_val, y_train_xgb)\n",
    "y_pred_xgb = xgb_model_new.predict(x_val)\n",
    "accuracy_xgb = accuracy_score(y_val_xgb, y_pred_xgb)\n",
    "print(\"Accuracy:\", accuracy_xgb)"
   ]
  }
 ],
 "metadata": {
  "kernelspec": {
   "display_name": "Python 3 (ipykernel)",
   "language": "python",
   "name": "python3"
  },
  "language_info": {
   "codemirror_mode": {
    "name": "ipython",
    "version": 3
   },
   "file_extension": ".py",
   "mimetype": "text/x-python",
   "name": "python",
   "nbconvert_exporter": "python",
   "pygments_lexer": "ipython3",
   "version": "3.9.7"
  }
 },
 "nbformat": 4,
 "nbformat_minor": 5
}
