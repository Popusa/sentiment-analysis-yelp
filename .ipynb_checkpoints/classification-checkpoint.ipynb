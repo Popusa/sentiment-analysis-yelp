{
 "cells": [
  {
   "cell_type": "markdown",
   "id": "86650bd2",
   "metadata": {},
   "source": [
    "### File: Classification"
   ]
  },
  {
   "cell_type": "markdown",
   "id": "aa95e311",
   "metadata": {},
   "source": [
    "#### Goals and objectives of this file:\n",
    "\n",
    "##### 1. Clean, and pre-process the dataset\n",
    "##### => Basic Cleaning Process => duplicate removal => checking missing labels => removing dates\n",
    "##### => Pre-Processing data => stemming => removing stop words => bag of words => feature extraction/word vectorization\n",
    "\n",
    "##### 2. Feature Engineering, and extra model optimization steps\n",
    "##### => Feature Engineering => feature selection => word embeddings => outlier detection => over/under sampling the classes\n",
    "##### => Model Optimization => (Hyper)parameter Tuning => different Algorithms tests => different neural network architectures test\n",
    "\n",
    "##### 3. Training and Results\n",
    "##### => Training and Testing => accuracy => precision => confusion matrix => roc/auc curves => learning curve\n",
    "\n",
    "##### 4. Desktop Application\n",
    "##### => Model Pipeline => GUI => feedback loop"
   ]
  },
  {
   "cell_type": "code",
   "execution_count": 1,
   "id": "40da09b9",
   "metadata": {},
   "outputs": [],
   "source": [
    "import pandas as pd\n",
    "import matplotlib.pyplot as plt\n",
    "import sklearn"
   ]
  },
  {
   "cell_type": "code",
   "execution_count": 2,
   "id": "f42a65a5",
   "metadata": {},
   "outputs": [],
   "source": [
    "df = pd.read_csv(\"../datasets/yelp coffee/raw_yelp_review_data.csv\")"
   ]
  },
  {
   "cell_type": "code",
   "execution_count": 3,
   "id": "efdda284",
   "metadata": {
    "scrolled": true
   },
   "outputs": [
    {
     "data": {
      "text/html": [
       "<div>\n",
       "<style scoped>\n",
       "    .dataframe tbody tr th:only-of-type {\n",
       "        vertical-align: middle;\n",
       "    }\n",
       "\n",
       "    .dataframe tbody tr th {\n",
       "        vertical-align: top;\n",
       "    }\n",
       "\n",
       "    .dataframe thead th {\n",
       "        text-align: right;\n",
       "    }\n",
       "</style>\n",
       "<table border=\"1\" class=\"dataframe\">\n",
       "  <thead>\n",
       "    <tr style=\"text-align: right;\">\n",
       "      <th></th>\n",
       "      <th>coffee_shop_name</th>\n",
       "      <th>full_review_text</th>\n",
       "      <th>star_rating</th>\n",
       "    </tr>\n",
       "  </thead>\n",
       "  <tbody>\n",
       "    <tr>\n",
       "      <th>0</th>\n",
       "      <td>The Factory - Cafe With a Soul</td>\n",
       "      <td>11/25/2016 1 check-in Love love loved the atm...</td>\n",
       "      <td>5.0 star rating</td>\n",
       "    </tr>\n",
       "    <tr>\n",
       "      <th>1</th>\n",
       "      <td>The Factory - Cafe With a Soul</td>\n",
       "      <td>12/2/2016 Listed in Date Night: Austin, Ambia...</td>\n",
       "      <td>4.0 star rating</td>\n",
       "    </tr>\n",
       "    <tr>\n",
       "      <th>2</th>\n",
       "      <td>The Factory - Cafe With a Soul</td>\n",
       "      <td>11/30/2016 1 check-in Listed in Brunch Spots ...</td>\n",
       "      <td>4.0 star rating</td>\n",
       "    </tr>\n",
       "    <tr>\n",
       "      <th>3</th>\n",
       "      <td>The Factory - Cafe With a Soul</td>\n",
       "      <td>11/25/2016 Very cool decor! Good drinks Nice ...</td>\n",
       "      <td>2.0 star rating</td>\n",
       "    </tr>\n",
       "    <tr>\n",
       "      <th>4</th>\n",
       "      <td>The Factory - Cafe With a Soul</td>\n",
       "      <td>12/3/2016 1 check-in They are located within ...</td>\n",
       "      <td>4.0 star rating</td>\n",
       "    </tr>\n",
       "  </tbody>\n",
       "</table>\n",
       "</div>"
      ],
      "text/plain": [
       "                  coffee_shop_name  \\\n",
       "0  The Factory - Cafe With a Soul    \n",
       "1  The Factory - Cafe With a Soul    \n",
       "2  The Factory - Cafe With a Soul    \n",
       "3  The Factory - Cafe With a Soul    \n",
       "4  The Factory - Cafe With a Soul    \n",
       "\n",
       "                                    full_review_text        star_rating  \n",
       "0   11/25/2016 1 check-in Love love loved the atm...   5.0 star rating   \n",
       "1   12/2/2016 Listed in Date Night: Austin, Ambia...   4.0 star rating   \n",
       "2   11/30/2016 1 check-in Listed in Brunch Spots ...   4.0 star rating   \n",
       "3   11/25/2016 Very cool decor! Good drinks Nice ...   2.0 star rating   \n",
       "4   12/3/2016 1 check-in They are located within ...   4.0 star rating   "
      ]
     },
     "execution_count": 3,
     "metadata": {},
     "output_type": "execute_result"
    }
   ],
   "source": [
    "df.head()"
   ]
  },
  {
   "cell_type": "code",
   "execution_count": 4,
   "id": "311fba2b",
   "metadata": {},
   "outputs": [
    {
     "data": {
      "text/plain": [
       "(7616, 3)"
      ]
     },
     "execution_count": 4,
     "metadata": {},
     "output_type": "execute_result"
    }
   ],
   "source": [
    "df.shape"
   ]
  },
  {
   "cell_type": "code",
   "execution_count": 5,
   "id": "2fa58e79",
   "metadata": {},
   "outputs": [
    {
     "data": {
      "text/html": [
       "<div>\n",
       "<style scoped>\n",
       "    .dataframe tbody tr th:only-of-type {\n",
       "        vertical-align: middle;\n",
       "    }\n",
       "\n",
       "    .dataframe tbody tr th {\n",
       "        vertical-align: top;\n",
       "    }\n",
       "\n",
       "    .dataframe thead th {\n",
       "        text-align: right;\n",
       "    }\n",
       "</style>\n",
       "<table border=\"1\" class=\"dataframe\">\n",
       "  <thead>\n",
       "    <tr style=\"text-align: right;\">\n",
       "      <th></th>\n",
       "      <th>coffee_shop_name</th>\n",
       "      <th>full_review_text</th>\n",
       "      <th>star_rating</th>\n",
       "    </tr>\n",
       "  </thead>\n",
       "  <tbody>\n",
       "    <tr>\n",
       "      <th>count</th>\n",
       "      <td>7616</td>\n",
       "      <td>7616</td>\n",
       "      <td>7616</td>\n",
       "    </tr>\n",
       "    <tr>\n",
       "      <th>unique</th>\n",
       "      <td>79</td>\n",
       "      <td>6915</td>\n",
       "      <td>5</td>\n",
       "    </tr>\n",
       "    <tr>\n",
       "      <th>top</th>\n",
       "      <td>Epoch Coffee</td>\n",
       "      <td>11/25/2016 1 check-in Love love loved the atm...</td>\n",
       "      <td>5.0 star rating</td>\n",
       "    </tr>\n",
       "    <tr>\n",
       "      <th>freq</th>\n",
       "      <td>400</td>\n",
       "      <td>4</td>\n",
       "      <td>3780</td>\n",
       "    </tr>\n",
       "  </tbody>\n",
       "</table>\n",
       "</div>"
      ],
      "text/plain": [
       "       coffee_shop_name                                   full_review_text  \\\n",
       "count              7616                                               7616   \n",
       "unique               79                                               6915   \n",
       "top       Epoch Coffee    11/25/2016 1 check-in Love love loved the atm...   \n",
       "freq                400                                                  4   \n",
       "\n",
       "              star_rating  \n",
       "count                7616  \n",
       "unique                  5  \n",
       "top      5.0 star rating   \n",
       "freq                 3780  "
      ]
     },
     "execution_count": 5,
     "metadata": {},
     "output_type": "execute_result"
    }
   ],
   "source": [
    "df.describe()"
   ]
  },
  {
   "cell_type": "markdown",
   "id": "659ebc7f",
   "metadata": {},
   "source": [
    "### 1.1 Duplicate Removal"
   ]
  },
  {
   "cell_type": "code",
   "execution_count": 6,
   "id": "222f3c5a",
   "metadata": {},
   "outputs": [],
   "source": [
    "#df.drop_duplicates()"
   ]
  },
  {
   "cell_type": "markdown",
   "id": "f4b294b2",
   "metadata": {},
   "source": [
    "### 1.2 Checking Missing Labels"
   ]
  },
  {
   "cell_type": "code",
   "execution_count": 7,
   "id": "5dcf4ca7",
   "metadata": {},
   "outputs": [
    {
     "data": {
      "text/plain": [
       "coffee_shop_name  full_review_text  star_rating\n",
       "False             False             False          7616\n",
       "dtype: int64"
      ]
     },
     "execution_count": 7,
     "metadata": {},
     "output_type": "execute_result"
    }
   ],
   "source": [
    "df.isnull().value_counts()"
   ]
  },
  {
   "cell_type": "markdown",
   "id": "f320a477",
   "metadata": {},
   "source": [
    "### 1.3 Removing Dates"
   ]
  },
  {
   "cell_type": "code",
   "execution_count": 8,
   "id": "edf8bc4b",
   "metadata": {
    "scrolled": true
   },
   "outputs": [],
   "source": [
    "df['full_review_text'] = df['full_review_text'].str[11:]"
   ]
  },
  {
   "cell_type": "code",
   "execution_count": 9,
   "id": "ab5d9bcd",
   "metadata": {
    "scrolled": true
   },
   "outputs": [
    {
     "data": {
      "text/html": [
       "<div>\n",
       "<style scoped>\n",
       "    .dataframe tbody tr th:only-of-type {\n",
       "        vertical-align: middle;\n",
       "    }\n",
       "\n",
       "    .dataframe tbody tr th {\n",
       "        vertical-align: top;\n",
       "    }\n",
       "\n",
       "    .dataframe thead th {\n",
       "        text-align: right;\n",
       "    }\n",
       "</style>\n",
       "<table border=\"1\" class=\"dataframe\">\n",
       "  <thead>\n",
       "    <tr style=\"text-align: right;\">\n",
       "      <th></th>\n",
       "      <th>coffee_shop_name</th>\n",
       "      <th>full_review_text</th>\n",
       "      <th>star_rating</th>\n",
       "    </tr>\n",
       "  </thead>\n",
       "  <tbody>\n",
       "    <tr>\n",
       "      <th>0</th>\n",
       "      <td>The Factory - Cafe With a Soul</td>\n",
       "      <td>1 check-in Love love loved the atmosphere! Ev...</td>\n",
       "      <td>5.0 star rating</td>\n",
       "    </tr>\n",
       "    <tr>\n",
       "      <th>1</th>\n",
       "      <td>The Factory - Cafe With a Soul</td>\n",
       "      <td>Listed in Date Night: Austin, Ambiance in Aust...</td>\n",
       "      <td>4.0 star rating</td>\n",
       "    </tr>\n",
       "    <tr>\n",
       "      <th>2</th>\n",
       "      <td>The Factory - Cafe With a Soul</td>\n",
       "      <td>1 check-in Listed in Brunch Spots I loved the...</td>\n",
       "      <td>4.0 star rating</td>\n",
       "    </tr>\n",
       "    <tr>\n",
       "      <th>3</th>\n",
       "      <td>The Factory - Cafe With a Soul</td>\n",
       "      <td>Very cool decor! Good drinks Nice seating  Ho...</td>\n",
       "      <td>2.0 star rating</td>\n",
       "    </tr>\n",
       "    <tr>\n",
       "      <th>4</th>\n",
       "      <td>The Factory - Cafe With a Soul</td>\n",
       "      <td>1 check-in They are located within the Northcr...</td>\n",
       "      <td>4.0 star rating</td>\n",
       "    </tr>\n",
       "    <tr>\n",
       "      <th>5</th>\n",
       "      <td>The Factory - Cafe With a Soul</td>\n",
       "      <td>1 check-in Very cute cafe! I think from the m...</td>\n",
       "      <td>4.0 star rating</td>\n",
       "    </tr>\n",
       "    <tr>\n",
       "      <th>6</th>\n",
       "      <td>The Factory - Cafe With a Soul</td>\n",
       "      <td>2 check-ins Listed in \"Nuptial Coffee Bliss!\"...</td>\n",
       "      <td>4.0 star rating</td>\n",
       "    </tr>\n",
       "    <tr>\n",
       "      <th>7</th>\n",
       "      <td>The Factory - Cafe With a Soul</td>\n",
       "      <td>2 check-ins Love this place!  5 stars for clea...</td>\n",
       "      <td>5.0 star rating</td>\n",
       "    </tr>\n",
       "    <tr>\n",
       "      <th>8</th>\n",
       "      <td>The Factory - Cafe With a Soul</td>\n",
       "      <td>1 check-in Ok, let's try this approach...  Pr...</td>\n",
       "      <td>3.0 star rating</td>\n",
       "    </tr>\n",
       "    <tr>\n",
       "      <th>9</th>\n",
       "      <td>The Factory - Cafe With a Soul</td>\n",
       "      <td>3 check-ins This place has been shown on my s...</td>\n",
       "      <td>5.0 star rating</td>\n",
       "    </tr>\n",
       "    <tr>\n",
       "      <th>10</th>\n",
       "      <td>The Factory - Cafe With a Soul</td>\n",
       "      <td>1 check-in Listed in Americano This is not yo...</td>\n",
       "      <td>4.0 star rating</td>\n",
       "    </tr>\n",
       "    <tr>\n",
       "      <th>11</th>\n",
       "      <td>The Factory - Cafe With a Soul</td>\n",
       "      <td>The store has A+ decoration, but honestly, th...</td>\n",
       "      <td>3.0 star rating</td>\n",
       "    </tr>\n",
       "    <tr>\n",
       "      <th>12</th>\n",
       "      <td>The Factory - Cafe With a Soul</td>\n",
       "      <td>1 check-in Listed in 2016 - The Third Time is...</td>\n",
       "      <td>3.0 star rating</td>\n",
       "    </tr>\n",
       "    <tr>\n",
       "      <th>13</th>\n",
       "      <td>The Factory - Cafe With a Soul</td>\n",
       "      <td>This is such a cute little cafe! I've driven b...</td>\n",
       "      <td>5.0 star rating</td>\n",
       "    </tr>\n",
       "    <tr>\n",
       "      <th>14</th>\n",
       "      <td>The Factory - Cafe With a Soul</td>\n",
       "      <td>Beautiful eccentric coffee shop with a librar...</td>\n",
       "      <td>5.0 star rating</td>\n",
       "    </tr>\n",
       "    <tr>\n",
       "      <th>15</th>\n",
       "      <td>The Factory - Cafe With a Soul</td>\n",
       "      <td>1 check-in Listed in In Search of Fantastic Co...</td>\n",
       "      <td>5.0 star rating</td>\n",
       "    </tr>\n",
       "    <tr>\n",
       "      <th>16</th>\n",
       "      <td>The Factory - Cafe With a Soul</td>\n",
       "      <td>Really love the atmosphere here! I frequent co...</td>\n",
       "      <td>5.0 star rating</td>\n",
       "    </tr>\n",
       "    <tr>\n",
       "      <th>17</th>\n",
       "      <td>The Factory - Cafe With a Soul</td>\n",
       "      <td>1 check-in Check out this video for a review!...</td>\n",
       "      <td>4.0 star rating</td>\n",
       "    </tr>\n",
       "    <tr>\n",
       "      <th>18</th>\n",
       "      <td>The Factory - Cafe With a Soul</td>\n",
       "      <td>1 check-in Note: Do not come here if you're l...</td>\n",
       "      <td>4.0 star rating</td>\n",
       "    </tr>\n",
       "    <tr>\n",
       "      <th>19</th>\n",
       "      <td>The Factory - Cafe With a Soul</td>\n",
       "      <td>So much aesthetic in this place. I love every ...</td>\n",
       "      <td>4.0 star rating</td>\n",
       "    </tr>\n",
       "  </tbody>\n",
       "</table>\n",
       "</div>"
      ],
      "text/plain": [
       "                   coffee_shop_name  \\\n",
       "0   The Factory - Cafe With a Soul    \n",
       "1   The Factory - Cafe With a Soul    \n",
       "2   The Factory - Cafe With a Soul    \n",
       "3   The Factory - Cafe With a Soul    \n",
       "4   The Factory - Cafe With a Soul    \n",
       "5   The Factory - Cafe With a Soul    \n",
       "6   The Factory - Cafe With a Soul    \n",
       "7   The Factory - Cafe With a Soul    \n",
       "8   The Factory - Cafe With a Soul    \n",
       "9   The Factory - Cafe With a Soul    \n",
       "10  The Factory - Cafe With a Soul    \n",
       "11  The Factory - Cafe With a Soul    \n",
       "12  The Factory - Cafe With a Soul    \n",
       "13  The Factory - Cafe With a Soul    \n",
       "14  The Factory - Cafe With a Soul    \n",
       "15  The Factory - Cafe With a Soul    \n",
       "16  The Factory - Cafe With a Soul    \n",
       "17  The Factory - Cafe With a Soul    \n",
       "18  The Factory - Cafe With a Soul    \n",
       "19  The Factory - Cafe With a Soul    \n",
       "\n",
       "                                     full_review_text        star_rating  \n",
       "0    1 check-in Love love loved the atmosphere! Ev...   5.0 star rating   \n",
       "1   Listed in Date Night: Austin, Ambiance in Aust...   4.0 star rating   \n",
       "2    1 check-in Listed in Brunch Spots I loved the...   4.0 star rating   \n",
       "3    Very cool decor! Good drinks Nice seating  Ho...   2.0 star rating   \n",
       "4   1 check-in They are located within the Northcr...   4.0 star rating   \n",
       "5    1 check-in Very cute cafe! I think from the m...   4.0 star rating   \n",
       "6    2 check-ins Listed in \"Nuptial Coffee Bliss!\"...   4.0 star rating   \n",
       "7   2 check-ins Love this place!  5 stars for clea...   5.0 star rating   \n",
       "8    1 check-in Ok, let's try this approach...  Pr...   3.0 star rating   \n",
       "9    3 check-ins This place has been shown on my s...   5.0 star rating   \n",
       "10   1 check-in Listed in Americano This is not yo...   4.0 star rating   \n",
       "11   The store has A+ decoration, but honestly, th...   3.0 star rating   \n",
       "12   1 check-in Listed in 2016 - The Third Time is...   3.0 star rating   \n",
       "13  This is such a cute little cafe! I've driven b...   5.0 star rating   \n",
       "14   Beautiful eccentric coffee shop with a librar...   5.0 star rating   \n",
       "15  1 check-in Listed in In Search of Fantastic Co...   5.0 star rating   \n",
       "16  Really love the atmosphere here! I frequent co...   5.0 star rating   \n",
       "17   1 check-in Check out this video for a review!...   4.0 star rating   \n",
       "18   1 check-in Note: Do not come here if you're l...   4.0 star rating   \n",
       "19  So much aesthetic in this place. I love every ...   4.0 star rating   "
      ]
     },
     "execution_count": 9,
     "metadata": {},
     "output_type": "execute_result"
    }
   ],
   "source": [
    "df.head(20)"
   ]
  }
 ],
 "metadata": {
  "kernelspec": {
   "display_name": "Python 3 (ipykernel)",
   "language": "python",
   "name": "python3"
  },
  "language_info": {
   "codemirror_mode": {
    "name": "ipython",
    "version": 3
   },
   "file_extension": ".py",
   "mimetype": "text/x-python",
   "name": "python",
   "nbconvert_exporter": "python",
   "pygments_lexer": "ipython3",
   "version": "3.9.7"
  }
 },
 "nbformat": 4,
 "nbformat_minor": 5
}
