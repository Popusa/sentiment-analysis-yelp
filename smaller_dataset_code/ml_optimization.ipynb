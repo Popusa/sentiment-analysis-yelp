{
 "cells": [
  {
   "attachments": {},
   "cell_type": "markdown",
   "id": "0e3c6923",
   "metadata": {},
   "source": [
    "### File: Model Optimization"
   ]
  },
  {
   "attachments": {},
   "cell_type": "markdown",
   "id": "998b5a2d",
   "metadata": {},
   "source": [
    "##### Goals and Objectives of this file:\n",
    "\n",
    "##### 1. Basic Model Training and Word Embedding Testing\n",
    "##### 2. Data Processing => over/under sampling the classes  =>  word embeddings => Mnnb Hyperparameter Tuning\n",
    "##### 3. Several Classifiers Testing => Different ML Algorithms tests => (hyper)parameter Tuning\n",
    "##### 4. Testing => Testing on data never seen before => accuracy => precision => confusion matrix => roc/auc curves => learning curve\n",
    "\n",
    "##### 5. Compare Against Sentiment Polarity Score"
   ]
  },
  {
   "cell_type": "code",
   "execution_count": 1,
   "id": "d8218a34",
   "metadata": {},
   "outputs": [
    {
     "name": "stderr",
     "output_type": "stream",
     "text": [
      "c:\\Users\\user\\AppData\\Local\\Programs\\Python\\Python310\\lib\\site-packages\\numpy\\_distributor_init.py:30: UserWarning: loaded more than 1 DLL from .libs:\n",
      "c:\\Users\\user\\AppData\\Local\\Programs\\Python\\Python310\\lib\\site-packages\\numpy\\.libs\\libopenblas.EL2C6PLE4ZYW3ECEVIV3OXXGRN2NRFM2.gfortran-win_amd64.dll\n",
      "c:\\Users\\user\\AppData\\Local\\Programs\\Python\\Python310\\lib\\site-packages\\numpy\\.libs\\libopenblas.FB5AE2TYXYH2IJRDKGDGQ3XBKLKTF43H.gfortran-win_amd64.dll\n",
      "  warnings.warn(\"loaded more than 1 DLL from .libs:\"\n"
     ]
    }
   ],
   "source": [
    "from all_libs_ml import *"
   ]
  },
  {
   "attachments": {},
   "cell_type": "markdown",
   "id": "2c510bd6",
   "metadata": {},
   "source": [
    "### 1. Basic Model Training and Vectorizer Testing"
   ]
  },
  {
   "cell_type": "code",
   "execution_count": 2,
   "id": "564a2a35",
   "metadata": {},
   "outputs": [],
   "source": [
    "df = pd.read_csv(\"../smaller_dataset/yelp coffee/raw_yelp_review_data_processed.csv\")"
   ]
  },
  {
   "attachments": {},
   "cell_type": "markdown",
   "id": "18a1cdf5",
   "metadata": {},
   "source": [
    "#### 1.1 Utility Functions"
   ]
  },
  {
   "cell_type": "code",
   "execution_count": 3,
   "id": "b032f5c4",
   "metadata": {},
   "outputs": [],
   "source": [
    "def create_train_test_split(X,y,vectorizer=False,test_size = 0.2):\n",
    "    x_train,x_test,y_train,y_test = train_test_split(X, y, test_size=test_size,stratify = y,random_state = 42)\n",
    "    if vectorizer:\n",
    "        vectorizer = vectorizer\n",
    "        x_train = vectorizer.fit_transform(x_train)\n",
    "        x_test = vectorizer.transform(x_test)\n",
    "    return x_train,x_test,y_train,y_test"
   ]
  },
  {
   "cell_type": "code",
   "execution_count": 4,
   "id": "4987f2c7",
   "metadata": {},
   "outputs": [],
   "source": [
    "def remove_stop_words(text):\n",
    "    tokens = nltk.word_tokenize(text)\n",
    "    stop_words = set(stopwords.words('english'))\n",
    "    tokens = [token for token in tokens if token.lower() not in stop_words]\n",
    "    return ' '.join(tokens)"
   ]
  },
  {
   "cell_type": "code",
   "execution_count": 5,
   "id": "154d9d1b",
   "metadata": {},
   "outputs": [],
   "source": [
    "def get_trained_model(classifier,x_train,x_test,y_train,y_test):\n",
    "    model = classifier\n",
    "    model.fit(x_train, y_train)\n",
    "    return model"
   ]
  },
  {
   "cell_type": "code",
   "execution_count": 6,
   "id": "b759ca8a",
   "metadata": {},
   "outputs": [],
   "source": [
    "def get_model_accuracies(model,x_train,x_test,y_train,y_test):\n",
    "    train_accuracy = model.score(x_train,y_train)\n",
    "    val_accuracy = model.score(x_test, y_test)\n",
    "    return ['{:.2f}%'.format(train_accuracy * 100),'{:.2f}%'.format(val_accuracy * 100)]"
   ]
  },
  {
   "cell_type": "code",
   "execution_count": 7,
   "id": "5b0fc29c",
   "metadata": {},
   "outputs": [],
   "source": [
    "def print_accuracies(accuracy_scores):\n",
    "    print(\"Training Accuracy:\" + accuracy_scores[0])\n",
    "    print(\"Testing Accuracy:\" + accuracy_scores[1])"
   ]
  },
  {
   "cell_type": "code",
   "execution_count": 8,
   "id": "19667941",
   "metadata": {},
   "outputs": [],
   "source": [
    "def adjust_xgb_labels(y_train,y_test):\n",
    "    y_train_xgb = [label - 1 for label in y_train]\n",
    "    y_valid_xgb = [label - 1 for label in y_test]\n",
    "    \n",
    "    return y_train_xgb,y_valid_xgb"
   ]
  },
  {
   "cell_type": "code",
   "execution_count": 9,
   "id": "0e60a56b",
   "metadata": {},
   "outputs": [],
   "source": [
    "def readjust_labels(y_train_xgb,y_test_xgb):\n",
    "    y_train = [label + 1 for label in y_train_xgb]\n",
    "    y_test = [label + 1 for label in y_test_xgb]\n",
    "    \n",
    "    return y_train,y_test"
   ]
  },
  {
   "cell_type": "code",
   "execution_count": 10,
   "id": "7d771701",
   "metadata": {},
   "outputs": [],
   "source": [
    "def show_classification_report(y_test,y_pred):\n",
    "    print(\"Classification Report = \\n \",metrics.classification_report(y_test,y_pred,zero_division=0))"
   ]
  },
  {
   "cell_type": "code",
   "execution_count": 11,
   "id": "d945ee69",
   "metadata": {},
   "outputs": [],
   "source": [
    "def show_conf_matrix(model, x_test, y_test):\n",
    "    y_pred = model.predict(x_test)\n",
    "    conf_matrix = confusion_matrix(y_test, y_pred, labels=model.classes_)\n",
    "    disp = ConfusionMatrixDisplay(confusion_matrix=conf_matrix,display_labels=model.classes_)\n",
    "    \n",
    "    disp.plot()\n",
    "    plt.show()"
   ]
  },
  {
   "cell_type": "code",
   "execution_count": 12,
   "id": "c0774969",
   "metadata": {},
   "outputs": [],
   "source": [
    "def get_roc_auc(y_pred, y_test):\n",
    "    # Since sklearn's roc/auc curve,\n",
    "    # functions do not work with multi-class problems, the classes will have to be manually binarized\n",
    "    roc_auc_dict = {}\n",
    "    unique_classes = set(y_test)\n",
    "    for per_class in unique_classes:\n",
    "        other_classes = [chosen_class for chosen_class in unique_classes if chosen_class != per_class]\n",
    "        #Binzarizing the classes\n",
    "        new_y_true = [0 if this_class in other_classes else 1 for this_class in y_test]\n",
    "        new_y_pred = [0 if that_class in other_classes else 1 for that_class in y_pred]\n",
    "    \n",
    "        roc_auc = roc_auc_score(new_y_true, new_y_pred, average = 'micro')\n",
    "        roc_auc_dict[per_class] = roc_auc\n",
    "        \n",
    "    print(\"ROC/AUC for each class: \\n\")\n",
    "    print(roc_auc_dict)\n",
    "    print(\"\\n\")"
   ]
  },
  {
   "cell_type": "code",
   "execution_count": 13,
   "id": "7088e011",
   "metadata": {},
   "outputs": [],
   "source": [
    "def show_learning_curve(model, X, y,cv = 5):\n",
    "    train_sizes_model, train_scores_model, valid_scores_model, *_ = learning_curve(model, X, y,cv=cv,\n",
    "                    scoring='accuracy',n_jobs=-1)\n",
    "    fig=plt.figure()\n",
    "    ax=fig.add_axes([0,0,1,1])\n",
    "    ax.scatter(x=train_sizes_model,y= train_scores_model.mean(axis=1), color='b')\n",
    "    ax.scatter(x=train_sizes_model,y=valid_scores_model.mean(axis=1), color='r')\n",
    "    ax.plot(train_sizes_model,train_scores_model.mean(axis=1), color='b')\n",
    "    ax.plot(train_sizes_model,valid_scores_model.mean(axis=1), color='r')\n",
    "    ax.set_xlabel('Training in blue, Testing in red')\n",
    "    ax.set_ylabel('Accuracy')\n",
    "    ax.set_title('Learning Curve')\n",
    "    plt.show()"
   ]
  },
  {
   "cell_type": "code",
   "execution_count": 14,
   "id": "c1786971",
   "metadata": {},
   "outputs": [],
   "source": [
    "def show_metrics(model,x_train,x_test,y_train,y_test,X,y):\n",
    "    show_conf_matrix(model, x_test, y_test)\n",
    "    get_roc_auc(y_pred, y_test)\n",
    "    show_classification_report(y_test,y_pred)\n",
    "    show_learning_curve(model, X, y)"
   ]
  },
  {
   "cell_type": "code",
   "execution_count": 15,
   "id": "e6448367",
   "metadata": {},
   "outputs": [],
   "source": [
    "def translate_labels(labels):\n",
    "    translated_labels = []\n",
    "    for label in labels:\n",
    "        if label > 3:\n",
    "            translated_labels.append('Positive Sentiment')\n",
    "        elif label < 3:\n",
    "            translated_labels.append('Negative Sentiment')\n",
    "        else:\n",
    "            translated_labels.append('Neutral Sentiment')\n",
    "    return translated_labels"
   ]
  },
  {
   "cell_type": "code",
   "execution_count": 16,
   "id": "4e7b0769",
   "metadata": {},
   "outputs": [],
   "source": [
    "def encode_sent(sentiments):\n",
    "    translated_labels = sentiments\n",
    "    encoded_sent = []\n",
    "    for label in translated_labels:\n",
    "        if label == 'Positive Sentiment':\n",
    "            encoded_sent.append(1)\n",
    "        elif label == 'Negative Sentiment':\n",
    "            encoded_sent.append(2)\n",
    "        else:\n",
    "            encoded_sent.append(3)\n",
    "    return encoded_sent"
   ]
  },
  {
   "attachments": {},
   "cell_type": "markdown",
   "id": "a8c932ed",
   "metadata": {},
   "source": [
    "#### 1.2 Removing Stop Words"
   ]
  },
  {
   "cell_type": "code",
   "execution_count": 17,
   "id": "fbd0aeed",
   "metadata": {},
   "outputs": [],
   "source": [
    "df['full_review_text'] = [remove_stop_words(text) for text in df['full_review_text']]"
   ]
  },
  {
   "attachments": {},
   "cell_type": "markdown",
   "id": "f88c1400",
   "metadata": {},
   "source": [
    "#### 1.3 Train-Test Split + Basic Model"
   ]
  },
  {
   "cell_type": "code",
   "execution_count": 18,
   "id": "a3001b63",
   "metadata": {},
   "outputs": [],
   "source": [
    "X = df['full_review_text']\n",
    "y = df['star_rating']\n",
    "combined_df = pd.concat([X, y], axis=1)"
   ]
  },
  {
   "cell_type": "code",
   "execution_count": 19,
   "id": "c25b79c8",
   "metadata": {},
   "outputs": [],
   "source": [
    "x_train_tfidf,x_test_tfidf,y_train,y_test = create_train_test_split(X,y,TfidfVectorizer())"
   ]
  },
  {
   "attachments": {},
   "cell_type": "markdown",
   "id": "c692f547",
   "metadata": {},
   "source": [
    "##### Decision Tree"
   ]
  },
  {
   "cell_type": "code",
   "execution_count": 20,
   "id": "f5c44f8e",
   "metadata": {},
   "outputs": [
    {
     "name": "stdout",
     "output_type": "stream",
     "text": [
      "Training Accuracy:100.00%\n",
      "Testing Accuracy:47.43%\n"
     ]
    }
   ],
   "source": [
    "model_DT = get_trained_model(DecisionTreeClassifier(),x_train_tfidf,x_test_tfidf,y_train,y_test)\n",
    "accuracy_scores = get_model_accuracies(model_DT,x_train_tfidf,x_test_tfidf,y_train,y_test)\n",
    "print_accuracies(accuracy_scores)"
   ]
  },
  {
   "attachments": {},
   "cell_type": "markdown",
   "id": "038ac3f0",
   "metadata": {},
   "source": [
    "##### Multinomial Naive Bayes"
   ]
  },
  {
   "cell_type": "code",
   "execution_count": 21,
   "id": "2d551afb",
   "metadata": {},
   "outputs": [
    {
     "name": "stdout",
     "output_type": "stream",
     "text": [
      "Training Accuracy:52.73%\n",
      "Testing Accuracy:50.11%\n"
     ]
    }
   ],
   "source": [
    "model_NB = get_trained_model(MultinomialNB(),x_train_tfidf,x_test_tfidf,y_train,y_test)\n",
    "accuracy_scores = get_model_accuracies(model_NB,x_train_tfidf,x_test_tfidf,y_train,y_test)\n",
    "print_accuracies(accuracy_scores)"
   ]
  },
  {
   "attachments": {},
   "cell_type": "markdown",
   "id": "48b749e8",
   "metadata": {},
   "source": [
    "### This result can be better..."
   ]
  },
  {
   "attachments": {},
   "cell_type": "markdown",
   "id": "d3965849",
   "metadata": {},
   "source": [
    "### 2. Data Processing"
   ]
  },
  {
   "cell_type": "code",
   "execution_count": 22,
   "id": "9aade812",
   "metadata": {
    "scrolled": false
   },
   "outputs": [
    {
     "data": {
      "image/png": "[encoded data removed]",
      "text/plain": [
       "<Figure size 432x288 with 1 Axes>"
      ]
     },
     "metadata": {},
     "output_type": "display_data"
    }
   ],
   "source": [
    "_, _, autotexts = plt.pie(y.value_counts(),colors = ['blue','green','red','black','orange'],labels = [1,2,3,4,5],autopct= '%1.1f%%')\n",
    "for autotext in autotexts:\n",
    "    autotext.set_color('white')"
   ]
  },
  {
   "attachments": {},
   "cell_type": "markdown",
   "id": "9d580040",
   "metadata": {},
   "source": [
    "### This dataset will be balanced using several different techniques."
   ]
  },
  {
   "attachments": {},
   "cell_type": "markdown",
   "id": "fed577d9",
   "metadata": {},
   "source": [
    "### 2.1 Data Resampling"
   ]
  },
  {
   "attachments": {},
   "cell_type": "markdown",
   "id": "f4cde7ac",
   "metadata": {},
   "source": [
    "#### Random Oversampling"
   ]
  },
  {
   "cell_type": "code",
   "execution_count": 23,
   "id": "d1415d97",
   "metadata": {},
   "outputs": [],
   "source": [
    "random_oversampler = RandomOverSampler(random_state=42)\n",
    "ro_x_tfidf,ro_y = random_oversampler.fit_resample(x_train_tfidf, y_train)"
   ]
  },
  {
   "cell_type": "code",
   "execution_count": 24,
   "id": "ee56e0fe",
   "metadata": {},
   "outputs": [
    {
     "data": {
      "text/plain": [
       "4    2757\n",
       "5    2757\n",
       "3    2757\n",
       "2    2757\n",
       "1    2757\n",
       "Name: star_rating, dtype: int64"
      ]
     },
     "execution_count": 24,
     "metadata": {},
     "output_type": "execute_result"
    }
   ],
   "source": [
    "ro_y.value_counts()"
   ]
  },
  {
   "attachments": {},
   "cell_type": "markdown",
   "id": "8f491da2",
   "metadata": {},
   "source": [
    "##### Decision Tree"
   ]
  },
  {
   "cell_type": "code",
   "execution_count": 25,
   "id": "3cd21f17",
   "metadata": {},
   "outputs": [
    {
     "name": "stdout",
     "output_type": "stream",
     "text": [
      "Training Accuracy:100.00%\n",
      "Testing Accuracy:45.19%\n"
     ]
    }
   ],
   "source": [
    "model_DT = get_trained_model(DecisionTreeClassifier(),ro_x_tfidf,x_test_tfidf,ro_y,y_test)\n",
    "accuracy_scores = get_model_accuracies(model_DT,ro_x_tfidf,x_test_tfidf,ro_y,y_test)\n",
    "print_accuracies(accuracy_scores)"
   ]
  },
  {
   "attachments": {},
   "cell_type": "markdown",
   "id": "3df66e28",
   "metadata": {},
   "source": [
    "##### Multinomial Naive Bayes"
   ]
  },
  {
   "cell_type": "code",
   "execution_count": 26,
   "id": "84cffa4e",
   "metadata": {},
   "outputs": [
    {
     "name": "stdout",
     "output_type": "stream",
     "text": [
      "Training Accuracy:90.98%\n",
      "Testing Accuracy:53.51%\n"
     ]
    }
   ],
   "source": [
    "model_NB = get_trained_model(MultinomialNB(),ro_x_tfidf,x_test_tfidf,ro_y,y_test)\n",
    "accuracy_scores = get_model_accuracies(model_NB,ro_x_tfidf,x_test_tfidf,ro_y,y_test)\n",
    "print_accuracies(accuracy_scores)"
   ]
  },
  {
   "attachments": {},
   "cell_type": "markdown",
   "id": "7f8f64bc",
   "metadata": {},
   "source": [
    "#### Random Undersampling"
   ]
  },
  {
   "cell_type": "code",
   "execution_count": 27,
   "id": "ac55a63d",
   "metadata": {},
   "outputs": [],
   "source": [
    "random_underSampler = RandomUnderSampler(random_state=42)\n",
    "ru_x_tfidf,ru_y = random_underSampler.fit_resample(x_train_tfidf, y_train)"
   ]
  },
  {
   "cell_type": "code",
   "execution_count": 28,
   "id": "616f5425",
   "metadata": {},
   "outputs": [
    {
     "data": {
      "text/plain": [
       "1    202\n",
       "2    202\n",
       "3    202\n",
       "4    202\n",
       "5    202\n",
       "Name: star_rating, dtype: int64"
      ]
     },
     "execution_count": 28,
     "metadata": {},
     "output_type": "execute_result"
    }
   ],
   "source": [
    "ru_y.value_counts()"
   ]
  },
  {
   "cell_type": "code",
   "execution_count": 29,
   "id": "cbdc22fd",
   "metadata": {},
   "outputs": [
    {
     "name": "stdout",
     "output_type": "stream",
     "text": [
      "Training Accuracy:97.13%\n",
      "Testing Accuracy:45.84%\n"
     ]
    }
   ],
   "source": [
    "model_NB = get_trained_model(MultinomialNB(),ru_x_tfidf,x_test_tfidf,ru_y,y_test)\n",
    "accuracy_scores = get_model_accuracies(model_NB,ru_x_tfidf,x_test_tfidf,ru_y,y_test)\n",
    "print_accuracies(accuracy_scores)"
   ]
  },
  {
   "attachments": {},
   "cell_type": "markdown",
   "id": "6fde487c",
   "metadata": {},
   "source": [
    "#### SMOTE"
   ]
  },
  {
   "cell_type": "code",
   "execution_count": 30,
   "id": "2a8ca470",
   "metadata": {},
   "outputs": [],
   "source": [
    "smote_resample = SMOTE(random_state=42)\n",
    "smote_x_tfidf,smote_y = smote_resample.fit_resample(x_train_tfidf, y_train)"
   ]
  },
  {
   "cell_type": "code",
   "execution_count": 31,
   "id": "cef225fe",
   "metadata": {},
   "outputs": [
    {
     "data": {
      "text/plain": [
       "4    2757\n",
       "5    2757\n",
       "3    2757\n",
       "2    2757\n",
       "1    2757\n",
       "Name: star_rating, dtype: int64"
      ]
     },
     "execution_count": 31,
     "metadata": {},
     "output_type": "execute_result"
    }
   ],
   "source": [
    "smote_y.value_counts()"
   ]
  },
  {
   "cell_type": "code",
   "execution_count": 32,
   "id": "a44aed76",
   "metadata": {},
   "outputs": [
    {
     "name": "stdout",
     "output_type": "stream",
     "text": [
      "Training Accuracy:90.82%\n",
      "Testing Accuracy:51.05%\n"
     ]
    }
   ],
   "source": [
    "model_NB = get_trained_model(MultinomialNB(),smote_x_tfidf,x_test_tfidf,smote_y,y_test)\n",
    "accuracy_scores = get_model_accuracies(model_NB,smote_x_tfidf,x_test_tfidf,smote_y,y_test)\n",
    "print_accuracies(accuracy_scores)"
   ]
  },
  {
   "attachments": {},
   "cell_type": "markdown",
   "id": "425b7176",
   "metadata": {},
   "source": [
    "### According to the accuracy results: Random Oversampling was the best method for data resampling using these basic parameters, and on TF-IDF."
   ]
  },
  {
   "attachments": {},
   "cell_type": "markdown",
   "id": "eed7d3de",
   "metadata": {},
   "source": [
    "### 2.2 Word Embeddings"
   ]
  },
  {
   "attachments": {},
   "cell_type": "markdown",
   "id": "f5edaaec",
   "metadata": {},
   "source": [
    "### Word2Vec (BoW)"
   ]
  },
  {
   "cell_type": "code",
   "execution_count": 33,
   "id": "d8af0314",
   "metadata": {},
   "outputs": [],
   "source": [
    "bow_vectorizer = CountVectorizer()\n",
    "bow_matrix = bow_vectorizer.fit_transform(X)\n",
    "bow_array = bow_matrix.toarray()\n",
    "bow_df = pd.DataFrame(data=bow_array,columns = bow_vectorizer.vocabulary_.keys())"
   ]
  },
  {
   "cell_type": "code",
   "execution_count": 34,
   "id": "3f2fe256",
   "metadata": {},
   "outputs": [
    {
     "data": {
      "text/html": [
       "<div>\n",
       "<style scoped>\n",
       "    .dataframe tbody tr th:only-of-type {\n",
       "        vertical-align: middle;\n",
       "    }\n",
       "\n",
       "    .dataframe tbody tr th {\n",
       "        vertical-align: top;\n",
       "    }\n",
       "\n",
       "    .dataframe thead th {\n",
       "        text-align: right;\n",
       "    }\n",
       "</style>\n",
       "<table border=\"1\" class=\"dataframe\">\n",
       "  <thead>\n",
       "    <tr style=\"text-align: right;\">\n",
       "      <th></th>\n",
       "      <th>love</th>\n",
       "      <th>loved</th>\n",
       "      <th>atmosphere</th>\n",
       "      <th>every</th>\n",
       "      <th>corner</th>\n",
       "      <th>coffee</th>\n",
       "      <th>shop</th>\n",
       "      <th>style</th>\n",
       "      <th>swing</th>\n",
       "      <th>ordered</th>\n",
       "      <th>...</th>\n",
       "      <th>deliciousand</th>\n",
       "      <th>rustica</th>\n",
       "      <th>romaine</th>\n",
       "      <th>predictably</th>\n",
       "      <th>roomier</th>\n",
       "      <th>windowed</th>\n",
       "      <th>actuality</th>\n",
       "      <th>crass</th>\n",
       "      <th>budha</th>\n",
       "      <th>digestion</th>\n",
       "    </tr>\n",
       "  </thead>\n",
       "  <tbody>\n",
       "    <tr>\n",
       "      <th>0</th>\n",
       "      <td>0</td>\n",
       "      <td>0</td>\n",
       "      <td>0</td>\n",
       "      <td>0</td>\n",
       "      <td>0</td>\n",
       "      <td>0</td>\n",
       "      <td>0</td>\n",
       "      <td>0</td>\n",
       "      <td>0</td>\n",
       "      <td>0</td>\n",
       "      <td>...</td>\n",
       "      <td>0</td>\n",
       "      <td>0</td>\n",
       "      <td>0</td>\n",
       "      <td>0</td>\n",
       "      <td>0</td>\n",
       "      <td>0</td>\n",
       "      <td>0</td>\n",
       "      <td>0</td>\n",
       "      <td>0</td>\n",
       "      <td>0</td>\n",
       "    </tr>\n",
       "    <tr>\n",
       "      <th>1</th>\n",
       "      <td>0</td>\n",
       "      <td>0</td>\n",
       "      <td>0</td>\n",
       "      <td>0</td>\n",
       "      <td>0</td>\n",
       "      <td>0</td>\n",
       "      <td>0</td>\n",
       "      <td>0</td>\n",
       "      <td>0</td>\n",
       "      <td>0</td>\n",
       "      <td>...</td>\n",
       "      <td>0</td>\n",
       "      <td>0</td>\n",
       "      <td>0</td>\n",
       "      <td>0</td>\n",
       "      <td>0</td>\n",
       "      <td>0</td>\n",
       "      <td>0</td>\n",
       "      <td>0</td>\n",
       "      <td>0</td>\n",
       "      <td>0</td>\n",
       "    </tr>\n",
       "    <tr>\n",
       "      <th>2</th>\n",
       "      <td>0</td>\n",
       "      <td>0</td>\n",
       "      <td>0</td>\n",
       "      <td>0</td>\n",
       "      <td>0</td>\n",
       "      <td>0</td>\n",
       "      <td>0</td>\n",
       "      <td>0</td>\n",
       "      <td>0</td>\n",
       "      <td>0</td>\n",
       "      <td>...</td>\n",
       "      <td>0</td>\n",
       "      <td>0</td>\n",
       "      <td>0</td>\n",
       "      <td>0</td>\n",
       "      <td>0</td>\n",
       "      <td>0</td>\n",
       "      <td>0</td>\n",
       "      <td>0</td>\n",
       "      <td>0</td>\n",
       "      <td>0</td>\n",
       "    </tr>\n",
       "    <tr>\n",
       "      <th>3</th>\n",
       "      <td>0</td>\n",
       "      <td>0</td>\n",
       "      <td>0</td>\n",
       "      <td>0</td>\n",
       "      <td>0</td>\n",
       "      <td>0</td>\n",
       "      <td>0</td>\n",
       "      <td>0</td>\n",
       "      <td>0</td>\n",
       "      <td>0</td>\n",
       "      <td>...</td>\n",
       "      <td>0</td>\n",
       "      <td>0</td>\n",
       "      <td>0</td>\n",
       "      <td>0</td>\n",
       "      <td>0</td>\n",
       "      <td>0</td>\n",
       "      <td>0</td>\n",
       "      <td>0</td>\n",
       "      <td>0</td>\n",
       "      <td>0</td>\n",
       "    </tr>\n",
       "    <tr>\n",
       "      <th>4</th>\n",
       "      <td>0</td>\n",
       "      <td>0</td>\n",
       "      <td>0</td>\n",
       "      <td>0</td>\n",
       "      <td>0</td>\n",
       "      <td>0</td>\n",
       "      <td>0</td>\n",
       "      <td>0</td>\n",
       "      <td>0</td>\n",
       "      <td>0</td>\n",
       "      <td>...</td>\n",
       "      <td>0</td>\n",
       "      <td>0</td>\n",
       "      <td>0</td>\n",
       "      <td>0</td>\n",
       "      <td>0</td>\n",
       "      <td>0</td>\n",
       "      <td>0</td>\n",
       "      <td>0</td>\n",
       "      <td>0</td>\n",
       "      <td>0</td>\n",
       "    </tr>\n",
       "  </tbody>\n",
       "</table>\n",
       "<p>5 rows × 18470 columns</p>\n",
       "</div>"
      ],
      "text/plain": [
       "   love  loved  atmosphere  every  corner  coffee  shop  style  swing  \\\n",
       "0     0      0           0      0       0       0     0      0      0   \n",
       "1     0      0           0      0       0       0     0      0      0   \n",
       "2     0      0           0      0       0       0     0      0      0   \n",
       "3     0      0           0      0       0       0     0      0      0   \n",
       "4     0      0           0      0       0       0     0      0      0   \n",
       "\n",
       "   ordered  ...  deliciousand  rustica  romaine  predictably  roomier  \\\n",
       "0        0  ...             0        0        0            0        0   \n",
       "1        0  ...             0        0        0            0        0   \n",
       "2        0  ...             0        0        0            0        0   \n",
       "3        0  ...             0        0        0            0        0   \n",
       "4        0  ...             0        0        0            0        0   \n",
       "\n",
       "   windowed  actuality  crass  budha  digestion  \n",
       "0         0          0      0      0          0  \n",
       "1         0          0      0      0          0  \n",
       "2         0          0      0      0          0  \n",
       "3         0          0      0      0          0  \n",
       "4         0          0      0      0          0  \n",
       "\n",
       "[5 rows x 18470 columns]"
      ]
     },
     "execution_count": 34,
     "metadata": {},
     "output_type": "execute_result"
    }
   ],
   "source": [
    "bow_df.head()"
   ]
  },
  {
   "cell_type": "code",
   "execution_count": 35,
   "id": "155ac7a0",
   "metadata": {
    "scrolled": false
   },
   "outputs": [
    {
     "data": {
      "text/plain": [
       "8"
      ]
     },
     "execution_count": 35,
     "metadata": {},
     "output_type": "execute_result"
    }
   ],
   "source": [
    "(bow_df['love'] != 0).sum()"
   ]
  },
  {
   "attachments": {},
   "cell_type": "markdown",
   "id": "cea3e262",
   "metadata": {},
   "source": [
    "### TF-IDF "
   ]
  },
  {
   "cell_type": "code",
   "execution_count": 36,
   "id": "25c6ebca",
   "metadata": {},
   "outputs": [],
   "source": [
    "tf_idf_vectorizer = TfidfVectorizer()\n",
    "tf_idf_matrix = tf_idf_vectorizer.fit_transform(X)\n",
    "tf_idf_array = tf_idf_matrix.toarray()\n",
    "tf_idf_df = pd.DataFrame(data=tf_idf_array,columns=tf_idf_vectorizer.vocabulary_.keys())"
   ]
  },
  {
   "cell_type": "code",
   "execution_count": 37,
   "id": "9a348d2a",
   "metadata": {},
   "outputs": [
    {
     "data": {
      "text/html": [
       "<div>\n",
       "<style scoped>\n",
       "    .dataframe tbody tr th:only-of-type {\n",
       "        vertical-align: middle;\n",
       "    }\n",
       "\n",
       "    .dataframe tbody tr th {\n",
       "        vertical-align: top;\n",
       "    }\n",
       "\n",
       "    .dataframe thead th {\n",
       "        text-align: right;\n",
       "    }\n",
       "</style>\n",
       "<table border=\"1\" class=\"dataframe\">\n",
       "  <thead>\n",
       "    <tr style=\"text-align: right;\">\n",
       "      <th></th>\n",
       "      <th>love</th>\n",
       "      <th>loved</th>\n",
       "      <th>atmosphere</th>\n",
       "      <th>every</th>\n",
       "      <th>corner</th>\n",
       "      <th>coffee</th>\n",
       "      <th>shop</th>\n",
       "      <th>style</th>\n",
       "      <th>swing</th>\n",
       "      <th>ordered</th>\n",
       "      <th>...</th>\n",
       "      <th>deliciousand</th>\n",
       "      <th>rustica</th>\n",
       "      <th>romaine</th>\n",
       "      <th>predictably</th>\n",
       "      <th>roomier</th>\n",
       "      <th>windowed</th>\n",
       "      <th>actuality</th>\n",
       "      <th>crass</th>\n",
       "      <th>budha</th>\n",
       "      <th>digestion</th>\n",
       "    </tr>\n",
       "  </thead>\n",
       "  <tbody>\n",
       "    <tr>\n",
       "      <th>0</th>\n",
       "      <td>0.0</td>\n",
       "      <td>0.0</td>\n",
       "      <td>0.0</td>\n",
       "      <td>0.0</td>\n",
       "      <td>0.0</td>\n",
       "      <td>0.0</td>\n",
       "      <td>0.0</td>\n",
       "      <td>0.0</td>\n",
       "      <td>0.0</td>\n",
       "      <td>0.0</td>\n",
       "      <td>...</td>\n",
       "      <td>0.0</td>\n",
       "      <td>0.0</td>\n",
       "      <td>0.0</td>\n",
       "      <td>0.0</td>\n",
       "      <td>0.0</td>\n",
       "      <td>0.0</td>\n",
       "      <td>0.0</td>\n",
       "      <td>0.0</td>\n",
       "      <td>0.0</td>\n",
       "      <td>0.0</td>\n",
       "    </tr>\n",
       "    <tr>\n",
       "      <th>1</th>\n",
       "      <td>0.0</td>\n",
       "      <td>0.0</td>\n",
       "      <td>0.0</td>\n",
       "      <td>0.0</td>\n",
       "      <td>0.0</td>\n",
       "      <td>0.0</td>\n",
       "      <td>0.0</td>\n",
       "      <td>0.0</td>\n",
       "      <td>0.0</td>\n",
       "      <td>0.0</td>\n",
       "      <td>...</td>\n",
       "      <td>0.0</td>\n",
       "      <td>0.0</td>\n",
       "      <td>0.0</td>\n",
       "      <td>0.0</td>\n",
       "      <td>0.0</td>\n",
       "      <td>0.0</td>\n",
       "      <td>0.0</td>\n",
       "      <td>0.0</td>\n",
       "      <td>0.0</td>\n",
       "      <td>0.0</td>\n",
       "    </tr>\n",
       "    <tr>\n",
       "      <th>2</th>\n",
       "      <td>0.0</td>\n",
       "      <td>0.0</td>\n",
       "      <td>0.0</td>\n",
       "      <td>0.0</td>\n",
       "      <td>0.0</td>\n",
       "      <td>0.0</td>\n",
       "      <td>0.0</td>\n",
       "      <td>0.0</td>\n",
       "      <td>0.0</td>\n",
       "      <td>0.0</td>\n",
       "      <td>...</td>\n",
       "      <td>0.0</td>\n",
       "      <td>0.0</td>\n",
       "      <td>0.0</td>\n",
       "      <td>0.0</td>\n",
       "      <td>0.0</td>\n",
       "      <td>0.0</td>\n",
       "      <td>0.0</td>\n",
       "      <td>0.0</td>\n",
       "      <td>0.0</td>\n",
       "      <td>0.0</td>\n",
       "    </tr>\n",
       "    <tr>\n",
       "      <th>3</th>\n",
       "      <td>0.0</td>\n",
       "      <td>0.0</td>\n",
       "      <td>0.0</td>\n",
       "      <td>0.0</td>\n",
       "      <td>0.0</td>\n",
       "      <td>0.0</td>\n",
       "      <td>0.0</td>\n",
       "      <td>0.0</td>\n",
       "      <td>0.0</td>\n",
       "      <td>0.0</td>\n",
       "      <td>...</td>\n",
       "      <td>0.0</td>\n",
       "      <td>0.0</td>\n",
       "      <td>0.0</td>\n",
       "      <td>0.0</td>\n",
       "      <td>0.0</td>\n",
       "      <td>0.0</td>\n",
       "      <td>0.0</td>\n",
       "      <td>0.0</td>\n",
       "      <td>0.0</td>\n",
       "      <td>0.0</td>\n",
       "    </tr>\n",
       "    <tr>\n",
       "      <th>4</th>\n",
       "      <td>0.0</td>\n",
       "      <td>0.0</td>\n",
       "      <td>0.0</td>\n",
       "      <td>0.0</td>\n",
       "      <td>0.0</td>\n",
       "      <td>0.0</td>\n",
       "      <td>0.0</td>\n",
       "      <td>0.0</td>\n",
       "      <td>0.0</td>\n",
       "      <td>0.0</td>\n",
       "      <td>...</td>\n",
       "      <td>0.0</td>\n",
       "      <td>0.0</td>\n",
       "      <td>0.0</td>\n",
       "      <td>0.0</td>\n",
       "      <td>0.0</td>\n",
       "      <td>0.0</td>\n",
       "      <td>0.0</td>\n",
       "      <td>0.0</td>\n",
       "      <td>0.0</td>\n",
       "      <td>0.0</td>\n",
       "    </tr>\n",
       "  </tbody>\n",
       "</table>\n",
       "<p>5 rows × 18470 columns</p>\n",
       "</div>"
      ],
      "text/plain": [
       "   love  loved  atmosphere  every  corner  coffee  shop  style  swing  \\\n",
       "0   0.0    0.0         0.0    0.0     0.0     0.0   0.0    0.0    0.0   \n",
       "1   0.0    0.0         0.0    0.0     0.0     0.0   0.0    0.0    0.0   \n",
       "2   0.0    0.0         0.0    0.0     0.0     0.0   0.0    0.0    0.0   \n",
       "3   0.0    0.0         0.0    0.0     0.0     0.0   0.0    0.0    0.0   \n",
       "4   0.0    0.0         0.0    0.0     0.0     0.0   0.0    0.0    0.0   \n",
       "\n",
       "   ordered  ...  deliciousand  rustica  romaine  predictably  roomier  \\\n",
       "0      0.0  ...           0.0      0.0      0.0          0.0      0.0   \n",
       "1      0.0  ...           0.0      0.0      0.0          0.0      0.0   \n",
       "2      0.0  ...           0.0      0.0      0.0          0.0      0.0   \n",
       "3      0.0  ...           0.0      0.0      0.0          0.0      0.0   \n",
       "4      0.0  ...           0.0      0.0      0.0          0.0      0.0   \n",
       "\n",
       "   windowed  actuality  crass  budha  digestion  \n",
       "0       0.0        0.0    0.0    0.0        0.0  \n",
       "1       0.0        0.0    0.0    0.0        0.0  \n",
       "2       0.0        0.0    0.0    0.0        0.0  \n",
       "3       0.0        0.0    0.0    0.0        0.0  \n",
       "4       0.0        0.0    0.0    0.0        0.0  \n",
       "\n",
       "[5 rows x 18470 columns]"
      ]
     },
     "execution_count": 37,
     "metadata": {},
     "output_type": "execute_result"
    }
   ],
   "source": [
    "tf_idf_df.head()"
   ]
  },
  {
   "cell_type": "code",
   "execution_count": 38,
   "id": "3619b268",
   "metadata": {
    "scrolled": true
   },
   "outputs": [
    {
     "data": {
      "text/plain": [
       "8"
      ]
     },
     "execution_count": 38,
     "metadata": {},
     "output_type": "execute_result"
    }
   ],
   "source": [
    "(tf_idf_df['love'] != 0).sum()"
   ]
  },
  {
   "attachments": {},
   "cell_type": "markdown",
   "id": "cc1f9003",
   "metadata": {},
   "source": [
    "### Word2Vec vs TF-IDF (with Random Resampling)"
   ]
  },
  {
   "attachments": {},
   "cell_type": "markdown",
   "id": "37b0cd49",
   "metadata": {},
   "source": [
    "##### Word2Vec"
   ]
  },
  {
   "attachments": {},
   "cell_type": "markdown",
   "id": "0ca52be7",
   "metadata": {},
   "source": [
    "##### Random Oversampler"
   ]
  },
  {
   "cell_type": "code",
   "execution_count": 39,
   "id": "c4cfe20f",
   "metadata": {},
   "outputs": [],
   "source": [
    "random_oversampler = RandomOverSampler(random_state=42)"
   ]
  },
  {
   "cell_type": "code",
   "execution_count": 40,
   "id": "77f1df83",
   "metadata": {},
   "outputs": [],
   "source": [
    "x_train_bow,x_test_bow,y_train,y_test = create_train_test_split(X,y,vectorizer=bow_vectorizer)"
   ]
  },
  {
   "cell_type": "code",
   "execution_count": 41,
   "id": "e17baa65",
   "metadata": {},
   "outputs": [
    {
     "name": "stdout",
     "output_type": "stream",
     "text": [
      "Training Accuracy:90.69%\n",
      "Testing Accuracy:56.40%\n"
     ]
    }
   ],
   "source": [
    "ro_x_bow,ro_y = random_oversampler.fit_resample(x_train_bow, y_train)\n",
    "\n",
    "\n",
    "model_NB = get_trained_model(MultinomialNB(),ro_x_bow,x_test_bow,ro_y,y_test)\n",
    "accuracy_scores = get_model_accuracies(model_NB,ro_x_bow,x_test_bow,ro_y,y_test)\n",
    "print_accuracies(accuracy_scores)"
   ]
  },
  {
   "cell_type": "code",
   "execution_count": 42,
   "id": "4d56d0e9",
   "metadata": {},
   "outputs": [
    {
     "name": "stdout",
     "output_type": "stream",
     "text": [
      "MNNB Classification Report = \n",
      "                precision    recall  f1-score   support\n",
      "\n",
      "           1       0.53      0.45      0.49        51\n",
      "           2       0.26      0.25      0.25        81\n",
      "           3       0.29      0.37      0.32       134\n",
      "           4       0.47      0.50      0.49       428\n",
      "           5       0.74      0.69      0.71       689\n",
      "\n",
      "    accuracy                           0.56      1383\n",
      "   macro avg       0.46      0.45      0.45      1383\n",
      "weighted avg       0.58      0.56      0.57      1383\n",
      "\n"
     ]
    }
   ],
   "source": [
    "y_pred = model_NB.predict(x_test_bow)\n",
    "print(\"MNNB Classification Report = \\n \",metrics.classification_report(y_test,y_pred))"
   ]
  },
  {
   "attachments": {},
   "cell_type": "markdown",
   "id": "956c08f3",
   "metadata": {},
   "source": [
    "##### TF-IDF"
   ]
  },
  {
   "cell_type": "code",
   "execution_count": 43,
   "id": "f25f6aa9",
   "metadata": {},
   "outputs": [
    {
     "name": "stdout",
     "output_type": "stream",
     "text": [
      "Training Accuracy:90.98%\n",
      "Testing Accuracy:53.51%\n"
     ]
    }
   ],
   "source": [
    "x_train_tfidf,x_test_tfidf,y_train,y_test = create_train_test_split(X,y,vectorizer=TfidfVectorizer())\n",
    "ro_x_tfidf,ro_y = random_oversampler.fit_resample(x_train_tfidf, y_train)\n",
    "\n",
    "model_NB = get_trained_model(MultinomialNB(),ro_x_tfidf,x_test_tfidf,ro_y,y_test)\n",
    "accuracy_scores = get_model_accuracies(model_NB,ro_x_tfidf,x_test_tfidf,ro_y,y_test)\n",
    "print_accuracies(accuracy_scores)"
   ]
  },
  {
   "attachments": {},
   "cell_type": "markdown",
   "id": "fbccb6cf",
   "metadata": {},
   "source": [
    "### Based on the previous results: Word2Vec Outperformed TF-IDF"
   ]
  },
  {
   "attachments": {},
   "cell_type": "markdown",
   "id": "a57e3f9d",
   "metadata": {},
   "source": [
    "### Word2Vec vs TF-IDF (Optimization)"
   ]
  },
  {
   "cell_type": "code",
   "execution_count": 44,
   "id": "acebd618",
   "metadata": {},
   "outputs": [],
   "source": [
    "embed_cv = 5"
   ]
  },
  {
   "cell_type": "code",
   "execution_count": 45,
   "id": "65670122",
   "metadata": {},
   "outputs": [],
   "source": [
    "x_train, x_test, y_train, y_test = create_train_test_split(X, y, test_size=0.2)"
   ]
  },
  {
   "cell_type": "code",
   "execution_count": 46,
   "id": "ed876a45",
   "metadata": {},
   "outputs": [],
   "source": [
    "w2v_pipeline = Pipeline([\n",
    "    ('vect', CountVectorizer()),\n",
    "    ('clf', MultinomialNB())\n",
    "])"
   ]
  },
  {
   "cell_type": "code",
   "execution_count": 47,
   "id": "a643f840",
   "metadata": {},
   "outputs": [],
   "source": [
    "tfidf_pipeline = Pipeline([\n",
    "    ('vect', TfidfVectorizer()),\n",
    "    ('clf', MultinomialNB())\n",
    "])"
   ]
  },
  {
   "cell_type": "code",
   "execution_count": 48,
   "id": "13db417c",
   "metadata": {},
   "outputs": [],
   "source": [
    "w2v_params = {\n",
    "    'vect__ngram_range': [(1,1), (1,2), (2,2)],\n",
    "}"
   ]
  },
  {
   "cell_type": "code",
   "execution_count": 49,
   "id": "3d41eccf",
   "metadata": {},
   "outputs": [],
   "source": [
    "tfidf_params = {\n",
    "    'vect__ngram_range': [(1,1), (1,2), (2,2)],\n",
    "}"
   ]
  },
  {
   "cell_type": "code",
   "execution_count": 50,
   "id": "dff4aa6e",
   "metadata": {},
   "outputs": [
    {
     "data": {
      "text/html": [
       "<style>#sk-container-id-1 {color: black;background-color: white;}#sk-container-id-1 pre{padding: 0;}#sk-container-id-1 div.sk-toggleable {background-color: white;}#sk-container-id-1 label.sk-toggleable__label {cursor: pointer;display: block;width: 100%;margin-bottom: 0;padding: 0.3em;box-sizing: border-box;text-align: center;}#sk-container-id-1 label.sk-toggleable__label-arrow:before {content: \"▸\";float: left;margin-right: 0.25em;color: #696969;}#sk-container-id-1 label.sk-toggleable__label-arrow:hover:before {color: black;}#sk-container-id-1 div.sk-estimator:hover label.sk-toggleable__label-arrow:before {color: black;}#sk-container-id-1 div.sk-toggleable__content {max-height: 0;max-width: 0;overflow: hidden;text-align: left;background-color: #f0f8ff;}#sk-container-id-1 div.sk-toggleable__content pre {margin: 0.2em;color: black;border-radius: 0.25em;background-color: #f0f8ff;}#sk-container-id-1 input.sk-toggleable__control:checked~div.sk-toggleable__content {max-height: 200px;max-width: 100%;overflow: auto;}#sk-container-id-1 input.sk-toggleable__control:checked~label.sk-toggleable__label-arrow:before {content: \"▾\";}#sk-container-id-1 div.sk-estimator input.sk-toggleable__control:checked~label.sk-toggleable__label {background-color: #d4ebff;}#sk-container-id-1 div.sk-label input.sk-toggleable__control:checked~label.sk-toggleable__label {background-color: #d4ebff;}#sk-container-id-1 input.sk-hidden--visually {border: 0;clip: rect(1px 1px 1px 1px);clip: rect(1px, 1px, 1px, 1px);height: 1px;margin: -1px;overflow: hidden;padding: 0;position: absolute;width: 1px;}#sk-container-id-1 div.sk-estimator {font-family: monospace;background-color: #f0f8ff;border: 1px dotted black;border-radius: 0.25em;box-sizing: border-box;margin-bottom: 0.5em;}#sk-container-id-1 div.sk-estimator:hover {background-color: #d4ebff;}#sk-container-id-1 div.sk-parallel-item::after {content: \"\";width: 100%;border-bottom: 1px solid gray;flex-grow: 1;}#sk-container-id-1 div.sk-label:hover label.sk-toggleable__label {background-color: #d4ebff;}#sk-container-id-1 div.sk-serial::before {content: \"\";position: absolute;border-left: 1px solid gray;box-sizing: border-box;top: 0;bottom: 0;left: 50%;z-index: 0;}#sk-container-id-1 div.sk-serial {display: flex;flex-direction: column;align-items: center;background-color: white;padding-right: 0.2em;padding-left: 0.2em;position: relative;}#sk-container-id-1 div.sk-item {position: relative;z-index: 1;}#sk-container-id-1 div.sk-parallel {display: flex;align-items: stretch;justify-content: center;background-color: white;position: relative;}#sk-container-id-1 div.sk-item::before, #sk-container-id-1 div.sk-parallel-item::before {content: \"\";position: absolute;border-left: 1px solid gray;box-sizing: border-box;top: 0;bottom: 0;left: 50%;z-index: -1;}#sk-container-id-1 div.sk-parallel-item {display: flex;flex-direction: column;z-index: 1;position: relative;background-color: white;}#sk-container-id-1 div.sk-parallel-item:first-child::after {align-self: flex-end;width: 50%;}#sk-container-id-1 div.sk-parallel-item:last-child::after {align-self: flex-start;width: 50%;}#sk-container-id-1 div.sk-parallel-item:only-child::after {width: 0;}#sk-container-id-1 div.sk-dashed-wrapped {border: 1px dashed gray;margin: 0 0.4em 0.5em 0.4em;box-sizing: border-box;padding-bottom: 0.4em;background-color: white;}#sk-container-id-1 div.sk-label label {font-family: monospace;font-weight: bold;display: inline-block;line-height: 1.2em;}#sk-container-id-1 div.sk-label-container {text-align: center;}#sk-container-id-1 div.sk-container {/* jupyter's `normalize.less` sets `[hidden] { display: none; }` but bootstrap.min.css set `[hidden] { display: none !important; }` so we also need the `!important` here to be able to override the default hidden behavior on the sphinx rendered scikit-learn.org. See: https://github.com/scikit-learn/scikit-learn/issues/21755 */display: inline-block !important;position: relative;}#sk-container-id-1 div.sk-text-repr-fallback {display: none;}</style><div id=\"sk-container-id-1\" class=\"sk-top-container\"><div class=\"sk-text-repr-fallback\"><pre>GridSearchCV(cv=5,\n",
       "             estimator=Pipeline(steps=[(&#x27;vect&#x27;, CountVectorizer()),\n",
       "                                       (&#x27;clf&#x27;, MultinomialNB())]),\n",
       "             n_jobs=-1,\n",
       "             param_grid={&#x27;vect__ngram_range&#x27;: [(1, 1), (1, 2), (2, 2)]})</pre><b>In a Jupyter environment, please rerun this cell to show the HTML representation or trust the notebook. <br />On GitHub, the HTML representation is unable to render, please try loading this page with nbviewer.org.</b></div><div class=\"sk-container\" hidden><div class=\"sk-item sk-dashed-wrapped\"><div class=\"sk-label-container\"><div class=\"sk-label sk-toggleable\"><input class=\"sk-toggleable__control sk-hidden--visually\" id=\"sk-estimator-id-1\" type=\"checkbox\" ><label for=\"sk-estimator-id-1\" class=\"sk-toggleable__label sk-toggleable__label-arrow\">GridSearchCV</label><div class=\"sk-toggleable__content\"><pre>GridSearchCV(cv=5,\n",
       "             estimator=Pipeline(steps=[(&#x27;vect&#x27;, CountVectorizer()),\n",
       "                                       (&#x27;clf&#x27;, MultinomialNB())]),\n",
       "             n_jobs=-1,\n",
       "             param_grid={&#x27;vect__ngram_range&#x27;: [(1, 1), (1, 2), (2, 2)]})</pre></div></div></div><div class=\"sk-parallel\"><div class=\"sk-parallel-item\"><div class=\"sk-item\"><div class=\"sk-label-container\"><div class=\"sk-label sk-toggleable\"><input class=\"sk-toggleable__control sk-hidden--visually\" id=\"sk-estimator-id-2\" type=\"checkbox\" ><label for=\"sk-estimator-id-2\" class=\"sk-toggleable__label sk-toggleable__label-arrow\">estimator: Pipeline</label><div class=\"sk-toggleable__content\"><pre>Pipeline(steps=[(&#x27;vect&#x27;, CountVectorizer()), (&#x27;clf&#x27;, MultinomialNB())])</pre></div></div></div><div class=\"sk-serial\"><div class=\"sk-item\"><div class=\"sk-serial\"><div class=\"sk-item\"><div class=\"sk-estimator sk-toggleable\"><input class=\"sk-toggleable__control sk-hidden--visually\" id=\"sk-estimator-id-3\" type=\"checkbox\" ><label for=\"sk-estimator-id-3\" class=\"sk-toggleable__label sk-toggleable__label-arrow\">CountVectorizer</label><div class=\"sk-toggleable__content\"><pre>CountVectorizer()</pre></div></div></div><div class=\"sk-item\"><div class=\"sk-estimator sk-toggleable\"><input class=\"sk-toggleable__control sk-hidden--visually\" id=\"sk-estimator-id-4\" type=\"checkbox\" ><label for=\"sk-estimator-id-4\" class=\"sk-toggleable__label sk-toggleable__label-arrow\">MultinomialNB</label><div class=\"sk-toggleable__content\"><pre>MultinomialNB()</pre></div></div></div></div></div></div></div></div></div></div></div></div>"
      ],
      "text/plain": [
       "GridSearchCV(cv=5,\n",
       "             estimator=Pipeline(steps=[('vect', CountVectorizer()),\n",
       "                                       ('clf', MultinomialNB())]),\n",
       "             n_jobs=-1,\n",
       "             param_grid={'vect__ngram_range': [(1, 1), (1, 2), (2, 2)]})"
      ]
     },
     "execution_count": 50,
     "metadata": {},
     "output_type": "execute_result"
    }
   ],
   "source": [
    "count_grid_search = GridSearchCV(w2v_pipeline, param_grid=w2v_params, cv=embed_cv, n_jobs=-1)\n",
    "count_grid_search.fit(x_train, y_train)"
   ]
  },
  {
   "cell_type": "code",
   "execution_count": 51,
   "id": "20f6949a",
   "metadata": {},
   "outputs": [
    {
     "data": {
      "text/html": [
       "<style>#sk-container-id-2 {color: black;background-color: white;}#sk-container-id-2 pre{padding: 0;}#sk-container-id-2 div.sk-toggleable {background-color: white;}#sk-container-id-2 label.sk-toggleable__label {cursor: pointer;display: block;width: 100%;margin-bottom: 0;padding: 0.3em;box-sizing: border-box;text-align: center;}#sk-container-id-2 label.sk-toggleable__label-arrow:before {content: \"▸\";float: left;margin-right: 0.25em;color: #696969;}#sk-container-id-2 label.sk-toggleable__label-arrow:hover:before {color: black;}#sk-container-id-2 div.sk-estimator:hover label.sk-toggleable__label-arrow:before {color: black;}#sk-container-id-2 div.sk-toggleable__content {max-height: 0;max-width: 0;overflow: hidden;text-align: left;background-color: #f0f8ff;}#sk-container-id-2 div.sk-toggleable__content pre {margin: 0.2em;color: black;border-radius: 0.25em;background-color: #f0f8ff;}#sk-container-id-2 input.sk-toggleable__control:checked~div.sk-toggleable__content {max-height: 200px;max-width: 100%;overflow: auto;}#sk-container-id-2 input.sk-toggleable__control:checked~label.sk-toggleable__label-arrow:before {content: \"▾\";}#sk-container-id-2 div.sk-estimator input.sk-toggleable__control:checked~label.sk-toggleable__label {background-color: #d4ebff;}#sk-container-id-2 div.sk-label input.sk-toggleable__control:checked~label.sk-toggleable__label {background-color: #d4ebff;}#sk-container-id-2 input.sk-hidden--visually {border: 0;clip: rect(1px 1px 1px 1px);clip: rect(1px, 1px, 1px, 1px);height: 1px;margin: -1px;overflow: hidden;padding: 0;position: absolute;width: 1px;}#sk-container-id-2 div.sk-estimator {font-family: monospace;background-color: #f0f8ff;border: 1px dotted black;border-radius: 0.25em;box-sizing: border-box;margin-bottom: 0.5em;}#sk-container-id-2 div.sk-estimator:hover {background-color: #d4ebff;}#sk-container-id-2 div.sk-parallel-item::after {content: \"\";width: 100%;border-bottom: 1px solid gray;flex-grow: 1;}#sk-container-id-2 div.sk-label:hover label.sk-toggleable__label {background-color: #d4ebff;}#sk-container-id-2 div.sk-serial::before {content: \"\";position: absolute;border-left: 1px solid gray;box-sizing: border-box;top: 0;bottom: 0;left: 50%;z-index: 0;}#sk-container-id-2 div.sk-serial {display: flex;flex-direction: column;align-items: center;background-color: white;padding-right: 0.2em;padding-left: 0.2em;position: relative;}#sk-container-id-2 div.sk-item {position: relative;z-index: 1;}#sk-container-id-2 div.sk-parallel {display: flex;align-items: stretch;justify-content: center;background-color: white;position: relative;}#sk-container-id-2 div.sk-item::before, #sk-container-id-2 div.sk-parallel-item::before {content: \"\";position: absolute;border-left: 1px solid gray;box-sizing: border-box;top: 0;bottom: 0;left: 50%;z-index: -1;}#sk-container-id-2 div.sk-parallel-item {display: flex;flex-direction: column;z-index: 1;position: relative;background-color: white;}#sk-container-id-2 div.sk-parallel-item:first-child::after {align-self: flex-end;width: 50%;}#sk-container-id-2 div.sk-parallel-item:last-child::after {align-self: flex-start;width: 50%;}#sk-container-id-2 div.sk-parallel-item:only-child::after {width: 0;}#sk-container-id-2 div.sk-dashed-wrapped {border: 1px dashed gray;margin: 0 0.4em 0.5em 0.4em;box-sizing: border-box;padding-bottom: 0.4em;background-color: white;}#sk-container-id-2 div.sk-label label {font-family: monospace;font-weight: bold;display: inline-block;line-height: 1.2em;}#sk-container-id-2 div.sk-label-container {text-align: center;}#sk-container-id-2 div.sk-container {/* jupyter's `normalize.less` sets `[hidden] { display: none; }` but bootstrap.min.css set `[hidden] { display: none !important; }` so we also need the `!important` here to be able to override the default hidden behavior on the sphinx rendered scikit-learn.org. See: https://github.com/scikit-learn/scikit-learn/issues/21755 */display: inline-block !important;position: relative;}#sk-container-id-2 div.sk-text-repr-fallback {display: none;}</style><div id=\"sk-container-id-2\" class=\"sk-top-container\"><div class=\"sk-text-repr-fallback\"><pre>GridSearchCV(cv=5,\n",
       "             estimator=Pipeline(steps=[(&#x27;vect&#x27;, TfidfVectorizer()),\n",
       "                                       (&#x27;clf&#x27;, MultinomialNB())]),\n",
       "             n_jobs=-1,\n",
       "             param_grid={&#x27;vect__ngram_range&#x27;: [(1, 1), (1, 2), (2, 2)]})</pre><b>In a Jupyter environment, please rerun this cell to show the HTML representation or trust the notebook. <br />On GitHub, the HTML representation is unable to render, please try loading this page with nbviewer.org.</b></div><div class=\"sk-container\" hidden><div class=\"sk-item sk-dashed-wrapped\"><div class=\"sk-label-container\"><div class=\"sk-label sk-toggleable\"><input class=\"sk-toggleable__control sk-hidden--visually\" id=\"sk-estimator-id-5\" type=\"checkbox\" ><label for=\"sk-estimator-id-5\" class=\"sk-toggleable__label sk-toggleable__label-arrow\">GridSearchCV</label><div class=\"sk-toggleable__content\"><pre>GridSearchCV(cv=5,\n",
       "             estimator=Pipeline(steps=[(&#x27;vect&#x27;, TfidfVectorizer()),\n",
       "                                       (&#x27;clf&#x27;, MultinomialNB())]),\n",
       "             n_jobs=-1,\n",
       "             param_grid={&#x27;vect__ngram_range&#x27;: [(1, 1), (1, 2), (2, 2)]})</pre></div></div></div><div class=\"sk-parallel\"><div class=\"sk-parallel-item\"><div class=\"sk-item\"><div class=\"sk-label-container\"><div class=\"sk-label sk-toggleable\"><input class=\"sk-toggleable__control sk-hidden--visually\" id=\"sk-estimator-id-6\" type=\"checkbox\" ><label for=\"sk-estimator-id-6\" class=\"sk-toggleable__label sk-toggleable__label-arrow\">estimator: Pipeline</label><div class=\"sk-toggleable__content\"><pre>Pipeline(steps=[(&#x27;vect&#x27;, TfidfVectorizer()), (&#x27;clf&#x27;, MultinomialNB())])</pre></div></div></div><div class=\"sk-serial\"><div class=\"sk-item\"><div class=\"sk-serial\"><div class=\"sk-item\"><div class=\"sk-estimator sk-toggleable\"><input class=\"sk-toggleable__control sk-hidden--visually\" id=\"sk-estimator-id-7\" type=\"checkbox\" ><label for=\"sk-estimator-id-7\" class=\"sk-toggleable__label sk-toggleable__label-arrow\">TfidfVectorizer</label><div class=\"sk-toggleable__content\"><pre>TfidfVectorizer()</pre></div></div></div><div class=\"sk-item\"><div class=\"sk-estimator sk-toggleable\"><input class=\"sk-toggleable__control sk-hidden--visually\" id=\"sk-estimator-id-8\" type=\"checkbox\" ><label for=\"sk-estimator-id-8\" class=\"sk-toggleable__label sk-toggleable__label-arrow\">MultinomialNB</label><div class=\"sk-toggleable__content\"><pre>MultinomialNB()</pre></div></div></div></div></div></div></div></div></div></div></div></div>"
      ],
      "text/plain": [
       "GridSearchCV(cv=5,\n",
       "             estimator=Pipeline(steps=[('vect', TfidfVectorizer()),\n",
       "                                       ('clf', MultinomialNB())]),\n",
       "             n_jobs=-1,\n",
       "             param_grid={'vect__ngram_range': [(1, 1), (1, 2), (2, 2)]})"
      ]
     },
     "execution_count": 51,
     "metadata": {},
     "output_type": "execute_result"
    }
   ],
   "source": [
    "tfidf_grid_search = GridSearchCV(tfidf_pipeline, param_grid=tfidf_params, cv=embed_cv, n_jobs=-1)\n",
    "tfidf_grid_search.fit(x_train, y_train)"
   ]
  },
  {
   "cell_type": "code",
   "execution_count": 52,
   "id": "01ce40c5",
   "metadata": {},
   "outputs": [
    {
     "name": "stdout",
     "output_type": "stream",
     "text": [
      "Word2Vec best parameters:  {'vect__ngram_range': (1, 1)}\n",
      "Word2Vec best score:  0.5703238147511072\n"
     ]
    }
   ],
   "source": [
    "print(\"Word2Vec best parameters: \", count_grid_search.best_params_)\n",
    "print(\"Word2Vec best score: \", count_grid_search.best_score_)"
   ]
  },
  {
   "cell_type": "code",
   "execution_count": 53,
   "id": "a712d417",
   "metadata": {},
   "outputs": [
    {
     "name": "stdout",
     "output_type": "stream",
     "text": [
      "TF-IDF best parameters:  {'vect__ngram_range': (1, 1)}\n",
      "TF-IDF best score:  0.5005423321261543\n"
     ]
    }
   ],
   "source": [
    "print(\"TF-IDF best parameters: \", tfidf_grid_search.best_params_)\n",
    "print(\"TF-IDF best score: \", tfidf_grid_search.best_score_)"
   ]
  },
  {
   "attachments": {},
   "cell_type": "markdown",
   "id": "2278f968",
   "metadata": {},
   "source": [
    "### Based on the previous results: Word2Vec once again outperforms TF-IDF"
   ]
  },
  {
   "attachments": {},
   "cell_type": "markdown",
   "id": "f2f64693",
   "metadata": {},
   "source": [
    "### Overall, for this specific dataset, and model, Word2Vec is a better choice."
   ]
  },
  {
   "cell_type": "code",
   "execution_count": 54,
   "id": "3f737df7",
   "metadata": {},
   "outputs": [],
   "source": [
    "bow_vectorizer = CountVectorizer(\n",
    "    ngram_range = count_grid_search.best_params_['vect__ngram_range'],\n",
    "    encoding = 'utf-8',\n",
    "    binary=False)\n",
    "x_train_bow,x_test_bow,y_train,y_test = create_train_test_split(X,y,vectorizer=bow_vectorizer)"
   ]
  },
  {
   "attachments": {},
   "cell_type": "markdown",
   "id": "136cb5c1",
   "metadata": {},
   "source": [
    "### Now, the next step is to find the best resampling technique for Word2Vec"
   ]
  },
  {
   "attachments": {},
   "cell_type": "markdown",
   "id": "428b2260",
   "metadata": {},
   "source": [
    "##### Random Undersampler"
   ]
  },
  {
   "cell_type": "code",
   "execution_count": 55,
   "id": "272b5325",
   "metadata": {},
   "outputs": [],
   "source": [
    "random_underSampler = RandomUnderSampler(random_state=42)"
   ]
  },
  {
   "cell_type": "code",
   "execution_count": 56,
   "id": "4618b3cc",
   "metadata": {},
   "outputs": [
    {
     "name": "stdout",
     "output_type": "stream",
     "text": [
      "Training Accuracy:93.56%\n",
      "Testing Accuracy:42.08%\n"
     ]
    }
   ],
   "source": [
    "ru_x_bow,ru_y = random_underSampler.fit_resample(x_train_bow, y_train)\n",
    "\n",
    "model_NB = get_trained_model(MultinomialNB(),ru_x_bow,x_test_bow,ru_y,y_test)\n",
    "accuracy_scores = get_model_accuracies(model_NB,ru_x_bow,x_test_bow,ru_y,y_test)\n",
    "print_accuracies(accuracy_scores)"
   ]
  },
  {
   "cell_type": "code",
   "execution_count": 57,
   "id": "d57e9d3b",
   "metadata": {},
   "outputs": [
    {
     "name": "stdout",
     "output_type": "stream",
     "text": [
      "MNNB Classification Report = \n",
      "                precision    recall  f1-score   support\n",
      "\n",
      "           1       0.39      0.71      0.50        51\n",
      "           2       0.19      0.30      0.23        81\n",
      "           3       0.18      0.43      0.25       134\n",
      "           4       0.39      0.48      0.43       428\n",
      "           5       0.81      0.38      0.51       689\n",
      "\n",
      "    accuracy                           0.42      1383\n",
      "   macro avg       0.39      0.46      0.39      1383\n",
      "weighted avg       0.57      0.42      0.45      1383\n",
      "\n"
     ]
    }
   ],
   "source": [
    "y_pred = model_NB.predict(x_test_bow)\n",
    "print(\"MNNB Classification Report = \\n \",metrics.classification_report(y_test,y_pred))"
   ]
  },
  {
   "attachments": {},
   "cell_type": "markdown",
   "id": "fb1f9f5c",
   "metadata": {},
   "source": [
    "#### SMOTE"
   ]
  },
  {
   "cell_type": "code",
   "execution_count": 58,
   "id": "28aa67d4",
   "metadata": {},
   "outputs": [],
   "source": [
    "smote_resample = SMOTE(random_state=42)"
   ]
  },
  {
   "cell_type": "code",
   "execution_count": 59,
   "id": "883ced02",
   "metadata": {},
   "outputs": [
    {
     "name": "stdout",
     "output_type": "stream",
     "text": [
      "Training Accuracy:71.61%\n",
      "Testing Accuracy:57.92%\n"
     ]
    }
   ],
   "source": [
    "smote_x_bow,smote_y = smote_resample.fit_resample(x_train_bow, y_train)\n",
    "\n",
    "model_NB = get_trained_model(MultinomialNB(),smote_x_bow,x_test_bow,smote_y,y_test)\n",
    "accuracy_scores = get_model_accuracies(model_NB,smote_x_bow,x_test_bow,smote_y,y_test)\n",
    "print_accuracies(accuracy_scores)"
   ]
  },
  {
   "cell_type": "code",
   "execution_count": 60,
   "id": "34806e37",
   "metadata": {},
   "outputs": [
    {
     "name": "stdout",
     "output_type": "stream",
     "text": [
      "MNNB Classification Report = \n",
      "                precision    recall  f1-score   support\n",
      "\n",
      "           1       0.68      0.33      0.45        51\n",
      "           2       0.39      0.19      0.25        81\n",
      "           3       0.32      0.22      0.26       134\n",
      "           4       0.46      0.54      0.49       428\n",
      "           5       0.70      0.74      0.72       689\n",
      "\n",
      "    accuracy                           0.58      1383\n",
      "   macro avg       0.51      0.40      0.43      1383\n",
      "weighted avg       0.57      0.58      0.57      1383\n",
      "\n"
     ]
    }
   ],
   "source": [
    "y_pred = model_NB.predict(x_test_bow)\n",
    "print(\"MNNB Classification Report = \\n \",metrics.classification_report(y_test,y_pred))"
   ]
  },
  {
   "attachments": {},
   "cell_type": "markdown",
   "id": "e420ef66",
   "metadata": {},
   "source": [
    "### Based on these results: SMOTE and Random Oversampling were the best resampling techniques specifically for Word2Vec"
   ]
  },
  {
   "attachments": {},
   "cell_type": "markdown",
   "id": "e6451932",
   "metadata": {},
   "source": [
    "### When the results are observed closely, we can see that Random Oversampling causes the model to overfit, whereas that was not the case with SMOTE. \n"
   ]
  },
  {
   "attachments": {},
   "cell_type": "markdown",
   "id": "f3beee6b",
   "metadata": {},
   "source": [
    "\n",
    "\n",
    "### it is important to take note of something when coming to a conclusion on which technique was better:\n",
    "\n",
    "#### 1. This dataset is too small to draw a definitive conclusion on which resampling technique is best.\n",
    "\n",
    "#### 2. The imbalance in the dataset is very severe, which works better in favour of SMOTE, as it is better at replicating synthetic labels for minority classes.\n",
    "\n",
    "#### 3. Random Oversampling outperformed SMOTE on other metrics such as F1-Score and Precision\n",
    "\n",
    "#### 4. Both resampling techniques are not optimal for a multi-class classification problem."
   ]
  },
  {
   "attachments": {},
   "cell_type": "markdown",
   "id": "252adc46",
   "metadata": {},
   "source": [
    "### In conclusion, there is not enough data to get a concrete answer on which resampling techinque would perform best. Therefore, SMOTE will be used as it was less likely to overfit, and the results are nearly identical to Random Oversampler, which unfortunately produced less values per class."
   ]
  },
  {
   "attachments": {},
   "cell_type": "markdown",
   "id": "279ef9ec",
   "metadata": {},
   "source": [
    "### Sources:\n",
    "https://file.techscience.com/ueditor/files/cmc/TSP_CMC_69-1/TSP_CMC_17827/TSP_CMC_17827.pdf\n",
    "\n",
    "https://towardsdatascience.com/machine-learning-multiclass-classification-with-imbalanced-data-set-29f6a177c1a"
   ]
  },
  {
   "cell_type": "code",
   "execution_count": 61,
   "id": "782d6f72",
   "metadata": {},
   "outputs": [
    {
     "data": {
      "image/png": "[encoded data removed]",
      "text/plain": [
       "<Figure size 432x288 with 1 Axes>"
      ]
     },
     "metadata": {},
     "output_type": "display_data"
    }
   ],
   "source": [
    "_, _, autotexts = plt.pie(smote_y.value_counts(),colors = ['blue','green','red','black','orange'],labels = [1,2,3,4,5],autopct= '%1.1f%%')\n",
    "for autotext in autotexts:\n",
    "    autotext.set_color('white')"
   ]
  },
  {
   "cell_type": "code",
   "execution_count": 62,
   "id": "111f1fd8",
   "metadata": {},
   "outputs": [
    {
     "data": {
      "text/plain": [
       "<13785x16515 sparse matrix of type '<class 'numpy.int64'>'\n",
       "\twith 776629 stored elements in Compressed Sparse Row format>"
      ]
     },
     "execution_count": 62,
     "metadata": {},
     "output_type": "execute_result"
    }
   ],
   "source": [
    "smote_x_bow"
   ]
  },
  {
   "attachments": {},
   "cell_type": "markdown",
   "id": "5b103371",
   "metadata": {},
   "source": [
    "### 2.3 Hyperparameter Tuning on the MNB model."
   ]
  },
  {
   "attachments": {},
   "cell_type": "markdown",
   "id": "6133d384",
   "metadata": {},
   "source": [
    "### First Step: Validation split\n",
    "\n",
    "### Dataset will be split further from train-test into train-validation-test to better evaluate the model."
   ]
  },
  {
   "attachments": {},
   "cell_type": "markdown",
   "id": "09c5f702",
   "metadata": {},
   "source": [
    "#### some definitons:\n",
    "\n",
    "#### 1. x_train_val = x_bow with smote resampling and validation split\n",
    "\n",
    "#### 2. x_val = x_test with smote resampling and validation split\n",
    "\n",
    "#### 3. y_train_val = y_train with smote resampling and validation split\n",
    "\n",
    "#### 4. y_val = y_test with smote resampling and validation split"
   ]
  },
  {
   "cell_type": "code",
   "execution_count": 63,
   "id": "177d8159",
   "metadata": {
    "scrolled": true
   },
   "outputs": [],
   "source": [
    "x_train_val, x_val, y_train_val, y_val = create_train_test_split(smote_x_bow,smote_y,test_size = 0.25)"
   ]
  },
  {
   "attachments": {},
   "cell_type": "markdown",
   "id": "464e9757",
   "metadata": {},
   "source": [
    "### Second Step: Hyperparameter Tuning"
   ]
  },
  {
   "attachments": {},
   "cell_type": "markdown",
   "id": "6ea4a389",
   "metadata": {},
   "source": [
    "### 1. Grid Search"
   ]
  },
  {
   "cell_type": "code",
   "execution_count": 64,
   "id": "ccd339f3",
   "metadata": {
    "scrolled": true
   },
   "outputs": [
    {
     "name": "stdout",
     "output_type": "stream",
     "text": [
      "Fitting 5 folds for each of 9 candidates, totalling 45 fits\n",
      "[CV] END ............................................alpha=1; total time=   0.0s\n",
      "[CV] END ............................................alpha=1; total time=   0.0s\n",
      "[CV] END ............................................alpha=1; total time=   0.0s\n",
      "[CV] END ............................................alpha=1; total time=   0.0s\n",
      "[CV] END ............................................alpha=1; total time=   0.0s\n",
      "[CV] END ............................................alpha=2; total time=   0.0s\n",
      "[CV] END ............................................alpha=2; total time=   0.0s\n",
      "[CV] END ............................................alpha=2; total time=   0.0s\n",
      "[CV] END ............................................alpha=2; total time=   0.0s\n",
      "[CV] END ............................................alpha=2; total time=   0.0s\n",
      "[CV] END ............................................alpha=3; total time=   0.0s\n",
      "[CV] END ............................................alpha=3; total time=   0.0s\n",
      "[CV] END ............................................alpha=3; total time=   0.0s\n",
      "[CV] END ............................................alpha=3; total time=   0.0s\n",
      "[CV] END ............................................alpha=3; total time=   0.0s\n",
      "[CV] END ............................................alpha=4; total time=   0.0s\n",
      "[CV] END ............................................alpha=4; total time=   0.0s\n",
      "[CV] END ............................................alpha=4; total time=   0.0s\n",
      "[CV] END ............................................alpha=4; total time=   0.0s\n",
      "[CV] END ............................................alpha=4; total time=   0.0s\n",
      "[CV] END ............................................alpha=5; total time=   0.0s\n",
      "[CV] END ............................................alpha=5; total time=   0.0s\n",
      "[CV] END ............................................alpha=5; total time=   0.0s\n",
      "[CV] END ............................................alpha=5; total time=   0.0s\n",
      "[CV] END ............................................alpha=5; total time=   0.0s\n",
      "[CV] END ............................................alpha=6; total time=   0.0s\n",
      "[CV] END ............................................alpha=6; total time=   0.0s\n",
      "[CV] END ............................................alpha=6; total time=   0.0s\n",
      "[CV] END ............................................alpha=6; total time=   0.0s\n",
      "[CV] END ............................................alpha=6; total time=   0.0s\n",
      "[CV] END ............................................alpha=7; total time=   0.0s\n",
      "[CV] END ............................................alpha=7; total time=   0.0s\n",
      "[CV] END ............................................alpha=7; total time=   0.0s\n",
      "[CV] END ............................................alpha=7; total time=   0.0s\n",
      "[CV] END ............................................alpha=7; total time=   0.0s\n",
      "[CV] END ............................................alpha=8; total time=   0.0s\n",
      "[CV] END ............................................alpha=8; total time=   0.0s\n",
      "[CV] END ............................................alpha=8; total time=   0.0s\n",
      "[CV] END ............................................alpha=8; total time=   0.0s\n",
      "[CV] END ............................................alpha=8; total time=   0.0s\n",
      "[CV] END ............................................alpha=9; total time=   0.0s\n",
      "[CV] END ............................................alpha=9; total time=   0.0s\n",
      "[CV] END ............................................alpha=9; total time=   0.0s\n",
      "[CV] END ............................................alpha=9; total time=   0.0s\n",
      "[CV] END ............................................alpha=9; total time=   0.0s\n",
      "{'alpha': 1}\n",
      "0.5729346860820164\n"
     ]
    }
   ],
   "source": [
    "param_grid = {\"alpha\": range(1,10)}\n",
    "mnnb = MultinomialNB()\n",
    "grid_search = GridSearchCV(mnnb, param_grid,cv=5, verbose=2)\n",
    "\n",
    "grid_search.fit(x_train_val, y_train_val)\n",
    "\n",
    "print(grid_search.best_params_)\n",
    "print(grid_search.best_score_)"
   ]
  },
  {
   "cell_type": "code",
   "execution_count": 65,
   "id": "c2072416",
   "metadata": {},
   "outputs": [
    {
     "name": "stdout",
     "output_type": "stream",
     "text": [
      "0.6977171599922616\n",
      "0.5938497243980273\n"
     ]
    }
   ],
   "source": [
    "print(grid_search.score(x_train_val, y_train_val))\n",
    "print(grid_search.score(x_val, y_val))"
   ]
  },
  {
   "attachments": {},
   "cell_type": "markdown",
   "id": "3ff126a3",
   "metadata": {},
   "source": [
    "### 2. Randomized hyperparameter optimization"
   ]
  },
  {
   "cell_type": "code",
   "execution_count": 66,
   "id": "46cec56b",
   "metadata": {
    "scrolled": true
   },
   "outputs": [
    {
     "name": "stdout",
     "output_type": "stream",
     "text": [
      "Fitting 5 folds for each of 5 candidates, totalling 25 fits\n"
     ]
    },
    {
     "data": {
      "text/html": [
       "<style>#sk-container-id-3 {color: black;background-color: white;}#sk-container-id-3 pre{padding: 0;}#sk-container-id-3 div.sk-toggleable {background-color: white;}#sk-container-id-3 label.sk-toggleable__label {cursor: pointer;display: block;width: 100%;margin-bottom: 0;padding: 0.3em;box-sizing: border-box;text-align: center;}#sk-container-id-3 label.sk-toggleable__label-arrow:before {content: \"▸\";float: left;margin-right: 0.25em;color: #696969;}#sk-container-id-3 label.sk-toggleable__label-arrow:hover:before {color: black;}#sk-container-id-3 div.sk-estimator:hover label.sk-toggleable__label-arrow:before {color: black;}#sk-container-id-3 div.sk-toggleable__content {max-height: 0;max-width: 0;overflow: hidden;text-align: left;background-color: #f0f8ff;}#sk-container-id-3 div.sk-toggleable__content pre {margin: 0.2em;color: black;border-radius: 0.25em;background-color: #f0f8ff;}#sk-container-id-3 input.sk-toggleable__control:checked~div.sk-toggleable__content {max-height: 200px;max-width: 100%;overflow: auto;}#sk-container-id-3 input.sk-toggleable__control:checked~label.sk-toggleable__label-arrow:before {content: \"▾\";}#sk-container-id-3 div.sk-estimator input.sk-toggleable__control:checked~label.sk-toggleable__label {background-color: #d4ebff;}#sk-container-id-3 div.sk-label input.sk-toggleable__control:checked~label.sk-toggleable__label {background-color: #d4ebff;}#sk-container-id-3 input.sk-hidden--visually {border: 0;clip: rect(1px 1px 1px 1px);clip: rect(1px, 1px, 1px, 1px);height: 1px;margin: -1px;overflow: hidden;padding: 0;position: absolute;width: 1px;}#sk-container-id-3 div.sk-estimator {font-family: monospace;background-color: #f0f8ff;border: 1px dotted black;border-radius: 0.25em;box-sizing: border-box;margin-bottom: 0.5em;}#sk-container-id-3 div.sk-estimator:hover {background-color: #d4ebff;}#sk-container-id-3 div.sk-parallel-item::after {content: \"\";width: 100%;border-bottom: 1px solid gray;flex-grow: 1;}#sk-container-id-3 div.sk-label:hover label.sk-toggleable__label {background-color: #d4ebff;}#sk-container-id-3 div.sk-serial::before {content: \"\";position: absolute;border-left: 1px solid gray;box-sizing: border-box;top: 0;bottom: 0;left: 50%;z-index: 0;}#sk-container-id-3 div.sk-serial {display: flex;flex-direction: column;align-items: center;background-color: white;padding-right: 0.2em;padding-left: 0.2em;position: relative;}#sk-container-id-3 div.sk-item {position: relative;z-index: 1;}#sk-container-id-3 div.sk-parallel {display: flex;align-items: stretch;justify-content: center;background-color: white;position: relative;}#sk-container-id-3 div.sk-item::before, #sk-container-id-3 div.sk-parallel-item::before {content: \"\";position: absolute;border-left: 1px solid gray;box-sizing: border-box;top: 0;bottom: 0;left: 50%;z-index: -1;}#sk-container-id-3 div.sk-parallel-item {display: flex;flex-direction: column;z-index: 1;position: relative;background-color: white;}#sk-container-id-3 div.sk-parallel-item:first-child::after {align-self: flex-end;width: 50%;}#sk-container-id-3 div.sk-parallel-item:last-child::after {align-self: flex-start;width: 50%;}#sk-container-id-3 div.sk-parallel-item:only-child::after {width: 0;}#sk-container-id-3 div.sk-dashed-wrapped {border: 1px dashed gray;margin: 0 0.4em 0.5em 0.4em;box-sizing: border-box;padding-bottom: 0.4em;background-color: white;}#sk-container-id-3 div.sk-label label {font-family: monospace;font-weight: bold;display: inline-block;line-height: 1.2em;}#sk-container-id-3 div.sk-label-container {text-align: center;}#sk-container-id-3 div.sk-container {/* jupyter's `normalize.less` sets `[hidden] { display: none; }` but bootstrap.min.css set `[hidden] { display: none !important; }` so we also need the `!important` here to be able to override the default hidden behavior on the sphinx rendered scikit-learn.org. See: https://github.com/scikit-learn/scikit-learn/issues/21755 */display: inline-block !important;position: relative;}#sk-container-id-3 div.sk-text-repr-fallback {display: none;}</style><div id=\"sk-container-id-3\" class=\"sk-top-container\"><div class=\"sk-text-repr-fallback\"><pre>RandomizedSearchCV(cv=5, estimator=MultinomialNB(), n_iter=5, n_jobs=-1,\n",
       "                   param_distributions={&#x27;alpha&#x27;: range(1, 10)}, verbose=2)</pre><b>In a Jupyter environment, please rerun this cell to show the HTML representation or trust the notebook. <br />On GitHub, the HTML representation is unable to render, please try loading this page with nbviewer.org.</b></div><div class=\"sk-container\" hidden><div class=\"sk-item sk-dashed-wrapped\"><div class=\"sk-label-container\"><div class=\"sk-label sk-toggleable\"><input class=\"sk-toggleable__control sk-hidden--visually\" id=\"sk-estimator-id-9\" type=\"checkbox\" ><label for=\"sk-estimator-id-9\" class=\"sk-toggleable__label sk-toggleable__label-arrow\">RandomizedSearchCV</label><div class=\"sk-toggleable__content\"><pre>RandomizedSearchCV(cv=5, estimator=MultinomialNB(), n_iter=5, n_jobs=-1,\n",
       "                   param_distributions={&#x27;alpha&#x27;: range(1, 10)}, verbose=2)</pre></div></div></div><div class=\"sk-parallel\"><div class=\"sk-parallel-item\"><div class=\"sk-item\"><div class=\"sk-label-container\"><div class=\"sk-label sk-toggleable\"><input class=\"sk-toggleable__control sk-hidden--visually\" id=\"sk-estimator-id-10\" type=\"checkbox\" ><label for=\"sk-estimator-id-10\" class=\"sk-toggleable__label sk-toggleable__label-arrow\">estimator: MultinomialNB</label><div class=\"sk-toggleable__content\"><pre>MultinomialNB()</pre></div></div></div><div class=\"sk-serial\"><div class=\"sk-item\"><div class=\"sk-estimator sk-toggleable\"><input class=\"sk-toggleable__control sk-hidden--visually\" id=\"sk-estimator-id-11\" type=\"checkbox\" ><label for=\"sk-estimator-id-11\" class=\"sk-toggleable__label sk-toggleable__label-arrow\">MultinomialNB</label><div class=\"sk-toggleable__content\"><pre>MultinomialNB()</pre></div></div></div></div></div></div></div></div></div></div>"
      ],
      "text/plain": [
       "RandomizedSearchCV(cv=5, estimator=MultinomialNB(), n_iter=5, n_jobs=-1,\n",
       "                   param_distributions={'alpha': range(1, 10)}, verbose=2)"
      ]
     },
     "execution_count": 66,
     "metadata": {},
     "output_type": "execute_result"
    }
   ],
   "source": [
    "mnnb = MultinomialNB()\n",
    "random_search = RandomizedSearchCV(mnnb, param_grid, cv=5, verbose=2, n_jobs=-1, n_iter=5)\n",
    "random_search.fit(x_train_val, y_train_val)"
   ]
  },
  {
   "cell_type": "code",
   "execution_count": 67,
   "id": "071a216a",
   "metadata": {},
   "outputs": [
    {
     "data": {
      "text/plain": [
       "0.5610675950101538"
      ]
     },
     "execution_count": 67,
     "metadata": {},
     "output_type": "execute_result"
    }
   ],
   "source": [
    "random_search.score(x_val, y_val)"
   ]
  },
  {
   "attachments": {},
   "cell_type": "markdown",
   "id": "2cdc742f",
   "metadata": {},
   "source": [
    "### Based on these results, the alpha value is best kept at default (1.0) as there is beneficial progess that occurs after that point."
   ]
  },
  {
   "attachments": {},
   "cell_type": "markdown",
   "id": "80d4a129",
   "metadata": {},
   "source": [
    "### 3. Several Classifiers Testing"
   ]
  },
  {
   "attachments": {},
   "cell_type": "markdown",
   "id": "01cf1801",
   "metadata": {},
   "source": [
    "### 3.1 Strong Classifiers"
   ]
  },
  {
   "attachments": {},
   "cell_type": "markdown",
   "id": "8cef0ffb",
   "metadata": {},
   "source": [
    "##### 1. Random Forest"
   ]
  },
  {
   "cell_type": "code",
   "execution_count": 68,
   "id": "8fcb7203",
   "metadata": {},
   "outputs": [
    {
     "name": "stdout",
     "output_type": "stream",
     "text": [
      "Training Accuracy:95.05%\n",
      "Testing Accuracy:71.86%\n"
     ]
    }
   ],
   "source": [
    "rf_clf = get_trained_model(RandomForestClassifier(random_state=42),x_train_val,x_val,y_train_val,y_val)\n",
    "accuracy_scores = get_model_accuracies(rf_clf,x_train_val,x_val,y_train_val,y_val)\n",
    "print_accuracies(accuracy_scores)"
   ]
  },
  {
   "attachments": {},
   "cell_type": "markdown",
   "id": "da4889c3",
   "metadata": {},
   "source": [
    "##### 2. SVM"
   ]
  },
  {
   "cell_type": "code",
   "execution_count": 69,
   "id": "c785dcfc",
   "metadata": {},
   "outputs": [
    {
     "name": "stdout",
     "output_type": "stream",
     "text": [
      "Training Accuracy:78.97%\n",
      "Testing Accuracy:62.11%\n"
     ]
    }
   ],
   "source": [
    "svm_clf = get_trained_model(SVC(kernel='rbf',random_state = 42),x_train_val,x_val,y_train_val,y_val)\n",
    "accuracy_scores = get_model_accuracies(svm_clf,x_train_val,x_val,y_train_val,y_val)\n",
    "print_accuracies(accuracy_scores)"
   ]
  },
  {
   "attachments": {},
   "cell_type": "markdown",
   "id": "a50c5288",
   "metadata": {},
   "source": [
    "##### 3. Ensemble (Bagging) Model (KNN) "
   ]
  },
  {
   "cell_type": "code",
   "execution_count": 70,
   "id": "c6e53d39",
   "metadata": {},
   "outputs": [
    {
     "name": "stdout",
     "output_type": "stream",
     "text": [
      "Training Accuracy:63.86%\n",
      "Testing Accuracy:54.57%\n"
     ]
    }
   ],
   "source": [
    "ens_knn_clf = get_trained_model(BaggingClassifier(KNeighborsClassifier(),random_state = 42),x_train_val,x_val,y_train_val,y_val)\n",
    "accuracy_scores = get_model_accuracies(ens_knn_clf,x_train_val,x_val,y_train_val,y_val)\n",
    "print_accuracies(accuracy_scores)"
   ]
  },
  {
   "attachments": {},
   "cell_type": "markdown",
   "id": "878b8c26",
   "metadata": {},
   "source": [
    "##### 4. Ensemble (Bagging) Model (MNNB)"
   ]
  },
  {
   "cell_type": "code",
   "execution_count": 71,
   "id": "532c77c0",
   "metadata": {},
   "outputs": [
    {
     "name": "stdout",
     "output_type": "stream",
     "text": [
      "Training Accuracy:67.86%\n",
      "Testing Accuracy:58.31%\n"
     ]
    }
   ],
   "source": [
    "ens_mnnb_clf = get_trained_model(BaggingClassifier(MultinomialNB(),random_state = 42),x_train_val,x_val,y_train_val,y_val)\n",
    "accuracy_scores = get_model_accuracies(ens_mnnb_clf,x_train_val,x_val,y_train_val,y_val)\n",
    "print_accuracies(accuracy_scores)"
   ]
  },
  {
   "attachments": {},
   "cell_type": "markdown",
   "id": "dddaac1a",
   "metadata": {},
   "source": [
    "##### 5. Gradient Boosting  (Adaboost) Model (MNNB)"
   ]
  },
  {
   "cell_type": "code",
   "execution_count": 72,
   "id": "f1ba6a4c",
   "metadata": {},
   "outputs": [
    {
     "name": "stdout",
     "output_type": "stream",
     "text": [
      "Training Accuracy:55.48%\n",
      "Testing Accuracy:52.80%\n"
     ]
    }
   ],
   "source": [
    "ens_mnnb_clf_ada = get_trained_model(AdaBoostClassifier(MultinomialNB(),random_state = 42),x_train_val,x_val,y_train_val,y_val)\n",
    "accuracy_scores = get_model_accuracies(ens_mnnb_clf_ada,x_train_val,x_val,y_train_val,y_val)\n",
    "print_accuracies(accuracy_scores)"
   ]
  },
  {
   "attachments": {},
   "cell_type": "markdown",
   "id": "669045f1",
   "metadata": {},
   "source": [
    "##### 6. Gradient Boosting (XGBoost) Model"
   ]
  },
  {
   "attachments": {},
   "cell_type": "markdown",
   "id": "faa4a0b1",
   "metadata": {},
   "source": [
    "#### Some Label adjustments specifically for XGBoost"
   ]
  },
  {
   "cell_type": "code",
   "execution_count": 73,
   "id": "c7825e98",
   "metadata": {},
   "outputs": [],
   "source": [
    "y_train_xgb,y_val_xgb = adjust_xgb_labels(y_train_val,y_val)"
   ]
  },
  {
   "attachments": {},
   "cell_type": "markdown",
   "id": "271ab12b",
   "metadata": {},
   "source": [
    "#### Model Training"
   ]
  },
  {
   "cell_type": "code",
   "execution_count": 74,
   "id": "b97cc1e9",
   "metadata": {
    "scrolled": true
   },
   "outputs": [
    {
     "name": "stdout",
     "output_type": "stream",
     "text": [
      "Training Accuracy:96.32%\n",
      "Testing Accuracy:85.47%\n"
     ]
    }
   ],
   "source": [
    "xgb_model = get_trained_model(XGBClassifier(random_state = 42),x_train_val,x_val,y_train_xgb,y_val_xgb)\n",
    "accuracy_scores = get_model_accuracies(xgb_model,x_train_val,x_val,y_train_xgb,y_val_xgb)\n",
    "print_accuracies(accuracy_scores)"
   ]
  },
  {
   "attachments": {},
   "cell_type": "markdown",
   "id": "46da63a0",
   "metadata": {},
   "source": [
    "### Based on these results, These Were the Top 3 Classifiers without Parameter Tuning:\n",
    "\n",
    "#### 3. SVM\n",
    "\n",
    "#### 2. Random Forest\n",
    "\n",
    "#### 1. XGBoost"
   ]
  },
  {
   "attachments": {},
   "cell_type": "markdown",
   "id": "adf3ed10",
   "metadata": {},
   "source": [
    "### 3.2 Parameter Tuning"
   ]
  },
  {
   "cell_type": "code",
   "execution_count": 75,
   "id": "8b2b905c",
   "metadata": {},
   "outputs": [],
   "source": [
    "num_cv = 5\n",
    "baseline = \"baseline.pickle\"\n",
    "optimized = \"optimized_params.pickle\""
   ]
  },
  {
   "cell_type": "code",
   "execution_count": 76,
   "id": "5173b906",
   "metadata": {},
   "outputs": [],
   "source": [
    "params = {'learning_rate': [0.1, 0.2,0.3],\n",
    "              'max_depth': [5, 7, 9],\n",
    "              'min_child_weight': [1, 3, 5],\n",
    "              'subsample': [0.5, 0.7, 1.0],\n",
    "              'colsample_bytree': [0.5, 0.7, 1.0],\n",
    "              'gamma':[1,2,3],\n",
    "              'alpha':[0.001,0.01,0.1],\n",
    "         }"
   ]
  },
  {
   "cell_type": "code",
   "execution_count": 77,
   "id": "3ecec77a",
   "metadata": {},
   "outputs": [],
   "source": [
    "if not os.path.exists('../pickle_files'):\n",
    "    os.mkdir('../pickle_files')"
   ]
  },
  {
   "cell_type": "code",
   "execution_count": 78,
   "id": "1f3d0ed2",
   "metadata": {
    "scrolled": true
   },
   "outputs": [
    {
     "name": "stdout",
     "output_type": "stream",
     "text": [
      "Found Pickle File!\n"
     ]
    }
   ],
   "source": [
    "if pickle.load(open(\"../pickle_files/\" + baseline, \"rb\")):\n",
    "    print(\"Found Pickle File!\")\n",
    "else:\n",
    "    xgb_clf = XGBClassifier(random_state = 42)\n",
    "    grid_search = GridSearchCV(xgb_clf, xgb_params,cv=num_cv,n_jobs = -1, verbose=1)\n",
    "    grid_search.fit(x_train_val, y_train_xgb)\n",
    "\n",
    "    pickle_out = open(\"../pickle_files/\" + baseline,'wb')\n",
    "    pickle.dump(grid_search.best_params_,pickle_out)\n",
    "    pickle_out.close()"
   ]
  },
  {
   "cell_type": "code",
   "execution_count": 79,
   "id": "ffee80ef",
   "metadata": {},
   "outputs": [
    {
     "name": "stdout",
     "output_type": "stream",
     "text": [
      "Found Pickle File!\n"
     ]
    }
   ],
   "source": [
    "if pickle.load(open(\"../pickle_files/\" + optimized, \"rb\")):\n",
    "    print(\"Found Pickle File!\")\n",
    "else:\n",
    "    xgb_clf = XGBClassifier(random_state = 42)\n",
    "    grid_search = GridSearchCV(xgb_clf, xgb_params,cv=num_cv,n_jobs = -1, verbose=1)\n",
    "    grid_search.fit(x_train_val, y_train_xgb)\n",
    "\n",
    "    pickle_out = open(\"../pickle_files/\" + optimized,'wb')\n",
    "    pickle.dump(grid_search.best_params_,pickle_out)\n",
    "    pickle_out.close()"
   ]
  },
  {
   "cell_type": "code",
   "execution_count": 80,
   "id": "b737a944",
   "metadata": {},
   "outputs": [
    {
     "name": "stdout",
     "output_type": "stream",
     "text": [
      "{'colsample_bytree': 0.7, 'learning_rate': 0.3, 'max_depth': 9, 'min_child_weight': 1, 'subsample': 1.0}\n",
      "\n",
      "\n",
      "{'alpha': 0.001, 'colsample_bytree': 0.7, 'gamma': 1, 'learning_rate': 0.2, 'max_depth': 9, 'min_child_weight': 1, 'subsample': 1.0}\n"
     ]
    }
   ],
   "source": [
    "baseline_params = pickle.load(open(\"../pickle_files/\" + baseline, \"rb\"))\n",
    "print(baseline_params)\n",
    "\n",
    "print('\\n')\n",
    "\n",
    "optimized_params = pickle.load(open(\"../pickle_files/\" + optimized,\"rb\"))\n",
    "print(optimized_params)"
   ]
  },
  {
   "attachments": {},
   "cell_type": "markdown",
   "id": "a3bddb20",
   "metadata": {},
   "source": [
    "{'colsample_bytree': 0.7,\n",
    " 'learning_rate': 0.3,\n",
    " 'max_depth': 9,\n",
    " 'min_child_weight': 1,\n",
    " 'subsample': 1.0}"
   ]
  },
  {
   "cell_type": "code",
   "execution_count": 81,
   "id": "6068a778",
   "metadata": {},
   "outputs": [
    {
     "name": "stdout",
     "output_type": "stream",
     "text": [
      "Training Accuracy:99.01%\n",
      "Testing Accuracy:85.52%\n"
     ]
    }
   ],
   "source": [
    "xgb_model_new = get_trained_model(XGBClassifier(\n",
    "    colsample_bytree = 0.7,\n",
    "    learning_rate = 0.3,\n",
    "    max_depth = 9,\n",
    "    min_child_weight = 1,\n",
    "    subsample = 1.0,\n",
    "    random_state = 42),\n",
    "        x_train_val,x_val,y_train_xgb,y_val_xgb)\n",
    "accuracy_scores = get_model_accuracies(xgb_model_new,x_train_val,x_val,y_train_xgb,y_val_xgb)\n",
    "print_accuracies(accuracy_scores)"
   ]
  },
  {
   "cell_type": "code",
   "execution_count": 82,
   "id": "b50194f2",
   "metadata": {},
   "outputs": [
    {
     "name": "stdout",
     "output_type": "stream",
     "text": [
      "Training Accuracy:96.79%\n",
      "Testing Accuracy:85.32%\n"
     ]
    }
   ],
   "source": [
    "xgb_model_optimized = get_trained_model(XGBClassifier(\n",
    "    alpha = 0.01,\n",
    "    colsample_bytree = 0.7,\n",
    "    gamma = 1,\n",
    "    learning_rate = 0.2,\n",
    "    max_depth = 9,\n",
    "    min_child_weight = 1,\n",
    "    subsample = 1.0,\n",
    "    random_state = 42),\n",
    "        x_train_val,x_val,y_train_xgb,y_val_xgb)\n",
    "accuracy_scores = get_model_accuracies(xgb_model_optimized,x_train_val,x_val,y_train_xgb,y_val_xgb)\n",
    "print_accuracies(accuracy_scores)"
   ]
  },
  {
   "attachments": {},
   "cell_type": "markdown",
   "id": "819b53ab",
   "metadata": {},
   "source": [
    "### Based on these results: XGBoost caps out around the baseline accuracy."
   ]
  },
  {
   "attachments": {},
   "cell_type": "markdown",
   "id": "b090f643",
   "metadata": {},
   "source": [
    "### 4. Testing"
   ]
  },
  {
   "cell_type": "code",
   "execution_count": 83,
   "id": "21b2200f",
   "metadata": {},
   "outputs": [
    {
     "name": "stdout",
     "output_type": "stream",
     "text": [
      "Training Accuracy:94.93%\n",
      "Testing Accuracy:51.63%\n"
     ]
    }
   ],
   "source": [
    "rf_clf = get_trained_model(RandomForestClassifier(random_state=42),smote_x_bow,x_test_bow,smote_y,y_test)\n",
    "accuracy_scores = get_model_accuracies(rf_clf,smote_x_bow,x_test_bow,smote_y,y_test)\n",
    "print_accuracies(accuracy_scores)"
   ]
  },
  {
   "cell_type": "code",
   "execution_count": 84,
   "id": "d59c9ce4",
   "metadata": {},
   "outputs": [
    {
     "name": "stdout",
     "output_type": "stream",
     "text": [
      "Training Accuracy:79.71%\n",
      "Testing Accuracy:56.69%\n"
     ]
    }
   ],
   "source": [
    "svm_clf = get_trained_model(SVC(kernel='rbf',random_state = 42),smote_x_bow,x_test_bow,smote_y,y_test)\n",
    "accuracy_scores = get_model_accuracies(svm_clf,smote_x_bow,x_test_bow,smote_y,y_test)\n",
    "print_accuracies(accuracy_scores)"
   ]
  },
  {
   "cell_type": "code",
   "execution_count": 85,
   "id": "3d750f72",
   "metadata": {},
   "outputs": [
    {
     "name": "stdout",
     "output_type": "stream",
     "text": [
      "Training Accuracy:65.23%\n",
      "Testing Accuracy:16.63%\n"
     ]
    }
   ],
   "source": [
    "ens_knn_clf = get_trained_model(BaggingClassifier(KNeighborsClassifier(),random_state = 42),smote_x_bow,x_test_bow,smote_y,y_test)\n",
    "accuracy_scores = get_model_accuracies(ens_knn_clf,smote_x_bow,x_test_bow,smote_y,y_test)\n",
    "print_accuracies(accuracy_scores)"
   ]
  },
  {
   "cell_type": "code",
   "execution_count": 86,
   "id": "ad52bb18",
   "metadata": {},
   "outputs": [
    {
     "name": "stdout",
     "output_type": "stream",
     "text": [
      "Training Accuracy:68.89%\n",
      "Testing Accuracy:58.28%\n"
     ]
    }
   ],
   "source": [
    "ens_mnnb_clf = get_trained_model(BaggingClassifier(MultinomialNB(),random_state = 42),smote_x_bow,x_test_bow,smote_y,y_test)\n",
    "accuracy_scores = get_model_accuracies(ens_mnnb_clf,smote_x_bow,x_test_bow,smote_y,y_test)\n",
    "print_accuracies(accuracy_scores)"
   ]
  },
  {
   "cell_type": "code",
   "execution_count": 87,
   "id": "678d566a",
   "metadata": {},
   "outputs": [
    {
     "name": "stdout",
     "output_type": "stream",
     "text": [
      "Training Accuracy:54.67%\n",
      "Testing Accuracy:49.89%\n"
     ]
    }
   ],
   "source": [
    "ens_mnnb_clf_ada = get_trained_model(AdaBoostClassifier(MultinomialNB(),random_state = 42),smote_x_bow,x_test_bow,smote_y,y_test)\n",
    "accuracy_scores = get_model_accuracies(ens_mnnb_clf_ada,smote_x_bow,x_test_bow,smote_y,y_test)\n",
    "print_accuracies(accuracy_scores)"
   ]
  },
  {
   "cell_type": "code",
   "execution_count": 88,
   "id": "de534121",
   "metadata": {},
   "outputs": [],
   "source": [
    "smote_y,y_test = adjust_xgb_labels(smote_y,y_test)"
   ]
  },
  {
   "cell_type": "code",
   "execution_count": 89,
   "id": "4334f3d5",
   "metadata": {},
   "outputs": [
    {
     "name": "stdout",
     "output_type": "stream",
     "text": [
      "Training Accuracy:98.35%\n",
      "Testing Accuracy:56.91%\n"
     ]
    }
   ],
   "source": [
    "xgb_model_new = get_trained_model(XGBClassifier(\n",
    "    colsample_bytree = 0.7,\n",
    "    learning_rate = 0.3,\n",
    "    max_depth = 9,\n",
    "    min_child_weight = 1,\n",
    "    subsample = 1.0,\n",
    "    random_state = 42),\n",
    "        smote_x_bow,x_test_bow,smote_y,y_test)\n",
    "accuracy_scores = get_model_accuracies(xgb_model_new,smote_x_bow,x_test_bow,smote_y,y_test)\n",
    "print_accuracies(accuracy_scores)"
   ]
  },
  {
   "attachments": {},
   "cell_type": "markdown",
   "id": "ff285ab2",
   "metadata": {},
   "source": [
    "### Top 3 Classifiers after testing:\n",
    "\n",
    "#### 3. SVM\n",
    "\n",
    "#### 2. XGBoost\n",
    "\n",
    "#### 1. Ensemble MNNB (Bagging)"
   ]
  },
  {
   "attachments": {},
   "cell_type": "markdown",
   "id": "73667125",
   "metadata": {},
   "source": [
    "### 4.1 Top 3 Classifiers' Metrics Showcases"
   ]
  },
  {
   "cell_type": "code",
   "execution_count": 90,
   "id": "a9552f57",
   "metadata": {},
   "outputs": [
    {
     "data": {
      "image/png": "[encoded data removed]",
      "text/plain": [
       "<Figure size 432x288 with 2 Axes>"
      ]
     },
     "metadata": {
      "needs_background": "light"
     },
     "output_type": "display_data"
    },
    {
     "name": "stdout",
     "output_type": "stream",
     "text": [
      "ROC/AUC for each class: \n",
      "\n",
      "{0: 0.2991079314608726, 1: 0.31689139216020934, 2: 0.3019788965500758, 3: 0.4004575035474873, 4: 0.5928715132401718}\n",
      "\n",
      "\n",
      "Classification Report = \n",
      "                precision    recall  f1-score   support\n",
      "\n",
      "           0       0.00      0.00      0.00        51\n",
      "           1       0.16      0.05      0.08        81\n",
      "           2       0.16      0.04      0.07       134\n",
      "           3       0.20      0.04      0.07       428\n",
      "           4       0.33      0.24      0.28       689\n",
      "           5       0.00      0.00      0.00         0\n",
      "\n",
      "    accuracy                           0.14      1383\n",
      "   macro avg       0.14      0.06      0.08      1383\n",
      "weighted avg       0.25      0.14      0.17      1383\n",
      "\n"
     ]
    },
    {
     "data": {
      "image/png": "[encoded data removed]",
      "text/plain": [
       "<Figure size 432x288 with 1 Axes>"
      ]
     },
     "metadata": {
      "needs_background": "light"
     },
     "output_type": "display_data"
    }
   ],
   "source": [
    "show_metrics(xgb_model_new,smote_x_bow,x_test_bow,smote_y,y_test,smote_x_bow,smote_y)"
   ]
  },
  {
   "cell_type": "code",
   "execution_count": 91,
   "id": "08cca4b1",
   "metadata": {},
   "outputs": [],
   "source": [
    "smote_y,y_test = readjust_labels(smote_y,y_test)"
   ]
  },
  {
   "cell_type": "code",
   "execution_count": 92,
   "id": "598a561e",
   "metadata": {},
   "outputs": [
    {
     "data": {
      "image/png": "[encoded data removed]",
      "text/plain": [
       "<Figure size 432x288 with 2 Axes>"
      ]
     },
     "metadata": {
      "needs_background": "light"
     },
     "output_type": "display_data"
    },
    {
     "name": "stdout",
     "output_type": "stream",
     "text": [
      "ROC/AUC for each class: \n",
      "\n",
      "{1: 0.6636636636636636, 2: 0.5837600273084144, 3: 0.582988779082968, 4: 0.6257596516122719, 5: 0.715202461070005}\n",
      "\n",
      "\n",
      "Classification Report = \n",
      "                precision    recall  f1-score   support\n",
      "\n",
      "           1       0.68      0.33      0.45        51\n",
      "           2       0.39      0.19      0.25        81\n",
      "           3       0.32      0.22      0.26       134\n",
      "           4       0.46      0.54      0.49       428\n",
      "           5       0.70      0.74      0.72       689\n",
      "\n",
      "    accuracy                           0.58      1383\n",
      "   macro avg       0.51      0.40      0.43      1383\n",
      "weighted avg       0.57      0.58      0.57      1383\n",
      "\n"
     ]
    },
    {
     "data": {
      "image/png": "[encoded data removed]",
      "text/plain": [
       "<Figure size 432x288 with 1 Axes>"
      ]
     },
     "metadata": {
      "needs_background": "light"
     },
     "output_type": "display_data"
    }
   ],
   "source": [
    "show_metrics(svm_clf,smote_x_bow,x_test_bow,smote_y,y_test,smote_x_bow,smote_y)"
   ]
  },
  {
   "cell_type": "code",
   "execution_count": 93,
   "id": "fe193fcb",
   "metadata": {},
   "outputs": [
    {
     "data": {
      "image/png": "[encoded data removed]",
      "text/plain": [
       "<Figure size 432x288 with 2 Axes>"
      ]
     },
     "metadata": {
      "needs_background": "light"
     },
     "output_type": "display_data"
    },
    {
     "name": "stdout",
     "output_type": "stream",
     "text": [
      "ROC/AUC for each class: \n",
      "\n",
      "{1: 0.6636636636636636, 2: 0.5837600273084144, 3: 0.582988779082968, 4: 0.6257596516122719, 5: 0.715202461070005}\n",
      "\n",
      "\n",
      "Classification Report = \n",
      "                precision    recall  f1-score   support\n",
      "\n",
      "           1       0.68      0.33      0.45        51\n",
      "           2       0.39      0.19      0.25        81\n",
      "           3       0.32      0.22      0.26       134\n",
      "           4       0.46      0.54      0.49       428\n",
      "           5       0.70      0.74      0.72       689\n",
      "\n",
      "    accuracy                           0.58      1383\n",
      "   macro avg       0.51      0.40      0.43      1383\n",
      "weighted avg       0.57      0.58      0.57      1383\n",
      "\n"
     ]
    },
    {
     "data": {
      "image/png": "[encoded data removed]",
      "text/plain": [
       "<Figure size 432x288 with 1 Axes>"
      ]
     },
     "metadata": {
      "needs_background": "light"
     },
     "output_type": "display_data"
    }
   ],
   "source": [
    "show_metrics(ens_mnnb_clf,smote_x_bow,x_test_bow,smote_y,y_test,smote_x_bow,smote_y)"
   ]
  },
  {
   "attachments": {},
   "cell_type": "markdown",
   "id": "0499d368",
   "metadata": {},
   "source": [
    "# Very Important: Takeaways from the previous experiments:\n",
    "\n",
    "#### 1. Dataset is too small to generalize off of.\n",
    "\n",
    "#### 2. Sklearn's Word Embeddings produce sparse matrices that are too inefficient, and produce lacking results.\n",
    "\n",
    "#### 3. Dataset requires a larger vocabulary.\n",
    "\n",
    "#### 4. Machine Learning models are not sufficient to solve this problem."
   ]
  },
  {
   "attachments": {},
   "cell_type": "markdown",
   "id": "851d8056",
   "metadata": {},
   "source": [
    "### 5. Comparison with Sentiment Polarity"
   ]
  },
  {
   "attachments": {},
   "cell_type": "markdown",
   "id": "86424816",
   "metadata": {},
   "source": [
    "#### Last thing to do is to compare the results of these models with the sentiment polarity score."
   ]
  },
  {
   "cell_type": "code",
   "execution_count": 94,
   "id": "0aaa2ad8",
   "metadata": {},
   "outputs": [],
   "source": [
    "star_rating_translated = translate_labels(df['star_rating'])\n",
    "y_true = encode_sent(star_rating_translated)\n",
    "y_pred = encode_sent(df['str_sent'])"
   ]
  },
  {
   "cell_type": "code",
   "execution_count": 95,
   "id": "dc363a7a",
   "metadata": {},
   "outputs": [
    {
     "data": {
      "text/plain": [
       "6915"
      ]
     },
     "execution_count": 95,
     "metadata": {},
     "output_type": "execute_result"
    }
   ],
   "source": [
    "len(y_true)"
   ]
  },
  {
   "cell_type": "code",
   "execution_count": 96,
   "id": "54c6c2a1",
   "metadata": {},
   "outputs": [
    {
     "data": {
      "text/plain": [
       "6915"
      ]
     },
     "execution_count": 96,
     "metadata": {},
     "output_type": "execute_result"
    }
   ],
   "source": [
    "len(y_pred)"
   ]
  },
  {
   "cell_type": "code",
   "execution_count": 97,
   "id": "ee75fdd6",
   "metadata": {},
   "outputs": [],
   "source": [
    "sent_polarity_score = accuracy_score(y_true,y_pred)"
   ]
  },
  {
   "cell_type": "code",
   "execution_count": 98,
   "id": "f07ebbab",
   "metadata": {},
   "outputs": [
    {
     "data": {
      "text/plain": [
       "0.8250180766449747"
      ]
     },
     "execution_count": 98,
     "metadata": {},
     "output_type": "execute_result"
    }
   ],
   "source": [
    "sent_polarity_score"
   ]
  },
  {
   "attachments": {},
   "cell_type": "markdown",
   "id": "c1e556b2",
   "metadata": {},
   "source": [
    "### Based on these results: Sentiment Polarity was more accurate than tested models, but less accurate against validated models"
   ]
  },
  {
   "attachments": {},
   "cell_type": "markdown",
   "id": "dac60f00",
   "metadata": {},
   "source": [
    "### Note: Sentiment Polarity was only trained on three labels rather than five, which is an unfair comparison. I decided to test a few several models with only three labels to verify my results."
   ]
  },
  {
   "cell_type": "code",
   "execution_count": 99,
   "id": "e2bd8873",
   "metadata": {},
   "outputs": [],
   "source": [
    "x_train,x_test,y_train,y_test = create_train_test_split(X,y_true,vectorizer=bow_vectorizer)"
   ]
  },
  {
   "cell_type": "code",
   "execution_count": 100,
   "id": "92f350f0",
   "metadata": {},
   "outputs": [],
   "source": [
    "# smote_resample = SMOTE(random_state=42)\n",
    "# smote_features,smote_labels = smote_resample.fit_resample(x_train, y_train)"
   ]
  },
  {
   "attachments": {},
   "cell_type": "markdown",
   "id": "082be1b0",
   "metadata": {},
   "source": [
    "### 1. SVM"
   ]
  },
  {
   "cell_type": "code",
   "execution_count": 101,
   "id": "d4487fb3",
   "metadata": {},
   "outputs": [
    {
     "name": "stdout",
     "output_type": "stream",
     "text": [
      "Training Accuracy:90.60%\n",
      "Testing Accuracy:81.85%\n"
     ]
    }
   ],
   "source": [
    "svm_clf = get_trained_model(SVC(kernel='rbf',random_state = 42),x_train,x_test,y_train,y_test)\n",
    "accuracy_scores = get_model_accuracies(svm_clf,x_train,x_test,y_train,y_test)\n",
    "print_accuracies(accuracy_scores)"
   ]
  },
  {
   "attachments": {},
   "cell_type": "markdown",
   "id": "c37ed36d",
   "metadata": {},
   "source": [
    "### 2. Ensemble Naive Bayes (Bagging)"
   ]
  },
  {
   "cell_type": "code",
   "execution_count": 102,
   "id": "d8c13f1e",
   "metadata": {},
   "outputs": [
    {
     "name": "stdout",
     "output_type": "stream",
     "text": [
      "Training Accuracy:89.30%\n",
      "Testing Accuracy:82.94%\n"
     ]
    }
   ],
   "source": [
    "ens_mnnb_clf = get_trained_model(BaggingClassifier(MultinomialNB(),random_state = 42),x_train,x_test,y_train,y_test)\n",
    "accuracy_scores = get_model_accuracies(ens_mnnb_clf,x_train,x_test,y_train,y_test)\n",
    "print_accuracies(accuracy_scores)"
   ]
  },
  {
   "attachments": {},
   "cell_type": "markdown",
   "id": "dd49fee1",
   "metadata": {},
   "source": [
    "### 3. XGboost"
   ]
  },
  {
   "cell_type": "code",
   "execution_count": 103,
   "id": "bb1d3bb5",
   "metadata": {},
   "outputs": [],
   "source": [
    "y_train,y_test = adjust_xgb_labels(y_train,y_test)"
   ]
  },
  {
   "cell_type": "code",
   "execution_count": 104,
   "id": "942ccea2",
   "metadata": {
    "scrolled": true
   },
   "outputs": [
    {
     "name": "stdout",
     "output_type": "stream",
     "text": [
      "Training Accuracy:99.46%\n",
      "Testing Accuracy:83.59%\n"
     ]
    }
   ],
   "source": [
    "xgb_model_new = get_trained_model(XGBClassifier(\n",
    "    colsample_bytree = 0.7,\n",
    "    learning_rate = 0.3,\n",
    "    max_depth = 9,\n",
    "    min_child_weight = 1,\n",
    "    subsample = 1.0,\n",
    "    random_state = 42),\n",
    "        x_train,x_test,y_train,y_test)\n",
    "accuracy_scores = get_model_accuracies(xgb_model_new,x_train,x_test,y_train,y_test)\n",
    "print_accuracies(accuracy_scores)"
   ]
  },
  {
   "attachments": {},
   "cell_type": "markdown",
   "id": "00af9a7a",
   "metadata": {},
   "source": [
    "### As a result of reducing the labels, the three models were able to achieve very similar, and even higher scores than the sentiment polarity scores."
   ]
  },
  {
   "attachments": {},
   "cell_type": "markdown",
   "id": "6c8788d1",
   "metadata": {},
   "source": [
    "### Final Notes:\n",
    "\n",
    "#### 1. Sklearn's word embeddings were used instead of gensim as gensim was tested before, and it was proven to be difficult to work with. Also, in the playground file, you can find an example of gensim code, and from there you can see that gensim was not very practical to work with.\n",
    "\n",
    "#### 2. Other word embeddings such as GloVe and FastText were not tested in this file as glove embeddings work better with more sophisticated models and neural networks such as the ones that will be tested using the bigger dataset, and FastText will be covered in future files, where word embeddings will play a bigger role, and more data will be available to make a more informed decision about which word embedding works best.\n",
    "\n",
    "#### 3. The Utility Functions in this file will be moved to a python script, and utilized further in the upcoming files."
   ]
  }
 ],
 "metadata": {
  "kernelspec": {
   "display_name": "Python 3 (ipykernel)",
   "language": "python",
   "name": "python3"
  },
  "language_info": {
   "codemirror_mode": {
    "name": "ipython",
    "version": 3
   },
   "file_extension": ".py",
   "mimetype": "text/x-python",
   "name": "python",
   "nbconvert_exporter": "python",
   "pygments_lexer": "ipython3",
   "version": "3.10.10"
  }
 },
 "nbformat": 4,
 "nbformat_minor": 5
}
