{
 "cells": [
  {
   "cell_type": "markdown",
   "id": "0e3c6923",
   "metadata": {},
   "source": [
    "### File: Model Optimization"
   ]
  },
  {
   "cell_type": "markdown",
   "id": "998b5a2d",
   "metadata": {},
   "source": [
    "##### Goals and Objectives of this file:\n",
    "\n",
    "##### 1. Basic Model Training and Word Embedding Testing\n",
    "##### 2. Data Processing => over/under sampling the classes  =>  word embeddings => feature selection\n",
    "##### 3. Model Optimization => (Hyper)parameter Tuning => different Algorithms tests => different neural network architectures test\n",
    "##### 4. Training and Testing => accuracy => precision => confusion matrix => roc/auc curves => learning curve"
   ]
  },
  {
   "cell_type": "code",
   "execution_count": 1,
   "id": "d8218a34",
   "metadata": {},
   "outputs": [],
   "source": [
    "import numpy as np\n",
    "import pandas as pd\n",
    "import matplotlib.pyplot as plt\n",
    "import nltk\n",
    "from nltk.corpus import stopwords\n",
    "from nltk.stem import WordNetLemmatizer\n",
    "import string\n",
    "from sklearn.feature_extraction.text import TfidfVectorizer\n",
    "from sklearn.model_selection import train_test_split\n",
    "from sklearn.linear_model import LogisticRegression\n",
    "import tensorflow as tf\n",
    "import imblearn\n",
    "from imblearn.over_sampling import SMOTE,RandomOverSampler\n",
    "from imblearn.under_sampling import RandomUnderSampler\n",
    "from sklearn.neighbors import KNeighborsClassifier\n",
    "from sklearn.covariance import EllipticEnvelope\n",
    "from sklearn.neighbors import LocalOutlierFactor\n",
    "from sklearn.ensemble import IsolationForest\n",
    "from sklearn import metrics\n",
    "from sklearn.naive_bayes import MultinomialNB\n",
    "from sklearn.pipeline import Pipeline\n",
    "from sklearn.metrics import ConfusionMatrixDisplay\n",
    "from sklearn.model_selection import learning_curve\n",
    "from sklearn.feature_extraction.text import CountVectorizer\n",
    "from nltk.sentiment.vader import SentimentIntensityAnalyzer"
   ]
  },
  {
   "cell_type": "markdown",
   "id": "2c510bd6",
   "metadata": {},
   "source": [
    "### 1. Basic Model Training and Vectorizer Testing"
   ]
  },
  {
   "cell_type": "code",
   "execution_count": 2,
   "id": "564a2a35",
   "metadata": {},
   "outputs": [],
   "source": [
    "df = pd.read_csv(\"datasets/yelp coffee/raw_yelp_review_data_processed.csv\")"
   ]
  },
  {
   "cell_type": "code",
   "execution_count": 3,
   "id": "a3001b63",
   "metadata": {},
   "outputs": [],
   "source": [
    "X = df['full_review_text']\n",
    "y = df['star_rating']"
   ]
  },
  {
   "cell_type": "code",
   "execution_count": 4,
   "id": "deec2f25",
   "metadata": {},
   "outputs": [],
   "source": [
    "def create_data_split(X,y,vectorizer=False):\n",
    "    x_train,x_test,y_train,y_test = train_test_split(X, y, test_size=0.2,random_state = 42)\n",
    "    if vectorizer:\n",
    "        vectorizer = vectorizer\n",
    "        train_embed = vectorizer.fit_transform(x_train)\n",
    "        test_embed = vectorizer.transform(x_test)\n",
    "        return train_embed,test_embed,y_train,y_test\n",
    "    else:\n",
    "        return x_train,x_test,y_train,y_test"
   ]
  },
  {
   "cell_type": "code",
   "execution_count": 5,
   "id": "c25b79c8",
   "metadata": {},
   "outputs": [],
   "source": [
    "x_train_tfidf,x_test_tfidf,y_train,y_test = create_data_split(X,y,TfidfVectorizer())"
   ]
  },
  {
   "cell_type": "code",
   "execution_count": 6,
   "id": "2d551afb",
   "metadata": {},
   "outputs": [
    {
     "name": "stdout",
     "output_type": "stream",
     "text": [
      "Model accuracy: 47.94%\n"
     ]
    }
   ],
   "source": [
    "model_NB = MultinomialNB()\n",
    "model_NB.fit(x_train_tfidf, y_train)\n",
    "accuracy = model_NB.score(x_test_tfidf, y_test)\n",
    "print(\"Model accuracy: {:.2f}%\".format(accuracy * 100))"
   ]
  },
  {
   "cell_type": "markdown",
   "id": "48b749e8",
   "metadata": {},
   "source": [
    "### This result can be better..."
   ]
  },
  {
   "cell_type": "markdown",
   "id": "d3965849",
   "metadata": {},
   "source": [
    "### 2. Data Processing"
   ]
  },
  {
   "cell_type": "code",
   "execution_count": 7,
   "id": "9aade812",
   "metadata": {
    "scrolled": false
   },
   "outputs": [
    {
     "data": {
      "image/png": "[encoded data removed]",
      "text/plain": [
       "<Figure size 432x288 with 1 Axes>"
      ]
     },
     "metadata": {},
     "output_type": "display_data"
    }
   ],
   "source": [
    "_, _, autotexts = plt.pie(y.value_counts(),colors = ['blue','green','red','black','orange'],labels = [1,2,3,4,5],autopct= '%1.1f%%')\n",
    "for autotext in autotexts:\n",
    "    autotext.set_color('white')"
   ]
  },
  {
   "cell_type": "markdown",
   "id": "9d580040",
   "metadata": {},
   "source": [
    "### This dataset will be balanced using several different techniques."
   ]
  },
  {
   "cell_type": "markdown",
   "id": "fed577d9",
   "metadata": {},
   "source": [
    "### 2.1 Data Resampling"
   ]
  },
  {
   "cell_type": "markdown",
   "id": "f4cde7ac",
   "metadata": {},
   "source": [
    "#### Random Oversampling"
   ]
  },
  {
   "cell_type": "code",
   "execution_count": 8,
   "id": "d1415d97",
   "metadata": {},
   "outputs": [],
   "source": [
    "random_oversampler = RandomOverSampler(random_state=42)\n",
    "ro_x_tfidf,ro_y = random_oversampler.fit_resample(x_train_tfidf, y_train)"
   ]
  },
  {
   "cell_type": "code",
   "execution_count": 9,
   "id": "ee56e0fe",
   "metadata": {},
   "outputs": [
    {
     "data": {
      "text/plain": [
       "5    2784\n",
       "1    2784\n",
       "3    2784\n",
       "4    2784\n",
       "2    2784\n",
       "Name: star_rating, dtype: int64"
      ]
     },
     "execution_count": 9,
     "metadata": {},
     "output_type": "execute_result"
    }
   ],
   "source": [
    "ro_y.value_counts()"
   ]
  },
  {
   "cell_type": "code",
   "execution_count": 10,
   "id": "84cffa4e",
   "metadata": {},
   "outputs": [
    {
     "name": "stdout",
     "output_type": "stream",
     "text": [
      "Model accuracy: 55.17%\n"
     ]
    }
   ],
   "source": [
    "model_NB = MultinomialNB()\n",
    "model_NB.fit(ro_x_tfidf, ro_y)\n",
    "accuracy = model_NB.score(x_test_tfidf, y_test)\n",
    "print(\"Model accuracy: {:.2f}%\".format(accuracy * 100))"
   ]
  },
  {
   "cell_type": "markdown",
   "id": "7f8f64bc",
   "metadata": {},
   "source": [
    "#### Random Undersampling"
   ]
  },
  {
   "cell_type": "code",
   "execution_count": 11,
   "id": "ac55a63d",
   "metadata": {},
   "outputs": [],
   "source": [
    "random_underSampler = RandomUnderSampler(random_state=42)\n",
    "ru_x_tfidf,ru_y = random_underSampler.fit_resample(x_train_tfidf, y_train)"
   ]
  },
  {
   "cell_type": "code",
   "execution_count": 12,
   "id": "616f5425",
   "metadata": {},
   "outputs": [
    {
     "data": {
      "text/plain": [
       "1    195\n",
       "2    195\n",
       "3    195\n",
       "4    195\n",
       "5    195\n",
       "Name: star_rating, dtype: int64"
      ]
     },
     "execution_count": 12,
     "metadata": {},
     "output_type": "execute_result"
    }
   ],
   "source": [
    "ru_y.value_counts()"
   ]
  },
  {
   "cell_type": "code",
   "execution_count": 13,
   "id": "cbdc22fd",
   "metadata": {},
   "outputs": [
    {
     "name": "stdout",
     "output_type": "stream",
     "text": [
      "Model accuracy: 43.60%\n"
     ]
    }
   ],
   "source": [
    "model_NB = MultinomialNB()\n",
    "model_NB.fit(ru_x_tfidf, ru_y)\n",
    "accuracy = model_NB.score(x_test_tfidf, y_test)\n",
    "print(\"Model accuracy: {:.2f}%\".format(accuracy * 100))"
   ]
  },
  {
   "cell_type": "markdown",
   "id": "6fde487c",
   "metadata": {},
   "source": [
    "#### SMOTE"
   ]
  },
  {
   "cell_type": "code",
   "execution_count": 14,
   "id": "2a8ca470",
   "metadata": {},
   "outputs": [],
   "source": [
    "oversample = SMOTE(random_state=42)\n",
    "smote_x_tfidf,smote_y = oversample.fit_resample(x_train_tfidf, y_train)"
   ]
  },
  {
   "cell_type": "code",
   "execution_count": 15,
   "id": "cef225fe",
   "metadata": {},
   "outputs": [
    {
     "data": {
      "text/plain": [
       "5    2784\n",
       "1    2784\n",
       "3    2784\n",
       "4    2784\n",
       "2    2784\n",
       "Name: star_rating, dtype: int64"
      ]
     },
     "execution_count": 15,
     "metadata": {},
     "output_type": "execute_result"
    }
   ],
   "source": [
    "smote_y.value_counts()"
   ]
  },
  {
   "cell_type": "code",
   "execution_count": 16,
   "id": "a44aed76",
   "metadata": {},
   "outputs": [
    {
     "name": "stdout",
     "output_type": "stream",
     "text": [
      "Model accuracy: 52.28%\n"
     ]
    }
   ],
   "source": [
    "model_NB = MultinomialNB()\n",
    "model_NB.fit(smote_x_tfidf, smote_y)\n",
    "accuracy = model_NB.score(x_test_tfidf, y_test)\n",
    "print(\"Model accuracy: {:.2f}%\".format(accuracy * 100))"
   ]
  },
  {
   "cell_type": "markdown",
   "id": "425b7176",
   "metadata": {},
   "source": [
    "### According to the accuracy results: Random Oversampling was the best method for data resampling."
   ]
  },
  {
   "cell_type": "markdown",
   "id": "eed7d3de",
   "metadata": {},
   "source": [
    "### 2.2 Word Embeddings"
   ]
  },
  {
   "cell_type": "markdown",
   "id": "f5edaaec",
   "metadata": {},
   "source": [
    "### Word2Vec (BoW)"
   ]
  },
  {
   "cell_type": "code",
   "execution_count": 17,
   "id": "d8af0314",
   "metadata": {},
   "outputs": [],
   "source": [
    "bow_vectorizer = CountVectorizer(encoding = 'utf-8')\n",
    "bow_matrix = bow_vectorizer.fit_transform(X)\n",
    "bow_array = bow_matrix.toarray()\n",
    "bow_df = pd.DataFrame(data=bow_array,columns = bow_vectorizer.vocabulary_.keys())"
   ]
  },
  {
   "cell_type": "code",
   "execution_count": 18,
   "id": "3f2fe256",
   "metadata": {},
   "outputs": [
    {
     "data": {
      "text/html": [
       "<div>\n",
       "<style scoped>\n",
       "    .dataframe tbody tr th:only-of-type {\n",
       "        vertical-align: middle;\n",
       "    }\n",
       "\n",
       "    .dataframe tbody tr th {\n",
       "        vertical-align: top;\n",
       "    }\n",
       "\n",
       "    .dataframe thead th {\n",
       "        text-align: right;\n",
       "    }\n",
       "</style>\n",
       "<table border=\"1\" class=\"dataframe\">\n",
       "  <thead>\n",
       "    <tr style=\"text-align: right;\">\n",
       "      <th></th>\n",
       "      <th>love</th>\n",
       "      <th>loved</th>\n",
       "      <th>atmosphere</th>\n",
       "      <th>corner</th>\n",
       "      <th>coffee</th>\n",
       "      <th>shop</th>\n",
       "      <th>style</th>\n",
       "      <th>swing</th>\n",
       "      <th>ordered</th>\n",
       "      <th>matcha</th>\n",
       "      <th>...</th>\n",
       "      <th>deliciousand</th>\n",
       "      <th>rustica</th>\n",
       "      <th>romaine</th>\n",
       "      <th>predictably</th>\n",
       "      <th>roomier</th>\n",
       "      <th>windowed</th>\n",
       "      <th>actuality</th>\n",
       "      <th>crass</th>\n",
       "      <th>budha</th>\n",
       "      <th>digestion</th>\n",
       "    </tr>\n",
       "  </thead>\n",
       "  <tbody>\n",
       "    <tr>\n",
       "      <th>0</th>\n",
       "      <td>0</td>\n",
       "      <td>0</td>\n",
       "      <td>0</td>\n",
       "      <td>0</td>\n",
       "      <td>0</td>\n",
       "      <td>0</td>\n",
       "      <td>0</td>\n",
       "      <td>0</td>\n",
       "      <td>0</td>\n",
       "      <td>0</td>\n",
       "      <td>...</td>\n",
       "      <td>0</td>\n",
       "      <td>0</td>\n",
       "      <td>0</td>\n",
       "      <td>0</td>\n",
       "      <td>0</td>\n",
       "      <td>0</td>\n",
       "      <td>0</td>\n",
       "      <td>0</td>\n",
       "      <td>0</td>\n",
       "      <td>0</td>\n",
       "    </tr>\n",
       "    <tr>\n",
       "      <th>1</th>\n",
       "      <td>0</td>\n",
       "      <td>0</td>\n",
       "      <td>0</td>\n",
       "      <td>0</td>\n",
       "      <td>0</td>\n",
       "      <td>0</td>\n",
       "      <td>0</td>\n",
       "      <td>0</td>\n",
       "      <td>0</td>\n",
       "      <td>0</td>\n",
       "      <td>...</td>\n",
       "      <td>0</td>\n",
       "      <td>0</td>\n",
       "      <td>0</td>\n",
       "      <td>0</td>\n",
       "      <td>0</td>\n",
       "      <td>0</td>\n",
       "      <td>0</td>\n",
       "      <td>0</td>\n",
       "      <td>0</td>\n",
       "      <td>0</td>\n",
       "    </tr>\n",
       "    <tr>\n",
       "      <th>2</th>\n",
       "      <td>0</td>\n",
       "      <td>0</td>\n",
       "      <td>0</td>\n",
       "      <td>0</td>\n",
       "      <td>0</td>\n",
       "      <td>0</td>\n",
       "      <td>0</td>\n",
       "      <td>0</td>\n",
       "      <td>0</td>\n",
       "      <td>0</td>\n",
       "      <td>...</td>\n",
       "      <td>0</td>\n",
       "      <td>0</td>\n",
       "      <td>0</td>\n",
       "      <td>0</td>\n",
       "      <td>0</td>\n",
       "      <td>0</td>\n",
       "      <td>0</td>\n",
       "      <td>0</td>\n",
       "      <td>0</td>\n",
       "      <td>0</td>\n",
       "    </tr>\n",
       "    <tr>\n",
       "      <th>3</th>\n",
       "      <td>0</td>\n",
       "      <td>0</td>\n",
       "      <td>0</td>\n",
       "      <td>0</td>\n",
       "      <td>0</td>\n",
       "      <td>0</td>\n",
       "      <td>0</td>\n",
       "      <td>0</td>\n",
       "      <td>0</td>\n",
       "      <td>0</td>\n",
       "      <td>...</td>\n",
       "      <td>0</td>\n",
       "      <td>0</td>\n",
       "      <td>0</td>\n",
       "      <td>0</td>\n",
       "      <td>0</td>\n",
       "      <td>0</td>\n",
       "      <td>0</td>\n",
       "      <td>0</td>\n",
       "      <td>0</td>\n",
       "      <td>0</td>\n",
       "    </tr>\n",
       "    <tr>\n",
       "      <th>4</th>\n",
       "      <td>0</td>\n",
       "      <td>0</td>\n",
       "      <td>0</td>\n",
       "      <td>0</td>\n",
       "      <td>0</td>\n",
       "      <td>0</td>\n",
       "      <td>0</td>\n",
       "      <td>0</td>\n",
       "      <td>0</td>\n",
       "      <td>0</td>\n",
       "      <td>...</td>\n",
       "      <td>0</td>\n",
       "      <td>0</td>\n",
       "      <td>0</td>\n",
       "      <td>0</td>\n",
       "      <td>0</td>\n",
       "      <td>0</td>\n",
       "      <td>0</td>\n",
       "      <td>0</td>\n",
       "      <td>0</td>\n",
       "      <td>0</td>\n",
       "    </tr>\n",
       "  </tbody>\n",
       "</table>\n",
       "<p>5 rows × 18235 columns</p>\n",
       "</div>"
      ],
      "text/plain": [
       "   love  loved  atmosphere  corner  coffee  shop  style  swing  ordered  \\\n",
       "0     0      0           0       0       0     0      0      0        0   \n",
       "1     0      0           0       0       0     0      0      0        0   \n",
       "2     0      0           0       0       0     0      0      0        0   \n",
       "3     0      0           0       0       0     0      0      0        0   \n",
       "4     0      0           0       0       0     0      0      0        0   \n",
       "\n",
       "   matcha  ...  deliciousand  rustica  romaine  predictably  roomier  \\\n",
       "0       0  ...             0        0        0            0        0   \n",
       "1       0  ...             0        0        0            0        0   \n",
       "2       0  ...             0        0        0            0        0   \n",
       "3       0  ...             0        0        0            0        0   \n",
       "4       0  ...             0        0        0            0        0   \n",
       "\n",
       "   windowed  actuality  crass  budha  digestion  \n",
       "0         0          0      0      0          0  \n",
       "1         0          0      0      0          0  \n",
       "2         0          0      0      0          0  \n",
       "3         0          0      0      0          0  \n",
       "4         0          0      0      0          0  \n",
       "\n",
       "[5 rows x 18235 columns]"
      ]
     },
     "execution_count": 18,
     "metadata": {},
     "output_type": "execute_result"
    }
   ],
   "source": [
    "bow_df.head()"
   ]
  },
  {
   "cell_type": "code",
   "execution_count": 19,
   "id": "f39c674c",
   "metadata": {},
   "outputs": [],
   "source": [
    "#bow_df.describe()"
   ]
  },
  {
   "cell_type": "code",
   "execution_count": 20,
   "id": "155ac7a0",
   "metadata": {
    "scrolled": false
   },
   "outputs": [
    {
     "data": {
      "text/plain": [
       "8"
      ]
     },
     "execution_count": 20,
     "metadata": {},
     "output_type": "execute_result"
    }
   ],
   "source": [
    "(bow_df['love'] != 0).sum()"
   ]
  },
  {
   "cell_type": "markdown",
   "id": "cea3e262",
   "metadata": {},
   "source": [
    "### TF-IDF "
   ]
  },
  {
   "cell_type": "code",
   "execution_count": 21,
   "id": "25c6ebca",
   "metadata": {},
   "outputs": [],
   "source": [
    "tf_idf_vectorizer = TfidfVectorizer()\n",
    "tf_idf_matrix = tf_idf_vectorizer.fit_transform(X)\n",
    "tf_idf_array = bow_matrix.toarray()\n",
    "tf_idf_df = pd.DataFrame(data=tf_idf_array,columns=bow_vectorizer.vocabulary_.keys())"
   ]
  },
  {
   "cell_type": "code",
   "execution_count": 22,
   "id": "9a348d2a",
   "metadata": {},
   "outputs": [
    {
     "data": {
      "text/html": [
       "<div>\n",
       "<style scoped>\n",
       "    .dataframe tbody tr th:only-of-type {\n",
       "        vertical-align: middle;\n",
       "    }\n",
       "\n",
       "    .dataframe tbody tr th {\n",
       "        vertical-align: top;\n",
       "    }\n",
       "\n",
       "    .dataframe thead th {\n",
       "        text-align: right;\n",
       "    }\n",
       "</style>\n",
       "<table border=\"1\" class=\"dataframe\">\n",
       "  <thead>\n",
       "    <tr style=\"text-align: right;\">\n",
       "      <th></th>\n",
       "      <th>love</th>\n",
       "      <th>loved</th>\n",
       "      <th>atmosphere</th>\n",
       "      <th>corner</th>\n",
       "      <th>coffee</th>\n",
       "      <th>shop</th>\n",
       "      <th>style</th>\n",
       "      <th>swing</th>\n",
       "      <th>ordered</th>\n",
       "      <th>matcha</th>\n",
       "      <th>...</th>\n",
       "      <th>deliciousand</th>\n",
       "      <th>rustica</th>\n",
       "      <th>romaine</th>\n",
       "      <th>predictably</th>\n",
       "      <th>roomier</th>\n",
       "      <th>windowed</th>\n",
       "      <th>actuality</th>\n",
       "      <th>crass</th>\n",
       "      <th>budha</th>\n",
       "      <th>digestion</th>\n",
       "    </tr>\n",
       "  </thead>\n",
       "  <tbody>\n",
       "    <tr>\n",
       "      <th>0</th>\n",
       "      <td>0</td>\n",
       "      <td>0</td>\n",
       "      <td>0</td>\n",
       "      <td>0</td>\n",
       "      <td>0</td>\n",
       "      <td>0</td>\n",
       "      <td>0</td>\n",
       "      <td>0</td>\n",
       "      <td>0</td>\n",
       "      <td>0</td>\n",
       "      <td>...</td>\n",
       "      <td>0</td>\n",
       "      <td>0</td>\n",
       "      <td>0</td>\n",
       "      <td>0</td>\n",
       "      <td>0</td>\n",
       "      <td>0</td>\n",
       "      <td>0</td>\n",
       "      <td>0</td>\n",
       "      <td>0</td>\n",
       "      <td>0</td>\n",
       "    </tr>\n",
       "    <tr>\n",
       "      <th>1</th>\n",
       "      <td>0</td>\n",
       "      <td>0</td>\n",
       "      <td>0</td>\n",
       "      <td>0</td>\n",
       "      <td>0</td>\n",
       "      <td>0</td>\n",
       "      <td>0</td>\n",
       "      <td>0</td>\n",
       "      <td>0</td>\n",
       "      <td>0</td>\n",
       "      <td>...</td>\n",
       "      <td>0</td>\n",
       "      <td>0</td>\n",
       "      <td>0</td>\n",
       "      <td>0</td>\n",
       "      <td>0</td>\n",
       "      <td>0</td>\n",
       "      <td>0</td>\n",
       "      <td>0</td>\n",
       "      <td>0</td>\n",
       "      <td>0</td>\n",
       "    </tr>\n",
       "    <tr>\n",
       "      <th>2</th>\n",
       "      <td>0</td>\n",
       "      <td>0</td>\n",
       "      <td>0</td>\n",
       "      <td>0</td>\n",
       "      <td>0</td>\n",
       "      <td>0</td>\n",
       "      <td>0</td>\n",
       "      <td>0</td>\n",
       "      <td>0</td>\n",
       "      <td>0</td>\n",
       "      <td>...</td>\n",
       "      <td>0</td>\n",
       "      <td>0</td>\n",
       "      <td>0</td>\n",
       "      <td>0</td>\n",
       "      <td>0</td>\n",
       "      <td>0</td>\n",
       "      <td>0</td>\n",
       "      <td>0</td>\n",
       "      <td>0</td>\n",
       "      <td>0</td>\n",
       "    </tr>\n",
       "    <tr>\n",
       "      <th>3</th>\n",
       "      <td>0</td>\n",
       "      <td>0</td>\n",
       "      <td>0</td>\n",
       "      <td>0</td>\n",
       "      <td>0</td>\n",
       "      <td>0</td>\n",
       "      <td>0</td>\n",
       "      <td>0</td>\n",
       "      <td>0</td>\n",
       "      <td>0</td>\n",
       "      <td>...</td>\n",
       "      <td>0</td>\n",
       "      <td>0</td>\n",
       "      <td>0</td>\n",
       "      <td>0</td>\n",
       "      <td>0</td>\n",
       "      <td>0</td>\n",
       "      <td>0</td>\n",
       "      <td>0</td>\n",
       "      <td>0</td>\n",
       "      <td>0</td>\n",
       "    </tr>\n",
       "    <tr>\n",
       "      <th>4</th>\n",
       "      <td>0</td>\n",
       "      <td>0</td>\n",
       "      <td>0</td>\n",
       "      <td>0</td>\n",
       "      <td>0</td>\n",
       "      <td>0</td>\n",
       "      <td>0</td>\n",
       "      <td>0</td>\n",
       "      <td>0</td>\n",
       "      <td>0</td>\n",
       "      <td>...</td>\n",
       "      <td>0</td>\n",
       "      <td>0</td>\n",
       "      <td>0</td>\n",
       "      <td>0</td>\n",
       "      <td>0</td>\n",
       "      <td>0</td>\n",
       "      <td>0</td>\n",
       "      <td>0</td>\n",
       "      <td>0</td>\n",
       "      <td>0</td>\n",
       "    </tr>\n",
       "  </tbody>\n",
       "</table>\n",
       "<p>5 rows × 18235 columns</p>\n",
       "</div>"
      ],
      "text/plain": [
       "   love  loved  atmosphere  corner  coffee  shop  style  swing  ordered  \\\n",
       "0     0      0           0       0       0     0      0      0        0   \n",
       "1     0      0           0       0       0     0      0      0        0   \n",
       "2     0      0           0       0       0     0      0      0        0   \n",
       "3     0      0           0       0       0     0      0      0        0   \n",
       "4     0      0           0       0       0     0      0      0        0   \n",
       "\n",
       "   matcha  ...  deliciousand  rustica  romaine  predictably  roomier  \\\n",
       "0       0  ...             0        0        0            0        0   \n",
       "1       0  ...             0        0        0            0        0   \n",
       "2       0  ...             0        0        0            0        0   \n",
       "3       0  ...             0        0        0            0        0   \n",
       "4       0  ...             0        0        0            0        0   \n",
       "\n",
       "   windowed  actuality  crass  budha  digestion  \n",
       "0         0          0      0      0          0  \n",
       "1         0          0      0      0          0  \n",
       "2         0          0      0      0          0  \n",
       "3         0          0      0      0          0  \n",
       "4         0          0      0      0          0  \n",
       "\n",
       "[5 rows x 18235 columns]"
      ]
     },
     "execution_count": 22,
     "metadata": {},
     "output_type": "execute_result"
    }
   ],
   "source": [
    "tf_idf_df.head()"
   ]
  },
  {
   "cell_type": "code",
   "execution_count": 23,
   "id": "ad8253a3",
   "metadata": {},
   "outputs": [],
   "source": [
    "#tf_idf_df.describe()"
   ]
  },
  {
   "cell_type": "code",
   "execution_count": 24,
   "id": "3619b268",
   "metadata": {},
   "outputs": [
    {
     "data": {
      "text/plain": [
       "8"
      ]
     },
     "execution_count": 24,
     "metadata": {},
     "output_type": "execute_result"
    }
   ],
   "source": [
    "(tf_idf_df['love'] != 0).sum()"
   ]
  },
  {
   "cell_type": "markdown",
   "id": "cc1f9003",
   "metadata": {},
   "source": [
    "### Word2Vec vs TF-IDF (with Random Resampling)"
   ]
  },
  {
   "cell_type": "code",
   "execution_count": 25,
   "id": "c4cfe20f",
   "metadata": {},
   "outputs": [],
   "source": [
    "random_oversampler = RandomOverSampler(random_state=42)"
   ]
  },
  {
   "cell_type": "code",
   "execution_count": 26,
   "id": "e17baa65",
   "metadata": {},
   "outputs": [
    {
     "name": "stdout",
     "output_type": "stream",
     "text": [
      "Model accuracy: 56.18%\n"
     ]
    }
   ],
   "source": [
    "x_train_bow,x_test_bow,y_train,y_test = create_data_split(X,y,vectorizer=CountVectorizer())\n",
    "ro_x_bow,ro_y = random_oversampler.fit_resample(x_train_bow, y_train)\n",
    "model_NB = MultinomialNB()\n",
    "model_NB.fit(ro_x_bow, ro_y)\n",
    "accuracy = model_NB.score(x_test_bow, y_test)\n",
    "print(\"Model accuracy: {:.2f}%\".format(accuracy * 100))"
   ]
  },
  {
   "cell_type": "code",
   "execution_count": 27,
   "id": "f25f6aa9",
   "metadata": {},
   "outputs": [
    {
     "name": "stdout",
     "output_type": "stream",
     "text": [
      "Model accuracy: 55.17%\n"
     ]
    }
   ],
   "source": [
    "x_train_tfidf,x_test_tfidf,y_train,y_test = create_data_split(X,y,vectorizer=TfidfVectorizer())\n",
    "ro_x_tfidf,ro_y = random_oversampler.fit_resample(x_train_tfidf, y_train)\n",
    "model_NB = MultinomialNB()\n",
    "model_NB.fit(ro_x_tfidf, ro_y)\n",
    "accuracy = model_NB.score(x_test_tfidf, y_test)\n",
    "print(\"Model accuracy: {:.2f}%\".format(accuracy * 100))"
   ]
  },
  {
   "cell_type": "markdown",
   "id": "fbccb6cf",
   "metadata": {},
   "source": [
    "### Based on the previous results: Word2Vec Outperformed TF-IDF"
   ]
  },
  {
   "cell_type": "markdown",
   "id": "136cb5c1",
   "metadata": {},
   "source": [
    "### Before moving on to Feature Selection, the best resampling technique must found for Word2Vec"
   ]
  },
  {
   "cell_type": "code",
   "execution_count": 28,
   "id": "272b5325",
   "metadata": {},
   "outputs": [],
   "source": [
    "random_underSampler = RandomUnderSampler(random_state=42)"
   ]
  },
  {
   "cell_type": "code",
   "execution_count": 29,
   "id": "4618b3cc",
   "metadata": {},
   "outputs": [
    {
     "name": "stdout",
     "output_type": "stream",
     "text": [
      "Model accuracy: 39.84%\n"
     ]
    }
   ],
   "source": [
    "ru_x_bow,ru_y = random_underSampler.fit_resample(x_train_bow, y_train)\n",
    "model_NB = MultinomialNB()\n",
    "model_NB.fit(ru_x_bow, ru_y)\n",
    "accuracy = model_NB.score(x_test_bow, y_test)\n",
    "print(\"Model accuracy: {:.2f}%\".format(accuracy * 100))"
   ]
  },
  {
   "cell_type": "code",
   "execution_count": 30,
   "id": "28aa67d4",
   "metadata": {},
   "outputs": [],
   "source": [
    "oversample = SMOTE(random_state=42)"
   ]
  },
  {
   "cell_type": "code",
   "execution_count": 31,
   "id": "883ced02",
   "metadata": {},
   "outputs": [
    {
     "name": "stdout",
     "output_type": "stream",
     "text": [
      "Model accuracy: 58.42%\n"
     ]
    }
   ],
   "source": [
    "smote_x_bow,smote_y = oversample.fit_resample(x_train_bow, y_train)\n",
    "model_NB = MultinomialNB()\n",
    "model_NB.fit(smote_x_bow, smote_y)\n",
    "accuracy = model_NB.score(x_test_bow, y_test)\n",
    "print(\"Model accuracy: {:.2f}%\".format(accuracy * 100))"
   ]
  },
  {
   "cell_type": "code",
   "execution_count": 32,
   "id": "34806e37",
   "metadata": {},
   "outputs": [
    {
     "name": "stdout",
     "output_type": "stream",
     "text": [
      "Random Forest Classification Report = \n",
      "                precision    recall  f1-score   support\n",
      "\n",
      "           1       0.70      0.28      0.40        58\n",
      "           2       0.31      0.24      0.27        70\n",
      "           3       0.40      0.24      0.30       134\n",
      "           4       0.51      0.54      0.52       459\n",
      "           5       0.67      0.75      0.71       662\n",
      "\n",
      "    accuracy                           0.58      1383\n",
      "   macro avg       0.52      0.41      0.44      1383\n",
      "weighted avg       0.57      0.58      0.57      1383\n",
      "\n"
     ]
    }
   ],
   "source": [
    "y_pred = model_NB.predict(x_test_bow)\n",
    "print(\"Random Forest Classification Report = \\n \",metrics.classification_report(y_test,y_pred))"
   ]
  },
  {
   "cell_type": "markdown",
   "id": "e420ef66",
   "metadata": {},
   "source": [
    "### Based on these results: SMOTE was the best resampling technique specifically for Word2Vec"
   ]
  },
  {
   "cell_type": "markdown",
   "id": "c5f45981",
   "metadata": {},
   "source": [
    "### 2.3 Feature Selection"
   ]
  },
  {
   "cell_type": "code",
   "execution_count": 33,
   "id": "24327b94",
   "metadata": {},
   "outputs": [
    {
     "data": {
      "text/plain": [
       "(6914, 18235)"
      ]
     },
     "execution_count": 33,
     "metadata": {},
     "output_type": "execute_result"
    }
   ],
   "source": [
    "bow_df.shape"
   ]
  }
 ],
 "metadata": {
  "kernelspec": {
   "display_name": "Python 3 (ipykernel)",
   "language": "python",
   "name": "python3"
  },
  "language_info": {
   "codemirror_mode": {
    "name": "ipython",
    "version": 3
   },
   "file_extension": ".py",
   "mimetype": "text/x-python",
   "name": "python",
   "nbconvert_exporter": "python",
   "pygments_lexer": "ipython3",
   "version": "3.9.7"
  }
 },
 "nbformat": 4,
 "nbformat_minor": 5
}
