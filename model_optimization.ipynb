{
 "cells": [
  {
   "cell_type": "markdown",
   "id": "0e3c6923",
   "metadata": {},
   "source": [
    "### File: Model Optimization"
   ]
  },
  {
   "cell_type": "markdown",
   "id": "998b5a2d",
   "metadata": {},
   "source": [
    "##### Goals and Objectives of this file:\n",
    "\n",
    "##### 1. Basic Model Training and Word Embedding Testing\n",
    "##### 2. Data Processing => over/under sampling the classes  => outlier detection =>  word embeddings => feature selection\n",
    "##### 3. Model Optimization => (Hyper)parameter Tuning => different Algorithms tests => different neural network architectures test\n",
    "##### 4. Training and Testing => accuracy => precision => confusion matrix => roc/auc curves => learning curve"
   ]
  },
  {
   "cell_type": "code",
   "execution_count": 1,
   "id": "d8218a34",
   "metadata": {},
   "outputs": [],
   "source": [
    "import numpy as np\n",
    "import pandas as pd\n",
    "import matplotlib.pyplot as plt\n",
    "import nltk\n",
    "from nltk.corpus import stopwords\n",
    "from nltk.stem import WordNetLemmatizer\n",
    "import string\n",
    "from sklearn.feature_extraction.text import TfidfVectorizer\n",
    "from sklearn.model_selection import train_test_split\n",
    "from sklearn.linear_model import LogisticRegression\n",
    "import tensorflow as tf\n",
    "import imblearn\n",
    "from sklearn.neighbors import KNeighborsClassifier\n",
    "from sklearn import metrics\n",
    "from sklearn.naive_bayes import MultinomialNB\n",
    "from nltk.sentiment.vader import SentimentIntensityAnalyzer"
   ]
  },
  {
   "cell_type": "markdown",
   "id": "2c510bd6",
   "metadata": {},
   "source": [
    "### 1. Basic Model Training and Vectorizer Testing"
   ]
  },
  {
   "cell_type": "code",
   "execution_count": 2,
   "id": "564a2a35",
   "metadata": {},
   "outputs": [],
   "source": [
    "df = pd.read_csv(\"datasets/yelp coffee/yelp_coffee_corpus.csv\")"
   ]
  },
  {
   "cell_type": "code",
   "execution_count": 3,
   "id": "a3001b63",
   "metadata": {},
   "outputs": [],
   "source": [
    "X = df['corpus_text']\n",
    "y = df['corpus_labels']"
   ]
  },
  {
   "cell_type": "code",
   "execution_count": 4,
   "id": "c25b79c8",
   "metadata": {},
   "outputs": [],
   "source": [
    "train_texts, test_texts, train_labels, test_labels\\\n",
    "= train_test_split(X, y, test_size=0.2,random_state = 42)"
   ]
  },
  {
   "cell_type": "code",
   "execution_count": 5,
   "id": "900d6158",
   "metadata": {},
   "outputs": [],
   "source": [
    "vectorizer = TfidfVectorizer()\n",
    "train_features = vectorizer.fit_transform(train_texts)"
   ]
  },
  {
   "cell_type": "code",
   "execution_count": 6,
   "id": "2d551afb",
   "metadata": {},
   "outputs": [
    {
     "name": "stdout",
     "output_type": "stream",
     "text": [
      "Model accuracy: 47.79%\n"
     ]
    }
   ],
   "source": [
    "model_NB = MultinomialNB()\n",
    "model_NB.fit(train_features, train_labels)\n",
    "test_features = vectorizer.transform(test_texts)\n",
    "accuracy = model_NB.score(test_features, test_labels)\n",
    "print(\"Model accuracy: {:.2f}%\".format(accuracy * 100))"
   ]
  },
  {
   "cell_type": "markdown",
   "id": "48b749e8",
   "metadata": {},
   "source": [
    "### This result can be better..."
   ]
  },
  {
   "cell_type": "markdown",
   "id": "d3965849",
   "metadata": {},
   "source": [
    "### 2. Data Processing"
   ]
  },
  {
   "cell_type": "code",
   "execution_count": 7,
   "id": "9aade812",
   "metadata": {
    "scrolled": true
   },
   "outputs": [
    {
     "data": {
      "image/png": "[encoded data removed]",
      "text/plain": [
       "<Figure size 432x288 with 1 Axes>"
      ]
     },
     "metadata": {},
     "output_type": "display_data"
    }
   ],
   "source": [
    "_, _, autotexts = plt.pie(df['corpus_labels'].value_counts(),colors = ['blue','green','red','black','orange'],labels = [1,2,3,4,5],autopct= '%1.1f%%')\n",
    "for autotext in autotexts:\n",
    "    autotext.set_color('white')"
   ]
  },
  {
   "cell_type": "markdown",
   "id": "9d580040",
   "metadata": {},
   "source": [
    "### This dataset will be balanced using several different techniques."
   ]
  },
  {
   "cell_type": "markdown",
   "id": "fed577d9",
   "metadata": {},
   "source": [
    "### 2.1 Data Resampling"
   ]
  }
 ],
 "metadata": {
  "kernelspec": {
   "display_name": "Python 3 (ipykernel)",
   "language": "python",
   "name": "python3"
  },
  "language_info": {
   "codemirror_mode": {
    "name": "ipython",
    "version": 3
   },
   "file_extension": ".py",
   "mimetype": "text/x-python",
   "name": "python",
   "nbconvert_exporter": "python",
   "pygments_lexer": "ipython3",
   "version": "3.9.7"
  }
 },
 "nbformat": 4,
 "nbformat_minor": 5
}
