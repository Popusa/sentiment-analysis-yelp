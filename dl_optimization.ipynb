{
 "cells": [
  {
   "attachments": {},
   "cell_type": "markdown",
   "metadata": {},
   "source": [
    "# Deep Learning Optimization"
   ]
  },
  {
   "attachments": {},
   "cell_type": "markdown",
   "metadata": {},
   "source": [
    "## 1. Import Libraries and Helper Functions"
   ]
  },
  {
   "cell_type": "code",
   "execution_count": null,
   "metadata": {},
   "outputs": [],
   "source": [
    "import pandas as pd\n",
    "from nlp_ml_utils import *"
   ]
  },
  {
   "attachments": {},
   "cell_type": "markdown",
   "metadata": {},
   "source": [
    "### 1.1 Data Sourcing"
   ]
  },
  {
   "cell_type": "code",
   "execution_count": null,
   "metadata": {},
   "outputs": [],
   "source": [
    "CHUNKS_URL = [\n",
    "'https://f005.backblazeb2.com/file/yelp-dataset/chunk_1.csv',\n",
    "'https://f005.backblazeb2.com/file/yelp-dataset/chunk_2.csv',\n",
    "'https://f005.backblazeb2.com/file/yelp-dataset/chunk_3.csv',\n",
    "'https://f005.backblazeb2.com/file/yelp-dataset/chunk_4.csv',\n",
    "'https://f005.backblazeb2.com/file/yelp-dataset/chunk_5.csv',\n",
    "'https://f005.backblazeb2.com/file/yelp-dataset/chunk_6.csv',\n",
    "'https://f005.backblazeb2.com/file/yelp-dataset/chunk_7.csv',\n",
    "'https://f005.backblazeb2.com/file/yelp-dataset/chunk_8.csv',\n",
    "'https://f005.backblazeb2.com/file/yelp-dataset/chunk_9.csv',\n",
    "]"
   ]
  },
  {
   "cell_type": "code",
   "execution_count": null,
   "metadata": {},
   "outputs": [],
   "source": [
    "def group_up_data(dfs):\n",
    "    return pd.concat(dfs)"
   ]
  },
  {
   "attachments": {},
   "cell_type": "markdown",
   "metadata": {},
   "source": [
    "### 1.2 Data Preparation and Pre-processing"
   ]
  },
  {
   "cell_type": "code",
   "execution_count": null,
   "metadata": {},
   "outputs": [],
   "source": []
  }
 ],
 "metadata": {
  "language_info": {
   "name": "python"
  },
  "orig_nbformat": 4
 },
 "nbformat": 4,
 "nbformat_minor": 2
}
