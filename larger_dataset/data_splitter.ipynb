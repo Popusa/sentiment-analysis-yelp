{
 "cells": [
  {
   "cell_type": "code",
   "execution_count": 1,
   "metadata": {},
   "outputs": [
    {
     "name": "stderr",
     "output_type": "stream",
     "text": [
      "c:\\Users\\user\\AppData\\Local\\Programs\\Python\\Python310\\lib\\site-packages\\numpy\\_distributor_init.py:30: UserWarning: loaded more than 1 DLL from .libs:\n",
      "c:\\Users\\user\\AppData\\Local\\Programs\\Python\\Python310\\lib\\site-packages\\numpy\\.libs\\libopenblas.EL2C6PLE4ZYW3ECEVIV3OXXGRN2NRFM2.gfortran-win_amd64.dll\n",
      "c:\\Users\\user\\AppData\\Local\\Programs\\Python\\Python310\\lib\\site-packages\\numpy\\.libs\\libopenblas.FB5AE2TYXYH2IJRDKGDGQ3XBKLKTF43H.gfortran-win_amd64.dll\n",
      "  warnings.warn(\"loaded more than 1 DLL from .libs:\"\n"
     ]
    }
   ],
   "source": [
    "import pandas as pd\n",
    "import json\n",
    "import math\n",
    "import os"
   ]
  },
  {
   "cell_type": "code",
   "execution_count": 2,
   "metadata": {},
   "outputs": [],
   "source": [
    "data_file = open(\"yelp_academic_dataset_review.json\",encoding='utf-8')\n",
    "data = []\n",
    "for line in data_file:\n",
    "    data.append(json.loads(line))\n",
    "df = pd.DataFrame(data)\n",
    "data_file.close()"
   ]
  },
  {
   "cell_type": "code",
   "execution_count": 3,
   "metadata": {},
   "outputs": [
    {
     "data": {
      "text/html": [
       "<div>\n",
       "<style scoped>\n",
       "    .dataframe tbody tr th:only-of-type {\n",
       "        vertical-align: middle;\n",
       "    }\n",
       "\n",
       "    .dataframe tbody tr th {\n",
       "        vertical-align: top;\n",
       "    }\n",
       "\n",
       "    .dataframe thead th {\n",
       "        text-align: right;\n",
       "    }\n",
       "</style>\n",
       "<table border=\"1\" class=\"dataframe\">\n",
       "  <thead>\n",
       "    <tr style=\"text-align: right;\">\n",
       "      <th></th>\n",
       "      <th>review_id</th>\n",
       "      <th>user_id</th>\n",
       "      <th>business_id</th>\n",
       "      <th>stars</th>\n",
       "      <th>useful</th>\n",
       "      <th>funny</th>\n",
       "      <th>cool</th>\n",
       "      <th>text</th>\n",
       "      <th>date</th>\n",
       "    </tr>\n",
       "  </thead>\n",
       "  <tbody>\n",
       "    <tr>\n",
       "      <th>0</th>\n",
       "      <td>KU_O5udG6zpxOg-VcAEodg</td>\n",
       "      <td>mh_-eMZ6K5RLWhZyISBhwA</td>\n",
       "      <td>XQfwVwDr-v0ZS3_CbbE5Xw</td>\n",
       "      <td>3.0</td>\n",
       "      <td>0</td>\n",
       "      <td>0</td>\n",
       "      <td>0</td>\n",
       "      <td>If you decide to eat here, just be aware it is...</td>\n",
       "      <td>2018-07-07 22:09:11</td>\n",
       "    </tr>\n",
       "    <tr>\n",
       "      <th>1</th>\n",
       "      <td>BiTunyQ73aT9WBnpR9DZGw</td>\n",
       "      <td>OyoGAe7OKpv6SyGZT5g77Q</td>\n",
       "      <td>7ATYjTIgM3jUlt4UM3IypQ</td>\n",
       "      <td>5.0</td>\n",
       "      <td>1</td>\n",
       "      <td>0</td>\n",
       "      <td>1</td>\n",
       "      <td>I've taken a lot of spin classes over the year...</td>\n",
       "      <td>2012-01-03 15:28:18</td>\n",
       "    </tr>\n",
       "    <tr>\n",
       "      <th>2</th>\n",
       "      <td>saUsX_uimxRlCVr67Z4Jig</td>\n",
       "      <td>8g_iMtfSiwikVnbP2etR0A</td>\n",
       "      <td>YjUWPpI6HXG530lwP-fb2A</td>\n",
       "      <td>3.0</td>\n",
       "      <td>0</td>\n",
       "      <td>0</td>\n",
       "      <td>0</td>\n",
       "      <td>Family diner. Had the buffet. Eclectic assortm...</td>\n",
       "      <td>2014-02-05 20:30:30</td>\n",
       "    </tr>\n",
       "    <tr>\n",
       "      <th>3</th>\n",
       "      <td>AqPFMleE6RsU23_auESxiA</td>\n",
       "      <td>_7bHUi9Uuf5__HHc_Q8guQ</td>\n",
       "      <td>kxX2SOes4o-D3ZQBkiMRfA</td>\n",
       "      <td>5.0</td>\n",
       "      <td>1</td>\n",
       "      <td>0</td>\n",
       "      <td>1</td>\n",
       "      <td>Wow!  Yummy, different,  delicious.   Our favo...</td>\n",
       "      <td>2015-01-04 00:01:03</td>\n",
       "    </tr>\n",
       "    <tr>\n",
       "      <th>4</th>\n",
       "      <td>Sx8TMOWLNuJBWer-0pcmoA</td>\n",
       "      <td>bcjbaE6dDog4jkNY91ncLQ</td>\n",
       "      <td>e4Vwtrqf-wpJfwesgvdgxQ</td>\n",
       "      <td>4.0</td>\n",
       "      <td>1</td>\n",
       "      <td>0</td>\n",
       "      <td>1</td>\n",
       "      <td>Cute interior and owner (?) gave us tour of up...</td>\n",
       "      <td>2017-01-14 20:54:15</td>\n",
       "    </tr>\n",
       "    <tr>\n",
       "      <th>...</th>\n",
       "      <td>...</td>\n",
       "      <td>...</td>\n",
       "      <td>...</td>\n",
       "      <td>...</td>\n",
       "      <td>...</td>\n",
       "      <td>...</td>\n",
       "      <td>...</td>\n",
       "      <td>...</td>\n",
       "      <td>...</td>\n",
       "    </tr>\n",
       "    <tr>\n",
       "      <th>6990275</th>\n",
       "      <td>H0RIamZu0B0Ei0P4aeh3sQ</td>\n",
       "      <td>qskILQ3k0I_qcCMI-k6_QQ</td>\n",
       "      <td>jals67o91gcrD4DC81Vk6w</td>\n",
       "      <td>5.0</td>\n",
       "      <td>1</td>\n",
       "      <td>2</td>\n",
       "      <td>1</td>\n",
       "      <td>Latest addition to services from ICCU is Apple...</td>\n",
       "      <td>2014-12-17 21:45:20</td>\n",
       "    </tr>\n",
       "    <tr>\n",
       "      <th>6990276</th>\n",
       "      <td>shTPgbgdwTHSuU67mGCmZQ</td>\n",
       "      <td>Zo0th2m8Ez4gLSbHftiQvg</td>\n",
       "      <td>2vLksaMmSEcGbjI5gywpZA</td>\n",
       "      <td>5.0</td>\n",
       "      <td>2</td>\n",
       "      <td>1</td>\n",
       "      <td>2</td>\n",
       "      <td>This spot offers a great, affordable east week...</td>\n",
       "      <td>2021-03-31 16:55:10</td>\n",
       "    </tr>\n",
       "    <tr>\n",
       "      <th>6990277</th>\n",
       "      <td>YNfNhgZlaaCO5Q_YJR4rEw</td>\n",
       "      <td>mm6E4FbCMwJmb7kPDZ5v2Q</td>\n",
       "      <td>R1khUUxidqfaJmcpmGd4aw</td>\n",
       "      <td>4.0</td>\n",
       "      <td>1</td>\n",
       "      <td>0</td>\n",
       "      <td>0</td>\n",
       "      <td>This Home Depot won me over when I needed to g...</td>\n",
       "      <td>2019-12-30 03:56:30</td>\n",
       "    </tr>\n",
       "    <tr>\n",
       "      <th>6990278</th>\n",
       "      <td>i-I4ZOhoX70Nw5H0FwrQUA</td>\n",
       "      <td>YwAMC-jvZ1fvEUum6QkEkw</td>\n",
       "      <td>Rr9kKArrMhSLVE9a53q-aA</td>\n",
       "      <td>5.0</td>\n",
       "      <td>1</td>\n",
       "      <td>0</td>\n",
       "      <td>0</td>\n",
       "      <td>For when I'm feeling like ignoring my calorie-...</td>\n",
       "      <td>2022-01-19 18:59:27</td>\n",
       "    </tr>\n",
       "    <tr>\n",
       "      <th>6990279</th>\n",
       "      <td>RwcKOdEuLRHNJe4M9-qpqg</td>\n",
       "      <td>6JehEvdoCvZPJ_XIxnzIIw</td>\n",
       "      <td>VAeEXLbEcI9Emt9KGYq9aA</td>\n",
       "      <td>3.0</td>\n",
       "      <td>10</td>\n",
       "      <td>3</td>\n",
       "      <td>7</td>\n",
       "      <td>Located in the 'Walking District' in Nashville...</td>\n",
       "      <td>2018-01-02 22:50:47</td>\n",
       "    </tr>\n",
       "  </tbody>\n",
       "</table>\n",
       "<p>6990280 rows × 9 columns</p>\n",
       "</div>"
      ],
      "text/plain": [
       "                      review_id                 user_id  \\\n",
       "0        KU_O5udG6zpxOg-VcAEodg  mh_-eMZ6K5RLWhZyISBhwA   \n",
       "1        BiTunyQ73aT9WBnpR9DZGw  OyoGAe7OKpv6SyGZT5g77Q   \n",
       "2        saUsX_uimxRlCVr67Z4Jig  8g_iMtfSiwikVnbP2etR0A   \n",
       "3        AqPFMleE6RsU23_auESxiA  _7bHUi9Uuf5__HHc_Q8guQ   \n",
       "4        Sx8TMOWLNuJBWer-0pcmoA  bcjbaE6dDog4jkNY91ncLQ   \n",
       "...                         ...                     ...   \n",
       "6990275  H0RIamZu0B0Ei0P4aeh3sQ  qskILQ3k0I_qcCMI-k6_QQ   \n",
       "6990276  shTPgbgdwTHSuU67mGCmZQ  Zo0th2m8Ez4gLSbHftiQvg   \n",
       "6990277  YNfNhgZlaaCO5Q_YJR4rEw  mm6E4FbCMwJmb7kPDZ5v2Q   \n",
       "6990278  i-I4ZOhoX70Nw5H0FwrQUA  YwAMC-jvZ1fvEUum6QkEkw   \n",
       "6990279  RwcKOdEuLRHNJe4M9-qpqg  6JehEvdoCvZPJ_XIxnzIIw   \n",
       "\n",
       "                    business_id  stars  useful  funny  cool  \\\n",
       "0        XQfwVwDr-v0ZS3_CbbE5Xw    3.0       0      0     0   \n",
       "1        7ATYjTIgM3jUlt4UM3IypQ    5.0       1      0     1   \n",
       "2        YjUWPpI6HXG530lwP-fb2A    3.0       0      0     0   \n",
       "3        kxX2SOes4o-D3ZQBkiMRfA    5.0       1      0     1   \n",
       "4        e4Vwtrqf-wpJfwesgvdgxQ    4.0       1      0     1   \n",
       "...                         ...    ...     ...    ...   ...   \n",
       "6990275  jals67o91gcrD4DC81Vk6w    5.0       1      2     1   \n",
       "6990276  2vLksaMmSEcGbjI5gywpZA    5.0       2      1     2   \n",
       "6990277  R1khUUxidqfaJmcpmGd4aw    4.0       1      0     0   \n",
       "6990278  Rr9kKArrMhSLVE9a53q-aA    5.0       1      0     0   \n",
       "6990279  VAeEXLbEcI9Emt9KGYq9aA    3.0      10      3     7   \n",
       "\n",
       "                                                      text  \\\n",
       "0        If you decide to eat here, just be aware it is...   \n",
       "1        I've taken a lot of spin classes over the year...   \n",
       "2        Family diner. Had the buffet. Eclectic assortm...   \n",
       "3        Wow!  Yummy, different,  delicious.   Our favo...   \n",
       "4        Cute interior and owner (?) gave us tour of up...   \n",
       "...                                                    ...   \n",
       "6990275  Latest addition to services from ICCU is Apple...   \n",
       "6990276  This spot offers a great, affordable east week...   \n",
       "6990277  This Home Depot won me over when I needed to g...   \n",
       "6990278  For when I'm feeling like ignoring my calorie-...   \n",
       "6990279  Located in the 'Walking District' in Nashville...   \n",
       "\n",
       "                        date  \n",
       "0        2018-07-07 22:09:11  \n",
       "1        2012-01-03 15:28:18  \n",
       "2        2014-02-05 20:30:30  \n",
       "3        2015-01-04 00:01:03  \n",
       "4        2017-01-14 20:54:15  \n",
       "...                      ...  \n",
       "6990275  2014-12-17 21:45:20  \n",
       "6990276  2021-03-31 16:55:10  \n",
       "6990277  2019-12-30 03:56:30  \n",
       "6990278  2022-01-19 18:59:27  \n",
       "6990279  2018-01-02 22:50:47  \n",
       "\n",
       "[6990280 rows x 9 columns]"
      ]
     },
     "execution_count": 3,
     "metadata": {},
     "output_type": "execute_result"
    }
   ],
   "source": [
    "df"
   ]
  },
  {
   "cell_type": "code",
   "execution_count": 4,
   "metadata": {},
   "outputs": [],
   "source": [
    "data_rows = df.shape[0]"
   ]
  },
  {
   "cell_type": "code",
   "execution_count": 5,
   "metadata": {},
   "outputs": [],
   "source": [
    "def create_chunk(data,start_size,end_size):\n",
    "    chunk = data.iloc[start_size:end_size]\n",
    "    return chunk"
   ]
  },
  {
   "cell_type": "code",
   "execution_count": 6,
   "metadata": {},
   "outputs": [
    {
     "data": {
      "text/plain": [
       "6990280"
      ]
     },
     "execution_count": 6,
     "metadata": {},
     "output_type": "execute_result"
    }
   ],
   "source": [
    "data_rows"
   ]
  },
  {
   "cell_type": "code",
   "execution_count": 7,
   "metadata": {},
   "outputs": [
    {
     "name": "stdout",
     "output_type": "stream",
     "text": [
      "60\n",
      "116505\n",
      "0\n",
      "116505\n"
     ]
    }
   ],
   "source": [
    "data_chunks = []\n",
    "CHUNKS_COUNT = 60\n",
    "CHUNK_SIZE = math.ceil(data_rows / CHUNKS_COUNT)\n",
    "start_slice = 0\n",
    "chunk_slice = CHUNK_SIZE\n",
    "\n",
    "print(CHUNKS_COUNT)\n",
    "print(CHUNK_SIZE)\n",
    "print(start_slice)\n",
    "print(chunk_slice)\n",
    "\n",
    "for i in range(CHUNKS_COUNT):\n",
    "    data_chunks.append(create_chunk(df,start_slice,chunk_slice))\n",
    "    start_slice += CHUNK_SIZE\n",
    "    chunk_slice += CHUNK_SIZE"
   ]
  },
  {
   "cell_type": "code",
   "execution_count": 8,
   "metadata": {},
   "outputs": [
    {
     "name": "stdout",
     "output_type": "stream",
     "text": [
      "(116505, 9)\n",
      "(116505, 9)\n",
      "(116505, 9)\n",
      "(116505, 9)\n",
      "(116505, 9)\n",
      "(116505, 9)\n",
      "(116505, 9)\n",
      "(116505, 9)\n",
      "(116505, 9)\n",
      "(116505, 9)\n",
      "(116505, 9)\n",
      "(116505, 9)\n",
      "(116505, 9)\n",
      "(116505, 9)\n",
      "(116505, 9)\n",
      "(116505, 9)\n",
      "(116505, 9)\n",
      "(116505, 9)\n",
      "(116505, 9)\n",
      "(116505, 9)\n",
      "(116505, 9)\n",
      "(116505, 9)\n",
      "(116505, 9)\n",
      "(116505, 9)\n",
      "(116505, 9)\n",
      "(116505, 9)\n",
      "(116505, 9)\n",
      "(116505, 9)\n",
      "(116505, 9)\n",
      "(116505, 9)\n",
      "(116505, 9)\n",
      "(116505, 9)\n",
      "(116505, 9)\n",
      "(116505, 9)\n",
      "(116505, 9)\n",
      "(116505, 9)\n",
      "(116505, 9)\n",
      "(116505, 9)\n",
      "(116505, 9)\n",
      "(116505, 9)\n",
      "(116505, 9)\n",
      "(116505, 9)\n",
      "(116505, 9)\n",
      "(116505, 9)\n",
      "(116505, 9)\n",
      "(116505, 9)\n",
      "(116505, 9)\n",
      "(116505, 9)\n",
      "(116505, 9)\n",
      "(116505, 9)\n",
      "(116505, 9)\n",
      "(116505, 9)\n",
      "(116505, 9)\n",
      "(116505, 9)\n",
      "(116505, 9)\n",
      "(116505, 9)\n",
      "(116505, 9)\n",
      "(116505, 9)\n",
      "(116505, 9)\n",
      "(116485, 9)\n",
      "6990280 True\n"
     ]
    }
   ],
   "source": [
    "dataset_total = 0\n",
    "for i in range(CHUNKS_COUNT):\n",
    "    dataset_total += data_chunks[i].shape[0]\n",
    "    print(data_chunks[i].shape)\n",
    "\n",
    "print(dataset_total, dataset_total == df.shape[0])"
   ]
  },
  {
   "cell_type": "code",
   "execution_count": null,
   "metadata": {},
   "outputs": [],
   "source": [
    "if not os.path.exists('data_chunks'):\n",
    "    os.mkdir('data_chunks')"
   ]
  },
  {
   "cell_type": "code",
   "execution_count": 9,
   "metadata": {},
   "outputs": [],
   "source": [
    "filepath = 'data_chunks/chunk_'"
   ]
  },
  {
   "cell_type": "code",
   "execution_count": 10,
   "metadata": {},
   "outputs": [],
   "source": [
    "for itr,chunk in enumerate(data_chunks):\n",
    "    chunk.to_csv(filepath + str(itr + 1) + '.csv',index=False)"
   ]
  },
  {
   "cell_type": "code",
   "execution_count": 11,
   "metadata": {},
   "outputs": [
    {
     "data": {
      "text/plain": [
       "(6990280, 9)"
      ]
     },
     "execution_count": 11,
     "metadata": {},
     "output_type": "execute_result"
    }
   ],
   "source": [
    "all_dfs = []\n",
    "for i,chunk in enumerate(data_chunks):\n",
    "    all_dfs.append(pd.read_csv(\"data_chunks/\" + \"chunk_\" + str(i + 1) + \".csv\"))\n",
    "\n",
    "df_total = pd.concat(all_dfs)\n",
    "df_total.shape"
   ]
  },
  {
   "cell_type": "code",
   "execution_count": 12,
   "metadata": {},
   "outputs": [
    {
     "data": {
      "text/plain": [
       "True"
      ]
     },
     "execution_count": 12,
     "metadata": {},
     "output_type": "execute_result"
    }
   ],
   "source": [
    "df.shape == df_total.shape"
   ]
  }
 ],
 "metadata": {
  "kernelspec": {
   "display_name": "Python 3",
   "language": "python",
   "name": "python3"
  },
  "language_info": {
   "codemirror_mode": {
    "name": "ipython",
    "version": 3
   },
   "file_extension": ".py",
   "mimetype": "text/x-python",
   "name": "python",
   "nbconvert_exporter": "python",
   "pygments_lexer": "ipython3",
   "version": "3.10.10"
  },
  "orig_nbformat": 4
 },
 "nbformat": 4,
 "nbformat_minor": 2
}
