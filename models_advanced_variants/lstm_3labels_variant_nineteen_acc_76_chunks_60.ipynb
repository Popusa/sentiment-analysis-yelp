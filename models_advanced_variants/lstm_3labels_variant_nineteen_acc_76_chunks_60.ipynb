{
 "cells": [
  {
   "cell_type": "code",
   "execution_count": 1,
   "metadata": {},
   "outputs": [],
   "source": [
    "VARIANT_NUM = 19"
   ]
  },
  {
   "cell_type": "markdown",
   "metadata": {},
   "source": [
    "# LSTM Model"
   ]
  },
  {
   "cell_type": "markdown",
   "metadata": {},
   "source": [
    "#### Goal of This File:\n",
    "\n",
    "##### 1. Import Libraries, Helper Functions, and Constants ==> Data Sourcing and Munging ==> Utility Functions ==> Loading the Data ==> Merging all Individual Files\n",
    "\n",
    "##### 2. Imbalanced Data Solution ==> Class Weights ==> Glove + Hyperparameters\n",
    "\n",
    "##### 3. Bidirectional LSTM\n",
    "\n",
    "##### 4. Conclusion ==> Results ==> Tensorboard"
   ]
  },
  {
   "cell_type": "markdown",
   "metadata": {},
   "source": [
    "## 1. Import Libraries, Helper Functions and Load Constants"
   ]
  },
  {
   "cell_type": "code",
   "execution_count": 2,
   "metadata": {
    "scrolled": false
   },
   "outputs": [
    {
     "name": "stdout",
     "output_type": "stream",
     "text": [
      "\u001b[33mWARNING: Running pip as the 'root' user can result in broken permissions and conflicting behaviour with the system package manager. It is recommended to use a virtual environment instead: https://pip.pypa.io/warnings/venv\u001b[0m\u001b[33m\r\n",
      "\u001b[0m\r\n",
      "\u001b[1m[\u001b[0m\u001b[34;49mnotice\u001b[0m\u001b[1;39;49m]\u001b[0m\u001b[39;49m A new release of pip is available: \u001b[0m\u001b[31;49m23.0.1\u001b[0m\u001b[39;49m -> \u001b[0m\u001b[32;49m23.1.2\u001b[0m\r\n",
      "\u001b[1m[\u001b[0m\u001b[34;49mnotice\u001b[0m\u001b[1;39;49m]\u001b[0m\u001b[39;49m To update, run: \u001b[0m\u001b[32;49mpython3 -m pip install --upgrade pip\u001b[0m\r\n"
     ]
    }
   ],
   "source": [
    "!pip install pandas numpy nltk scikit-learn wordcloud\\\n",
    "seaborn gensim tensorflow imblearn xgboost matplotlib unrar pyunpack more-itertools patool transformers > /dev/null"
   ]
  },
  {
   "cell_type": "code",
   "execution_count": 3,
   "metadata": {},
   "outputs": [
    {
     "name": "stdout",
     "output_type": "stream",
     "text": [
      "Reading package lists... Done\n",
      "Building dependency tree       \n",
      "Reading state information... Done\n",
      "unrar is already the newest version (1:5.6.6-2build1).\n",
      "0 upgraded, 0 newly installed, 0 to remove and 47 not upgraded.\n",
      "Reading package lists... Done\n",
      "Building dependency tree       \n",
      "Reading state information... Done\n",
      "rar is already the newest version (2:5.5.0-1build1).\n",
      "0 upgraded, 0 newly installed, 0 to remove and 47 not upgraded.\n"
     ]
    }
   ],
   "source": [
    "VAST = True\n",
    "\n",
    "if VAST:\n",
    "    !sudo apt-get install unrar\n",
    "    !sudo apt-get install rar\n",
    "    \n",
    "GDRIVE = True"
   ]
  },
  {
   "cell_type": "code",
   "execution_count": 4,
   "metadata": {},
   "outputs": [],
   "source": [
    "UTILS_URL = 'https://f005.backblazeb2.com/file/gp-support-files/nlp_ai_utils.py'\n",
    "UPDATING_VALUES_URL = 'https://f005.backblazeb2.com/file/gp-support-files/updating_values.py'\n",
    "ALL_LIBS_URL = 'https://f005.backblazeb2.com/file/gp-support-files/all_libs_dl.py'\n",
    "CHUNKS_URLS_FILE_URL = 'https://f005.backblazeb2.com/file/gp-support-files/chunks_urls.py'\n",
    "\n",
    "UTILS_FILE_NAME = 'nlp_ai_utils'\n",
    "UPDATING_VALUES_FILE_NAME = 'updating_values'\n",
    "ALL_LIBS_FILE_NAME = 'all_libs_dl'\n",
    "CHUNKS_URLS_FILE_NAME = 'chunks_urls'\n",
    "\n",
    "DEP_FILE_EXT = '.py'"
   ]
  },
  {
   "cell_type": "code",
   "execution_count": 5,
   "metadata": {},
   "outputs": [],
   "source": [
    "import requests\n",
    "import os\n",
    "\n",
    "def get_dependencies(url,file_name,file_extension):\n",
    "    if os.path.exists(file_name + file_extension):\n",
    "        return print(file_name + \" already exists.\")\n",
    "    else:\n",
    "        print(f\"downloading {file_name}...\")\n",
    "        r = requests.get(url)\n",
    "        with open(file_name + file_extension, 'wb') as fd:\n",
    "            for chunk in r.iter_content():\n",
    "                fd.write(chunk)"
   ]
  },
  {
   "cell_type": "code",
   "execution_count": 6,
   "metadata": {
    "scrolled": true
   },
   "outputs": [
    {
     "name": "stdout",
     "output_type": "stream",
     "text": [
      "nlp_ai_utils already exists.\n",
      "updating_values already exists.\n",
      "all_libs_dl already exists.\n",
      "chunks_urls already exists.\n"
     ]
    }
   ],
   "source": [
    "get_dependencies(UTILS_URL,UTILS_FILE_NAME,DEP_FILE_EXT)\n",
    "get_dependencies(UPDATING_VALUES_URL,UPDATING_VALUES_FILE_NAME,DEP_FILE_EXT)\n",
    "get_dependencies(ALL_LIBS_URL,ALL_LIBS_FILE_NAME,DEP_FILE_EXT)\n",
    "get_dependencies(CHUNKS_URLS_FILE_URL,CHUNKS_URLS_FILE_NAME,DEP_FILE_EXT)"
   ]
  },
  {
   "cell_type": "code",
   "execution_count": 7,
   "metadata": {},
   "outputs": [
    {
     "name": "stderr",
     "output_type": "stream",
     "text": [
      "[nltk_data] Downloading package punkt to /root/nltk_data...\n",
      "[nltk_data]   Package punkt is already up-to-date!\n",
      "[nltk_data] Downloading package stopwords to /root/nltk_data...\n",
      "[nltk_data]   Package stopwords is already up-to-date!\n",
      "[nltk_data] Downloading package averaged_perceptron_tagger to\n",
      "[nltk_data]     /root/nltk_data...\n",
      "[nltk_data]   Package averaged_perceptron_tagger is already up-to-\n",
      "[nltk_data]       date!\n",
      "[nltk_data] Downloading package wordnet to /root/nltk_data...\n",
      "[nltk_data]   Package wordnet is already up-to-date!\n",
      "2023-06-04 17:27:46.592160: I tensorflow/core/platform/cpu_feature_guard.cc:182] This TensorFlow binary is optimized to use available CPU instructions in performance-critical operations.\n",
      "To enable the following instructions: AVX2 FMA, in other operations, rebuild TensorFlow with the appropriate compiler flags.\n"
     ]
    }
   ],
   "source": [
    "from nlp_ai_utils import *\n",
    "from chunks_urls import CHUNKS_URLS\n",
    "from updating_values import *"
   ]
  },
  {
   "cell_type": "code",
   "execution_count": 8,
   "metadata": {},
   "outputs": [],
   "source": [
    "base = 'https://f005.backblazeb2.com/file/yelp-review-data/chunk_'\n",
    "end_of_file = '.csv'"
   ]
  },
  {
   "cell_type": "code",
   "execution_count": 9,
   "metadata": {},
   "outputs": [],
   "source": [
    "TF_ENABLE_ONEDNN_OPTS = 0\n",
    "os.environ['TF_CPP_MIN_LOG_LEVEL'] = '2'\n",
    "\n",
    "START_POS = 1\n",
    "LIMIT = 60\n",
    "DATA_URLS = CHUNKS_URLS[START_POS-1:START_POS+LIMIT]\n",
    "GLOVE_URL = 'https://f005.backblazeb2.com/file/glove-embeddings-dims/glove.6B.100d.txt'\n",
    "READY_DATA_URL = 'https://f005.backblazeb2.com/file/yelp-dataset-ready-for-models/ready_for_models.rar'\n",
    "CLASS_WEIGHTS_URL = 'https://f005.backblazeb2.com/file/yelp-dataset-ready-for-models/class_weights.pickle'\n",
    "UNIQUE_WORDS_URL = 'https://f005.backblazeb2.com/file/yelp-dataset-ready-for-models/unique_words.pickle'\n",
    "\n",
    "if GDRIVE:\n",
    "    PICKLES_DIR = \"pickle_files\"\n",
    "    READY_DATASET_PATH = \"larger_dataset/ready_for_models/\"\n",
    "    LARGER_DATASET_PATH = \"larger_dataset\"\n",
    "    GLOVE_FILES_DIR = \"glove_files\"\n",
    "    SAVED_MODELS_DIR = 'saved_models'\n",
    "else:\n",
    "    PICKLES_DIR = \"../pickle_files\"    \n",
    "    LARGER_DATASET_PATH = \"../larger_dataset\"\n",
    "    READY_DATASET_PATH = \"../larger_dataset/ready_for_models/\"\n",
    "    GLOVE_FILES_DIR = \"../glove_files\"\n",
    "    SAVED_MODELS_DIR = '../saved_models'\n",
    "    \n",
    "PREPROCESSED_CHUNKS_PATH = LARGER_DATASET_PATH + \"/preprocessed_data_chunks/\"\n",
    "BASE_FILE_NAME = \"chunk_\"\n",
    "FILE_FORMAT = \".csv\"\n",
    "DATA_IN_CHUNK = 116505\n",
    "if LIMIT == 60:\n",
    "    ACTUAL_DATA_SHAPE = DATA_IN_CHUNK * LIMIT + 20\n",
    "else:\n",
    "    ACTUAL_DATA_SHAPE = DATA_IN_CHUNK * LIMIT\n",
    "RANDOM_STATE = CONST_RANDOM_STATE\n",
    "DELETE_PICKLES_AFTER_TRAINING = True\n",
    "USE_READY_DATA = False\n",
    "BALANCE_DATA = True\n",
    "USE_MODIFIED_LABELS = True"
   ]
  },
  {
   "cell_type": "markdown",
   "metadata": {},
   "source": [
    "### 1.1 Data Sourcing and Munging"
   ]
  },
  {
   "cell_type": "markdown",
   "metadata": {},
   "source": [
    "#### 1.1.1 Loading The Data"
   ]
  },
  {
   "cell_type": "code",
   "execution_count": 10,
   "metadata": {
    "scrolled": true
   },
   "outputs": [
    {
     "name": "stdout",
     "output_type": "stream",
     "text": [
      "chunk_1 already exists.\n",
      "chunk_2 already exists.\n",
      "chunk_3 already exists.\n",
      "chunk_4 already exists.\n",
      "chunk_5 already exists.\n",
      "chunk_6 already exists.\n",
      "chunk_7 already exists.\n",
      "chunk_8 already exists.\n",
      "chunk_9 already exists.\n",
      "chunk_10 already exists.\n",
      "chunk_11 already exists.\n",
      "chunk_12 already exists.\n",
      "chunk_13 already exists.\n",
      "chunk_14 already exists.\n",
      "chunk_15 already exists.\n",
      "chunk_16 already exists.\n",
      "chunk_17 already exists.\n",
      "chunk_18 already exists.\n",
      "chunk_19 already exists.\n",
      "chunk_20 already exists.\n",
      "chunk_21 already exists.\n",
      "chunk_22 already exists.\n",
      "chunk_23 already exists.\n",
      "chunk_24 already exists.\n",
      "chunk_25 already exists.\n",
      "chunk_26 already exists.\n",
      "chunk_27 already exists.\n",
      "chunk_28 already exists.\n",
      "chunk_29 already exists.\n",
      "chunk_30 already exists.\n",
      "chunk_31 already exists.\n",
      "chunk_32 already exists.\n",
      "chunk_33 already exists.\n",
      "chunk_34 already exists.\n",
      "chunk_35 already exists.\n",
      "chunk_36 already exists.\n",
      "chunk_37 already exists.\n",
      "chunk_38 already exists.\n",
      "chunk_39 already exists.\n",
      "chunk_40 already exists.\n",
      "chunk_41 already exists.\n",
      "chunk_42 already exists.\n",
      "chunk_43 already exists.\n",
      "chunk_44 already exists.\n",
      "chunk_45 already exists.\n",
      "chunk_46 already exists.\n",
      "chunk_47 already exists.\n",
      "chunk_48 already exists.\n",
      "chunk_49 already exists.\n",
      "chunk_50 already exists.\n",
      "chunk_51 already exists.\n",
      "chunk_52 already exists.\n",
      "chunk_53 already exists.\n",
      "chunk_54 already exists.\n",
      "chunk_55 already exists.\n",
      "chunk_56 already exists.\n",
      "chunk_57 already exists.\n",
      "chunk_58 already exists.\n",
      "chunk_59 already exists.\n",
      "chunk_60 already exists.\n"
     ]
    }
   ],
   "source": [
    "if not USE_READY_DATA:\n",
    "    if not os.path.exists(LARGER_DATASET_PATH):\n",
    "        os.mkdir(LARGER_DATASET_PATH)\n",
    "    if not os.path.exists(PREPROCESSED_CHUNKS_PATH):\n",
    "        os.mkdir(PREPROCESSED_CHUNKS_PATH)\n",
    "    get_chunks(DATA_URLS,LIMIT,1,BASE_FILE_NAME,PREPROCESSED_CHUNKS_PATH,FILE_FORMAT)"
   ]
  },
  {
   "cell_type": "markdown",
   "metadata": {},
   "source": [
    "#### 1.1.2 Merging all Individual Files"
   ]
  },
  {
   "cell_type": "code",
   "execution_count": 11,
   "metadata": {},
   "outputs": [],
   "source": [
    "#get all names of downloaded files\n",
    "if not USE_READY_DATA:\n",
    "    all_file_names = get_all_file_names(BASE_FILE_NAME,LIMIT)"
   ]
  },
  {
   "cell_type": "code",
   "execution_count": 12,
   "metadata": {
    "scrolled": true
   },
   "outputs": [],
   "source": [
    "#read all chunks into a list\n",
    "if not USE_READY_DATA:\n",
    "    list_dfs = read_chunks(all_file_names,PREPROCESSED_CHUNKS_PATH,FILE_FORMAT)"
   ]
  },
  {
   "cell_type": "code",
   "execution_count": 13,
   "metadata": {},
   "outputs": [],
   "source": [
    "#concatenate all chunks into a singular df\n",
    "if not USE_READY_DATA:\n",
    "    df = group_up_chunks(list_dfs)"
   ]
  },
  {
   "cell_type": "code",
   "execution_count": 14,
   "metadata": {},
   "outputs": [],
   "source": [
    "#check how much of the data was actually downloaded\n",
    "if not USE_READY_DATA:\n",
    "    percent_loaded = check_no_missing_data(df.shape[0],ACTUAL_DATA_SHAPE)\n",
    "    percent_loaded"
   ]
  },
  {
   "cell_type": "code",
   "execution_count": 15,
   "metadata": {},
   "outputs": [],
   "source": [
    "if not USE_READY_DATA:\n",
    "    review_data = df[['text', 'stars']].copy()"
   ]
  },
  {
   "cell_type": "code",
   "execution_count": 16,
   "metadata": {},
   "outputs": [],
   "source": [
    "if not USE_READY_DATA:\n",
    "    review_data.reset_index(inplace = True)\n",
    "    review_data.drop(['index'],axis = 1,inplace = True)"
   ]
  },
  {
   "cell_type": "code",
   "execution_count": 17,
   "metadata": {},
   "outputs": [],
   "source": [
    "if not USE_READY_DATA:\n",
    "    review_data.rename(columns = {'text':'full_review_text','stars':'star_rating'}, inplace = True)"
   ]
  },
  {
   "cell_type": "code",
   "execution_count": 18,
   "metadata": {},
   "outputs": [],
   "source": [
    "if not USE_READY_DATA:\n",
    "    review_data.isnull().sum()"
   ]
  },
  {
   "cell_type": "code",
   "execution_count": 19,
   "metadata": {},
   "outputs": [],
   "source": [
    "if not USE_READY_DATA:\n",
    "    review_data.dropna(inplace = True)"
   ]
  },
  {
   "cell_type": "code",
   "execution_count": 20,
   "metadata": {},
   "outputs": [],
   "source": [
    "if not USE_READY_DATA:\n",
    "    review_data['full_review_text'].replace('', np.nan, inplace=True)\n",
    "    review_data.dropna(inplace = True)"
   ]
  },
  {
   "cell_type": "markdown",
   "metadata": {},
   "source": [
    "## 2. Imbalanced Data Solution"
   ]
  },
  {
   "cell_type": "code",
   "execution_count": 21,
   "metadata": {
    "scrolled": true
   },
   "outputs": [],
   "source": [
    "if BALANCE_DATA:\n",
    "    label_1 = review_data[review_data['star_rating'] == 1]\n",
    "    label_2 = review_data[review_data['star_rating'] == 2]\n",
    "    label_3 = review_data[review_data['star_rating'] == 3]\n",
    "    label_4 = review_data[review_data['star_rating'] == 4]\n",
    "    label_5 = review_data[review_data['star_rating'] == 5]\n",
    "\n",
    "    minority_class = min([label_1.shape[0],label_2.shape[0],label_3.shape[0],label_4.shape[0],label_5.shape[0]])"
   ]
  },
  {
   "cell_type": "code",
   "execution_count": 22,
   "metadata": {},
   "outputs": [
    {
     "name": "stdout",
     "output_type": "stream",
     "text": [
      "(1632661, 2)\n",
      "star_rating\n",
      "3.0    544221\n",
      "1.0    272110\n",
      "2.0    272110\n",
      "4.0    272110\n",
      "5.0    272110\n",
      "Name: count, dtype: int64\n"
     ]
    }
   ],
   "source": [
    "if BALANCE_DATA:\n",
    "    if USE_MODIFIED_LABELS:\n",
    "        review_data_label_1 = label_1[:int(minority_class / 2)]\n",
    "        review_data_label_2 = label_2[:int(minority_class / 2)]\n",
    "        review_data_label_3 = label_3[:int(minority_class)]\n",
    "        review_data_label_4 = label_4[:int(minority_class / 2)]\n",
    "        review_data_label_5 = label_5[:int(minority_class / 2)]\n",
    "\n",
    "    else:\n",
    "        review_data_label_1 = label_1[:int(minority_class)]\n",
    "        review_data_label_2 = label_2[:int(minority_class)]\n",
    "        review_data_label_3 = label_3[:int(minority_class)]\n",
    "        review_data_label_4 = label_4[:int(minority_class)]\n",
    "        review_data_label_5 = label_5[:int(minority_class)]\n",
    "\n",
    "    review_data = pd.concat([review_data_label_1,review_data_label_2,review_data_label_3,review_data_label_4,review_data_label_5])\n",
    "\n",
    "    print(review_data.shape)\n",
    "\n",
    "    print(review_data['star_rating'].value_counts())"
   ]
  },
  {
   "cell_type": "code",
   "execution_count": 23,
   "metadata": {},
   "outputs": [],
   "source": [
    "if BALANCE_DATA:\n",
    "    review_data = review_data.sample(frac=1,random_state=RANDOM_STATE)\n",
    "    review_data.reset_index(drop=True,inplace=True)"
   ]
  },
  {
   "cell_type": "code",
   "execution_count": 24,
   "metadata": {},
   "outputs": [],
   "source": [
    "if not USE_READY_DATA:\n",
    "    X = review_data['full_review_text']\n",
    "    y = review_data['star_rating']"
   ]
  },
  {
   "cell_type": "code",
   "execution_count": 25,
   "metadata": {},
   "outputs": [],
   "source": [
    "if not USE_READY_DATA:\n",
    "    X = pd.Series([str(text) for text in X])"
   ]
  },
  {
   "cell_type": "code",
   "execution_count": 26,
   "metadata": {},
   "outputs": [],
   "source": [
    "if USE_MODIFIED_LABELS:\n",
    "    translated_labels = translate_labels(y)\n",
    "    y = pd.Series(encode_sent(translated_labels))"
   ]
  },
  {
   "cell_type": "code",
   "execution_count": 27,
   "metadata": {},
   "outputs": [
    {
     "name": "stdout",
     "output_type": "stream",
     "text": [
      "3    544221\n",
      "2    544220\n",
      "1    544220\n",
      "Name: count, dtype: int64\n"
     ]
    }
   ],
   "source": [
    "print(y.value_counts())"
   ]
  },
  {
   "cell_type": "code",
   "execution_count": 28,
   "metadata": {},
   "outputs": [],
   "source": [
    "if not USE_READY_DATA:\n",
    "    y = y - 1"
   ]
  },
  {
   "cell_type": "markdown",
   "metadata": {},
   "source": [
    "#### Classes' shapes before and after (if USE_MODIFIED_LABELS = True):\n",
    "\n",
    "BEFORE: 1 ==> Very Bad ==> AFTER: 2 ==> Negative Sentiment\n",
    "\n",
    "BEFORE: 2 ==> Bad ==> AFTER: 2  ==> Negative Sentiment\n",
    "\n",
    "BEFORE: 3 ==> Ok ==> AFTER: 3  ==> Neutral Sentiment\n",
    "\n",
    "BEFORE: 4 ==> Good ==> AFTER: 1  ==> Positive Sentiment\n",
    "\n",
    "BEFORE: 5 ==> Very Good ==> AFTER: 1  ==> Positive Sentiment\n",
    "\n",
    "THEN: 1 is subtracted from each label. So, the Labels go FROM: 2,3,1 TO: 1,2,0\n",
    "\n",
    "#### Classes' shapes before and after (if USE_MODIFIED_LABELS = False):\n",
    "\n",
    "1 is subtracted from each label. So, the Labels go FROM: 1,2,3,4,5 TO: 0,1,2,3,4\n",
    "\n",
    "Why is 1 subracted from each label? To bring the data into the preferred shape of the class weights in both sklearn and keras (starting label is 0, not 1)."
   ]
  },
  {
   "cell_type": "markdown",
   "metadata": {},
   "source": [
    "### 2.1 Class Weights"
   ]
  },
  {
   "cell_type": "code",
   "execution_count": 29,
   "metadata": {},
   "outputs": [],
   "source": [
    "if not os.path.exists(PICKLES_DIR):\n",
    "    os.mkdir(PICKLES_DIR)"
   ]
  },
  {
   "cell_type": "code",
   "execution_count": 30,
   "metadata": {
    "scrolled": true
   },
   "outputs": [],
   "source": [
    "if USE_READY_DATA:\n",
    "    get_chunks([CLASS_WEIGHTS_URL],0,1,'class_weights',PICKLES_DIR + '/','.pickle',False)"
   ]
  },
  {
   "cell_type": "code",
   "execution_count": 31,
   "metadata": {},
   "outputs": [],
   "source": [
    "if USE_READY_DATA:\n",
    "    class_weights = pickle.load(open(PICKLES_DIR + \"/class_weights.pickle\", \"rb\"))"
   ]
  },
  {
   "cell_type": "code",
   "execution_count": 32,
   "metadata": {},
   "outputs": [],
   "source": [
    "if not USE_READY_DATA:\n",
    "    if BALANCE_DATA:\n",
    "        class_weights = False\n",
    "    else:\n",
    "        class_weights = compute_class_weight(class_weight = \"balanced\",classes = np.unique(y),y=y)\n",
    "        class_weights = dict(zip(np.unique(y), class_weights))"
   ]
  },
  {
   "cell_type": "markdown",
   "metadata": {},
   "source": [
    "### 2.2 GloVe + Hyperparameters"
   ]
  },
  {
   "cell_type": "code",
   "execution_count": 33,
   "metadata": {},
   "outputs": [],
   "source": [
    "if not os.path.exists(GLOVE_FILES_DIR):\n",
    "    os.mkdir(GLOVE_FILES_DIR)"
   ]
  },
  {
   "cell_type": "code",
   "execution_count": 34,
   "metadata": {
    "scrolled": true
   },
   "outputs": [
    {
     "name": "stdout",
     "output_type": "stream",
     "text": [
      "glove.6B.100d already exists.\n"
     ]
    }
   ],
   "source": [
    "if not USE_READY_DATA:\n",
    "    get_chunks([GLOVE_URL],0,1,\"glove.6B.100d\",GLOVE_FILES_DIR + '/','.txt',False)"
   ]
  },
  {
   "cell_type": "code",
   "execution_count": 35,
   "metadata": {},
   "outputs": [
    {
     "name": "stdout",
     "output_type": "stream",
     "text": [
      "Getting Unique Words...\n"
     ]
    }
   ],
   "source": [
    "if not USE_READY_DATA:\n",
    "    print('Getting Unique Words...')\n",
    "    UNIQUE_WORDS = set(' '.join(X).split())"
   ]
  },
  {
   "cell_type": "code",
   "execution_count": 36,
   "metadata": {},
   "outputs": [],
   "source": [
    "if USE_READY_DATA:\n",
    "    get_chunks([UNIQUE_WORDS_URL],0,1,'unique_words',PICKLES_DIR + '/','.pickle',False)"
   ]
  },
  {
   "cell_type": "code",
   "execution_count": 37,
   "metadata": {},
   "outputs": [],
   "source": [
    "if USE_READY_DATA:\n",
    "    UNIQUE_WORDS = pickle.load(open(PICKLES_DIR + \"/unique_words.pickle\", \"rb\"))"
   ]
  },
  {
   "cell_type": "markdown",
   "metadata": {},
   "source": [
    "### Hyperparameters"
   ]
  },
  {
   "cell_type": "code",
   "execution_count": 38,
   "metadata": {},
   "outputs": [],
   "source": [
    "VOCAB_SIZE = len(UNIQUE_WORDS)\n",
    "LSTM_UNITS = 256\n",
    "DENSE_UNITS = 1024\n",
    "LABELS_COUNT = len(y.unique())\n",
    "EMBEDDING_DIM = 100\n",
    "MAX_TEXT_LEN = 250\n",
    "CONV_FILTERS = 60\n",
    "CONV_KERNEL_SIZE = 3\n",
    "DROPOUT_VAL = 0.6\n",
    "TRUNC_TYPE = 'post'\n",
    "PADDING_TYPE = 'post'\n",
    "OOV_TOKEN = \"<OOV>\"\n",
    "BATCH_SIZE = 128\n",
    "EPOCHS = 60"
   ]
  },
  {
   "cell_type": "markdown",
   "metadata": {},
   "source": [
    "##### ==> here is a quick explaination of how the dataset will be split using a smaller sample example.\n",
    "##### ==> dataset => 100\n",
    "##### ==> train_set => tr_s (example: 80)\n",
    "##### ==> valid_set => vs (example: 10)\n",
    "##### ==> test_set => te_s (example: 10)\n",
    "##### ==> t = tr_s (80) + vs (10)\n",
    "##### ==> train_set = x[:80]\n",
    "##### ==> valid_set = x[80:t]\n",
    "##### ==> test_set = x[t:] why t? because => vs = ts\n",
    "\n",
    "##### use this guideline if you are confused about how the train-validation-test split was done. Also, this is a future guide for me as well in case I forget."
   ]
  },
  {
   "cell_type": "markdown",
   "metadata": {},
   "source": [
    "* train_set_size = 6,990,280 * 0.8 = 5,592,224\n",
    "* valid_set_size = 6,990,280 * 0.1 = 699,028\n",
    "* train_plus_valid = 5,592,224 + 699,028 = 6,291,252\n",
    "\n",
    "==> To Confirm: test_size = 6,990,280 - 6,291,252 = 699,028\n",
    "\n",
    "* train_set = [0:5,592,224]\n",
    "* train_labels = [0:5,592,224]\n",
    "* validation_set = [5,592,224:6,291,252] ==> 699,028\n",
    "* validation_labels = [5,592,224:6,291,252] ==> 699,028\n",
    "* test_set = [6,291,252,6,990,280] ==> 699,028\n",
    "* test_labels = [6,291,252,6,990,280] ==> 699,028"
   ]
  },
  {
   "cell_type": "code",
   "execution_count": 39,
   "metadata": {},
   "outputs": [],
   "source": [
    "ACTUAL_DATA_SHAPE = len(X)"
   ]
  },
  {
   "cell_type": "code",
   "execution_count": 40,
   "metadata": {},
   "outputs": [],
   "source": [
    "X.reset_index(drop=True,inplace=True)\n",
    "y.reset_index(drop=True,inplace=True)"
   ]
  },
  {
   "cell_type": "code",
   "execution_count": 41,
   "metadata": {
    "scrolled": true
   },
   "outputs": [],
   "source": [
    "if not USE_READY_DATA:\n",
    "    TRAIN_PERCENT = 0.8\n",
    "    VALID_TEST_PERCENT = 0.1\n",
    "    TRAIN_SIZE = int(ACTUAL_DATA_SHAPE * TRAIN_PERCENT)\n",
    "    VALID_TEST_SIZE = int(ACTUAL_DATA_SHAPE * VALID_TEST_PERCENT)\n",
    "    TOTAL_TEST_SIZE = TRAIN_SIZE + VALID_TEST_SIZE\n",
    "    train_set = X[:TRAIN_SIZE]\n",
    "    train_labels = y[:TRAIN_SIZE]\n",
    "    validation_set = X[TRAIN_SIZE:TOTAL_TEST_SIZE]\n",
    "    validation_labels = y[TRAIN_SIZE:TOTAL_TEST_SIZE]\n",
    "    test_set = X[TOTAL_TEST_SIZE:]\n",
    "    test_labels = y[TOTAL_TEST_SIZE:]"
   ]
  },
  {
   "cell_type": "code",
   "execution_count": 42,
   "metadata": {},
   "outputs": [
    {
     "data": {
      "text/plain": [
       "0"
      ]
     },
     "execution_count": 42,
     "metadata": {},
     "output_type": "execute_result"
    }
   ],
   "source": [
    "train_set.isnull().sum()"
   ]
  },
  {
   "cell_type": "code",
   "execution_count": 43,
   "metadata": {},
   "outputs": [],
   "source": [
    "train_set.reset_index(drop=True,inplace=True)\n",
    "train_labels.reset_index(drop=True,inplace=True)\n",
    "validation_set.reset_index(drop=True,inplace=True)\n",
    "validation_labels.reset_index(drop=True,inplace=True)\n",
    "test_set.reset_index(drop=True,inplace=True)\n",
    "test_labels.reset_index(drop=True,inplace=True)"
   ]
  },
  {
   "cell_type": "code",
   "execution_count": 44,
   "metadata": {},
   "outputs": [
    {
     "data": {
      "text/plain": [
       "0"
      ]
     },
     "execution_count": 44,
     "metadata": {},
     "output_type": "execute_result"
    }
   ],
   "source": [
    "train_set.isnull().sum()"
   ]
  },
  {
   "cell_type": "code",
   "execution_count": 45,
   "metadata": {},
   "outputs": [],
   "source": [
    "if not os.path.exists(LARGER_DATASET_PATH):\n",
    "    os.mkdir(LARGER_DATASET_PATH)"
   ]
  },
  {
   "cell_type": "code",
   "execution_count": 46,
   "metadata": {},
   "outputs": [],
   "source": [
    "if not os.path.exists(READY_DATASET_PATH):\n",
    "    os.mkdir(READY_DATASET_PATH)"
   ]
  },
  {
   "cell_type": "code",
   "execution_count": 47,
   "metadata": {
    "scrolled": true
   },
   "outputs": [],
   "source": [
    "if USE_READY_DATA:\n",
    "    get_chunks([READY_DATA_URL],0,1,'ready_for_models',READY_DATASET_PATH,'.rar',False)\n",
    "    Archive(os.path.join(READY_DATASET_PATH,\"ready_for_models.rar\")).extractall(READY_DATASET_PATH)"
   ]
  },
  {
   "cell_type": "code",
   "execution_count": 48,
   "metadata": {},
   "outputs": [],
   "source": [
    "if USE_READY_DATA:\n",
    "    train_set_padded = pickle.load(open(READY_DATASET_PATH + \"train_set_padded.pickle\", \"rb\"))\n",
    "    train_labels = pickle.load(open(READY_DATASET_PATH + \"train_labels.pickle\", \"rb\"))\n",
    "    valid_set_padded = pickle.load(open(READY_DATASET_PATH + \"valid_set_padded.pickle\", \"rb\"))\n",
    "    validation_labels = pickle.load(open(READY_DATASET_PATH + \"validation_labels.pickle\", \"rb\"))\n",
    "    test_set_padded = pickle.load(open(READY_DATASET_PATH + \"test_set_padded.pickle\", \"rb\"))\n",
    "    test_labels = pickle.load(open(READY_DATASET_PATH + \"test_labels.pickle\", \"rb\"))\n",
    "    EMBEDDING_LAYER = pickle.load(open(READY_DATASET_PATH + \"EMBEDDING_LAYER.pickle\", \"rb\"))"
   ]
  },
  {
   "cell_type": "code",
   "execution_count": 49,
   "metadata": {},
   "outputs": [
    {
     "name": "stdout",
     "output_type": "stream",
     "text": [
      "Tokenizing the Dataset...\n"
     ]
    }
   ],
   "source": [
    "# NOTE: THIS CELL TAKES A WHILE TO RUN.\n",
    "if not os.path.exists(READY_DATASET_PATH + \"train_set_padded.pickle\") and not USE_READY_DATA:\n",
    "    print(\"Tokenizing the Dataset...\")\n",
    "    tokenizer = Tokenizer(num_words=VOCAB_SIZE, oov_token=OOV_TOKEN)\n",
    "    tokenizer.fit_on_texts(train_set)\n",
    "    words_to_index = tokenizer.word_index"
   ]
  },
  {
   "cell_type": "code",
   "execution_count": 50,
   "metadata": {},
   "outputs": [
    {
     "name": "stdout",
     "output_type": "stream",
     "text": [
      "Padding the Training Set.\n",
      "Padding the Validation Set.\n",
      "Padding the Testing Set.\n"
     ]
    }
   ],
   "source": [
    "# NOTE: THIS CELL TAKES A WHILE TO RUN.\n",
    "if not os.path.exists(READY_DATASET_PATH + \"train_set_padded.pickle\") and not USE_READY_DATA:\n",
    "    print(\"Padding the Training Set.\")\n",
    "    train_sequences = tokenizer.texts_to_sequences(train_set)\n",
    "    train_set_padded = pad_sequences(train_sequences, maxlen=MAX_TEXT_LEN, padding=PADDING_TYPE, truncating=TRUNC_TYPE)\n",
    "    \n",
    "if not os.path.exists(READY_DATASET_PATH + \"valid_set_padded.pickle\") and not USE_READY_DATA:\n",
    "    print(\"Padding the Validation Set.\")\n",
    "    valid_sequences = tokenizer.texts_to_sequences(validation_set)\n",
    "    valid_set_padded = pad_sequences(valid_sequences, maxlen=MAX_TEXT_LEN, padding=PADDING_TYPE, truncating=TRUNC_TYPE)\n",
    "    \n",
    "if not os.path.exists(READY_DATASET_PATH + \"test_set_padded.pickle\") and not USE_READY_DATA:\n",
    "    print(\"Padding the Testing Set.\")\n",
    "    test_sequences = tokenizer.texts_to_sequences(test_set)\n",
    "    test_set_padded = pad_sequences(test_sequences, maxlen=MAX_TEXT_LEN, padding=PADDING_TYPE, truncating=TRUNC_TYPE)"
   ]
  },
  {
   "cell_type": "code",
   "execution_count": 51,
   "metadata": {},
   "outputs": [
    {
     "name": "stdout",
     "output_type": "stream",
     "text": [
      "Re-formatting Train Set Shape.\n",
      "Re-formatting Train Labels Shape.\n",
      "Re-formatting Validation Set Shape.\n",
      "Re-formatting Validation Labels Shape.\n",
      "Re-formatting Testing Set Shape.\n",
      "Re-formatting Testing Labels Shape.\n"
     ]
    }
   ],
   "source": [
    "if not os.path.exists(READY_DATASET_PATH + \"train_set_padded.pickle\") and not USE_READY_DATA:\n",
    "    print(\"Re-formatting Train Set Shape.\")\n",
    "    train_set_padded = np.array(train_set_padded)\n",
    "    \n",
    "if not os.path.exists(READY_DATASET_PATH + \"train_labels.pickle\") and not USE_READY_DATA:\n",
    "    print(\"Re-formatting Train Labels Shape.\")\n",
    "    train_labels = np.array(train_labels)\n",
    "    \n",
    "if not os.path.exists(READY_DATASET_PATH + \"valid_set_padded.pickle\") and not USE_READY_DATA: \n",
    "    print(\"Re-formatting Validation Set Shape.\")\n",
    "    valid_set_padded = np.array(valid_set_padded)\n",
    "\n",
    "if not os.path.exists(READY_DATASET_PATH + \"validation_labels.pickle\") and not USE_READY_DATA:\n",
    "    print(\"Re-formatting Validation Labels Shape.\")\n",
    "    validation_labels = np.array(validation_labels)\n",
    "\n",
    "if not os.path.exists(READY_DATASET_PATH + \"test_set_padded.pickle\") and not USE_READY_DATA:\n",
    "    print(\"Re-formatting Testing Set Shape.\")\n",
    "    test_set_padded = np.array(test_set_padded)\n",
    "\n",
    "if not os.path.exists(READY_DATASET_PATH + \"test_labels.pickle\") and not USE_READY_DATA:\n",
    "    print(\"Re-formatting Testing Labels Shape.\")\n",
    "    test_labels = np.array(test_labels)"
   ]
  },
  {
   "cell_type": "code",
   "execution_count": 52,
   "metadata": {},
   "outputs": [],
   "source": [
    "if not USE_READY_DATA:\n",
    "    word_to_vec_map = read_glove_vector(GLOVE_FILES_DIR + '/glove.6B.100d.txt')"
   ]
  },
  {
   "cell_type": "code",
   "execution_count": 53,
   "metadata": {},
   "outputs": [
    {
     "name": "stdout",
     "output_type": "stream",
     "text": [
      "Generating Embedding From Scratch.\n"
     ]
    }
   ],
   "source": [
    "if not os.path.exists(READY_DATASET_PATH + \"EMBEDDING_LAYER.pickle\"):\n",
    "    print(\"Generating Embedding From Scratch.\")\n",
    "    vocab_mapping = len(words_to_index)\n",
    "    embed_vector_len = word_to_vec_map['moon'].shape[0]\n",
    "\n",
    "    emb_matrix = np.zeros((vocab_mapping, embed_vector_len))\n",
    "\n",
    "    for word, index in words_to_index.items():\n",
    "        embedding_vector = word_to_vec_map.get(word)\n",
    "        if embedding_vector is not None:\n",
    "            emb_matrix[index-1, :] = embedding_vector\n",
    "    \n",
    "    scaler = StandardScaler()\n",
    "    emb_matrix = scaler.fit_transform(emb_matrix)\n",
    "    EMBEDDING_LAYER = Embedding(input_dim=vocab_mapping,\\\n",
    "                                output_dim=embed_vector_len, input_length=MAX_TEXT_LEN, weights = [emb_matrix], trainable=True)"
   ]
  },
  {
   "cell_type": "code",
   "execution_count": 54,
   "metadata": {},
   "outputs": [],
   "source": [
    "if os.path.exists(READY_DATASET_PATH + \"train_set_padded.pickle\") and not USE_READY_DATA:\n",
    "    print(\"Using Pickle File!\")\n",
    "    train_set_padded = pickle.load(open(READY_DATASET_PATH + \"train_set_padded.pickle\", \"rb\"))\n",
    "else:\n",
    "    pickle_out = open(READY_DATASET_PATH + \"train_set_padded.pickle\",'wb')\n",
    "    pickle.dump(train_set_padded,pickle_out)\n",
    "    pickle_out.close()\n",
    "    \n",
    "if os.path.exists(READY_DATASET_PATH + \"train_labels.pickle\") and not USE_READY_DATA:\n",
    "    print(\"Using Pickle File!\")\n",
    "    train_labels = pickle.load(open(READY_DATASET_PATH + \"train_labels.pickle\", \"rb\"))\n",
    "else:\n",
    "    pickle_out = open(READY_DATASET_PATH + \"train_labels.pickle\",'wb')\n",
    "    pickle.dump(train_labels,pickle_out)\n",
    "    pickle_out.close()"
   ]
  },
  {
   "cell_type": "code",
   "execution_count": 55,
   "metadata": {},
   "outputs": [],
   "source": [
    "if os.path.exists(READY_DATASET_PATH + \"valid_set_padded.pickle\") and not USE_READY_DATA:\n",
    "    print(\"Using Pickle File!\")\n",
    "    valid_set_padded = pickle.load(open(READY_DATASET_PATH + \"valid_set_padded.pickle\", \"rb\"))\n",
    "else:\n",
    "    pickle_out = open(READY_DATASET_PATH + \"valid_set_padded.pickle\",'wb')\n",
    "    pickle.dump(valid_set_padded,pickle_out)\n",
    "    pickle_out.close()\n",
    "    \n",
    "if os.path.exists(READY_DATASET_PATH + \"validation_labels.pickle\") and not USE_READY_DATA:\n",
    "    print(\"Using Pickle File!\")\n",
    "    validation_labels = pickle.load(open(READY_DATASET_PATH + \"validation_labels.pickle\", \"rb\"))\n",
    "else:\n",
    "    pickle_out = open(READY_DATASET_PATH + \"validation_labels.pickle\",'wb')\n",
    "    pickle.dump(validation_labels,pickle_out)\n",
    "    pickle_out.close()"
   ]
  },
  {
   "cell_type": "code",
   "execution_count": 56,
   "metadata": {},
   "outputs": [],
   "source": [
    "if os.path.exists(READY_DATASET_PATH + \"test_set_padded.pickle\") and not USE_READY_DATA:\n",
    "    print(\"Using Pickle File!\")\n",
    "    test_set_padded = pickle.load(open(READY_DATASET_PATH + \"test_set_padded.pickle\", \"rb\"))\n",
    "else:\n",
    "    pickle_out = open(READY_DATASET_PATH + \"test_set_padded.pickle\",'wb')\n",
    "    pickle.dump(test_set_padded,pickle_out)\n",
    "    pickle_out.close()\n",
    "    \n",
    "if os.path.exists(READY_DATASET_PATH + \"test_labels.pickle\") and not USE_READY_DATA:\n",
    "    print(\"Using Pickle File!\")\n",
    "    test_labels = pickle.load(open(READY_DATASET_PATH + \"test_labels.pickle\", \"rb\"))\n",
    "else:\n",
    "    pickle_out = open(READY_DATASET_PATH + \"test_labels.pickle\",'wb')\n",
    "    pickle.dump(test_labels,pickle_out)\n",
    "    pickle_out.close()"
   ]
  },
  {
   "cell_type": "code",
   "execution_count": 57,
   "metadata": {},
   "outputs": [
    {
     "name": "stdout",
     "output_type": "stream",
     "text": [
      "Pickling Embedding Layer!\n"
     ]
    }
   ],
   "source": [
    "if os.path.exists(READY_DATASET_PATH + \"EMBEDDING_LAYER.pickle\") and not USE_READY_DATA:\n",
    "    print(\"Using Pickle File!\")\n",
    "    EMBEDDING_LAYER = pickle.load(open(READY_DATASET_PATH + \"EMBEDDING_LAYER.pickle\", \"rb\"))\n",
    "else:\n",
    "    print(\"Pickling Embedding Layer!\")\n",
    "    pickle_out = open(READY_DATASET_PATH + \"EMBEDDING_LAYER.pickle\",'wb')\n",
    "    pickle.dump(EMBEDDING_LAYER,pickle_out)\n",
    "    pickle_out.close()"
   ]
  },
  {
   "cell_type": "markdown",
   "metadata": {},
   "source": [
    "## 3. LSTM"
   ]
  },
  {
   "cell_type": "code",
   "execution_count": 58,
   "metadata": {
    "scrolled": true
   },
   "outputs": [
    {
     "name": "stderr",
     "output_type": "stream",
     "text": [
      "2023-06-04 17:30:01.246657: I tensorflow/compiler/xla/stream_executor/cuda/cuda_gpu_executor.cc:996] successful NUMA node read from SysFS had negative value (-1), but there must be at least one NUMA node, so returning NUMA node zero. See more at https://github.com/torvalds/linux/blob/v6.0/Documentation/ABI/testing/sysfs-bus-pci#L344-L355\n",
      "2023-06-04 17:30:01.254346: I tensorflow/compiler/xla/stream_executor/cuda/cuda_gpu_executor.cc:996] successful NUMA node read from SysFS had negative value (-1), but there must be at least one NUMA node, so returning NUMA node zero. See more at https://github.com/torvalds/linux/blob/v6.0/Documentation/ABI/testing/sysfs-bus-pci#L344-L355\n",
      "2023-06-04 17:30:01.254915: I tensorflow/compiler/xla/stream_executor/cuda/cuda_gpu_executor.cc:996] successful NUMA node read from SysFS had negative value (-1), but there must be at least one NUMA node, so returning NUMA node zero. See more at https://github.com/torvalds/linux/blob/v6.0/Documentation/ABI/testing/sysfs-bus-pci#L344-L355\n",
      "2023-06-04 17:30:01.702078: I tensorflow/compiler/xla/stream_executor/cuda/cuda_gpu_executor.cc:996] successful NUMA node read from SysFS had negative value (-1), but there must be at least one NUMA node, so returning NUMA node zero. See more at https://github.com/torvalds/linux/blob/v6.0/Documentation/ABI/testing/sysfs-bus-pci#L344-L355\n",
      "2023-06-04 17:30:01.702549: I tensorflow/compiler/xla/stream_executor/cuda/cuda_gpu_executor.cc:996] successful NUMA node read from SysFS had negative value (-1), but there must be at least one NUMA node, so returning NUMA node zero. See more at https://github.com/torvalds/linux/blob/v6.0/Documentation/ABI/testing/sysfs-bus-pci#L344-L355\n",
      "2023-06-04 17:30:01.702921: I tensorflow/compiler/xla/stream_executor/cuda/cuda_gpu_executor.cc:996] successful NUMA node read from SysFS had negative value (-1), but there must be at least one NUMA node, so returning NUMA node zero. See more at https://github.com/torvalds/linux/blob/v6.0/Documentation/ABI/testing/sysfs-bus-pci#L344-L355\n",
      "2023-06-04 17:30:01.703258: I tensorflow/core/common_runtime/gpu/gpu_device.cc:1635] Created device /job:localhost/replica:0/task:0/device:GPU:0 with 22250 MB memory:  -> device: 0, name: NVIDIA GeForce RTX 3090, pci bus id: 0000:01:00.0, compute capability: 8.6\n"
     ]
    },
    {
     "name": "stdout",
     "output_type": "stream",
     "text": [
      "WARNING:tensorflow:From /tmp/ipykernel_27590/4268317549.py:4: The name tf.keras.backend.set_session is deprecated. Please use tf.compat.v1.keras.backend.set_session instead.\n",
      "\n",
      "WARNING:tensorflow:From /tmp/ipykernel_27590/4268317549.py:15: The name tf.keras.layers.CuDNNLSTM is deprecated. Please use tf.compat.v1.keras.layers.CuDNNLSTM instead.\n",
      "\n"
     ]
    },
    {
     "name": "stderr",
     "output_type": "stream",
     "text": [
      "2023-06-04 17:30:01.940499: I tensorflow/compiler/xla/stream_executor/cuda/cuda_gpu_executor.cc:996] successful NUMA node read from SysFS had negative value (-1), but there must be at least one NUMA node, so returning NUMA node zero. See more at https://github.com/torvalds/linux/blob/v6.0/Documentation/ABI/testing/sysfs-bus-pci#L344-L355\n",
      "2023-06-04 17:30:01.940952: I tensorflow/compiler/xla/stream_executor/cuda/cuda_gpu_executor.cc:996] successful NUMA node read from SysFS had negative value (-1), but there must be at least one NUMA node, so returning NUMA node zero. See more at https://github.com/torvalds/linux/blob/v6.0/Documentation/ABI/testing/sysfs-bus-pci#L344-L355\n",
      "2023-06-04 17:30:01.941297: I tensorflow/compiler/xla/stream_executor/cuda/cuda_gpu_executor.cc:996] successful NUMA node read from SysFS had negative value (-1), but there must be at least one NUMA node, so returning NUMA node zero. See more at https://github.com/torvalds/linux/blob/v6.0/Documentation/ABI/testing/sysfs-bus-pci#L344-L355\n",
      "2023-06-04 17:30:01.941739: I tensorflow/compiler/xla/stream_executor/cuda/cuda_gpu_executor.cc:996] successful NUMA node read from SysFS had negative value (-1), but there must be at least one NUMA node, so returning NUMA node zero. See more at https://github.com/torvalds/linux/blob/v6.0/Documentation/ABI/testing/sysfs-bus-pci#L344-L355\n",
      "2023-06-04 17:30:01.942091: I tensorflow/compiler/xla/stream_executor/cuda/cuda_gpu_executor.cc:996] successful NUMA node read from SysFS had negative value (-1), but there must be at least one NUMA node, so returning NUMA node zero. See more at https://github.com/torvalds/linux/blob/v6.0/Documentation/ABI/testing/sysfs-bus-pci#L344-L355\n",
      "2023-06-04 17:30:01.942438: I tensorflow/compiler/xla/stream_executor/cuda/cuda_gpu_executor.cc:996] successful NUMA node read from SysFS had negative value (-1), but there must be at least one NUMA node, so returning NUMA node zero. See more at https://github.com/torvalds/linux/blob/v6.0/Documentation/ABI/testing/sysfs-bus-pci#L344-L355\n",
      "2023-06-04 17:30:01.942821: I tensorflow/compiler/xla/stream_executor/cuda/cuda_gpu_executor.cc:996] successful NUMA node read from SysFS had negative value (-1), but there must be at least one NUMA node, so returning NUMA node zero. See more at https://github.com/torvalds/linux/blob/v6.0/Documentation/ABI/testing/sysfs-bus-pci#L344-L355\n",
      "2023-06-04 17:30:01.943168: I tensorflow/compiler/xla/stream_executor/cuda/cuda_gpu_executor.cc:996] successful NUMA node read from SysFS had negative value (-1), but there must be at least one NUMA node, so returning NUMA node zero. See more at https://github.com/torvalds/linux/blob/v6.0/Documentation/ABI/testing/sysfs-bus-pci#L344-L355\n",
      "2023-06-04 17:30:01.943477: I tensorflow/core/common_runtime/gpu/gpu_device.cc:1635] Created device /job:localhost/replica:0/task:0/device:GPU:0 with 22250 MB memory:  -> device: 0, name: NVIDIA GeForce RTX 3090, pci bus id: 0000:01:00.0, compute capability: 8.6\n"
     ]
    }
   ],
   "source": [
    "configproto = tf.compat.v1.ConfigProto() \n",
    "configproto.gpu_options.allow_growth = True\n",
    "sess = tf.compat.v1.Session(config=configproto) \n",
    "tf.compat.v1.keras.backend.set_session(sess)\n",
    "\n",
    "tf.keras.backend.clear_session()\n",
    "tf.random.set_seed(RANDOM_STATE)\n",
    "np.random.seed(RANDOM_STATE)\n",
    "inputs = tf.keras.Input(shape=(MAX_TEXT_LEN,))\n",
    "x = EMBEDDING_LAYER(inputs)\n",
    "x = tf.keras.layers.Normalization()(x)\n",
    "x = tf.keras.layers.Conv1D(filters=CONV_FILTERS, kernel_size=CONV_KERNEL_SIZE, padding='same', activation='relu')(x)\n",
    "x = tf.keras.layers.GlobalMaxPooling1D(keepdims=True)(x)\n",
    "x = tf.keras.layers.BatchNormalization(synchronized=True)(x)\n",
    "x = tf.compat.v1.keras.layers.CuDNNLSTM(int(LSTM_UNITS))(x)\n",
    "x = tf.keras.layers.Dropout(DROPOUT_VAL)(x)\n",
    "x = tf.keras.layers.Dense(DENSE_UNITS, activation=\"relu\")(x)\n",
    "x = tf.keras.layers.Dense(DENSE_UNITS, activation=\"relu\")(x)\n",
    "x = tf.keras.layers.Dense(DENSE_UNITS, activation=\"relu\")(x)\n",
    "outputs = tf.keras.layers.Dense(LABELS_COUNT, activation=\"softmax\")(x)\n",
    "\n",
    "lstm_model = tf.keras.Model(inputs=inputs, outputs=outputs)"
   ]
  },
  {
   "cell_type": "code",
   "execution_count": 59,
   "metadata": {
    "scrolled": true
   },
   "outputs": [
    {
     "name": "stdout",
     "output_type": "stream",
     "text": [
      "Model: \"model\"\n",
      "_________________________________________________________________\n",
      " Layer (type)                Output Shape              Param #   \n",
      "=================================================================\n",
      " input_1 (InputLayer)        [(None, 250)]             0         \n",
      "                                                                 \n",
      " embedding (Embedding)       (None, 250, 100)          21576900  \n",
      "                                                                 \n",
      " normalization (Normalizatio  (None, 250, 100)         201       \n",
      " n)                                                              \n",
      "                                                                 \n",
      " conv1d (Conv1D)             (None, 250, 60)           18060     \n",
      "                                                                 \n",
      " global_max_pooling1d (Globa  (None, 1, 60)            0         \n",
      " lMaxPooling1D)                                                  \n",
      "                                                                 \n",
      " batch_normalization (BatchN  (None, 1, 60)            240       \n",
      " ormalization)                                                   \n",
      "                                                                 \n",
      " cu_dnnlstm (CuDNNLSTM)      (None, 256)               325632    \n",
      "                                                                 \n",
      " dropout (Dropout)           (None, 256)               0         \n",
      "                                                                 \n",
      " dense (Dense)               (None, 1024)              263168    \n",
      "                                                                 \n",
      " dense_1 (Dense)             (None, 1024)              1049600   \n",
      "                                                                 \n",
      " dense_2 (Dense)             (None, 1024)              1049600   \n",
      "                                                                 \n",
      " dense_3 (Dense)             (None, 3)                 3075      \n",
      "                                                                 \n",
      "=================================================================\n",
      "Total params: 24,286,476\n",
      "Trainable params: 24,286,155\n",
      "Non-trainable params: 321\n",
      "_________________________________________________________________\n"
     ]
    }
   ],
   "source": [
    "lstm_model.summary()"
   ]
  },
  {
   "cell_type": "code",
   "execution_count": 60,
   "metadata": {},
   "outputs": [],
   "source": [
    "log_dir = \"logs/fit/\" + datetime.datetime.now().strftime(\"%Y%m%d-%H%M%S\")\n",
    "tensorboard_callback = tf.keras.callbacks.TensorBoard(log_dir=\"./logs\",histogram_freq=1)"
   ]
  },
  {
   "cell_type": "code",
   "execution_count": 61,
   "metadata": {},
   "outputs": [],
   "source": [
    "metrics_callback = MetricsCallback(test_data = valid_set_padded, y_true = validation_labels)"
   ]
  },
  {
   "cell_type": "code",
   "execution_count": 62,
   "metadata": {},
   "outputs": [],
   "source": [
    "from keras.optimizers import SGD"
   ]
  },
  {
   "cell_type": "code",
   "execution_count": 63,
   "metadata": {
    "scrolled": true
   },
   "outputs": [
    {
     "name": "stdout",
     "output_type": "stream",
     "text": [
      "Epoch 1/60\n"
     ]
    },
    {
     "name": "stderr",
     "output_type": "stream",
     "text": [
      "2023-06-04 17:30:04.392755: I tensorflow/compiler/xla/stream_executor/cuda/cuda_dnn.cc:424] Loaded cuDNN version 8600\n",
      "2023-06-04 17:30:05.149100: I tensorflow/compiler/xla/stream_executor/cuda/cuda_blas.cc:637] TensorFloat-32 will be used for the matrix multiplication. This will only be logged once.\n",
      "2023-06-04 17:30:05.150264: I tensorflow/compiler/xla/service/service.cc:169] XLA service 0x7f009121ab70 initialized for platform CUDA (this does not guarantee that XLA will be used). Devices:\n",
      "2023-06-04 17:30:05.150292: I tensorflow/compiler/xla/service/service.cc:177]   StreamExecutor device (0): NVIDIA GeForce RTX 3090, Compute Capability 8.6\n",
      "2023-06-04 17:30:05.156206: I tensorflow/compiler/mlir/tensorflow/utils/dump_mlir_util.cc:269] disabling MLIR crash reproducer, set env var `MLIR_CRASH_REPRODUCER_DIRECTORY` to enable.\n",
      "2023-06-04 17:30:05.270041: I ./tensorflow/compiler/jit/device_compiler.h:180] Compiled cluster using XLA!  This line is logged at most once for the lifetime of the process.\n"
     ]
    },
    {
     "name": "stdout",
     "output_type": "stream",
     "text": [
      "5103/5103 [==============================] - 8s 2ms/step\n",
      "              precision    recall  f1-score   support\n",
      "\n",
      "           0       0.79      0.82      0.81     54495\n",
      "           1       0.78      0.78      0.78     54296\n",
      "           2       0.64      0.62      0.63     54475\n",
      "\n",
      "    accuracy                           0.74    163266\n",
      "   macro avg       0.74      0.74      0.74    163266\n",
      "weighted avg       0.74      0.74      0.74    163266\n",
      "\n",
      "Macro Weighted F1-Score: 0.7391048555897679\n",
      "10205/10205 [==============================] - 193s 19ms/step - loss: 0.6501 - accuracy: 0.7096 - val_loss: 0.5888 - val_accuracy: 0.7399 - lr: 0.0010\n",
      "Epoch 2/60\n",
      "5103/5103 [==============================] - 8s 2ms/step\n",
      "              precision    recall  f1-score   support\n",
      "\n",
      "           0       0.81      0.82      0.81     54495\n",
      "           1       0.78      0.80      0.79     54296\n",
      "           2       0.65      0.63      0.64     54475\n",
      "\n",
      "    accuracy                           0.75    163266\n",
      "   macro avg       0.75      0.75      0.75    163266\n",
      "weighted avg       0.75      0.75      0.75    163266\n",
      "\n",
      "Macro Weighted F1-Score: 0.7483879414366018\n",
      "10205/10205 [==============================] - 94s 9ms/step - loss: 0.5745 - accuracy: 0.7477 - val_loss: 0.5685 - val_accuracy: 0.7494 - lr: 0.0010\n",
      "Epoch 3/60\n",
      "5103/5103 [==============================] - 8s 2ms/step\n",
      "              precision    recall  f1-score   support\n",
      "\n",
      "           0       0.82      0.81      0.82     54495\n",
      "           1       0.80      0.77      0.79     54296\n",
      "           2       0.64      0.68      0.66     54475\n",
      "\n",
      "    accuracy                           0.75    163266\n",
      "   macro avg       0.76      0.75      0.75    163266\n",
      "weighted avg       0.76      0.75      0.75    163266\n",
      "\n",
      "Macro Weighted F1-Score: 0.7544284091440008\n",
      "10205/10205 [==============================] - 91s 9ms/step - loss: 0.5510 - accuracy: 0.7591 - val_loss: 0.5611 - val_accuracy: 0.7533 - lr: 0.0010\n",
      "Epoch 4/60\n",
      "5103/5103 [==============================] - 8s 2ms/step\n",
      "              precision    recall  f1-score   support\n",
      "\n",
      "           0       0.84      0.79      0.81     54495\n",
      "           1       0.80      0.78      0.79     54296\n",
      "           2       0.64      0.69      0.66     54475\n",
      "\n",
      "    accuracy                           0.75    163266\n",
      "   macro avg       0.76      0.75      0.76    163266\n",
      "weighted avg       0.76      0.75      0.76    163266\n",
      "\n",
      "Macro Weighted F1-Score: 0.7564021841912152\n",
      "10205/10205 [==============================] - 90s 9ms/step - loss: 0.5337 - accuracy: 0.7678 - val_loss: 0.5589 - val_accuracy: 0.7547 - lr: 0.0010\n",
      "Epoch 5/60\n",
      "5103/5103 [==============================] - 8s 2ms/step\n",
      "              precision    recall  f1-score   support\n",
      "\n",
      "           0       0.83      0.81      0.82     54495\n",
      "           1       0.79      0.79      0.79     54296\n",
      "           2       0.65      0.67      0.66     54475\n",
      "\n",
      "    accuracy                           0.76    163266\n",
      "   macro avg       0.76      0.76      0.76    163266\n",
      "weighted avg       0.76      0.76      0.76    163266\n",
      "\n",
      "Macro Weighted F1-Score: 0.7562707872889777\n",
      "10205/10205 [==============================] - 90s 9ms/step - loss: 0.5184 - accuracy: 0.7751 - val_loss: 0.5578 - val_accuracy: 0.7557 - lr: 0.0010\n",
      "Epoch 6/60\n",
      "5103/5103 [==============================] - 8s 2ms/step\n",
      "              precision    recall  f1-score   support\n",
      "\n",
      "           0       0.84      0.79      0.81     54495\n",
      "           1       0.80      0.78      0.79     54296\n",
      "           2       0.64      0.70      0.67     54475\n",
      "\n",
      "    accuracy                           0.75    163266\n",
      "   macro avg       0.76      0.75      0.76    163266\n",
      "weighted avg       0.76      0.75      0.76    163266\n",
      "\n",
      "Macro Weighted F1-Score: 0.7570045891669513\n",
      "10205/10205 [==============================] - 88s 9ms/step - loss: 0.5039 - accuracy: 0.7827 - val_loss: 0.5616 - val_accuracy: 0.7549 - lr: 0.0010\n",
      "Epoch 7/60\n",
      "5103/5103 [==============================] - 8s 2ms/step\n",
      "              precision    recall  f1-score   support\n",
      "\n",
      "           0       0.83      0.80      0.82     54495\n",
      "           1       0.81      0.76      0.79     54296\n",
      "           2       0.64      0.70      0.67     54475\n",
      "\n",
      "    accuracy                           0.75    163266\n",
      "   macro avg       0.76      0.75      0.76    163266\n",
      "weighted avg       0.76      0.75      0.76    163266\n",
      "\n",
      "Macro Weighted F1-Score: 0.7560510635962542\n",
      "10205/10205 [==============================] - 88s 9ms/step - loss: 0.4896 - accuracy: 0.7900 - val_loss: 0.5661 - val_accuracy: 0.7540 - lr: 0.0010\n",
      "Epoch 8/60\n",
      "5103/5103 [==============================] - 8s 2ms/step\n",
      "              precision    recall  f1-score   support\n",
      "\n",
      "           0       0.83      0.80      0.81     54495\n",
      "           1       0.78      0.80      0.79     54296\n",
      "           2       0.65      0.66      0.65     54475\n",
      "\n",
      "    accuracy                           0.75    163266\n",
      "   macro avg       0.75      0.75      0.75    163266\n",
      "weighted avg       0.75      0.75      0.75    163266\n",
      "\n",
      "Macro Weighted F1-Score: 0.7530904788785813\n",
      "\n",
      "Epoch 8: ReduceLROnPlateau reducing learning rate to 0.00010000000474974513.\n",
      "10205/10205 [==============================] - 88s 9ms/step - loss: 0.4756 - accuracy: 0.7972 - val_loss: 0.5771 - val_accuracy: 0.7526 - lr: 0.0010\n",
      "Epoch 9/60\n",
      "5103/5103 [==============================] - 8s 2ms/step\n",
      "              precision    recall  f1-score   support\n",
      "\n",
      "           0       0.83      0.80      0.81     54495\n",
      "           1       0.79      0.79      0.79     54296\n",
      "           2       0.65      0.67      0.66     54475\n",
      "\n",
      "    accuracy                           0.75    163266\n",
      "   macro avg       0.75      0.75      0.75    163266\n",
      "weighted avg       0.75      0.75      0.75    163266\n",
      "\n",
      "Macro Weighted F1-Score: 0.7530164038503542\n",
      "10205/10205 [==============================] - 88s 9ms/step - loss: 0.4471 - accuracy: 0.8110 - val_loss: 0.5859 - val_accuracy: 0.7522 - lr: 1.0000e-04\n",
      "Epoch 10/60\n",
      "5103/5103 [==============================] - 8s 2ms/step\n",
      "              precision    recall  f1-score   support\n",
      "\n",
      "           0       0.82      0.81      0.82     54495\n",
      "           1       0.80      0.78      0.79     54296\n",
      "           2       0.64      0.67      0.66     54475\n",
      "\n",
      "    accuracy                           0.75    163266\n",
      "   macro avg       0.75      0.75      0.75    163266\n",
      "weighted avg       0.75      0.75      0.75    163266\n",
      "\n",
      "Macro Weighted F1-Score: 0.75312102939622\n",
      "10205/10205 [==============================] - 87s 9ms/step - loss: 0.4415 - accuracy: 0.8139 - val_loss: 0.5940 - val_accuracy: 0.7521 - lr: 1.0000e-04\n",
      "Epoch 11/60\n",
      "5103/5103 [==============================] - 8s 2ms/step\n",
      "              precision    recall  f1-score   support\n",
      "\n",
      "           0       0.83      0.80      0.81     54495\n",
      "           1       0.80      0.78      0.79     54296\n",
      "           2       0.64      0.68      0.66     54475\n",
      "\n",
      "    accuracy                           0.75    163266\n",
      "   macro avg       0.75      0.75      0.75    163266\n",
      "weighted avg       0.75      0.75      0.75    163266\n",
      "\n",
      "Macro Weighted F1-Score: 0.7525604932084186\n",
      "Restoring model weights from the end of the best epoch: 3.\n",
      "\n",
      "Epoch 11: ReduceLROnPlateau reducing learning rate to 1.0000000474974514e-05.\n",
      "10205/10205 [==============================] - 88s 9ms/step - loss: 0.4382 - accuracy: 0.8152 - val_loss: 0.5935 - val_accuracy: 0.7512 - lr: 1.0000e-04\n",
      "Epoch 11: early stopping\n"
     ]
    }
   ],
   "source": [
    "if not BALANCE_DATA:\n",
    "    lstm_model.compile(optimizer=Adam(learning_rate = 1e-3,amsgrad = True), loss = SparseCategoricalCrossentropy(), metrics=['accuracy'])\n",
    "    history = lstm_model.fit(train_set_padded, train_labels,validation_data = (valid_set_padded,validation_labels),\\\n",
    "                    batch_size=BATCH_SIZE, epochs=EPOCHS,class_weight=class_weights,\\\n",
    "                        callbacks=[tensorboard_callback,metrics_callback,EarlyStopping(patience=8,min_delta=0.0005,mode='max',verbose = 1,restore_best_weights=True,monitor='val_loss'),ReduceLROnPlateau(factor=0.1, patience=4)])                  \n",
    "else:\n",
    "    lstm_model.compile(optimizer=Adam(learning_rate = 1e-3,amsgrad = True), loss = SparseCategoricalCrossentropy(), metrics=['accuracy'])\n",
    "    history = lstm_model.fit(train_set_padded, train_labels,validation_data = (valid_set_padded,validation_labels),\\\n",
    "                    batch_size=BATCH_SIZE, epochs=EPOCHS,\\\n",
    "                             callbacks=[tensorboard_callback,metrics_callback,EarlyStopping(patience=8,min_delta=0.005,mode='min',verbose = 1,restore_best_weights=True,monitor='val_loss'),ReduceLROnPlateau(monitor=\"val_loss\",mode = 'min',factor=0.1,verbose = 1,min_delta=0.01,patience=3)])"
   ]
  },
  {
   "cell_type": "code",
   "execution_count": 64,
   "metadata": {},
   "outputs": [],
   "source": [
    "if not os.path.exists(SAVED_MODELS_DIR):\n",
    "    os.mkdir(SAVED_MODELS_DIR)"
   ]
  },
  {
   "cell_type": "code",
   "execution_count": 65,
   "metadata": {},
   "outputs": [],
   "source": [
    "lstm_model.save_weights(SAVED_MODELS_DIR + \"/lstm_model_variant_\" + str(VARIANT_NUM) + \".h5\")"
   ]
  },
  {
   "cell_type": "code",
   "execution_count": 66,
   "metadata": {},
   "outputs": [],
   "source": [
    "pickle_out = open(SAVED_MODELS_DIR + \"/lstm_model_params_\" + str(VARIANT_NUM) + \".pickle\",'wb')\n",
    "pickle.dump({'EMBEDDING_DIM':EMBEDDING_DIM,'MAX_TEXT_LEN':MAX_TEXT_LEN,'BATCH_SIZE':BATCH_SIZE,'EPOCHS':EPOCHS,\\\n",
    "             'train_set_size':len(train_set),'optimizer':str(lstm_model.optimizer),\\\n",
    "             'learning_rate':str(lstm_model.optimizer.learning_rate),\\\n",
    "             'conv_filters':CONV_FILTERS,'conv_kernel':CONV_KERNEL_SIZE,\\\n",
    "             'chunks_used':(len(train_set) + len(validation_set) + len(test_set)) // DATA_IN_CHUNK,\\\n",
    "            'LSTM_UNITS':LSTM_UNITS,'DENSE_UNITS':DENSE_UNITS,'LABELS_COUNT':LABELS_COUNT},pickle_out)\n",
    "pickle_out.close()"
   ]
  },
  {
   "cell_type": "markdown",
   "metadata": {},
   "source": [
    "## 4. Conclusion"
   ]
  },
  {
   "cell_type": "code",
   "execution_count": 67,
   "metadata": {},
   "outputs": [],
   "source": [
    "if VAST:\n",
    "    !tar -czf lstm_variant_19_logs.tar.gz logs"
   ]
  },
  {
   "cell_type": "code",
   "execution_count": 68,
   "metadata": {},
   "outputs": [],
   "source": [
    "if DELETE_PICKLES_AFTER_TRAINING:\n",
    "    if GDRIVE:\n",
    "        !rm -r larger_dataset/ready_for_models\n",
    "    else:\n",
    "        !rm -r ../larger_dataset/ready_for_models"
   ]
  },
  {
   "cell_type": "code",
   "execution_count": 69,
   "metadata": {},
   "outputs": [],
   "source": [
    "np.save(SAVED_MODELS_DIR + \"/\" + 'lstm_model_' + str(VARIANT_NUM) + '.npy',history.history)"
   ]
  },
  {
   "cell_type": "markdown",
   "metadata": {},
   "source": [
    "### 4.1 Results"
   ]
  },
  {
   "cell_type": "code",
   "execution_count": 70,
   "metadata": {},
   "outputs": [
    {
     "name": "stdout",
     "output_type": "stream",
     "text": [
      "1276/1276 [==============================] - 3s 2ms/step - loss: 0.5578 - accuracy: 0.7547\n",
      "test loss, test acc: [0.5578269362449646, 0.7546840310096741]\n"
     ]
    }
   ],
   "source": [
    "results = lstm_model.evaluate(test_set_padded, test_labels, batch_size=BATCH_SIZE)\n",
    "print(\"test loss, test acc:\", results)"
   ]
  },
  {
   "cell_type": "code",
   "execution_count": 71,
   "metadata": {
    "scrolled": false
   },
   "outputs": [
    {
     "data": {
      "image/png": "[encoded data removed]",
      "text/plain": [
       "<Figure size 640x480 with 1 Axes>"
      ]
     },
     "metadata": {},
     "output_type": "display_data"
    },
    {
     "data": {
      "image/png": "[encoded data removed]",
      "text/plain": [
       "<Figure size 640x480 with 1 Axes>"
      ]
     },
     "metadata": {},
     "output_type": "display_data"
    }
   ],
   "source": [
    "acc = history.history['accuracy']\n",
    "val_acc = history.history['val_accuracy']\n",
    "loss = history.history['loss']\n",
    "val_loss = history.history['val_loss']\n",
    "\n",
    "epochs = range(len(acc))\n",
    "\n",
    "plt.plot(epochs, acc, 'r', label='Training accuracy')\n",
    "plt.plot(epochs, val_acc, 'b', label='Validation accuracy')\n",
    "plt.title('Training and validation accuracy')\n",
    "plt.legend()\n",
    "plt.figure()\n",
    "\n",
    "plt.plot(epochs, loss, 'r', label='Training Loss')\n",
    "plt.plot(epochs, val_loss, 'b', label='Validation Loss')\n",
    "plt.title('Training and validation loss')\n",
    "plt.legend()\n",
    "\n",
    "plt.show()"
   ]
  },
  {
   "cell_type": "markdown",
   "metadata": {},
   "source": [
    "### 4.2 Tensorboard"
   ]
  },
  {
   "cell_type": "code",
   "execution_count": 72,
   "metadata": {},
   "outputs": [],
   "source": [
    "# %load_ext tensorboard\n",
    "# %tensorboard --logdir logs/fit"
   ]
  }
 ],
 "metadata": {
  "kernelspec": {
   "display_name": "Python 3 (ipykernel)",
   "language": "python",
   "name": "python3"
  },
  "language_info": {
   "codemirror_mode": {
    "name": "ipython",
    "version": 3
   },
   "file_extension": ".py",
   "mimetype": "text/x-python",
   "name": "python",
   "nbconvert_exporter": "python",
   "pygments_lexer": "ipython3",
   "version": "3.8.10"
  }
 },
 "nbformat": 4,
 "nbformat_minor": 2
}
