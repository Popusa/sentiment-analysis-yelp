{
  "cells": [
    {
      "attachments": {},
      "cell_type": "markdown",
      "metadata": {
        "id": "I7c7ILKCl5JV"
      },
      "source": [
        "# Sarcasm Detection using Machine Learning"
      ]
    },
    {
      "attachments": {},
      "cell_type": "markdown",
      "metadata": {
        "id": "mXvrRVhDl5JV"
      },
      "source": [
        "#### Goal of This File:\n",
        "\n",
        "##### 1. Import Libraries, Helper Functions, and Constants ==> Data Sourcing and Munging ==> Utility Functions ==> Loading the Data ==> Merging all Individual Files\n",
        "\n",
        "##### 2. Word Embeddings \n",
        "\n",
        "##### 3. Machine Learning Models ==> Small Model Test\n",
        "\n",
        "##### 4. Conclusion ==> Results"
      ]
    },
    {
      "attachments": {},
      "cell_type": "markdown",
      "metadata": {
        "id": "UZX5ZZ_Fl5JW"
      },
      "source": [
        "## 1. Import Libraries, Helper Functions and Load Constants"
      ]
    },
    {
      "cell_type": "code",
      "execution_count": 1,
      "metadata": {
        "colab": {
          "base_uri": "https://localhost:8080/"
        },
        "id": "mNZ-tFPhl5JW",
        "outputId": "596fd937-80c8-477d-aadd-8d5131229745",
        "scrolled": false
      },
      "outputs": [
        {
          "name": "stderr",
          "output_type": "stream",
          "text": [
            "The system cannot find the path specified.\n"
          ]
        }
      ],
      "source": [
        "!pip install pandas numpy nltk scikit-learn wordcloud\\\n",
        "seaborn gensim tensorflow imblearn xgboost matplotlib unrar pyunpack more-itertools patool keras-tqdm > /dev/null"
      ]
    },
    {
      "cell_type": "code",
      "execution_count": 2,
      "metadata": {
        "id": "JoY8Pp8Pl5JX",
        "scrolled": true
      },
      "outputs": [],
      "source": [
        "VAST = False\n",
        "\n",
        "if VAST:\n",
        "    !sudo apt-get install unrar\n",
        "    !sudo apt-get install rar\n",
        "\n",
        "GDRIVE = False"
      ]
    },
    {
      "cell_type": "code",
      "execution_count": 3,
      "metadata": {
        "id": "SN7JtZ_fl5JX"
      },
      "outputs": [],
      "source": [
        "UTILS_URL = 'https://f005.backblazeb2.com/file/gp-support-files/archived_nlp_ai_utils.py'\n",
        "UPDATING_VALUES_URL = 'https://f005.backblazeb2.com/file/gp-support-files/archived_updating_values.py'\n",
        "ALL_LIBS_URL = 'https://f005.backblazeb2.com/file/gp-support-files/archived_all_libs_dl.py'\n",
        "CHUNKS_URLS_FILE_URL = 'https://f005.backblazeb2.com/file/gp-support-files/chunks_urls.py'\n",
        "\n",
        "UTILS_FILE_NAME = 'archived_nlp_ai_utils'\n",
        "UPDATING_VALUES_FILE_NAME = 'archived_updating_values'\n",
        "ALL_LIBS_FILE_NAME = 'archived_all_libs_dl'\n",
        "CHUNKS_URLS_FILE_NAME = 'chunks_urls'\n",
        "\n",
        "DEP_FILE_EXT = '.py'"
      ]
    },
    {
      "cell_type": "code",
      "execution_count": 4,
      "metadata": {
        "id": "8MYfVj5jl5JX"
      },
      "outputs": [],
      "source": [
        "import requests\n",
        "import os\n",
        "\n",
        "def get_dependencies(url,file_name,file_extension):\n",
        "    if os.path.exists(file_name + file_extension):\n",
        "        return print(file_name + \" already exists.\")\n",
        "    else:\n",
        "        print(f\"downloading {file_name}...\")\n",
        "        r = requests.get(url)\n",
        "        with open(file_name + file_extension, 'wb') as fd:\n",
        "            for chunk in r.iter_content():\n",
        "                fd.write(chunk)"
      ]
    },
    {
      "cell_type": "code",
      "execution_count": 5,
      "metadata": {
        "colab": {
          "base_uri": "https://localhost:8080/"
        },
        "id": "YPXfSxsal5JX",
        "outputId": "e0015149-680a-4948-b4de-c1055b41a3f7"
      },
      "outputs": [
        {
          "name": "stdout",
          "output_type": "stream",
          "text": [
            "archived_nlp_ai_utils already exists.\n",
            "archived_updating_values already exists.\n",
            "archived_all_libs_dl already exists.\n",
            "chunks_urls already exists.\n"
          ]
        }
      ],
      "source": [
        "get_dependencies(UTILS_URL,UTILS_FILE_NAME,DEP_FILE_EXT)\n",
        "get_dependencies(UPDATING_VALUES_URL,UPDATING_VALUES_FILE_NAME,DEP_FILE_EXT)\n",
        "get_dependencies(ALL_LIBS_URL,ALL_LIBS_FILE_NAME,DEP_FILE_EXT)\n",
        "get_dependencies(CHUNKS_URLS_FILE_URL,CHUNKS_URLS_FILE_NAME,DEP_FILE_EXT)"
      ]
    },
    {
      "cell_type": "code",
      "execution_count": 6,
      "metadata": {
        "colab": {
          "base_uri": "https://localhost:8080/"
        },
        "id": "-3bJepxul5JX",
        "outputId": "a0a735ba-703f-4c4a-ff4f-b33bb47f05df"
      },
      "outputs": [
        {
          "name": "stderr",
          "output_type": "stream",
          "text": [
            "c:\\Users\\user\\AppData\\Local\\Programs\\Python\\Python310\\lib\\site-packages\\numpy\\_distributor_init.py:30: UserWarning: loaded more than 1 DLL from .libs:\n",
            "c:\\Users\\user\\AppData\\Local\\Programs\\Python\\Python310\\lib\\site-packages\\numpy\\.libs\\libopenblas.EL2C6PLE4ZYW3ECEVIV3OXXGRN2NRFM2.gfortran-win_amd64.dll\n",
            "c:\\Users\\user\\AppData\\Local\\Programs\\Python\\Python310\\lib\\site-packages\\numpy\\.libs\\libopenblas.FB5AE2TYXYH2IJRDKGDGQ3XBKLKTF43H.gfortran-win_amd64.dll\n",
            "  warnings.warn(\"loaded more than 1 DLL from .libs:\"\n",
            "[nltk_data] Downloading package punkt to\n",
            "[nltk_data]     C:\\Users\\user\\AppData\\Roaming\\nltk_data...\n",
            "[nltk_data]   Package punkt is already up-to-date!\n",
            "[nltk_data] Downloading package stopwords to\n",
            "[nltk_data]     C:\\Users\\user\\AppData\\Roaming\\nltk_data...\n",
            "[nltk_data]   Package stopwords is already up-to-date!\n",
            "[nltk_data] Downloading package averaged_perceptron_tagger to\n",
            "[nltk_data]     C:\\Users\\user\\AppData\\Roaming\\nltk_data...\n",
            "[nltk_data]   Package averaged_perceptron_tagger is already up-to-\n",
            "[nltk_data]       date!\n",
            "[nltk_data] Downloading package wordnet to\n",
            "[nltk_data]     C:\\Users\\user\\AppData\\Roaming\\nltk_data...\n",
            "[nltk_data]   Package wordnet is already up-to-date!\n"
          ]
        }
      ],
      "source": [
        "from archived_nlp_ai_utils import *\n",
        "from chunks_urls import SD_CHUNKS_URLS\n",
        "from archived_updating_values import *"
      ]
    },
    {
      "cell_type": "code",
      "execution_count": 7,
      "metadata": {
        "id": "Ns_Pbmbql5JY"
      },
      "outputs": [],
      "source": [
        "TF_ENABLE_ONEDNN_OPTS = 0\n",
        "os.environ['TF_CPP_MIN_LOG_LEVEL'] = '2'\n",
        "DATA_URLS = SD_CHUNKS_URLS\n",
        "LIMIT = SD_DATA_LIMIT\n",
        "TRAINED_MODELS_COUNT = TRAINED_MODELS\n",
        "if GDRIVE:\n",
        "    DATASET_PATH = \"datasets\"\n",
        "    PICKLES_DIR = \"sd_pickle_files\"\n",
        "else:\n",
        "    DATASET_PATH = \"../datasets\"\n",
        "    PICKLES_DIR = \"../sd_pickle_files\"\n",
        "\n",
        "PREPROCESSED_CHUNKS_PATH = DATASET_PATH + \"/preprocessed_sd_data_chunks/\"\n",
        "BASE_FILE_NAME = \"sd_chunk_\"\n",
        "FILE_FORMAT = \".csv\"\n",
        "DATA_IN_CHUNK = 99744\n",
        "if LIMIT == 10:\n",
        "    ACTUAL_DATA_SHAPE = DATA_IN_CHUNK * LIMIT - 2\n",
        "else:\n",
        "    ACTUAL_DATA_SHAPE = DATA_IN_CHUNK * LIMIT\n",
        "RANDOM_STATE = CONST_RANDOM_STATE\n",
        "np.random.seed(CONST_RANDOM_STATE)\n",
        "\n",
        "USE_SUBSET = 10000\n",
        "PRINT_METRICS = True"
      ]
    },
    {
      "attachments": {},
      "cell_type": "markdown",
      "metadata": {
        "id": "o64oqsFel5JY"
      },
      "source": [
        "### 1.1 Data Sourcing and Munging"
      ]
    },
    {
      "attachments": {},
      "cell_type": "markdown",
      "metadata": {
        "id": "CgvrBd5-l5JY"
      },
      "source": [
        "#### 1.1.1 Loading The Data"
      ]
    },
    {
      "cell_type": "code",
      "execution_count": 8,
      "metadata": {
        "colab": {
          "base_uri": "https://localhost:8080/",
          "height": 35
        },
        "id": "ofkCbKZBl5JY",
        "outputId": "83afd05b-cec1-499d-a694-35adeb198c5d"
      },
      "outputs": [
        {
          "data": {
            "text/plain": [
              "'../datasets'"
            ]
          },
          "execution_count": 8,
          "metadata": {},
          "output_type": "execute_result"
        }
      ],
      "source": [
        "DATASET_PATH"
      ]
    },
    {
      "cell_type": "code",
      "execution_count": 9,
      "metadata": {
        "colab": {
          "base_uri": "https://localhost:8080/",
          "height": 35
        },
        "id": "mhV6oZagl5JY",
        "outputId": "89fa71d7-af66-4f8b-a204-7e7bc050fcc8"
      },
      "outputs": [
        {
          "data": {
            "text/plain": [
              "'../datasets/preprocessed_sd_data_chunks/'"
            ]
          },
          "execution_count": 9,
          "metadata": {},
          "output_type": "execute_result"
        }
      ],
      "source": [
        "PREPROCESSED_CHUNKS_PATH"
      ]
    },
    {
      "cell_type": "code",
      "execution_count": 10,
      "metadata": {
        "colab": {
          "base_uri": "https://localhost:8080/"
        },
        "id": "4OgA1E7Kl5JY",
        "outputId": "6f481770-8406-4efb-d830-7ab3bf35a6c3",
        "scrolled": false
      },
      "outputs": [
        {
          "name": "stdout",
          "output_type": "stream",
          "text": [
            "sd_chunk_1 already exists.\n"
          ]
        }
      ],
      "source": [
        "if not os.path.exists(DATASET_PATH):\n",
        "    os.mkdir(DATASET_PATH)\n",
        "if not os.path.exists(PREPROCESSED_CHUNKS_PATH):\n",
        "    os.mkdir(PREPROCESSED_CHUNKS_PATH)\n",
        "get_chunks(DATA_URLS,LIMIT,1,BASE_FILE_NAME,PREPROCESSED_CHUNKS_PATH,FILE_FORMAT)"
      ]
    },
    {
      "attachments": {},
      "cell_type": "markdown",
      "metadata": {
        "id": "k_yzumQel5JZ"
      },
      "source": [
        "#### 1.1.2 Merging all Individual Files"
      ]
    },
    {
      "cell_type": "code",
      "execution_count": 11,
      "metadata": {
        "id": "tBG9E1G5l5JZ"
      },
      "outputs": [],
      "source": [
        "#get all names of downloaded files\n",
        "all_file_names = get_all_file_names(BASE_FILE_NAME,LIMIT)"
      ]
    },
    {
      "cell_type": "code",
      "execution_count": 12,
      "metadata": {
        "id": "yhXKIqaKl5JZ"
      },
      "outputs": [],
      "source": [
        "#read all chunks into a list\n",
        "list_dfs = read_chunks(all_file_names,PREPROCESSED_CHUNKS_PATH,FILE_FORMAT)"
      ]
    },
    {
      "cell_type": "code",
      "execution_count": 13,
      "metadata": {
        "id": "75eTnzcrl5JZ"
      },
      "outputs": [],
      "source": [
        "#concatenate all chunks into a singular df\n",
        "df = group_up_chunks(list_dfs)"
      ]
    },
    {
      "cell_type": "code",
      "execution_count": 14,
      "metadata": {
        "id": "2fiKDh5YHEep"
      },
      "outputs": [],
      "source": [
        "if USE_SUBSET:\n",
        "    df = df[:USE_SUBSET]\n",
        "    ACTUAL_DATA_SHAPE = USE_SUBSET"
      ]
    },
    {
      "cell_type": "code",
      "execution_count": 15,
      "metadata": {
        "colab": {
          "base_uri": "https://localhost:8080/"
        },
        "id": "UD7e50qnl5JZ",
        "outputId": "8b4d15e7-0118-4221-ba77-96fcb5033c27"
      },
      "outputs": [
        {
          "data": {
            "text/plain": [
              "100.0"
            ]
          },
          "execution_count": 15,
          "metadata": {},
          "output_type": "execute_result"
        }
      ],
      "source": [
        "#check how much of the data was actually downloaded\n",
        "percent_loaded = check_no_missing_data(df.shape[0],ACTUAL_DATA_SHAPE)\n",
        "percent_loaded"
      ]
    },
    {
      "cell_type": "code",
      "execution_count": 16,
      "metadata": {
        "id": "AaEFioxol5JZ"
      },
      "outputs": [],
      "source": [
        "df.reset_index(inplace = True)\n",
        "df.drop(['index'],axis = 1,inplace = True)"
      ]
    },
    {
      "cell_type": "code",
      "execution_count": 17,
      "metadata": {
        "id": "QVidO0ull5JZ"
      },
      "outputs": [],
      "source": [
        "X = df['text']\n",
        "y = df['labels']"
      ]
    },
    {
      "cell_type": "code",
      "execution_count": 18,
      "metadata": {
        "id": "yrHi0XDbl5JZ"
      },
      "outputs": [],
      "source": [
        "X = pd.Series([str(text) for text in X])\n",
        "\n",
        "y = pd.Series([int(label) for label in y])"
      ]
    },
    {
      "cell_type": "code",
      "execution_count": 19,
      "metadata": {
        "id": "8ASsTelql5JZ"
      },
      "outputs": [],
      "source": [
        "if not os.path.exists(PICKLES_DIR):\n",
        "    os.mkdir(PICKLES_DIR)"
      ]
    },
    {
      "attachments": {},
      "cell_type": "markdown",
      "metadata": {
        "id": "fLnoo0APl5Ja"
      },
      "source": [
        "## 2. Word Embeddings"
      ]
    },
    {
      "cell_type": "code",
      "execution_count": 20,
      "metadata": {
        "id": "WsPw9HPDHEeq"
      },
      "outputs": [],
      "source": [
        "TRAIN_PERCENT = 0.8\n",
        "VALID_TEST_PERCENT = 0.1\n",
        "TRAIN_SIZE = int(ACTUAL_DATA_SHAPE * TRAIN_PERCENT)\n",
        "VALID_TEST_SIZE = int(ACTUAL_DATA_SHAPE * VALID_TEST_PERCENT)\n",
        "TOTAL_TEST_SIZE = TRAIN_SIZE + VALID_TEST_SIZE"
      ]
    },
    {
      "attachments": {},
      "cell_type": "markdown",
      "metadata": {
        "id": "uKIffQELl5Ja"
      },
      "source": [
        "### 2.1 Word2Vec"
      ]
    },
    {
      "cell_type": "code",
      "execution_count": 21,
      "metadata": {
        "id": "BZb3jUUjl5Ja"
      },
      "outputs": [],
      "source": [
        "text_tokens = [nltk.word_tokenize(text) for text in X]"
      ]
    },
    {
      "cell_type": "code",
      "execution_count": 22,
      "metadata": {
        "id": "_ux6MUhbl5Ja"
      },
      "outputs": [],
      "source": [
        "w2v_tokens = text_tokens"
      ]
    },
    {
      "cell_type": "code",
      "execution_count": 23,
      "metadata": {
        "id": "03qgBin-l5Ja"
      },
      "outputs": [],
      "source": [
        "w2v_model = Word2Vec(sentences = w2v_tokens, vector_size = 100, window = 5, min_count=1, workers = 4)"
      ]
    },
    {
      "cell_type": "code",
      "execution_count": 24,
      "metadata": {
        "id": "O20n7GHYl5Ja"
      },
      "outputs": [],
      "source": [
        "X_W2V = np.zeros((len(w2v_tokens), w2v_model.vector_size))\n",
        "for i, text in enumerate(w2v_tokens):\n",
        "    for word in text:\n",
        "        if word in w2v_model.wv:\n",
        "            X_W2V[i] += w2v_model.wv[word]\n",
        "    X_W2V[i] /= len(w2v_tokens)"
      ]
    },
    {
      "attachments": {},
      "cell_type": "markdown",
      "metadata": {
        "id": "Ch6nrOc4l5Ja"
      },
      "source": [
        "### 2.2 TF-IDF"
      ]
    },
    {
      "cell_type": "code",
      "execution_count": 25,
      "metadata": {
        "id": "vE2f_m2hl5Ja"
      },
      "outputs": [],
      "source": [
        "tfidf_text = X"
      ]
    },
    {
      "cell_type": "code",
      "execution_count": 26,
      "metadata": {
        "id": "XJ0s6r5wl5Jb"
      },
      "outputs": [],
      "source": [
        "tfidf_model = TfidfVectorizer()\n",
        "\n",
        "train_set_tfidf = tfidf_model.fit_transform(tfidf_text[:TRAIN_SIZE]).toarray()\n",
        "\n",
        "validation_set_tfidf = tfidf_model.transform(tfidf_text[TRAIN_SIZE:TOTAL_TEST_SIZE]).toarray()\n",
        "\n",
        "test_set_tfidf = tfidf_model.transform(tfidf_text[TOTAL_TEST_SIZE:]).toarray()"
      ]
    },
    {
      "attachments": {},
      "cell_type": "markdown",
      "metadata": {
        "id": "ybuKIVtLl5Jb"
      },
      "source": [
        "### 2.3 FastText"
      ]
    },
    {
      "cell_type": "code",
      "execution_count": 27,
      "metadata": {
        "id": "GPTbzoH2l5Jb"
      },
      "outputs": [],
      "source": [
        "fasttext_tokens = text_tokens"
      ]
    },
    {
      "cell_type": "code",
      "execution_count": 28,
      "metadata": {
        "id": "t7SkrprNl5Jb"
      },
      "outputs": [],
      "source": [
        "ft_model = FastText(sentences = fasttext_tokens, vector_size = 100, window = 5, min_count = 1, workers = 4)"
      ]
    },
    {
      "cell_type": "code",
      "execution_count": 29,
      "metadata": {
        "id": "yBO1mYGDl5Jj"
      },
      "outputs": [],
      "source": [
        "X_FT = np.zeros((len(fasttext_tokens), ft_model.vector_size))\n",
        "for i, text in enumerate(fasttext_tokens):\n",
        "    for word in text:\n",
        "        if word in ft_model.wv:\n",
        "            X_FT[i] += ft_model.wv[word]\n",
        "    X_FT[i] /= len(fasttext_tokens)"
      ]
    },
    {
      "attachments": {},
      "cell_type": "markdown",
      "metadata": {
        "id": "H8eTc5x_l5Jj"
      },
      "source": [
        "## 3. Machine Learning Models"
      ]
    },
    {
      "cell_type": "code",
      "execution_count": 30,
      "metadata": {
        "id": "3EpARsJGl5Jj"
      },
      "outputs": [],
      "source": [
        "X_W2V = preprocessing.normalize(X_W2V)\n",
        "train_set_tfidf = preprocessing.normalize(train_set_tfidf)\n",
        "validation_set_tfidf = preprocessing.normalize(validation_set_tfidf)\n",
        "test_set_tfidf = preprocessing.normalize(test_set_tfidf)\n",
        "X_FT = preprocessing.normalize(X_FT)"
      ]
    },
    {
      "cell_type": "code",
      "execution_count": 31,
      "metadata": {
        "id": "5N1dpQKzHEe0"
      },
      "outputs": [],
      "source": [
        "sc = StandardScaler()\n",
        "train_set_tfidf = sc.fit_transform(train_set_tfidf)\n",
        "validation_set_tfidf = sc.transform(validation_set_tfidf)\n",
        "test_set_tfidf = sc.transform(test_set_tfidf)"
      ]
    },
    {
      "attachments": {},
      "cell_type": "markdown",
      "metadata": {
        "id": "cEd-uWVbl5Jj"
      },
      "source": [
        "### 3.1 Word2Vec Train-Validation-Test Split"
      ]
    },
    {
      "cell_type": "code",
      "execution_count": 32,
      "metadata": {
        "id": "k2BBhf3xl5Jj"
      },
      "outputs": [],
      "source": [
        "train_set_w2v = X_W2V[:TRAIN_SIZE]\n",
        "train_labels_w2v = y[:TRAIN_SIZE]\n",
        "validation_set_w2v = X_W2V[TRAIN_SIZE:TOTAL_TEST_SIZE]\n",
        "validation_labels_w2v = y[TRAIN_SIZE:TOTAL_TEST_SIZE]\n",
        "test_set_w2v = X_W2V[TOTAL_TEST_SIZE:]\n",
        "test_labels_w2v = y[TOTAL_TEST_SIZE:]"
      ]
    },
    {
      "attachments": {},
      "cell_type": "markdown",
      "metadata": {
        "id": "LfGjR6e-l5Jj"
      },
      "source": [
        "### 3.2 TF-IDF Train-Validation-Test Split"
      ]
    },
    {
      "cell_type": "code",
      "execution_count": 33,
      "metadata": {
        "id": "pmFZ9x9ml5Jj"
      },
      "outputs": [],
      "source": [
        "train_labels_tfidf = y[:TRAIN_SIZE]\n",
        "validation_labels_tfidf = y[TRAIN_SIZE:TOTAL_TEST_SIZE]\n",
        "test_labels_tfidf = y[TOTAL_TEST_SIZE:]"
      ]
    },
    {
      "attachments": {},
      "cell_type": "markdown",
      "metadata": {
        "id": "hIcmcFh4l5Jk"
      },
      "source": [
        "### 3.3 FastText Train-Validation-Test Split"
      ]
    },
    {
      "cell_type": "code",
      "execution_count": 34,
      "metadata": {
        "id": "voW-Pw0dl5Jk"
      },
      "outputs": [],
      "source": [
        "train_set_ft = X_FT[:TRAIN_SIZE]\n",
        "train_labels_ft = y[:TRAIN_SIZE]\n",
        "validation_set_ft = X_FT[TRAIN_SIZE:TOTAL_TEST_SIZE]\n",
        "validation_labels_ft = y[TRAIN_SIZE:TOTAL_TEST_SIZE]\n",
        "test_set_ft = X_FT[TOTAL_TEST_SIZE:]\n",
        "test_labels_ft = y[TOTAL_TEST_SIZE:]"
      ]
    },
    {
      "attachments": {},
      "cell_type": "markdown",
      "metadata": {
        "id": "_XWFrMzyl5Jk"
      },
      "source": [
        "### 3.4 Naive Bayes"
      ]
    },
    {
      "attachments": {},
      "cell_type": "markdown",
      "metadata": {
        "id": "UaBEXle-l5Jk"
      },
      "source": [
        "#### 3.4.1 Word2Vec "
      ]
    },
    {
      "cell_type": "code",
      "execution_count": 35,
      "metadata": {
        "id": "ajw2T1uql5Jk"
      },
      "outputs": [
        {
          "name": "stdout",
          "output_type": "stream",
          "text": [
            "Found Pickle File.\n"
          ]
        }
      ],
      "source": [
        "if not os.path.exists(PICKLES_DIR + '/' + 'all_nb' + '.pickle'):\n",
        "    nb_clf_w2v = GaussianNB()\n",
        "    nb_clf_w2v.fit(train_set_w2v, train_labels_w2v)\n",
        "    validation_predictions_nb_w2v = nb_clf_w2v.predict(validation_set_w2v)\n",
        "    nb_w2v_accuracy = metrics.accuracy_score(validation_labels_w2v,validation_predictions_nb_w2v)\n",
        "else:\n",
        "    print(\"Found Pickle File.\")"
      ]
    },
    {
      "attachments": {},
      "cell_type": "markdown",
      "metadata": {
        "id": "col7Sutkl5Jk"
      },
      "source": [
        "#### 3.4.2 TF-IDF "
      ]
    },
    {
      "cell_type": "code",
      "execution_count": 36,
      "metadata": {
        "id": "kXvIlqd5l5Jk"
      },
      "outputs": [
        {
          "name": "stdout",
          "output_type": "stream",
          "text": [
            "Found Pickle File.\n"
          ]
        }
      ],
      "source": [
        "if not os.path.exists(PICKLES_DIR + '/' + 'all_nb' + '.pickle'):\n",
        "    nb_clf_tfidf = GaussianNB()\n",
        "    nb_clf_tfidf.fit(train_set_tfidf, train_labels_tfidf)\n",
        "    validation_predictions_nb_tfidf = nb_clf_tfidf.predict(validation_set_tfidf)\n",
        "    nb_tfidf_accuracy = metrics.accuracy_score(validation_labels_tfidf,validation_predictions_nb_tfidf)\n",
        "else:\n",
        "    print(\"Found Pickle File.\")"
      ]
    },
    {
      "attachments": {},
      "cell_type": "markdown",
      "metadata": {
        "id": "oVrRQmbml5Jk"
      },
      "source": [
        "#### 3.4.3 FastText"
      ]
    },
    {
      "cell_type": "code",
      "execution_count": 37,
      "metadata": {
        "id": "w7EDYchWl5Jk"
      },
      "outputs": [
        {
          "name": "stdout",
          "output_type": "stream",
          "text": [
            "Found Pickle File.\n"
          ]
        }
      ],
      "source": [
        "if not os.path.exists(PICKLES_DIR + '/' + 'all_nb' + '.pickle'):\n",
        "    nb_clf_ft = GaussianNB()\n",
        "    nb_clf_ft.fit(train_set_ft, train_labels_ft)\n",
        "    validation_predictions_nb_ft = nb_clf_ft.predict(validation_set_ft)\n",
        "    nb_ft_accuracy = metrics.accuracy_score(validation_labels_ft,validation_predictions_nb_ft)\n",
        "else:\n",
        "    print(\"Found Pickle File.\")"
      ]
    },
    {
      "attachments": {},
      "cell_type": "markdown",
      "metadata": {
        "id": "CZJXuO5ol5Jl"
      },
      "source": [
        "### 3.5 lr"
      ]
    },
    {
      "attachments": {},
      "cell_type": "markdown",
      "metadata": {
        "id": "_ui2iPLKl5Jl"
      },
      "source": [
        "#### 3.5.1 Word2Vec "
      ]
    },
    {
      "cell_type": "code",
      "execution_count": 38,
      "metadata": {
        "id": "qgebCgPal5Jl"
      },
      "outputs": [
        {
          "name": "stdout",
          "output_type": "stream",
          "text": [
            "Found Pickle File.\n"
          ]
        }
      ],
      "source": [
        "if not os.path.exists(PICKLES_DIR + '/' + 'all_lr' + '.pickle'):\n",
        "    lr_clf_w2v = LogisticRegression(random_state=RANDOM_STATE)\n",
        "    lr_clf_w2v.fit(train_set_w2v, train_labels_w2v)\n",
        "    validation_predictions_lr_w2v = lr_clf_w2v.predict(validation_set_w2v)\n",
        "    lr_w2v_accuracy = metrics.accuracy_score(validation_labels_w2v,validation_predictions_lr_w2v)\n",
        "else:\n",
        "    print(\"Found Pickle File.\")"
      ]
    },
    {
      "attachments": {},
      "cell_type": "markdown",
      "metadata": {
        "id": "sVaZp1Szl5Jl"
      },
      "source": [
        "#### 3.5.2 TF-IDF "
      ]
    },
    {
      "cell_type": "code",
      "execution_count": 39,
      "metadata": {
        "id": "IYHG0xm1l5Jl"
      },
      "outputs": [
        {
          "name": "stdout",
          "output_type": "stream",
          "text": [
            "Found Pickle File.\n"
          ]
        }
      ],
      "source": [
        "if not os.path.exists(PICKLES_DIR + '/' + 'all_lr' + '.pickle'):\n",
        "    lr_clf_tfidf = LogisticRegression(random_state=RANDOM_STATE)\n",
        "    lr_clf_tfidf.fit(train_set_tfidf, train_labels_tfidf)\n",
        "    validation_predictions_lr_tfidf = lr_clf_tfidf.predict(validation_set_tfidf)\n",
        "    lr_tfidf_accuracy = metrics.accuracy_score(validation_labels_tfidf,validation_predictions_lr_tfidf)\n",
        "else:\n",
        "    print(\"Found Pickle File.\")"
      ]
    },
    {
      "attachments": {},
      "cell_type": "markdown",
      "metadata": {
        "id": "GtGHa9Ewl5Jl"
      },
      "source": [
        "#### 3.5.3 FastText"
      ]
    },
    {
      "cell_type": "code",
      "execution_count": 40,
      "metadata": {
        "id": "t19R6Z_Yl5Jl"
      },
      "outputs": [
        {
          "name": "stdout",
          "output_type": "stream",
          "text": [
            "Found Pickle File.\n"
          ]
        }
      ],
      "source": [
        "if not os.path.exists(PICKLES_DIR + '/' + 'all_lr' + '.pickle'):\n",
        "    lr_clf_ft = LogisticRegression(random_state=RANDOM_STATE)\n",
        "    lr_clf_ft.fit(train_set_ft, train_labels_ft)\n",
        "    validation_predictions_lr_ft = lr_clf_ft.predict(validation_set_ft)\n",
        "    lr_ft_accuracy = metrics.accuracy_score(validation_labels_ft,validation_predictions_lr_ft)\n",
        "else:\n",
        "    print(\"Found Pickle File.\")"
      ]
    },
    {
      "attachments": {},
      "cell_type": "markdown",
      "metadata": {
        "id": "gONmcQEOl5Jl"
      },
      "source": [
        "### 3.6 Random Forest"
      ]
    },
    {
      "attachments": {},
      "cell_type": "markdown",
      "metadata": {
        "id": "krP76FBWl5Jl"
      },
      "source": [
        "#### 3.6.1 Word2Vec"
      ]
    },
    {
      "cell_type": "code",
      "execution_count": 41,
      "metadata": {
        "id": "ojcT-gRAl5Jm"
      },
      "outputs": [
        {
          "name": "stdout",
          "output_type": "stream",
          "text": [
            "Found Pickle File.\n"
          ]
        }
      ],
      "source": [
        "if not os.path.exists(PICKLES_DIR + '/' + 'all_rf' + '.pickle'):\n",
        "    rf_clf_w2v = RandomForestClassifier(n_estimators=50,random_state=RANDOM_STATE)\n",
        "    rf_clf_w2v.fit(train_set_w2v, train_labels_w2v)\n",
        "    validation_predictions_rf_w2v = rf_clf_w2v.predict(validation_set_w2v)\n",
        "    rf_w2v_accuracy = metrics.accuracy_score(validation_labels_w2v,validation_predictions_rf_w2v)\n",
        "else:\n",
        "    print(\"Found Pickle File.\")"
      ]
    },
    {
      "attachments": {},
      "cell_type": "markdown",
      "metadata": {
        "id": "ilGrAKKZl5Jm"
      },
      "source": [
        "#### 3.6.2 TF-IDF"
      ]
    },
    {
      "cell_type": "code",
      "execution_count": 42,
      "metadata": {
        "id": "q9VrrIg4l5Jm"
      },
      "outputs": [
        {
          "name": "stdout",
          "output_type": "stream",
          "text": [
            "Found Pickle File.\n"
          ]
        }
      ],
      "source": [
        "if not os.path.exists(PICKLES_DIR + '/' + 'all_rf' + '.pickle'):\n",
        "    rf_clf_tfidf = RandomForestClassifier(n_estimators=50,random_state=RANDOM_STATE)\n",
        "    rf_clf_tfidf.fit(train_set_tfidf, train_labels_tfidf)\n",
        "    validation_predictions_rf_tfidf = rf_clf_tfidf.predict(validation_set_tfidf)\n",
        "    rf_tfidf_accuracy = metrics.accuracy_score(validation_labels_tfidf,validation_predictions_rf_tfidf)\n",
        "else:\n",
        "    print(\"Found Pickle File.\")"
      ]
    },
    {
      "attachments": {},
      "cell_type": "markdown",
      "metadata": {
        "id": "eRn1mF94l5Jm"
      },
      "source": [
        "#### 3.6.3 FastText"
      ]
    },
    {
      "cell_type": "code",
      "execution_count": 43,
      "metadata": {
        "id": "cOVGwQFal5Jm"
      },
      "outputs": [
        {
          "name": "stdout",
          "output_type": "stream",
          "text": [
            "Found Pickle File.\n"
          ]
        }
      ],
      "source": [
        "if not os.path.exists(PICKLES_DIR + '/' + 'all_rf' + '.pickle'):\n",
        "    rf_clf_ft = RandomForestClassifier(n_estimators=50,random_state=RANDOM_STATE)\n",
        "    rf_clf_ft.fit(train_set_ft, train_labels_ft)\n",
        "    validation_predictions_rf_ft = rf_clf_ft.predict(validation_set_ft)\n",
        "    rf_ft_accuracy = metrics.accuracy_score(validation_labels_ft,validation_predictions_rf_ft)\n",
        "else:\n",
        "    print(\"Found Pickle File.\")"
      ]
    },
    {
      "attachments": {},
      "cell_type": "markdown",
      "metadata": {
        "id": "fjnbdgfhl5Jm"
      },
      "source": [
        "### 3.7 XGBoost"
      ]
    },
    {
      "attachments": {},
      "cell_type": "markdown",
      "metadata": {
        "id": "YvK9xicvl5Jm"
      },
      "source": [
        "#### 3.7.1 Word2Vec"
      ]
    },
    {
      "cell_type": "code",
      "execution_count": 44,
      "metadata": {
        "id": "W_Yt6NsPl5Jm"
      },
      "outputs": [],
      "source": [
        "if not os.path.exists(PICKLES_DIR + '/' + 'all_xgb' + '.pickle'):\n",
        "    xgb_clf_w2v = XGBClassifier(random_state=RANDOM_STATE)\n",
        "    xgb_clf_w2v.fit(train_set_w2v, train_labels_w2v)\n",
        "    validation_predictions_xgb_w2v = xgb_clf_w2v.predict(validation_set_w2v)\n",
        "    xgb_w2v_accuracy = metrics.accuracy_score(validation_labels_w2v,validation_predictions_xgb_w2v)\n",
        "else:\n",
        "    print(\"Found Pickle File.\")"
      ]
    },
    {
      "attachments": {},
      "cell_type": "markdown",
      "metadata": {
        "id": "cCmWxbK0l5Jn"
      },
      "source": [
        "#### 3.7.2 TF-IDF"
      ]
    },
    {
      "cell_type": "code",
      "execution_count": 45,
      "metadata": {
        "id": "V7FckmxFl5Jn"
      },
      "outputs": [],
      "source": [
        "if not os.path.exists(PICKLES_DIR + '/' + 'all_xgb' + '.pickle'):\n",
        "    xgb_clf_tfidf = XGBClassifier(random_state=RANDOM_STATE)\n",
        "    xgb_clf_tfidf.fit(train_set_tfidf, train_labels_tfidf)\n",
        "    validation_predictions_xgb_tfidf = xgb_clf_tfidf.predict(validation_set_tfidf)\n",
        "    xgb_tfidf_accuracy = metrics.accuracy_score(validation_labels_tfidf,validation_predictions_xgb_tfidf)\n",
        "else:\n",
        "    print(\"Found Pickle File.\")"
      ]
    },
    {
      "attachments": {},
      "cell_type": "markdown",
      "metadata": {
        "id": "6yGrj0wul5Jn"
      },
      "source": [
        "#### 3.7.3 FastText"
      ]
    },
    {
      "cell_type": "code",
      "execution_count": 46,
      "metadata": {
        "id": "PPPw7jDNl5Jn"
      },
      "outputs": [],
      "source": [
        "if not os.path.exists(PICKLES_DIR + '/' + 'all_xgb' + '.pickle'):\n",
        "    xgb_clf_ft = XGBClassifier(random_state=RANDOM_STATE)\n",
        "    xgb_clf_ft.fit(train_set_ft, train_labels_ft)\n",
        "    validation_predictions_xgb_ft = xgb_clf_ft.predict(validation_set_ft)\n",
        "    xgb_ft_accuracy = metrics.accuracy_score(validation_labels_ft,validation_predictions_xgb_ft)\n",
        "else:\n",
        "    print(\"Found Pickle File.\")"
      ]
    },
    {
      "attachments": {},
      "cell_type": "markdown",
      "metadata": {
        "id": "Jub1MfRCl5Jn"
      },
      "source": [
        "### 3.8 Small Model Test"
      ]
    },
    {
      "cell_type": "code",
      "execution_count": 47,
      "metadata": {
        "id": "DWDbD4D_l5Jn"
      },
      "outputs": [],
      "source": [
        "def test_model(sentence,embedding,clf):\n",
        "    test_token = nltk.word_tokenize(sentence)\n",
        "    test_vector = np.zeros(embedding.vector_size)\n",
        "    for word in test_token:\n",
        "        if word in embedding.wv:\n",
        "            test_vector += embedding.wv[word]\n",
        "    test_vector /= len(test_token)\n",
        "    predicted_label = clf.predict([test_vector])[0]\n",
        "    return predicted_label"
      ]
    },
    {
      "attachments": {},
      "cell_type": "markdown",
      "metadata": {
        "id": "dBjYJjinl5Jo"
      },
      "source": [
        "#### 3.9 Save Models"
      ]
    },
    {
      "cell_type": "code",
      "execution_count": 48,
      "metadata": {},
      "outputs": [],
      "source": [
        "all_models = []"
      ]
    },
    {
      "cell_type": "code",
      "execution_count": 49,
      "metadata": {
        "id": "8y_rIgQNl5Jo"
      },
      "outputs": [
        {
          "name": "stdout",
          "output_type": "stream",
          "text": [
            "Found Pickle File for nb.\n"
          ]
        }
      ],
      "source": [
        "if os.path.exists(PICKLES_DIR + '/' + \"all_nb.pickle\"):\n",
        "    print(\"Found Pickle File for nb.\")\n",
        "    all_nb = pickle.load(open(PICKLES_DIR + '/' + 'all_nb.pickle','rb'))\n",
        "else:\n",
        "    pickle_out = open(PICKLES_DIR + '/' + 'all_nb' + '.pickle','wb')\n",
        "    nb_dict = {'nb_clf_w2v':nb_clf_w2v,'nb_clf_w2v_preds':validation_predictions_nb_w2v,'nb_clf_tfidf':nb_clf_tfidf,\\\n",
        "        'nb_clf_tfidf_preds':validation_predictions_nb_tfidf,'nb_clf_ft':nb_clf_ft,'nb_clf_ft_preds':validation_predictions_nb_ft,}\n",
        "    pickle.dump(nb_dict,pickle_out)\n",
        "    pickle_out.close()\n",
        "    all_nb = nb_dict\n",
        "    print(\"Created Pickle File for nb.\")\n",
        "    \n",
        "all_models.append(all_nb)"
      ]
    },
    {
      "cell_type": "code",
      "execution_count": 50,
      "metadata": {},
      "outputs": [
        {
          "name": "stdout",
          "output_type": "stream",
          "text": [
            "Found Pickle File for lr.\n"
          ]
        }
      ],
      "source": [
        "if os.path.exists(PICKLES_DIR + '/' + \"all_lr.pickle\"):\n",
        "    print(\"Found Pickle File for lr.\")\n",
        "    all_lr = pickle.load(open(PICKLES_DIR + '/' + 'all_lr.pickle','rb'))\n",
        "else:\n",
        "    pickle_out = open(PICKLES_DIR + '/' + 'all_lr' + '.pickle','wb')\n",
        "    lr_dict = {'lr_clf_w2v':lr_clf_w2v,'lr_clf_w2v_preds':validation_predictions_lr_w2v,'lr_clf_tfidf':lr_clf_tfidf,\\\n",
        "        'lr_clf_tfidf_preds':validation_predictions_lr_tfidf,'lr_clf_ft':lr_clf_ft,'lr_clf_ft_preds':validation_predictions_lr_ft}\n",
        "    pickle.dump(lr_dict,pickle_out)\n",
        "    pickle_out.close()\n",
        "    all_lr = lr_dict\n",
        "    print(\"Created Pickle File for lr.\")\n",
        "\n",
        "all_models.append(all_lr)"
      ]
    },
    {
      "cell_type": "code",
      "execution_count": 51,
      "metadata": {},
      "outputs": [
        {
          "name": "stdout",
          "output_type": "stream",
          "text": [
            "Found Pickle File for rf.\n"
          ]
        }
      ],
      "source": [
        "if os.path.exists(PICKLES_DIR + '/' + \"all_rf.pickle\"):\n",
        "    print(\"Found Pickle File for rf.\")\n",
        "    all_rf = pickle.load(open(PICKLES_DIR + '/' + 'all_rf.pickle','rb'))\n",
        "else:\n",
        "    pickle_out = open(PICKLES_DIR + '/' + 'all_rf' + '.pickle','wb')\n",
        "    rf_dict = {'rf_clf_w2v':rf_clf_w2v,'rf_clf_w2v_preds':validation_predictions_rf_w2v,'rf_clf_tfidf':rf_clf_tfidf,\\\n",
        "        'rf_clf_tfidf_preds':validation_predictions_rf_tfidf,'rf_clf_ft':rf_clf_ft,'rf_clf_ft_preds':validation_predictions_rf_ft}\n",
        "    pickle.dump(rf_dict,pickle_out)\n",
        "    pickle_out.close()\n",
        "    all_rf = rf_dict\n",
        "    print(\"Created Pickle File for rf.\")\n",
        "    \n",
        "all_models.append(all_rf)"
      ]
    },
    {
      "cell_type": "code",
      "execution_count": 52,
      "metadata": {},
      "outputs": [
        {
          "name": "stdout",
          "output_type": "stream",
          "text": [
            "Created Pickle File for xgb.\n"
          ]
        }
      ],
      "source": [
        "if os.path.exists(PICKLES_DIR + \"/\" + \"all_xgb.pickle\"):\n",
        "    print(\"Found Pickle File for xgb.\")\n",
        "    all_xgb = pickle.load(open(PICKLES_DIR + '/' + 'all_xgb.pickle','rb'))\n",
        "else:\n",
        "    pickle_out = open(PICKLES_DIR + '/' + 'all_xgb' + '.pickle','wb')\n",
        "    xgb_dict = {'xgb_clf_w2v':xgb_clf_w2v,'xgb_clf_w2v_preds':validation_predictions_xgb_w2v,'xgb_clf_tfidf':xgb_clf_tfidf,\\\n",
        "        'xgb_clf_tfidf_preds':validation_predictions_xgb_tfidf,'xgb_clf_ft':xgb_clf_ft,'xgb_clf_ft_preds':validation_predictions_xgb_ft,}\n",
        "    pickle.dump(xgb_dict,pickle_out)\n",
        "    pickle_out.close()\n",
        "    all_xgb = xgb_dict\n",
        "    print(\"Created Pickle File for xgb.\")\n",
        "    \n",
        "all_models.append(all_xgb)"
      ]
    },
    {
      "attachments": {},
      "cell_type": "markdown",
      "metadata": {
        "id": "Om-vRHUKl5Jo"
      },
      "source": [
        "## 4. Conclusion"
      ]
    },
    {
      "attachments": {},
      "cell_type": "markdown",
      "metadata": {
        "id": "PfNk3V8xl5Jo"
      },
      "source": [
        "### 4.1 Results"
      ]
    },
    {
      "cell_type": "code",
      "execution_count": 53,
      "metadata": {
        "colab": {
          "base_uri": "https://localhost:8080/",
          "height": 380
        },
        "id": "GRcvwFyul5Jo",
        "outputId": "a0ab4046-cd31-4fbe-9870-f0e626ad97e6"
      },
      "outputs": [
        {
          "name": "stdout",
          "output_type": "stream",
          "text": [
            "PRINTING METRICS FOR Gaussian Naive Bayes/Word2Vec\n"
          ]
        },
        {
          "data": {
            "image/png": "[encoded data removed]",
            "text/plain": [
              "<Figure size 432x288 with 2 Axes>"
            ]
          },
          "metadata": {
            "needs_background": "light"
          },
          "output_type": "display_data"
        },
        {
          "name": "stdout",
          "output_type": "stream",
          "text": [
            "ROC/AUC for each class: \n",
            "\n",
            "{0: 0.5805544532230199, 1: 0.5805544532230199}\n",
            "\n",
            "\n",
            "Classification Report = \n",
            "                precision    recall  f1-score   support\n",
            "\n",
            "           0       0.66      0.37      0.48       523\n",
            "           1       0.53      0.79      0.64       477\n",
            "\n",
            "    accuracy                           0.57      1000\n",
            "   macro avg       0.60      0.58      0.56      1000\n",
            "weighted avg       0.60      0.57      0.55      1000\n",
            "\n"
          ]
        },
        {
          "data": {
            "image/png": "[encoded data removed]",
            "text/plain": [
              "<Figure size 432x288 with 1 Axes>"
            ]
          },
          "metadata": {
            "needs_background": "light"
          },
          "output_type": "display_data"
        },
        {
          "name": "stdout",
          "output_type": "stream",
          "text": [
            "PRINTING METRICS FOR Gaussian Naive Bayes/TFIDF\n"
          ]
        },
        {
          "data": {
            "image/png": "[encoded data removed]",
            "text/plain": [
              "<Figure size 432x288 with 2 Axes>"
            ]
          },
          "metadata": {
            "needs_background": "light"
          },
          "output_type": "display_data"
        },
        {
          "name": "stdout",
          "output_type": "stream",
          "text": [
            "ROC/AUC for each class: \n",
            "\n",
            "{0: 0.618787354041151, 1: 0.6187873540411511}\n",
            "\n",
            "\n",
            "Classification Report = \n",
            "                precision    recall  f1-score   support\n",
            "\n",
            "           0       0.61      0.80      0.69       523\n",
            "           1       0.66      0.44      0.53       477\n",
            "\n",
            "    accuracy                           0.63      1000\n",
            "   macro avg       0.64      0.62      0.61      1000\n",
            "weighted avg       0.64      0.63      0.61      1000\n",
            "\n"
          ]
        },
        {
          "data": {
            "image/png": "[encoded data removed]",
            "text/plain": [
              "<Figure size 432x288 with 1 Axes>"
            ]
          },
          "metadata": {
            "needs_background": "light"
          },
          "output_type": "display_data"
        },
        {
          "name": "stdout",
          "output_type": "stream",
          "text": [
            "PRINTING METRICS FOR Gaussian Naive Bayes/FastText\n"
          ]
        },
        {
          "data": {
            "image/png": "[encoded data removed]",
            "text/plain": [
              "<Figure size 432x288 with 2 Axes>"
            ]
          },
          "metadata": {
            "needs_background": "light"
          },
          "output_type": "display_data"
        },
        {
          "name": "stdout",
          "output_type": "stream",
          "text": [
            "ROC/AUC for each class: \n",
            "\n",
            "{0: 0.5626465601212165, 1: 0.5626465601212165}\n",
            "\n",
            "\n",
            "Classification Report = \n",
            "                precision    recall  f1-score   support\n",
            "\n",
            "           0       0.74      0.20      0.32       523\n",
            "           1       0.51      0.92      0.66       477\n",
            "\n",
            "    accuracy                           0.55      1000\n",
            "   macro avg       0.63      0.56      0.49      1000\n",
            "weighted avg       0.63      0.55      0.48      1000\n",
            "\n"
          ]
        },
        {
          "data": {
            "image/png": "[encoded data removed]",
            "text/plain": [
              "<Figure size 432x288 with 1 Axes>"
            ]
          },
          "metadata": {
            "needs_background": "light"
          },
          "output_type": "display_data"
        }
      ],
      "source": [
        "show_metrics('Gaussian Naive Bayes/Word2Vec',all_models[0]['nb_clf_w2v'],validation_set_w2v,validation_labels_w2v,all_models[0]['nb_clf_w2v_preds'],X_W2V,y,5)\n",
        "show_metrics('Gaussian Naive Bayes/TFIDF',all_models[0]['nb_clf_tfidf'],validation_set_tfidf,validation_labels_tfidf,all_models[0]['nb_clf_tfidf_preds'],\\\n",
        "             np.concatenate([train_set_tfidf,validation_set_tfidf,test_set_tfidf]),y,5)\n",
        "show_metrics('Gaussian Naive Bayes/FastText',all_models[0]['nb_clf_ft'],validation_set_ft,validation_labels_ft,all_models[0]['nb_clf_ft_preds'],X_FT,y,5)"
      ]
    },
    {
      "cell_type": "code",
      "execution_count": 54,
      "metadata": {},
      "outputs": [
        {
          "name": "stdout",
          "output_type": "stream",
          "text": [
            "PRINTING METRICS FOR Logistic Regression/Word2Vec\n"
          ]
        },
        {
          "data": {
            "image/png": "[encoded data removed]",
            "text/plain": [
              "<Figure size 432x288 with 2 Axes>"
            ]
          },
          "metadata": {
            "needs_background": "light"
          },
          "output_type": "display_data"
        },
        {
          "name": "stdout",
          "output_type": "stream",
          "text": [
            "ROC/AUC for each class: \n",
            "\n",
            "{0: 0.5020964360587001, 1: 0.5020964360587002}\n",
            "\n",
            "\n",
            "Classification Report = \n",
            "                precision    recall  f1-score   support\n",
            "\n",
            "           0       0.52      1.00      0.69       523\n",
            "           1       1.00      0.00      0.01       477\n",
            "\n",
            "    accuracy                           0.53      1000\n",
            "   macro avg       0.76      0.50      0.35      1000\n",
            "weighted avg       0.75      0.53      0.36      1000\n",
            "\n"
          ]
        },
        {
          "data": {
            "image/png": "[encoded data removed]",
            "text/plain": [
              "<Figure size 432x288 with 1 Axes>"
            ]
          },
          "metadata": {
            "needs_background": "light"
          },
          "output_type": "display_data"
        },
        {
          "name": "stdout",
          "output_type": "stream",
          "text": [
            "PRINTING METRICS FOR Logistic Regression/TFIDF\n"
          ]
        },
        {
          "data": {
            "image/png": "[encoded data removed]",
            "text/plain": [
              "<Figure size 432x288 with 2 Axes>"
            ]
          },
          "metadata": {
            "needs_background": "light"
          },
          "output_type": "display_data"
        },
        {
          "name": "stdout",
          "output_type": "stream",
          "text": [
            "ROC/AUC for each class: \n",
            "\n",
            "{0: 0.7372019192611566, 1: 0.7372019192611566}\n",
            "\n",
            "\n",
            "Classification Report = \n",
            "                precision    recall  f1-score   support\n",
            "\n",
            "           0       0.74      0.78      0.76       523\n",
            "           1       0.74      0.70      0.72       477\n",
            "\n",
            "    accuracy                           0.74      1000\n",
            "   macro avg       0.74      0.74      0.74      1000\n",
            "weighted avg       0.74      0.74      0.74      1000\n",
            "\n"
          ]
        },
        {
          "data": {
            "image/png": "[encoded data removed]",
            "text/plain": [
              "<Figure size 432x288 with 1 Axes>"
            ]
          },
          "metadata": {
            "needs_background": "light"
          },
          "output_type": "display_data"
        },
        {
          "name": "stdout",
          "output_type": "stream",
          "text": [
            "PRINTING METRICS FOR Logistic Regression/FastText\n"
          ]
        },
        {
          "data": {
            "image/png": "[encoded data removed]",
            "text/plain": [
              "<Figure size 432x288 with 2 Axes>"
            ]
          },
          "metadata": {
            "needs_background": "light"
          },
          "output_type": "display_data"
        },
        {
          "name": "stdout",
          "output_type": "stream",
          "text": [
            "ROC/AUC for each class: \n",
            "\n",
            "{0: 0.5, 1: 0.5}\n",
            "\n",
            "\n",
            "Classification Report = \n",
            "                precision    recall  f1-score   support\n",
            "\n",
            "           0       0.52      1.00      0.69       523\n",
            "           1       0.00      0.00      0.00       477\n",
            "\n",
            "    accuracy                           0.52      1000\n",
            "   macro avg       0.26      0.50      0.34      1000\n",
            "weighted avg       0.27      0.52      0.36      1000\n",
            "\n"
          ]
        },
        {
          "data": {
            "image/png": "[encoded data removed]",
            "text/plain": [
              "<Figure size 432x288 with 1 Axes>"
            ]
          },
          "metadata": {
            "needs_background": "light"
          },
          "output_type": "display_data"
        }
      ],
      "source": [
        "if PRINT_METRICS:\n",
        "    show_metrics('Logistic Regression/Word2Vec',all_models[1]['lr_clf_w2v'],validation_set_w2v,validation_labels_w2v,all_models[1]['lr_clf_w2v_preds'],X_W2V,y,5)\n",
        "    show_metrics('Logistic Regression/TFIDF',all_models[1]['lr_clf_tfidf'],validation_set_tfidf,validation_labels_tfidf,all_models[1]['lr_clf_tfidf_preds'],\\\n",
        "                np.concatenate([train_set_tfidf,validation_set_tfidf,test_set_tfidf]),y,5)\n",
        "    show_metrics('Logistic Regression/FastText',all_models[1]['lr_clf_ft'],validation_set_ft,validation_labels_ft,all_models[1]['lr_clf_ft_preds'],X_FT,y,5)"
      ]
    },
    {
      "cell_type": "code",
      "execution_count": 55,
      "metadata": {},
      "outputs": [
        {
          "name": "stdout",
          "output_type": "stream",
          "text": [
            "PRINTING METRICS FOR Random Forest/Word2Vec\n"
          ]
        },
        {
          "data": {
            "image/png": "[encoded data removed]",
            "text/plain": [
              "<Figure size 432x288 with 2 Axes>"
            ]
          },
          "metadata": {
            "needs_background": "light"
          },
          "output_type": "display_data"
        },
        {
          "name": "stdout",
          "output_type": "stream",
          "text": [
            "ROC/AUC for each class: \n",
            "\n",
            "{0: 0.6976361981953814, 1: 0.6976361981953814}\n",
            "\n",
            "\n",
            "Classification Report = \n",
            "                precision    recall  f1-score   support\n",
            "\n",
            "           0       0.71      0.71      0.71       523\n",
            "           1       0.68      0.69      0.69       477\n",
            "\n",
            "    accuracy                           0.70      1000\n",
            "   macro avg       0.70      0.70      0.70      1000\n",
            "weighted avg       0.70      0.70      0.70      1000\n",
            "\n"
          ]
        },
        {
          "data": {
            "image/png": "[encoded data removed]",
            "text/plain": [
              "<Figure size 432x288 with 1 Axes>"
            ]
          },
          "metadata": {
            "needs_background": "light"
          },
          "output_type": "display_data"
        },
        {
          "name": "stdout",
          "output_type": "stream",
          "text": [
            "PRINTING METRICS FOR Random Forest/TFIDF\n"
          ]
        },
        {
          "data": {
            "image/png": "[encoded data removed]",
            "text/plain": [
              "<Figure size 432x288 with 2 Axes>"
            ]
          },
          "metadata": {
            "needs_background": "light"
          },
          "output_type": "display_data"
        },
        {
          "name": "stdout",
          "output_type": "stream",
          "text": [
            "ROC/AUC for each class: \n",
            "\n",
            "{0: 0.7813192715786604, 1: 0.7813192715786604}\n",
            "\n",
            "\n",
            "Classification Report = \n",
            "                precision    recall  f1-score   support\n",
            "\n",
            "           0       0.80      0.77      0.79       523\n",
            "           1       0.76      0.79      0.77       477\n",
            "\n",
            "    accuracy                           0.78      1000\n",
            "   macro avg       0.78      0.78      0.78      1000\n",
            "weighted avg       0.78      0.78      0.78      1000\n",
            "\n"
          ]
        },
        {
          "data": {
            "image/png": "[encoded data removed]",
            "text/plain": [
              "<Figure size 432x288 with 1 Axes>"
            ]
          },
          "metadata": {
            "needs_background": "light"
          },
          "output_type": "display_data"
        },
        {
          "name": "stdout",
          "output_type": "stream",
          "text": [
            "PRINTING METRICS FOR Random Forest/FastText\n"
          ]
        },
        {
          "data": {
            "image/png": "[encoded data removed]",
            "text/plain": [
              "<Figure size 432x288 with 2 Axes>"
            ]
          },
          "metadata": {
            "needs_background": "light"
          },
          "output_type": "display_data"
        },
        {
          "name": "stdout",
          "output_type": "stream",
          "text": [
            "ROC/AUC for each class: \n",
            "\n",
            "{0: 0.716814780074638, 1: 0.716814780074638}\n",
            "\n",
            "\n",
            "Classification Report = \n",
            "                precision    recall  f1-score   support\n",
            "\n",
            "           0       0.73      0.72      0.73       523\n",
            "           1       0.70      0.71      0.71       477\n",
            "\n",
            "    accuracy                           0.72      1000\n",
            "   macro avg       0.72      0.72      0.72      1000\n",
            "weighted avg       0.72      0.72      0.72      1000\n",
            "\n"
          ]
        },
        {
          "data": {
            "image/png": "[encoded data removed]",
            "text/plain": [
              "<Figure size 432x288 with 1 Axes>"
            ]
          },
          "metadata": {
            "needs_background": "light"
          },
          "output_type": "display_data"
        }
      ],
      "source": [
        "if PRINT_METRICS:\n",
        "    show_metrics('Random Forest/Word2Vec',all_models[2]['rf_clf_w2v'],validation_set_w2v,validation_labels_w2v,all_models[2]['rf_clf_w2v_preds'],X_W2V,y,5)\n",
        "    show_metrics('Random Forest/TFIDF',all_models[2]['rf_clf_tfidf'],validation_set_tfidf,validation_labels_tfidf,all_models[2]['rf_clf_tfidf_preds'],\\\n",
        "                np.concatenate([train_set_tfidf,validation_set_tfidf,test_set_tfidf]),y,5)\n",
        "    show_metrics('Random Forest/FastText',all_models[2]['rf_clf_ft'],validation_set_ft,validation_labels_ft,all_models[2]['rf_clf_ft_preds'],X_FT,y,5)"
      ]
    },
    {
      "cell_type": "code",
      "execution_count": 56,
      "metadata": {},
      "outputs": [
        {
          "name": "stdout",
          "output_type": "stream",
          "text": [
            "PRINTING METRICS FOR XGBoost/Word2Vec\n"
          ]
        },
        {
          "data": {
            "image/png": "[encoded data removed]",
            "text/plain": [
              "<Figure size 432x288 with 2 Axes>"
            ]
          },
          "metadata": {
            "needs_background": "light"
          },
          "output_type": "display_data"
        },
        {
          "name": "stdout",
          "output_type": "stream",
          "text": [
            "ROC/AUC for each class: \n",
            "\n",
            "{0: 0.7100304243779838, 1: 0.7100304243779838}\n",
            "\n",
            "\n",
            "Classification Report = \n",
            "                precision    recall  f1-score   support\n",
            "\n",
            "           0       0.73      0.71      0.72       523\n",
            "           1       0.69      0.71      0.70       477\n",
            "\n",
            "    accuracy                           0.71      1000\n",
            "   macro avg       0.71      0.71      0.71      1000\n",
            "weighted avg       0.71      0.71      0.71      1000\n",
            "\n"
          ]
        },
        {
          "data": {
            "image/png": "[encoded data removed]",
            "text/plain": [
              "<Figure size 432x288 with 1 Axes>"
            ]
          },
          "metadata": {
            "needs_background": "light"
          },
          "output_type": "display_data"
        },
        {
          "name": "stdout",
          "output_type": "stream",
          "text": [
            "PRINTING METRICS FOR XGBoost/TFIDF\n"
          ]
        },
        {
          "data": {
            "image/png": "[encoded data removed]",
            "text/plain": [
              "<Figure size 432x288 with 2 Axes>"
            ]
          },
          "metadata": {
            "needs_background": "light"
          },
          "output_type": "display_data"
        },
        {
          "name": "stdout",
          "output_type": "stream",
          "text": [
            "ROC/AUC for each class: \n",
            "\n",
            "{0: 0.7765632077475939, 1: 0.7765632077475939}\n",
            "\n",
            "\n",
            "Classification Report = \n",
            "                precision    recall  f1-score   support\n",
            "\n",
            "           0       0.82      0.72      0.77       523\n",
            "           1       0.73      0.83      0.78       477\n",
            "\n",
            "    accuracy                           0.77      1000\n",
            "   macro avg       0.78      0.78      0.77      1000\n",
            "weighted avg       0.78      0.77      0.77      1000\n",
            "\n"
          ]
        },
        {
          "data": {
            "image/png": "[encoded data removed]",
            "text/plain": [
              "<Figure size 432x288 with 1 Axes>"
            ]
          },
          "metadata": {
            "needs_background": "light"
          },
          "output_type": "display_data"
        },
        {
          "name": "stdout",
          "output_type": "stream",
          "text": [
            "PRINTING METRICS FOR XGBoost/FastText\n"
          ]
        },
        {
          "data": {
            "image/png": "[encoded data removed]",
            "text/plain": [
              "<Figure size 432x288 with 2 Axes>"
            ]
          },
          "metadata": {
            "needs_background": "light"
          },
          "output_type": "display_data"
        },
        {
          "name": "stdout",
          "output_type": "stream",
          "text": [
            "ROC/AUC for each class: \n",
            "\n",
            "{0: 0.7120005932553284, 1: 0.7120005932553284}\n",
            "\n",
            "\n",
            "Classification Report = \n",
            "                precision    recall  f1-score   support\n",
            "\n",
            "           0       0.74      0.69      0.71       523\n",
            "           1       0.68      0.73      0.71       477\n",
            "\n",
            "    accuracy                           0.71      1000\n",
            "   macro avg       0.71      0.71      0.71      1000\n",
            "weighted avg       0.71      0.71      0.71      1000\n",
            "\n"
          ]
        },
        {
          "data": {
            "image/png": "[encoded data removed]",
            "text/plain": [
              "<Figure size 432x288 with 1 Axes>"
            ]
          },
          "metadata": {
            "needs_background": "light"
          },
          "output_type": "display_data"
        }
      ],
      "source": [
        "if PRINT_METRICS:\n",
        "    show_metrics('XGBoost/Word2Vec',all_models[3]['xgb_clf_w2v'],validation_set_w2v,validation_labels_w2v,all_models[3]['xgb_clf_w2v_preds'],X_W2V,y,5)\n",
        "    show_metrics('XGBoost/TFIDF',all_models[3]['xgb_clf_tfidf'],validation_set_tfidf,validation_labels_tfidf,all_models[3]['xgb_clf_tfidf_preds'],\\\n",
        "                np.concatenate([train_set_tfidf,validation_set_tfidf,test_set_tfidf]),y,5)\n",
        "    show_metrics('XGBoost/FastText',all_models[3]['xgb_clf_ft'],validation_set_ft,validation_labels_ft,all_models[3]['xgb_clf_ft_preds'],X_FT,y,5)"
      ]
    },
    {
      "cell_type": "code",
      "execution_count": null,
      "metadata": {},
      "outputs": [],
      "source": []
    }
  ],
  "metadata": {
    "accelerator": "TPU",
    "colab": {
      "provenance": []
    },
    "gpuClass": "standard",
    "kernelspec": {
      "display_name": "Python 3 (ipykernel)",
      "language": "python",
      "name": "python3"
    },
    "language_info": {
      "codemirror_mode": {
        "name": "ipython",
        "version": 3
      },
      "file_extension": ".py",
      "mimetype": "text/x-python",
      "name": "python",
      "nbconvert_exporter": "python",
      "pygments_lexer": "ipython3",
      "version": "3.10.10"
    }
  },
  "nbformat": 4,
  "nbformat_minor": 0
}
