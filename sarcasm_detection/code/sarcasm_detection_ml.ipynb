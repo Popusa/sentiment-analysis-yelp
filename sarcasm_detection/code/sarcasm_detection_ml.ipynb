{
  "cells": [
    {
      "attachments": {},
      "cell_type": "markdown",
      "metadata": {
        "id": "I7c7ILKCl5JV"
      },
      "source": [
        "# Sarcasm Detection using Machine Learning"
      ]
    },
    {
      "attachments": {},
      "cell_type": "markdown",
      "metadata": {
        "id": "mXvrRVhDl5JV"
      },
      "source": [
        "#### Goal of This File:\n",
        "\n",
        "##### 1. Import Libraries, Helper Functions, and Constants ==> Data Sourcing and Munging ==> Utility Functions ==> Loading the Data ==> Merging all Individual Files\n",
        "\n",
        "##### 2. Word Embeddings \n",
        "\n",
        "##### 3. Machine Learning Models ==> Small Model Test\n",
        "\n",
        "##### 4. Conclusion ==> Results"
      ]
    },
    {
      "attachments": {},
      "cell_type": "markdown",
      "metadata": {
        "id": "UZX5ZZ_Fl5JW"
      },
      "source": [
        "## 1. Import Libraries, Helper Functions and Load Constants"
      ]
    },
    {
      "cell_type": "code",
      "execution_count": 104,
      "metadata": {
        "colab": {
          "base_uri": "https://localhost:8080/"
        },
        "id": "mNZ-tFPhl5JW",
        "outputId": "596fd937-80c8-477d-aadd-8d5131229745",
        "scrolled": false
      },
      "outputs": [
        {
          "name": "stderr",
          "output_type": "stream",
          "text": [
            "The system cannot find the path specified.\n"
          ]
        }
      ],
      "source": [
        "!pip install pandas numpy nltk scikit-learn wordcloud\\\n",
        "seaborn gensim tensorflow imblearn xgboost matplotlib unrar pyunpack more-itertools patool > /dev/null"
      ]
    },
    {
      "cell_type": "code",
      "execution_count": 105,
      "metadata": {
        "id": "JoY8Pp8Pl5JX",
        "scrolled": true
      },
      "outputs": [],
      "source": [
        "VAST = False\n",
        "\n",
        "if VAST:\n",
        "    !sudo apt-get install unrar\n",
        "    !sudo apt-get install rar\n",
        "\n",
        "GDRIVE = False"
      ]
    },
    {
      "cell_type": "code",
      "execution_count": 106,
      "metadata": {
        "id": "SN7JtZ_fl5JX"
      },
      "outputs": [],
      "source": [
        "UTILS_URL = 'https://f005.backblazeb2.com/file/gp-support-files/archived_nlp_ai_utils.py'\n",
        "UPDATING_VALUES_URL = 'https://f005.backblazeb2.com/file/gp-support-files/archived_updating_values.py'\n",
        "ALL_LIBS_URL = 'https://f005.backblazeb2.com/file/gp-support-files/archived_all_libs_dl.py'\n",
        "CHUNKS_URLS_FILE_URL = 'https://f005.backblazeb2.com/file/gp-support-files/chunks_urls.py'\n",
        "\n",
        "UTILS_FILE_NAME = 'archived_nlp_ai_utils'\n",
        "UPDATING_VALUES_FILE_NAME = 'archived_updating_values'\n",
        "ALL_LIBS_FILE_NAME = 'archived_all_libs_dl'\n",
        "CHUNKS_URLS_FILE_NAME = 'chunks_urls'\n",
        "\n",
        "DEP_FILE_EXT = '.py'"
      ]
    },
    {
      "cell_type": "code",
      "execution_count": 107,
      "metadata": {
        "id": "8MYfVj5jl5JX"
      },
      "outputs": [],
      "source": [
        "import requests\n",
        "import os\n",
        "\n",
        "def get_dependencies(url,file_name,file_extension):\n",
        "    if os.path.exists(file_name + file_extension):\n",
        "        return print(file_name + \" already exists.\")\n",
        "    else:\n",
        "        print(f\"downloading {file_name}...\")\n",
        "        r = requests.get(url)\n",
        "        with open(file_name + file_extension, 'wb') as fd:\n",
        "            for chunk in r.iter_content():\n",
        "                fd.write(chunk)"
      ]
    },
    {
      "cell_type": "code",
      "execution_count": 108,
      "metadata": {
        "colab": {
          "base_uri": "https://localhost:8080/"
        },
        "id": "YPXfSxsal5JX",
        "outputId": "e0015149-680a-4948-b4de-c1055b41a3f7"
      },
      "outputs": [
        {
          "name": "stdout",
          "output_type": "stream",
          "text": [
            "archived_nlp_ai_utils already exists.\n",
            "archived_updating_values already exists.\n",
            "archived_all_libs_dl already exists.\n",
            "chunks_urls already exists.\n"
          ]
        }
      ],
      "source": [
        "get_dependencies(UTILS_URL,UTILS_FILE_NAME,DEP_FILE_EXT)\n",
        "get_dependencies(UPDATING_VALUES_URL,UPDATING_VALUES_FILE_NAME,DEP_FILE_EXT)\n",
        "get_dependencies(ALL_LIBS_URL,ALL_LIBS_FILE_NAME,DEP_FILE_EXT)\n",
        "get_dependencies(CHUNKS_URLS_FILE_URL,CHUNKS_URLS_FILE_NAME,DEP_FILE_EXT)"
      ]
    },
    {
      "cell_type": "code",
      "execution_count": 109,
      "metadata": {
        "colab": {
          "base_uri": "https://localhost:8080/"
        },
        "id": "-3bJepxul5JX",
        "outputId": "a0a735ba-703f-4c4a-ff4f-b33bb47f05df"
      },
      "outputs": [],
      "source": [
        "from archived_nlp_ai_utils import *\n",
        "from chunks_urls import SD_CHUNKS_URLS\n",
        "from archived_updating_values import *"
      ]
    },
    {
      "cell_type": "code",
      "execution_count": 110,
      "metadata": {
        "id": "Ns_Pbmbql5JY"
      },
      "outputs": [],
      "source": [
        "TF_ENABLE_ONEDNN_OPTS = 0\n",
        "os.environ['TF_CPP_MIN_LOG_LEVEL'] = '2'\n",
        "DATA_URLS = SD_CHUNKS_URLS\n",
        "LIMIT = SD_DATA_LIMIT\n",
        "TRAINED_MODELS_COUNT = TRAINED_MODELS\n",
        "if GDRIVE:\n",
        "    DATASET_PATH = \"datasets\"\n",
        "    PICKLES_DIR = \"sd_pickle_files\"\n",
        "else:\n",
        "    DATASET_PATH = \"../datasets\"\n",
        "    PICKLES_DIR = \"../sd_pickle_files\"\n",
        "\n",
        "PREPROCESSED_CHUNKS_PATH = DATASET_PATH + \"/preprocessed_sd_data_chunks/\"\n",
        "BASE_FILE_NAME = \"sd_chunk_\"\n",
        "FILE_FORMAT = \".csv\"\n",
        "DATA_IN_CHUNK = 99744\n",
        "if LIMIT == 10:\n",
        "    ACTUAL_DATA_SHAPE = DATA_IN_CHUNK * LIMIT - 2\n",
        "else:\n",
        "    ACTUAL_DATA_SHAPE = DATA_IN_CHUNK * LIMIT\n",
        "RANDOM_STATE = CONST_RANDOM_STATE\n",
        "np.random.seed(CONST_RANDOM_STATE)\n",
        "\n",
        "USE_SUBSET = 10000\n",
        "USE_PICKLES = False\n",
        "PRINT_METRICS = True"
      ]
    },
    {
      "attachments": {},
      "cell_type": "markdown",
      "metadata": {
        "id": "o64oqsFel5JY"
      },
      "source": [
        "### 1.1 Data Sourcing and Munging"
      ]
    },
    {
      "attachments": {},
      "cell_type": "markdown",
      "metadata": {
        "id": "CgvrBd5-l5JY"
      },
      "source": [
        "#### 1.1.1 Loading The Data"
      ]
    },
    {
      "cell_type": "code",
      "execution_count": 111,
      "metadata": {
        "colab": {
          "base_uri": "https://localhost:8080/",
          "height": 35
        },
        "id": "ofkCbKZBl5JY",
        "outputId": "83afd05b-cec1-499d-a694-35adeb198c5d"
      },
      "outputs": [
        {
          "data": {
            "text/plain": [
              "'../datasets'"
            ]
          },
          "execution_count": 111,
          "metadata": {},
          "output_type": "execute_result"
        }
      ],
      "source": [
        "DATASET_PATH"
      ]
    },
    {
      "cell_type": "code",
      "execution_count": 112,
      "metadata": {
        "colab": {
          "base_uri": "https://localhost:8080/",
          "height": 35
        },
        "id": "mhV6oZagl5JY",
        "outputId": "89fa71d7-af66-4f8b-a204-7e7bc050fcc8"
      },
      "outputs": [
        {
          "data": {
            "text/plain": [
              "'../datasets/preprocessed_sd_data_chunks/'"
            ]
          },
          "execution_count": 112,
          "metadata": {},
          "output_type": "execute_result"
        }
      ],
      "source": [
        "PREPROCESSED_CHUNKS_PATH"
      ]
    },
    {
      "cell_type": "code",
      "execution_count": 113,
      "metadata": {
        "colab": {
          "base_uri": "https://localhost:8080/"
        },
        "id": "4OgA1E7Kl5JY",
        "outputId": "6f481770-8406-4efb-d830-7ab3bf35a6c3",
        "scrolled": false
      },
      "outputs": [
        {
          "name": "stdout",
          "output_type": "stream",
          "text": [
            "sd_chunk_1 already exists.\n"
          ]
        }
      ],
      "source": [
        "if not os.path.exists(DATASET_PATH):\n",
        "    os.mkdir(DATASET_PATH)\n",
        "if not os.path.exists(PREPROCESSED_CHUNKS_PATH):\n",
        "    os.mkdir(PREPROCESSED_CHUNKS_PATH)\n",
        "get_chunks(DATA_URLS,LIMIT,1,BASE_FILE_NAME,PREPROCESSED_CHUNKS_PATH,FILE_FORMAT)"
      ]
    },
    {
      "attachments": {},
      "cell_type": "markdown",
      "metadata": {
        "id": "k_yzumQel5JZ"
      },
      "source": [
        "#### 1.1.2 Merging all Individual Files"
      ]
    },
    {
      "cell_type": "code",
      "execution_count": 114,
      "metadata": {
        "id": "tBG9E1G5l5JZ"
      },
      "outputs": [],
      "source": [
        "#get all names of downloaded files\n",
        "all_file_names = get_all_file_names(BASE_FILE_NAME,LIMIT)"
      ]
    },
    {
      "cell_type": "code",
      "execution_count": 115,
      "metadata": {
        "id": "yhXKIqaKl5JZ"
      },
      "outputs": [],
      "source": [
        "#read all chunks into a list\n",
        "list_dfs = read_chunks(all_file_names,PREPROCESSED_CHUNKS_PATH,FILE_FORMAT)"
      ]
    },
    {
      "cell_type": "code",
      "execution_count": 116,
      "metadata": {
        "id": "75eTnzcrl5JZ"
      },
      "outputs": [],
      "source": [
        "#concatenate all chunks into a singular df\n",
        "df = group_up_chunks(list_dfs)"
      ]
    },
    {
      "cell_type": "code",
      "execution_count": 117,
      "metadata": {
        "id": "2fiKDh5YHEep"
      },
      "outputs": [],
      "source": [
        "if USE_SUBSET:\n",
        "    df = df[:USE_SUBSET]\n",
        "    ACTUAL_DATA_SHAPE = USE_SUBSET"
      ]
    },
    {
      "cell_type": "code",
      "execution_count": 118,
      "metadata": {
        "colab": {
          "base_uri": "https://localhost:8080/"
        },
        "id": "UD7e50qnl5JZ",
        "outputId": "8b4d15e7-0118-4221-ba77-96fcb5033c27"
      },
      "outputs": [
        {
          "data": {
            "text/plain": [
              "100.0"
            ]
          },
          "execution_count": 118,
          "metadata": {},
          "output_type": "execute_result"
        }
      ],
      "source": [
        "#check how much of the data was actually downloaded\n",
        "percent_loaded = check_no_missing_data(df.shape[0],ACTUAL_DATA_SHAPE)\n",
        "percent_loaded"
      ]
    },
    {
      "cell_type": "code",
      "execution_count": 119,
      "metadata": {
        "id": "AaEFioxol5JZ"
      },
      "outputs": [],
      "source": [
        "df.reset_index(inplace = True)\n",
        "df.drop(['index'],axis = 1,inplace = True)"
      ]
    },
    {
      "cell_type": "code",
      "execution_count": 120,
      "metadata": {
        "id": "QVidO0ull5JZ"
      },
      "outputs": [],
      "source": [
        "X = df['text']\n",
        "y = df['labels']"
      ]
    },
    {
      "cell_type": "code",
      "execution_count": 121,
      "metadata": {
        "id": "yrHi0XDbl5JZ"
      },
      "outputs": [],
      "source": [
        "X = pd.Series([str(text) for text in X])\n",
        "\n",
        "y = pd.Series([int(label) for label in y])"
      ]
    },
    {
      "cell_type": "code",
      "execution_count": 122,
      "metadata": {
        "id": "8ASsTelql5JZ"
      },
      "outputs": [],
      "source": [
        "if not os.path.exists(PICKLES_DIR):\n",
        "    os.mkdir(PICKLES_DIR)"
      ]
    },
    {
      "attachments": {},
      "cell_type": "markdown",
      "metadata": {
        "id": "fLnoo0APl5Ja"
      },
      "source": [
        "## 2. Word Embeddings"
      ]
    },
    {
      "cell_type": "code",
      "execution_count": 123,
      "metadata": {
        "id": "WsPw9HPDHEeq"
      },
      "outputs": [],
      "source": [
        "TRAIN_PERCENT = 0.8\n",
        "VALID_TEST_PERCENT = 0.1\n",
        "TRAIN_SIZE = int(ACTUAL_DATA_SHAPE * TRAIN_PERCENT)\n",
        "VALID_TEST_SIZE = int(ACTUAL_DATA_SHAPE * VALID_TEST_PERCENT)\n",
        "TOTAL_TEST_SIZE = TRAIN_SIZE + VALID_TEST_SIZE"
      ]
    },
    {
      "attachments": {},
      "cell_type": "markdown",
      "metadata": {
        "id": "uKIffQELl5Ja"
      },
      "source": [
        "### 2.1 Word2Vec"
      ]
    },
    {
      "cell_type": "code",
      "execution_count": 124,
      "metadata": {
        "id": "BZb3jUUjl5Ja"
      },
      "outputs": [],
      "source": [
        "X_W2V = X"
      ]
    },
    {
      "cell_type": "code",
      "execution_count": 125,
      "metadata": {
        "id": "O20n7GHYl5Ja"
      },
      "outputs": [],
      "source": [
        "w2v_model = CountVectorizer()\n",
        "\n",
        "train_set_w2v = w2v_model.fit_transform(X_W2V[:TRAIN_SIZE]).toarray()\n",
        "\n",
        "validation_set_w2v = w2v_model.transform(X_W2V[TRAIN_SIZE:TOTAL_TEST_SIZE]).toarray()\n",
        "\n",
        "test_set_w2v = w2v_model.transform(X_W2V[TOTAL_TEST_SIZE:]).toarray()"
      ]
    },
    {
      "attachments": {},
      "cell_type": "markdown",
      "metadata": {
        "id": "Ch6nrOc4l5Ja"
      },
      "source": [
        "### 2.2 TF-IDF"
      ]
    },
    {
      "cell_type": "code",
      "execution_count": 126,
      "metadata": {
        "id": "vE2f_m2hl5Ja"
      },
      "outputs": [],
      "source": [
        "X_TFIDF = X"
      ]
    },
    {
      "cell_type": "code",
      "execution_count": 127,
      "metadata": {
        "id": "XJ0s6r5wl5Jb"
      },
      "outputs": [],
      "source": [
        "tfidf_model = TfidfVectorizer()\n",
        "\n",
        "train_set_tfidf = tfidf_model.fit_transform(X_TFIDF[:TRAIN_SIZE]).toarray()\n",
        "\n",
        "validation_set_tfidf = tfidf_model.transform(X_TFIDF[TRAIN_SIZE:TOTAL_TEST_SIZE]).toarray()\n",
        "\n",
        "test_set_tfidf = tfidf_model.transform(X_TFIDF[TOTAL_TEST_SIZE:]).toarray()"
      ]
    },
    {
      "attachments": {},
      "cell_type": "markdown",
      "metadata": {
        "id": "ybuKIVtLl5Jb"
      },
      "source": [
        "### 2.3 FastText"
      ]
    },
    {
      "cell_type": "code",
      "execution_count": 128,
      "metadata": {
        "id": "GPTbzoH2l5Jb"
      },
      "outputs": [],
      "source": [
        "X_FT = X"
      ]
    },
    {
      "cell_type": "code",
      "execution_count": 129,
      "metadata": {
        "id": "yBO1mYGDl5Jj"
      },
      "outputs": [],
      "source": [
        "ft_model = FastText(sentences=[nltk.word_tokenize(text) for text in X_FT], vector_size=100, window=5, min_count=1, workers=4)"
      ]
    },
    {
      "cell_type": "code",
      "execution_count": 130,
      "metadata": {},
      "outputs": [],
      "source": [
        "word_index_ft = {}\n",
        "\n",
        "for i, word in enumerate(ft_model.wv.key_to_index):\n",
        "    word_index_ft[word] = i"
      ]
    },
    {
      "cell_type": "code",
      "execution_count": 131,
      "metadata": {},
      "outputs": [],
      "source": [
        "vocab_size = len(word_index_ft)\n",
        "embedding_dim_ft = ft_model.vector_size\n",
        "\n",
        "embedding_matrix_ft = np.zeros((vocab_size, embedding_dim_ft))\n",
        "\n",
        "for word, i in word_index_ft.items():\n",
        "    if word in ft_model.wv.key_to_index:\n",
        "        embedding_matrix_ft[i] = ft_model.wv.get_vector(word)"
      ]
    },
    {
      "cell_type": "code",
      "execution_count": 132,
      "metadata": {},
      "outputs": [],
      "source": [
        "train_set_ft = embedding_matrix_ft[:TRAIN_SIZE]\n",
        "validation_set_ft = embedding_matrix_ft[TRAIN_SIZE:TOTAL_TEST_SIZE]\n",
        "test_set_ft = embedding_matrix_ft[TOTAL_TEST_SIZE:]"
      ]
    },
    {
      "attachments": {},
      "cell_type": "markdown",
      "metadata": {
        "id": "H8eTc5x_l5Jj"
      },
      "source": [
        "## 3. Machine Learning Models"
      ]
    },
    {
      "cell_type": "code",
      "execution_count": 133,
      "metadata": {
        "id": "3EpARsJGl5Jj"
      },
      "outputs": [],
      "source": [
        "train_set_w2v = preprocessing.normalize(train_set_w2v)\n",
        "validation_set_w2v = preprocessing.normalize(validation_set_w2v)\n",
        "test_set_w2v = preprocessing.normalize(test_set_w2v)\n",
        "train_set_tfidf = preprocessing.normalize(train_set_tfidf)\n",
        "validation_set_tfidf = preprocessing.normalize(validation_set_tfidf)\n",
        "test_set_tfidf = preprocessing.normalize(test_set_tfidf)\n",
        "train_set_ft = preprocessing.normalize(train_set_ft)\n",
        "validation_set_ft = preprocessing.normalize(validation_set_ft)\n",
        "test_set_ft = preprocessing.normalize(test_set_ft)"
      ]
    },
    {
      "cell_type": "code",
      "execution_count": 134,
      "metadata": {
        "id": "5N1dpQKzHEe0"
      },
      "outputs": [],
      "source": [
        "sc = StandardScaler()\n",
        "train_set_w2v = sc.fit_transform(train_set_w2v)\n",
        "validation_set_w2v = sc.transform(validation_set_w2v)\n",
        "test_set_w2v = sc.transform(test_set_w2v)\n",
        "train_set_tfidf = sc.fit_transform(train_set_tfidf)\n",
        "validation_set_tfidf = sc.transform(validation_set_tfidf)\n",
        "test_set_tfidf = sc.transform(test_set_tfidf)\n",
        "train_set_ft = sc.fit_transform(train_set_ft)\n",
        "validation_set_ft = sc.transform(validation_set_ft)\n",
        "test_set_ft = sc.transform(test_set_ft)"
      ]
    },
    {
      "attachments": {},
      "cell_type": "markdown",
      "metadata": {
        "id": "cEd-uWVbl5Jj"
      },
      "source": [
        "### 3.1 Word2Vec Train-Validation-Test Split"
      ]
    },
    {
      "cell_type": "code",
      "execution_count": 135,
      "metadata": {
        "id": "k2BBhf3xl5Jj"
      },
      "outputs": [],
      "source": [
        "train_labels_w2v = y[:TRAIN_SIZE]\n",
        "validation_labels_w2v = y[TRAIN_SIZE:TOTAL_TEST_SIZE]\n",
        "test_labels_w2v = y[TOTAL_TEST_SIZE:]"
      ]
    },
    {
      "attachments": {},
      "cell_type": "markdown",
      "metadata": {
        "id": "LfGjR6e-l5Jj"
      },
      "source": [
        "### 3.2 TF-IDF Train-Validation-Test Split"
      ]
    },
    {
      "cell_type": "code",
      "execution_count": 136,
      "metadata": {
        "id": "pmFZ9x9ml5Jj"
      },
      "outputs": [],
      "source": [
        "train_labels_tfidf = y[:TRAIN_SIZE]\n",
        "validation_labels_tfidf = y[TRAIN_SIZE:TOTAL_TEST_SIZE]\n",
        "test_labels_tfidf = y[TOTAL_TEST_SIZE:]"
      ]
    },
    {
      "attachments": {},
      "cell_type": "markdown",
      "metadata": {
        "id": "hIcmcFh4l5Jk"
      },
      "source": [
        "### 3.3 FastText Train-Validation-Test Split"
      ]
    },
    {
      "cell_type": "code",
      "execution_count": 137,
      "metadata": {
        "id": "voW-Pw0dl5Jk"
      },
      "outputs": [],
      "source": [
        "train_labels_ft = y[:TRAIN_SIZE]\n",
        "validation_labels_ft = y[TRAIN_SIZE:TOTAL_TEST_SIZE]\n",
        "test_labels_ft = y[TOTAL_TEST_SIZE:]"
      ]
    },
    {
      "attachments": {},
      "cell_type": "markdown",
      "metadata": {
        "id": "_XWFrMzyl5Jk"
      },
      "source": [
        "### 3.4 Naive Bayes"
      ]
    },
    {
      "attachments": {},
      "cell_type": "markdown",
      "metadata": {
        "id": "UaBEXle-l5Jk"
      },
      "source": [
        "#### 3.4.1 Word2Vec "
      ]
    },
    {
      "cell_type": "code",
      "execution_count": 138,
      "metadata": {
        "id": "ajw2T1uql5Jk"
      },
      "outputs": [
        {
          "name": "stdout",
          "output_type": "stream",
          "text": [
            "Training Model...\n"
          ]
        }
      ],
      "source": [
        "if not os.path.exists(PICKLES_DIR + '/' + 'all_nb' + '.pickle') or not USE_PICKLES:\n",
        "    print(\"Training Model...\")\n",
        "    nb_clf_w2v = GaussianNB()\n",
        "    nb_clf_w2v.fit(train_set_w2v, train_labels_w2v)\n",
        "    validation_predictions_nb_w2v = nb_clf_w2v.predict(validation_set_w2v)\n",
        "    nb_w2v_accuracy = metrics.accuracy_score(validation_labels_w2v,validation_predictions_nb_w2v)\n",
        "else:\n",
        "    print(\"Found Pickle File.\")"
      ]
    },
    {
      "attachments": {},
      "cell_type": "markdown",
      "metadata": {
        "id": "col7Sutkl5Jk"
      },
      "source": [
        "#### 3.4.2 TF-IDF "
      ]
    },
    {
      "cell_type": "code",
      "execution_count": 139,
      "metadata": {
        "id": "kXvIlqd5l5Jk"
      },
      "outputs": [
        {
          "name": "stdout",
          "output_type": "stream",
          "text": [
            "Training Model...\n"
          ]
        }
      ],
      "source": [
        "if not os.path.exists(PICKLES_DIR + '/' + 'all_nb' + '.pickle') or not USE_PICKLES:\n",
        "    print(\"Training Model...\")\n",
        "    nb_clf_tfidf = GaussianNB()\n",
        "    nb_clf_tfidf.fit(train_set_tfidf, train_labels_tfidf)\n",
        "    validation_predictions_nb_tfidf = nb_clf_tfidf.predict(validation_set_tfidf)\n",
        "    nb_tfidf_accuracy = metrics.accuracy_score(validation_labels_tfidf,validation_predictions_nb_tfidf)\n",
        "else:\n",
        "    print(\"Found Pickle File.\")"
      ]
    },
    {
      "attachments": {},
      "cell_type": "markdown",
      "metadata": {
        "id": "oVrRQmbml5Jk"
      },
      "source": [
        "#### 3.4.3 FastText"
      ]
    },
    {
      "cell_type": "code",
      "execution_count": 140,
      "metadata": {
        "id": "w7EDYchWl5Jk"
      },
      "outputs": [
        {
          "name": "stdout",
          "output_type": "stream",
          "text": [
            "Training Model...\n"
          ]
        }
      ],
      "source": [
        "if not os.path.exists(PICKLES_DIR + '/' + 'all_nb' + '.pickle') or not USE_PICKLES:\n",
        "    print(\"Training Model...\")\n",
        "    nb_clf_ft = GaussianNB()\n",
        "    nb_clf_ft.fit(train_set_ft, train_labels_ft)\n",
        "    validation_predictions_nb_ft = nb_clf_ft.predict(validation_set_ft)\n",
        "    nb_ft_accuracy = metrics.accuracy_score(validation_labels_ft,validation_predictions_nb_ft)\n",
        "else:\n",
        "    print(\"Found Pickle File.\")"
      ]
    },
    {
      "attachments": {},
      "cell_type": "markdown",
      "metadata": {
        "id": "CZJXuO5ol5Jl"
      },
      "source": [
        "### 3.5 lr"
      ]
    },
    {
      "attachments": {},
      "cell_type": "markdown",
      "metadata": {
        "id": "_ui2iPLKl5Jl"
      },
      "source": [
        "#### 3.5.1 Word2Vec "
      ]
    },
    {
      "cell_type": "code",
      "execution_count": 141,
      "metadata": {
        "id": "qgebCgPal5Jl"
      },
      "outputs": [
        {
          "name": "stdout",
          "output_type": "stream",
          "text": [
            "Training Model...\n"
          ]
        }
      ],
      "source": [
        "if not os.path.exists(PICKLES_DIR + '/' + 'all_lr' + '.pickle') or not USE_PICKLES:\n",
        "    print(\"Training Model...\")\n",
        "    lr_clf_w2v = LogisticRegression(random_state=RANDOM_STATE)\n",
        "    lr_clf_w2v.fit(train_set_w2v, train_labels_w2v)\n",
        "    validation_predictions_lr_w2v = lr_clf_w2v.predict(validation_set_w2v)\n",
        "    lr_w2v_accuracy = metrics.accuracy_score(validation_labels_w2v,validation_predictions_lr_w2v)\n",
        "else:\n",
        "    print(\"Found Pickle File.\")"
      ]
    },
    {
      "attachments": {},
      "cell_type": "markdown",
      "metadata": {
        "id": "sVaZp1Szl5Jl"
      },
      "source": [
        "#### 3.5.2 TF-IDF "
      ]
    },
    {
      "cell_type": "code",
      "execution_count": 142,
      "metadata": {
        "id": "IYHG0xm1l5Jl"
      },
      "outputs": [],
      "source": [
        "if not os.path.exists(PICKLES_DIR + '/' + 'all_lr' + '.pickle') or not USE_PICKLES:\n",
        "    lr_clf_tfidf = LogisticRegression(random_state=RANDOM_STATE)\n",
        "    lr_clf_tfidf.fit(train_set_tfidf, train_labels_tfidf)\n",
        "    validation_predictions_lr_tfidf = lr_clf_tfidf.predict(validation_set_tfidf)\n",
        "    lr_tfidf_accuracy = metrics.accuracy_score(validation_labels_tfidf,validation_predictions_lr_tfidf)\n",
        "else:\n",
        "    print(\"Found Pickle File.\")"
      ]
    },
    {
      "attachments": {},
      "cell_type": "markdown",
      "metadata": {
        "id": "GtGHa9Ewl5Jl"
      },
      "source": [
        "#### 3.5.3 FastText"
      ]
    },
    {
      "cell_type": "code",
      "execution_count": 143,
      "metadata": {
        "id": "t19R6Z_Yl5Jl"
      },
      "outputs": [
        {
          "name": "stdout",
          "output_type": "stream",
          "text": [
            "Training Model...\n"
          ]
        }
      ],
      "source": [
        "if not os.path.exists(PICKLES_DIR + '/' + 'all_lr' + '.pickle') or not USE_PICKLES:\n",
        "    print(\"Training Model...\")\n",
        "    lr_clf_ft = LogisticRegression(random_state=RANDOM_STATE)\n",
        "    lr_clf_ft.fit(train_set_ft, train_labels_ft)\n",
        "    validation_predictions_lr_ft = lr_clf_ft.predict(validation_set_ft)\n",
        "    lr_ft_accuracy = metrics.accuracy_score(validation_labels_ft,validation_predictions_lr_ft)\n",
        "else:\n",
        "    print(\"Found Pickle File.\")"
      ]
    },
    {
      "attachments": {},
      "cell_type": "markdown",
      "metadata": {
        "id": "gONmcQEOl5Jl"
      },
      "source": [
        "### 3.6 Random Forest"
      ]
    },
    {
      "attachments": {},
      "cell_type": "markdown",
      "metadata": {
        "id": "krP76FBWl5Jl"
      },
      "source": [
        "#### 3.6.1 Word2Vec"
      ]
    },
    {
      "cell_type": "code",
      "execution_count": 144,
      "metadata": {
        "id": "ojcT-gRAl5Jm"
      },
      "outputs": [
        {
          "name": "stdout",
          "output_type": "stream",
          "text": [
            "Training Model...\n"
          ]
        }
      ],
      "source": [
        "if not os.path.exists(PICKLES_DIR + '/' + 'all_rf' + '.pickle') or not USE_PICKLES:\n",
        "    print(\"Training Model...\")\n",
        "    rf_clf_w2v = RandomForestClassifier(n_estimators=50,random_state=RANDOM_STATE)\n",
        "    rf_clf_w2v.fit(train_set_w2v, train_labels_w2v)\n",
        "    validation_predictions_rf_w2v = rf_clf_w2v.predict(validation_set_w2v)\n",
        "    rf_w2v_accuracy = metrics.accuracy_score(validation_labels_w2v,validation_predictions_rf_w2v)\n",
        "else:\n",
        "    print(\"Found Pickle File.\")"
      ]
    },
    {
      "attachments": {},
      "cell_type": "markdown",
      "metadata": {
        "id": "ilGrAKKZl5Jm"
      },
      "source": [
        "#### 3.6.2 TF-IDF"
      ]
    },
    {
      "cell_type": "code",
      "execution_count": 145,
      "metadata": {
        "id": "q9VrrIg4l5Jm"
      },
      "outputs": [
        {
          "name": "stdout",
          "output_type": "stream",
          "text": [
            "Training Model...\n"
          ]
        }
      ],
      "source": [
        "if not os.path.exists(PICKLES_DIR + '/' + 'all_rf' + '.pickle') or not USE_PICKLES:\n",
        "    print(\"Training Model...\")\n",
        "    rf_clf_tfidf = RandomForestClassifier(n_estimators=50,random_state=RANDOM_STATE)\n",
        "    rf_clf_tfidf.fit(train_set_tfidf, train_labels_tfidf)\n",
        "    validation_predictions_rf_tfidf = rf_clf_tfidf.predict(validation_set_tfidf)\n",
        "    rf_tfidf_accuracy = metrics.accuracy_score(validation_labels_tfidf,validation_predictions_rf_tfidf)\n",
        "else:\n",
        "    print(\"Found Pickle File.\")"
      ]
    },
    {
      "attachments": {},
      "cell_type": "markdown",
      "metadata": {
        "id": "eRn1mF94l5Jm"
      },
      "source": [
        "#### 3.6.3 FastText"
      ]
    },
    {
      "cell_type": "code",
      "execution_count": 146,
      "metadata": {
        "id": "cOVGwQFal5Jm"
      },
      "outputs": [
        {
          "name": "stdout",
          "output_type": "stream",
          "text": [
            "Training Model...\n"
          ]
        }
      ],
      "source": [
        "if not os.path.exists(PICKLES_DIR + '/' + 'all_rf' + '.pickle') or not USE_PICKLES:\n",
        "    print(\"Training Model...\")\n",
        "    rf_clf_ft = RandomForestClassifier(n_estimators=50,random_state=RANDOM_STATE)\n",
        "    rf_clf_ft.fit(train_set_ft, train_labels_ft)\n",
        "    validation_predictions_rf_ft = rf_clf_ft.predict(validation_set_ft)\n",
        "    rf_ft_accuracy = metrics.accuracy_score(validation_labels_ft,validation_predictions_rf_ft)\n",
        "else:\n",
        "    print(\"Found Pickle File.\")"
      ]
    },
    {
      "attachments": {},
      "cell_type": "markdown",
      "metadata": {
        "id": "fjnbdgfhl5Jm"
      },
      "source": [
        "### 3.7 XGBoost"
      ]
    },
    {
      "attachments": {},
      "cell_type": "markdown",
      "metadata": {
        "id": "YvK9xicvl5Jm"
      },
      "source": [
        "#### 3.7.1 Word2Vec"
      ]
    },
    {
      "cell_type": "code",
      "execution_count": 147,
      "metadata": {
        "id": "W_Yt6NsPl5Jm"
      },
      "outputs": [
        {
          "name": "stdout",
          "output_type": "stream",
          "text": [
            "Training Model...\n"
          ]
        }
      ],
      "source": [
        "if not os.path.exists(PICKLES_DIR + '/' + 'all_xgb' + '.pickle') or not USE_PICKLES:\n",
        "    print(\"Training Model...\")\n",
        "    xgb_clf_w2v = XGBClassifier(random_state=RANDOM_STATE)\n",
        "    xgb_clf_w2v.fit(train_set_w2v, train_labels_w2v)\n",
        "    validation_predictions_xgb_w2v = xgb_clf_w2v.predict(validation_set_w2v)\n",
        "    xgb_w2v_accuracy = metrics.accuracy_score(validation_labels_w2v,validation_predictions_xgb_w2v)\n",
        "else:\n",
        "    print(\"Found Pickle File.\")"
      ]
    },
    {
      "attachments": {},
      "cell_type": "markdown",
      "metadata": {
        "id": "cCmWxbK0l5Jn"
      },
      "source": [
        "#### 3.7.2 TF-IDF"
      ]
    },
    {
      "cell_type": "code",
      "execution_count": 148,
      "metadata": {
        "id": "V7FckmxFl5Jn"
      },
      "outputs": [],
      "source": [
        "if not os.path.exists(PICKLES_DIR + '/' + 'all_xgb' + '.pickle') or not USE_PICKLES:\n",
        "    xgb_clf_tfidf = XGBClassifier(random_state=RANDOM_STATE)\n",
        "    xgb_clf_tfidf.fit(train_set_tfidf, train_labels_tfidf)\n",
        "    validation_predictions_xgb_tfidf = xgb_clf_tfidf.predict(validation_set_tfidf)\n",
        "    xgb_tfidf_accuracy = metrics.accuracy_score(validation_labels_tfidf,validation_predictions_xgb_tfidf)\n",
        "else:\n",
        "    print(\"Found Pickle File.\")"
      ]
    },
    {
      "attachments": {},
      "cell_type": "markdown",
      "metadata": {
        "id": "6yGrj0wul5Jn"
      },
      "source": [
        "#### 3.7.3 FastText"
      ]
    },
    {
      "cell_type": "code",
      "execution_count": 149,
      "metadata": {
        "id": "PPPw7jDNl5Jn"
      },
      "outputs": [
        {
          "name": "stdout",
          "output_type": "stream",
          "text": [
            "Training Model...\n"
          ]
        }
      ],
      "source": [
        "if not os.path.exists(PICKLES_DIR + '/' + 'all_xgb' + '.pickle') or not USE_PICKLES:\n",
        "    print(\"Training Model...\")\n",
        "    xgb_clf_ft = XGBClassifier(random_state=RANDOM_STATE)\n",
        "    xgb_clf_ft.fit(train_set_ft, train_labels_ft)\n",
        "    validation_predictions_xgb_ft = xgb_clf_ft.predict(validation_set_ft)\n",
        "    xgb_ft_accuracy = metrics.accuracy_score(validation_labels_ft,validation_predictions_xgb_ft)\n",
        "else:\n",
        "    print(\"Found Pickle File.\")"
      ]
    },
    {
      "attachments": {},
      "cell_type": "markdown",
      "metadata": {
        "id": "Jub1MfRCl5Jn"
      },
      "source": [
        "### 3.8 Small Model Test"
      ]
    },
    {
      "cell_type": "code",
      "execution_count": 150,
      "metadata": {
        "id": "DWDbD4D_l5Jn"
      },
      "outputs": [],
      "source": [
        "def test_model(sentence,embedding,clf):\n",
        "    test_token = nltk.word_tokenize(sentence)\n",
        "    test_vector = np.zeros(embedding.vector_size)\n",
        "    for word in test_token:\n",
        "        if word in embedding.wv:\n",
        "            test_vector += embedding.wv[word]\n",
        "    test_vector /= len(test_token)\n",
        "    predicted_label = clf.predict([test_vector])[0]\n",
        "    return predicted_label"
      ]
    },
    {
      "attachments": {},
      "cell_type": "markdown",
      "metadata": {
        "id": "dBjYJjinl5Jo"
      },
      "source": [
        "#### 3.9 Save Models"
      ]
    },
    {
      "cell_type": "code",
      "execution_count": 151,
      "metadata": {},
      "outputs": [],
      "source": [
        "if USE_PICKLES:\n",
        "    all_models = []"
      ]
    },
    {
      "cell_type": "code",
      "execution_count": 152,
      "metadata": {
        "id": "8y_rIgQNl5Jo"
      },
      "outputs": [],
      "source": [
        "if os.path.exists(PICKLES_DIR + '/' + \"all_nb.pickle\"):\n",
        "    if USE_PICKLES:\n",
        "        print(\"Found Pickle File for nb.\")\n",
        "        all_nb = pickle.load(open(PICKLES_DIR + '/' + 'all_nb.pickle','rb'))\n",
        "else:\n",
        "    pickle_out = open(PICKLES_DIR + '/' + 'all_nb' + '.pickle','wb')\n",
        "    nb_dict = {'nb_clf_w2v':nb_clf_w2v,'nb_clf_w2v_preds':validation_predictions_nb_w2v,'nb_clf_tfidf':nb_clf_tfidf,\\\n",
        "        'nb_clf_tfidf_preds':validation_predictions_nb_tfidf,'nb_clf_ft':nb_clf_ft,'nb_clf_ft_preds':validation_predictions_nb_ft,}\n",
        "    pickle.dump(nb_dict,pickle_out)\n",
        "    pickle_out.close()\n",
        "    all_nb = nb_dict\n",
        "    print(\"Created Pickle File for nb.\")\n",
        "    \n",
        "if USE_PICKLES:\n",
        "    all_models.append(all_nb)"
      ]
    },
    {
      "cell_type": "code",
      "execution_count": 153,
      "metadata": {},
      "outputs": [],
      "source": [
        "if os.path.exists(PICKLES_DIR + '/' + \"all_lr.pickle\"):\n",
        "    if USE_PICKLES:\n",
        "        print(\"Found Pickle File for lr.\")\n",
        "        all_lr = pickle.load(open(PICKLES_DIR + '/' + 'all_lr.pickle','rb'))\n",
        "else:\n",
        "    pickle_out = open(PICKLES_DIR + '/' + 'all_lr' + '.pickle','wb')\n",
        "    lr_dict = {'lr_clf_w2v':lr_clf_w2v,'lr_clf_w2v_preds':validation_predictions_lr_w2v,'lr_clf_tfidf':lr_clf_tfidf,\\\n",
        "        'lr_clf_tfidf_preds':validation_predictions_lr_tfidf,'lr_clf_ft':lr_clf_ft,'lr_clf_ft_preds':validation_predictions_lr_ft}\n",
        "    pickle.dump(lr_dict,pickle_out)\n",
        "    pickle_out.close()\n",
        "    all_lr = lr_dict\n",
        "    print(\"Created Pickle File for lr.\")\n",
        "\n",
        "if USE_PICKLES:\n",
        "    all_models.append(all_lr)"
      ]
    },
    {
      "cell_type": "code",
      "execution_count": 154,
      "metadata": {},
      "outputs": [],
      "source": [
        "if os.path.exists(PICKLES_DIR + '/' + \"all_rf.pickle\"):\n",
        "    if USE_PICKLES:\n",
        "        print(\"Found Pickle File for rf.\")\n",
        "        all_rf = pickle.load(open(PICKLES_DIR + '/' + 'all_rf.pickle','rb'))\n",
        "else:\n",
        "    pickle_out = open(PICKLES_DIR + '/' + 'all_rf' + '.pickle','wb')\n",
        "    rf_dict = {'rf_clf_w2v':rf_clf_w2v,'rf_clf_w2v_preds':validation_predictions_rf_w2v,'rf_clf_tfidf':rf_clf_tfidf,\\\n",
        "        'rf_clf_tfidf_preds':validation_predictions_rf_tfidf,'rf_clf_ft':rf_clf_ft,'rf_clf_ft_preds':validation_predictions_rf_ft}\n",
        "    pickle.dump(rf_dict,pickle_out)\n",
        "    pickle_out.close()\n",
        "    all_rf = rf_dict\n",
        "    print(\"Created Pickle File for rf.\")\n",
        "    \n",
        "if USE_PICKLES:\n",
        "    all_models.append(all_rf)"
      ]
    },
    {
      "cell_type": "code",
      "execution_count": 155,
      "metadata": {},
      "outputs": [],
      "source": [
        "if os.path.exists(PICKLES_DIR + \"/\" + \"all_xgb.pickle\"):\n",
        "    if USE_PICKLES:\n",
        "        print(\"Found Pickle File for xgb.\")\n",
        "        all_xgb = pickle.load(open(PICKLES_DIR + '/' + 'all_xgb.pickle','rb'))\n",
        "else:\n",
        "    pickle_out = open(PICKLES_DIR + '/' + 'all_xgb' + '.pickle','wb')\n",
        "    xgb_dict = {'xgb_clf_w2v':xgb_clf_w2v,'xgb_clf_w2v_preds':validation_predictions_xgb_w2v,'xgb_clf_tfidf':xgb_clf_tfidf,\\\n",
        "        'xgb_clf_tfidf_preds':validation_predictions_xgb_tfidf,'xgb_clf_ft':xgb_clf_ft,'xgb_clf_ft_preds':validation_predictions_xgb_ft,}\n",
        "    pickle.dump(xgb_dict,pickle_out)\n",
        "    pickle_out.close()\n",
        "    all_xgb = xgb_dict\n",
        "    print(\"Created Pickle File for xgb.\")\n",
        "    \n",
        "if USE_PICKLES:    \n",
        "    all_models.append(all_xgb)"
      ]
    },
    {
      "attachments": {},
      "cell_type": "markdown",
      "metadata": {
        "id": "Om-vRHUKl5Jo"
      },
      "source": [
        "## 4. Conclusion"
      ]
    },
    {
      "attachments": {},
      "cell_type": "markdown",
      "metadata": {
        "id": "PfNk3V8xl5Jo"
      },
      "source": [
        "### 4.1 Results"
      ]
    },
    {
      "attachments": {},
      "cell_type": "markdown",
      "metadata": {},
      "source": [
        "### DISCLAIMER: VISUALIZATIONS CAN TAKE A WHILE TO RUN. IF YOU DO NOT WANT TO WAIT A LONG TIME TO RUN THE WHOLE FILE, SET THE \"PRINT_METRICS\" FLAG TO FALSE."
      ]
    },
    {
      "cell_type": "code",
      "execution_count": 161,
      "metadata": {},
      "outputs": [
        {
          "data": {
            "text/plain": [
              "14271"
            ]
          },
          "execution_count": 161,
          "metadata": {},
          "output_type": "execute_result"
        }
      ],
      "source": [
        "len(embedding_matrix_ft)"
      ]
    },
    {
      "cell_type": "code",
      "execution_count": 160,
      "metadata": {},
      "outputs": [
        {
          "data": {
            "text/plain": [
              "10000"
            ]
          },
          "execution_count": 160,
          "metadata": {},
          "output_type": "execute_result"
        }
      ],
      "source": [
        "len(y)"
      ]
    },
    {
      "cell_type": "code",
      "execution_count": 156,
      "metadata": {
        "colab": {
          "base_uri": "https://localhost:8080/",
          "height": 380
        },
        "id": "GRcvwFyul5Jo",
        "outputId": "a0ab4046-cd31-4fbe-9870-f0e626ad97e6"
      },
      "outputs": [
        {
          "name": "stdout",
          "output_type": "stream",
          "text": [
            "PRINTING METRICS FOR Gaussian Naive Bayes/Word2Vec\n"
          ]
        },
        {
          "data": {
            "image/png": "[encoded data removed]",
            "text/plain": [
              "<Figure size 432x288 with 2 Axes>"
            ]
          },
          "metadata": {
            "needs_background": "light"
          },
          "output_type": "display_data"
        },
        {
          "name": "stdout",
          "output_type": "stream",
          "text": [
            "ROC/AUC: \n",
            "{0: 0.6239362491031022, 1: 0.6239362491031022}\n",
            "\n",
            "\n",
            "Classification Report = \n",
            "                precision    recall  f1-score   support\n",
            "\n",
            "           0       0.61      0.80      0.69       523\n",
            "           1       0.67      0.45      0.54       477\n",
            "\n",
            "    accuracy                           0.63      1000\n",
            "   macro avg       0.64      0.62      0.62      1000\n",
            "weighted avg       0.64      0.63      0.62      1000\n",
            "\n"
          ]
        },
        {
          "data": {
            "image/png": "[encoded data removed]",
            "text/plain": [
              "<Figure size 432x288 with 1 Axes>"
            ]
          },
          "metadata": {
            "needs_background": "light"
          },
          "output_type": "display_data"
        },
        {
          "name": "stdout",
          "output_type": "stream",
          "text": [
            "PRINTING METRICS FOR Gaussian Naive Bayes/TFIDF\n"
          ]
        },
        {
          "data": {
            "image/png": "[encoded data removed]",
            "text/plain": [
              "<Figure size 432x288 with 2 Axes>"
            ]
          },
          "metadata": {
            "needs_background": "light"
          },
          "output_type": "display_data"
        },
        {
          "name": "stdout",
          "output_type": "stream",
          "text": [
            "ROC/AUC: \n",
            "{0: 0.618787354041151, 1: 0.6187873540411511}\n",
            "\n",
            "\n",
            "Classification Report = \n",
            "                precision    recall  f1-score   support\n",
            "\n",
            "           0       0.61      0.80      0.69       523\n",
            "           1       0.66      0.44      0.53       477\n",
            "\n",
            "    accuracy                           0.63      1000\n",
            "   macro avg       0.64      0.62      0.61      1000\n",
            "weighted avg       0.64      0.63      0.61      1000\n",
            "\n"
          ]
        },
        {
          "data": {
            "image/png": "[encoded data removed]",
            "text/plain": [
              "<Figure size 432x288 with 1 Axes>"
            ]
          },
          "metadata": {
            "needs_background": "light"
          },
          "output_type": "display_data"
        },
        {
          "name": "stdout",
          "output_type": "stream",
          "text": [
            "PRINTING METRICS FOR Gaussian Naive Bayes/FastText\n"
          ]
        },
        {
          "data": {
            "image/png": "[encoded data removed]",
            "text/plain": [
              "<Figure size 432x288 with 2 Axes>"
            ]
          },
          "metadata": {
            "needs_background": "light"
          },
          "output_type": "display_data"
        },
        {
          "name": "stdout",
          "output_type": "stream",
          "text": [
            "ROC/AUC: \n",
            "{0: 0.5075900605681624, 1: 0.5075900605681622}\n",
            "\n",
            "\n",
            "Classification Report = \n",
            "                precision    recall  f1-score   support\n",
            "\n",
            "           0       0.65      0.04      0.07       523\n",
            "           1       0.48      0.98      0.64       477\n",
            "\n",
            "    accuracy                           0.49      1000\n",
            "   macro avg       0.56      0.51      0.36      1000\n",
            "weighted avg       0.57      0.49      0.35      1000\n",
            "\n"
          ]
        },
        {
          "ename": "ValueError",
          "evalue": "Found input variables with inconsistent numbers of samples: [14271, 10000]",
          "output_type": "error",
          "traceback": [
            "\u001b[1;31m---------------------------------------------------------------------------\u001b[0m",
            "\u001b[1;31mValueError\u001b[0m                                Traceback (most recent call last)",
            "\u001b[1;32md:\\new pc stuff\\E-learning\\Year 3\\Graduation Project\\sentiment-analysis-yelp\\sarcasm_detection\\code\\sarcasm_detection_ml.ipynb Cell 88\u001b[0m in \u001b[0;36m<cell line: 1>\u001b[1;34m()\u001b[0m\n\u001b[0;32m     <a href='vscode-notebook-cell:/d%3A/new%20pc%20stuff/E-learning/Year%203/Graduation%20Project/sentiment-analysis-yelp/sarcasm_detection/code/sarcasm_detection_ml.ipynb#Y153sZmlsZQ%3D%3D?line=10'>11</a>\u001b[0m show_metrics(\u001b[39m'\u001b[39m\u001b[39mGaussian Naive Bayes/Word2Vec\u001b[39m\u001b[39m'\u001b[39m,nb_clf_w2v,validation_set_w2v,validation_labels_w2v,validation_predictions_nb_w2v,\\\n\u001b[0;32m     <a href='vscode-notebook-cell:/d%3A/new%20pc%20stuff/E-learning/Year%203/Graduation%20Project/sentiment-analysis-yelp/sarcasm_detection/code/sarcasm_detection_ml.ipynb#Y153sZmlsZQ%3D%3D?line=11'>12</a>\u001b[0m             np\u001b[39m.\u001b[39mconcatenate([train_set_w2v,validation_set_w2v,test_set_w2v]),y,\u001b[39m5\u001b[39m)\n\u001b[0;32m     <a href='vscode-notebook-cell:/d%3A/new%20pc%20stuff/E-learning/Year%203/Graduation%20Project/sentiment-analysis-yelp/sarcasm_detection/code/sarcasm_detection_ml.ipynb#Y153sZmlsZQ%3D%3D?line=12'>13</a>\u001b[0m show_metrics(\u001b[39m'\u001b[39m\u001b[39mGaussian Naive Bayes/TFIDF\u001b[39m\u001b[39m'\u001b[39m,nb_clf_tfidf,validation_set_tfidf,validation_labels_tfidf,validation_predictions_nb_tfidf,\\\n\u001b[0;32m     <a href='vscode-notebook-cell:/d%3A/new%20pc%20stuff/E-learning/Year%203/Graduation%20Project/sentiment-analysis-yelp/sarcasm_detection/code/sarcasm_detection_ml.ipynb#Y153sZmlsZQ%3D%3D?line=13'>14</a>\u001b[0m             np\u001b[39m.\u001b[39mconcatenate([train_set_tfidf,validation_set_tfidf,test_set_tfidf]),y,\u001b[39m5\u001b[39m)\n\u001b[1;32m---> <a href='vscode-notebook-cell:/d%3A/new%20pc%20stuff/E-learning/Year%203/Graduation%20Project/sentiment-analysis-yelp/sarcasm_detection/code/sarcasm_detection_ml.ipynb#Y153sZmlsZQ%3D%3D?line=14'>15</a>\u001b[0m show_metrics(\u001b[39m'\u001b[39;49m\u001b[39mGaussian Naive Bayes/FastText\u001b[39;49m\u001b[39m'\u001b[39;49m,nb_clf_ft,validation_set_ft,validation_labels_ft,validation_predictions_nb_ft,\\\n\u001b[0;32m     <a href='vscode-notebook-cell:/d%3A/new%20pc%20stuff/E-learning/Year%203/Graduation%20Project/sentiment-analysis-yelp/sarcasm_detection/code/sarcasm_detection_ml.ipynb#Y153sZmlsZQ%3D%3D?line=15'>16</a>\u001b[0m             np\u001b[39m.\u001b[39;49mconcatenate([train_set_ft,validation_set_ft,test_set_ft]),y,\u001b[39m5\u001b[39;49m)\n",
            "File \u001b[1;32md:\\new pc stuff\\E-learning\\Year 3\\Graduation Project\\sentiment-analysis-yelp\\sarcasm_detection\\code\\archived_nlp_ai_utils.py:105\u001b[0m, in \u001b[0;36mshow_metrics\u001b[1;34m(clf_name, model, x_test, y_test, y_pred, X, y, cv)\u001b[0m\n\u001b[0;32m    103\u001b[0m get_roc_auc(y_pred, y_test)\n\u001b[0;32m    104\u001b[0m show_classification_report(y_test,y_pred)\n\u001b[1;32m--> 105\u001b[0m show_learning_curve(model, X, y,cv \u001b[39m=\u001b[39;49m cv)\n",
            "File \u001b[1;32md:\\new pc stuff\\E-learning\\Year 3\\Graduation Project\\sentiment-analysis-yelp\\sarcasm_detection\\code\\archived_nlp_ai_utils.py:87\u001b[0m, in \u001b[0;36mshow_learning_curve\u001b[1;34m(model, X, y, cv)\u001b[0m\n\u001b[0;32m     86\u001b[0m \u001b[39mdef\u001b[39;00m \u001b[39mshow_learning_curve\u001b[39m(model, X, y,cv \u001b[39m=\u001b[39m \u001b[39m5\u001b[39m):\n\u001b[1;32m---> 87\u001b[0m     train_sizes_model, train_scores_model, valid_scores_model, \u001b[39m*\u001b[39m_ \u001b[39m=\u001b[39m learning_curve(model, X, y,cv\u001b[39m=\u001b[39;49mcv,\n\u001b[0;32m     88\u001b[0m                     scoring\u001b[39m=\u001b[39;49m\u001b[39m'\u001b[39;49m\u001b[39maccuracy\u001b[39;49m\u001b[39m'\u001b[39;49m,n_jobs\u001b[39m=\u001b[39;49m\u001b[39m-\u001b[39;49m\u001b[39m1\u001b[39;49m)\n\u001b[0;32m     89\u001b[0m     fig\u001b[39m=\u001b[39mplt\u001b[39m.\u001b[39mfigure()\n\u001b[0;32m     90\u001b[0m     ax\u001b[39m=\u001b[39mfig\u001b[39m.\u001b[39madd_axes([\u001b[39m0\u001b[39m,\u001b[39m0\u001b[39m,\u001b[39m1\u001b[39m,\u001b[39m1\u001b[39m])\n",
            "File \u001b[1;32mc:\\Users\\user\\AppData\\Local\\Programs\\Python\\Python310\\lib\\site-packages\\sklearn\\model_selection\\_validation.py:1510\u001b[0m, in \u001b[0;36mlearning_curve\u001b[1;34m(estimator, X, y, groups, train_sizes, cv, scoring, exploit_incremental_learning, n_jobs, pre_dispatch, verbose, shuffle, random_state, error_score, return_times, fit_params)\u001b[0m\n\u001b[0;32m   1505\u001b[0m \u001b[39mif\u001b[39;00m exploit_incremental_learning \u001b[39mand\u001b[39;00m \u001b[39mnot\u001b[39;00m \u001b[39mhasattr\u001b[39m(estimator, \u001b[39m\"\u001b[39m\u001b[39mpartial_fit\u001b[39m\u001b[39m\"\u001b[39m):\n\u001b[0;32m   1506\u001b[0m     \u001b[39mraise\u001b[39;00m \u001b[39mValueError\u001b[39;00m(\n\u001b[0;32m   1507\u001b[0m         \u001b[39m\"\u001b[39m\u001b[39mAn estimator must support the partial_fit interface \u001b[39m\u001b[39m\"\u001b[39m\n\u001b[0;32m   1508\u001b[0m         \u001b[39m\"\u001b[39m\u001b[39mto exploit incremental learning\u001b[39m\u001b[39m\"\u001b[39m\n\u001b[0;32m   1509\u001b[0m     )\n\u001b[1;32m-> 1510\u001b[0m X, y, groups \u001b[39m=\u001b[39m indexable(X, y, groups)\n\u001b[0;32m   1512\u001b[0m cv \u001b[39m=\u001b[39m check_cv(cv, y, classifier\u001b[39m=\u001b[39mis_classifier(estimator))\n\u001b[0;32m   1513\u001b[0m \u001b[39m# Store it as list as we will be iterating over the list multiple times\u001b[39;00m\n",
            "File \u001b[1;32mc:\\Users\\user\\AppData\\Local\\Programs\\Python\\Python310\\lib\\site-packages\\sklearn\\utils\\validation.py:433\u001b[0m, in \u001b[0;36mindexable\u001b[1;34m(*iterables)\u001b[0m\n\u001b[0;32m    414\u001b[0m \u001b[39m\"\"\"Make arrays indexable for cross-validation.\u001b[39;00m\n\u001b[0;32m    415\u001b[0m \n\u001b[0;32m    416\u001b[0m \u001b[39mChecks consistent length, passes through None, and ensures that everything\u001b[39;00m\n\u001b[1;32m   (...)\u001b[0m\n\u001b[0;32m    429\u001b[0m \u001b[39m    sparse matrix, or dataframe) or `None`.\u001b[39;00m\n\u001b[0;32m    430\u001b[0m \u001b[39m\"\"\"\u001b[39;00m\n\u001b[0;32m    432\u001b[0m result \u001b[39m=\u001b[39m [_make_indexable(X) \u001b[39mfor\u001b[39;00m X \u001b[39min\u001b[39;00m iterables]\n\u001b[1;32m--> 433\u001b[0m check_consistent_length(\u001b[39m*\u001b[39;49mresult)\n\u001b[0;32m    434\u001b[0m \u001b[39mreturn\u001b[39;00m result\n",
            "File \u001b[1;32mc:\\Users\\user\\AppData\\Local\\Programs\\Python\\Python310\\lib\\site-packages\\sklearn\\utils\\validation.py:387\u001b[0m, in \u001b[0;36mcheck_consistent_length\u001b[1;34m(*arrays)\u001b[0m\n\u001b[0;32m    385\u001b[0m uniques \u001b[39m=\u001b[39m np\u001b[39m.\u001b[39munique(lengths)\n\u001b[0;32m    386\u001b[0m \u001b[39mif\u001b[39;00m \u001b[39mlen\u001b[39m(uniques) \u001b[39m>\u001b[39m \u001b[39m1\u001b[39m:\n\u001b[1;32m--> 387\u001b[0m     \u001b[39mraise\u001b[39;00m \u001b[39mValueError\u001b[39;00m(\n\u001b[0;32m    388\u001b[0m         \u001b[39m\"\u001b[39m\u001b[39mFound input variables with inconsistent numbers of samples: \u001b[39m\u001b[39m%r\u001b[39;00m\u001b[39m\"\u001b[39m\n\u001b[0;32m    389\u001b[0m         \u001b[39m%\u001b[39m [\u001b[39mint\u001b[39m(l) \u001b[39mfor\u001b[39;00m l \u001b[39min\u001b[39;00m lengths]\n\u001b[0;32m    390\u001b[0m     )\n",
            "\u001b[1;31mValueError\u001b[0m: Found input variables with inconsistent numbers of samples: [14271, 10000]"
          ]
        }
      ],
      "source": [
        "if PRINT_METRICS:\n",
        "    if USE_PICKLES:\n",
        "        show_metrics('Gaussian Naive Bayes/Word2Vec',all_models[0]['nb_clf_w2v'],validation_set_w2v,validation_labels_w2v,all_models[0]['nb_clf_w2v_preds'],\\\n",
        "                    np.concatenate([train_set_w2v,validation_set_w2v,test_set_w2v]),y,5)\n",
        "        show_metrics('Gaussian Naive Bayes/TFIDF',all_models[0]['nb_clf_tfidf'],validation_set_tfidf,validation_labels_tfidf,all_models[0]['nb_clf_tfidf_preds'],\\\n",
        "                    np.concatenate([train_set_tfidf,validation_set_tfidf,test_set_tfidf]),y,5)\n",
        "        show_metrics('Gaussian Naive Bayes/FastText',all_models[0]['nb_clf_ft'],validation_set_ft,validation_labels_ft,all_models[0]['nb_clf_ft_preds'],\\\n",
        "                    np.concatenate([train_set_ft,validation_set_ft,test_set_ft]),y,5)\n",
        "        \n",
        "    else:\n",
        "        show_metrics('Gaussian Naive Bayes/Word2Vec',nb_clf_w2v,validation_set_w2v,validation_labels_w2v,validation_predictions_nb_w2v,\\\n",
        "                    np.concatenate([train_set_w2v,validation_set_w2v,test_set_w2v]),y,5)\n",
        "        show_metrics('Gaussian Naive Bayes/TFIDF',nb_clf_tfidf,validation_set_tfidf,validation_labels_tfidf,validation_predictions_nb_tfidf,\\\n",
        "                    np.concatenate([train_set_tfidf,validation_set_tfidf,test_set_tfidf]),y,5)\n",
        "        show_metrics('Gaussian Naive Bayes/FastText',nb_clf_ft,validation_set_ft,validation_labels_ft,validation_predictions_nb_ft,\\\n",
        "                    np.concatenate([train_set_ft,validation_set_ft,test_set_ft]),y,5)"
      ]
    },
    {
      "cell_type": "code",
      "execution_count": null,
      "metadata": {},
      "outputs": [
        {
          "name": "stdout",
          "output_type": "stream",
          "text": [
            "PRINTING METRICS FOR Logistic Regression/Word2Vec\n"
          ]
        },
        {
          "data": {
            "image/png": "[encoded data removed]",
            "text/plain": [
              "<Figure size 432x288 with 2 Axes>"
            ]
          },
          "metadata": {
            "needs_background": "light"
          },
          "output_type": "display_data"
        },
        {
          "name": "stdout",
          "output_type": "stream",
          "text": [
            "ROC/AUC: \n",
            "{0: 0.5020964360587001, 1: 0.5020964360587002}\n",
            "\n",
            "\n",
            "Classification Report = \n",
            "                precision    recall  f1-score   support\n",
            "\n",
            "           0       0.52      1.00      0.69       523\n",
            "           1       1.00      0.00      0.01       477\n",
            "\n",
            "    accuracy                           0.53      1000\n",
            "   macro avg       0.76      0.50      0.35      1000\n",
            "weighted avg       0.75      0.53      0.36      1000\n",
            "\n"
          ]
        },
        {
          "data": {
            "image/png": "[encoded data removed]",
            "text/plain": [
              "<Figure size 432x288 with 1 Axes>"
            ]
          },
          "metadata": {
            "needs_background": "light"
          },
          "output_type": "display_data"
        },
        {
          "name": "stdout",
          "output_type": "stream",
          "text": [
            "PRINTING METRICS FOR Logistic Regression/TFIDF\n"
          ]
        },
        {
          "data": {
            "image/png": "[encoded data removed]",
            "text/plain": [
              "<Figure size 432x288 with 2 Axes>"
            ]
          },
          "metadata": {
            "needs_background": "light"
          },
          "output_type": "display_data"
        },
        {
          "name": "stdout",
          "output_type": "stream",
          "text": [
            "ROC/AUC: \n",
            "{0: 0.7372019192611566, 1: 0.7372019192611566}\n",
            "\n",
            "\n",
            "Classification Report = \n",
            "                precision    recall  f1-score   support\n",
            "\n",
            "           0       0.74      0.78      0.76       523\n",
            "           1       0.74      0.70      0.72       477\n",
            "\n",
            "    accuracy                           0.74      1000\n",
            "   macro avg       0.74      0.74      0.74      1000\n",
            "weighted avg       0.74      0.74      0.74      1000\n",
            "\n"
          ]
        },
        {
          "data": {
            "image/png": "[encoded data removed]",
            "text/plain": [
              "<Figure size 432x288 with 1 Axes>"
            ]
          },
          "metadata": {
            "needs_background": "light"
          },
          "output_type": "display_data"
        },
        {
          "name": "stdout",
          "output_type": "stream",
          "text": [
            "PRINTING METRICS FOR Logistic Regression/FastText\n"
          ]
        },
        {
          "data": {
            "image/png": "[encoded data removed]",
            "text/plain": [
              "<Figure size 432x288 with 2 Axes>"
            ]
          },
          "metadata": {
            "needs_background": "light"
          },
          "output_type": "display_data"
        },
        {
          "ename": "ValueError",
          "evalue": "Only one class present in y_true. ROC AUC score is not defined in that case.",
          "output_type": "error",
          "traceback": [
            "\u001b[1;31m---------------------------------------------------------------------------\u001b[0m",
            "\u001b[1;31mValueError\u001b[0m                                Traceback (most recent call last)",
            "\u001b[1;32md:\\new pc stuff\\E-learning\\Year 3\\Graduation Project\\sentiment-analysis-yelp\\sarcasm_detection\\code\\sarcasm_detection_ml.ipynb Cell 89\u001b[0m in \u001b[0;36m<cell line: 1>\u001b[1;34m()\u001b[0m\n\u001b[0;32m     <a href='vscode-notebook-cell:/d%3A/new%20pc%20stuff/E-learning/Year%203/Graduation%20Project/sentiment-analysis-yelp/sarcasm_detection/code/sarcasm_detection_ml.ipynb#Y153sZmlsZQ%3D%3D?line=10'>11</a>\u001b[0m show_metrics(\u001b[39m'\u001b[39m\u001b[39mLogistic Regression/Word2Vec\u001b[39m\u001b[39m'\u001b[39m,lr_clf_w2v,validation_set_w2v,validation_labels_w2v,validation_predictions_lr_w2v,\\\n\u001b[0;32m     <a href='vscode-notebook-cell:/d%3A/new%20pc%20stuff/E-learning/Year%203/Graduation%20Project/sentiment-analysis-yelp/sarcasm_detection/code/sarcasm_detection_ml.ipynb#Y153sZmlsZQ%3D%3D?line=11'>12</a>\u001b[0m             np\u001b[39m.\u001b[39mconcatenate([train_set_w2v,validation_set_w2v,test_set_w2v]),y,\u001b[39m5\u001b[39m)\n\u001b[0;32m     <a href='vscode-notebook-cell:/d%3A/new%20pc%20stuff/E-learning/Year%203/Graduation%20Project/sentiment-analysis-yelp/sarcasm_detection/code/sarcasm_detection_ml.ipynb#Y153sZmlsZQ%3D%3D?line=12'>13</a>\u001b[0m show_metrics(\u001b[39m'\u001b[39m\u001b[39mLogistic Regression/TFIDF\u001b[39m\u001b[39m'\u001b[39m,lr_clf_tfidf,validation_set_tfidf,validation_labels_tfidf,validation_predictions_lr_tfidf,\\\n\u001b[0;32m     <a href='vscode-notebook-cell:/d%3A/new%20pc%20stuff/E-learning/Year%203/Graduation%20Project/sentiment-analysis-yelp/sarcasm_detection/code/sarcasm_detection_ml.ipynb#Y153sZmlsZQ%3D%3D?line=13'>14</a>\u001b[0m             np\u001b[39m.\u001b[39mconcatenate([train_set_tfidf,validation_set_tfidf,test_set_tfidf]),y,\u001b[39m5\u001b[39m)\n\u001b[1;32m---> <a href='vscode-notebook-cell:/d%3A/new%20pc%20stuff/E-learning/Year%203/Graduation%20Project/sentiment-analysis-yelp/sarcasm_detection/code/sarcasm_detection_ml.ipynb#Y153sZmlsZQ%3D%3D?line=14'>15</a>\u001b[0m show_metrics(\u001b[39m'\u001b[39;49m\u001b[39mLogistic Regression/FastText\u001b[39;49m\u001b[39m'\u001b[39;49m,lr_clf_ft,validation_set_ft,validation_predictions_lr_ft,\\\n\u001b[0;32m     <a href='vscode-notebook-cell:/d%3A/new%20pc%20stuff/E-learning/Year%203/Graduation%20Project/sentiment-analysis-yelp/sarcasm_detection/code/sarcasm_detection_ml.ipynb#Y153sZmlsZQ%3D%3D?line=15'>16</a>\u001b[0m             np\u001b[39m.\u001b[39;49mconcatenate([train_set_ft,validation_set_ft,test_set_ft]),y,\u001b[39m5\u001b[39;49m)\n",
            "File \u001b[1;32md:\\new pc stuff\\E-learning\\Year 3\\Graduation Project\\sentiment-analysis-yelp\\sarcasm_detection\\code\\archived_nlp_ai_utils.py:103\u001b[0m, in \u001b[0;36mshow_metrics\u001b[1;34m(clf_name, model, x_test, y_test, y_pred, X, y, cv)\u001b[0m\n\u001b[0;32m    101\u001b[0m \u001b[39mprint\u001b[39m(\u001b[39m\"\u001b[39m\u001b[39mPRINTING METRICS FOR \u001b[39m\u001b[39m\"\u001b[39m \u001b[39m+\u001b[39m \u001b[39mstr\u001b[39m(clf_name))\n\u001b[0;32m    102\u001b[0m show_conf_matrix(model, x_test, y_test)  \n\u001b[1;32m--> 103\u001b[0m get_roc_auc(y_pred, y_test)\n\u001b[0;32m    104\u001b[0m show_classification_report(y_test,y_pred)\n\u001b[0;32m    105\u001b[0m show_learning_curve(model, X, y,cv \u001b[39m=\u001b[39m cv)\n",
            "File \u001b[1;32md:\\new pc stuff\\E-learning\\Year 3\\Graduation Project\\sentiment-analysis-yelp\\sarcasm_detection\\code\\archived_nlp_ai_utils.py:72\u001b[0m, in \u001b[0;36mget_roc_auc\u001b[1;34m(y_pred, y_test)\u001b[0m\n\u001b[0;32m     69\u001b[0m     new_y_true \u001b[39m=\u001b[39m [\u001b[39m0\u001b[39m \u001b[39mif\u001b[39;00m this_class \u001b[39min\u001b[39;00m other_classes \u001b[39melse\u001b[39;00m \u001b[39m1\u001b[39m \u001b[39mfor\u001b[39;00m this_class \u001b[39min\u001b[39;00m y_test]\n\u001b[0;32m     70\u001b[0m     new_y_pred \u001b[39m=\u001b[39m [\u001b[39m0\u001b[39m \u001b[39mif\u001b[39;00m that_class \u001b[39min\u001b[39;00m other_classes \u001b[39melse\u001b[39;00m \u001b[39m1\u001b[39m \u001b[39mfor\u001b[39;00m that_class \u001b[39min\u001b[39;00m y_pred]\n\u001b[1;32m---> 72\u001b[0m     roc_auc \u001b[39m=\u001b[39m roc_auc_score(new_y_true, new_y_pred, average \u001b[39m=\u001b[39;49m \u001b[39m'\u001b[39;49m\u001b[39mmicro\u001b[39;49m\u001b[39m'\u001b[39;49m)\n\u001b[0;32m     73\u001b[0m     roc_auc_dict[per_class] \u001b[39m=\u001b[39m roc_auc\n\u001b[0;32m     75\u001b[0m \u001b[39mprint\u001b[39m(\u001b[39m\"\u001b[39m\u001b[39mROC/AUC: \u001b[39m\u001b[39m\"\u001b[39m)\n",
            "File \u001b[1;32mc:\\Users\\user\\AppData\\Local\\Programs\\Python\\Python310\\lib\\site-packages\\sklearn\\metrics\\_ranking.py:569\u001b[0m, in \u001b[0;36mroc_auc_score\u001b[1;34m(y_true, y_score, average, sample_weight, max_fpr, multi_class, labels)\u001b[0m\n\u001b[0;32m    567\u001b[0m     labels \u001b[39m=\u001b[39m np\u001b[39m.\u001b[39munique(y_true)\n\u001b[0;32m    568\u001b[0m     y_true \u001b[39m=\u001b[39m label_binarize(y_true, classes\u001b[39m=\u001b[39mlabels)[:, \u001b[39m0\u001b[39m]\n\u001b[1;32m--> 569\u001b[0m     \u001b[39mreturn\u001b[39;00m _average_binary_score(\n\u001b[0;32m    570\u001b[0m         partial(_binary_roc_auc_score, max_fpr\u001b[39m=\u001b[39;49mmax_fpr),\n\u001b[0;32m    571\u001b[0m         y_true,\n\u001b[0;32m    572\u001b[0m         y_score,\n\u001b[0;32m    573\u001b[0m         average,\n\u001b[0;32m    574\u001b[0m         sample_weight\u001b[39m=\u001b[39;49msample_weight,\n\u001b[0;32m    575\u001b[0m     )\n\u001b[0;32m    576\u001b[0m \u001b[39melse\u001b[39;00m:  \u001b[39m# multilabel-indicator\u001b[39;00m\n\u001b[0;32m    577\u001b[0m     \u001b[39mreturn\u001b[39;00m _average_binary_score(\n\u001b[0;32m    578\u001b[0m         partial(_binary_roc_auc_score, max_fpr\u001b[39m=\u001b[39mmax_fpr),\n\u001b[0;32m    579\u001b[0m         y_true,\n\u001b[1;32m   (...)\u001b[0m\n\u001b[0;32m    582\u001b[0m         sample_weight\u001b[39m=\u001b[39msample_weight,\n\u001b[0;32m    583\u001b[0m     )\n",
            "File \u001b[1;32mc:\\Users\\user\\AppData\\Local\\Programs\\Python\\Python310\\lib\\site-packages\\sklearn\\metrics\\_base.py:75\u001b[0m, in \u001b[0;36m_average_binary_score\u001b[1;34m(binary_metric, y_true, y_score, average, sample_weight)\u001b[0m\n\u001b[0;32m     72\u001b[0m     \u001b[39mraise\u001b[39;00m \u001b[39mValueError\u001b[39;00m(\u001b[39m\"\u001b[39m\u001b[39m{0}\u001b[39;00m\u001b[39m format is not supported\u001b[39m\u001b[39m\"\u001b[39m\u001b[39m.\u001b[39mformat(y_type))\n\u001b[0;32m     74\u001b[0m \u001b[39mif\u001b[39;00m y_type \u001b[39m==\u001b[39m \u001b[39m\"\u001b[39m\u001b[39mbinary\u001b[39m\u001b[39m\"\u001b[39m:\n\u001b[1;32m---> 75\u001b[0m     \u001b[39mreturn\u001b[39;00m binary_metric(y_true, y_score, sample_weight\u001b[39m=\u001b[39;49msample_weight)\n\u001b[0;32m     77\u001b[0m check_consistent_length(y_true, y_score, sample_weight)\n\u001b[0;32m     78\u001b[0m y_true \u001b[39m=\u001b[39m check_array(y_true)\n",
            "File \u001b[1;32mc:\\Users\\user\\AppData\\Local\\Programs\\Python\\Python310\\lib\\site-packages\\sklearn\\metrics\\_ranking.py:338\u001b[0m, in \u001b[0;36m_binary_roc_auc_score\u001b[1;34m(y_true, y_score, sample_weight, max_fpr)\u001b[0m\n\u001b[0;32m    336\u001b[0m \u001b[39m\"\"\"Binary roc auc score.\"\"\"\u001b[39;00m\n\u001b[0;32m    337\u001b[0m \u001b[39mif\u001b[39;00m \u001b[39mlen\u001b[39m(np\u001b[39m.\u001b[39munique(y_true)) \u001b[39m!=\u001b[39m \u001b[39m2\u001b[39m:\n\u001b[1;32m--> 338\u001b[0m     \u001b[39mraise\u001b[39;00m \u001b[39mValueError\u001b[39;00m(\n\u001b[0;32m    339\u001b[0m         \u001b[39m\"\u001b[39m\u001b[39mOnly one class present in y_true. ROC AUC score \u001b[39m\u001b[39m\"\u001b[39m\n\u001b[0;32m    340\u001b[0m         \u001b[39m\"\u001b[39m\u001b[39mis not defined in that case.\u001b[39m\u001b[39m\"\u001b[39m\n\u001b[0;32m    341\u001b[0m     )\n\u001b[0;32m    343\u001b[0m fpr, tpr, _ \u001b[39m=\u001b[39m roc_curve(y_true, y_score, sample_weight\u001b[39m=\u001b[39msample_weight)\n\u001b[0;32m    344\u001b[0m \u001b[39mif\u001b[39;00m max_fpr \u001b[39mis\u001b[39;00m \u001b[39mNone\u001b[39;00m \u001b[39mor\u001b[39;00m max_fpr \u001b[39m==\u001b[39m \u001b[39m1\u001b[39m:\n",
            "\u001b[1;31mValueError\u001b[0m: Only one class present in y_true. ROC AUC score is not defined in that case."
          ]
        }
      ],
      "source": [
        "if PRINT_METRICS:\n",
        "    if USE_PICKLES:\n",
        "        show_metrics('Logistic Regression/Word2Vec',all_models[1]['lr_clf_w2v'],validation_set_w2v,validation_labels_w2v,all_models[1]['lr_clf_w2v_preds'],\\\n",
        "                    np.concatenate([train_set_w2v,validation_set_w2v,test_set_w2v]),y,5)\n",
        "        show_metrics('Logistic Regression/TFIDF',all_models[1]['lr_clf_tfidf'],validation_set_tfidf,validation_labels_tfidf,all_models[1]['lr_clf_tfidf_preds'],\\\n",
        "                    np.concatenate([train_set_tfidf,validation_set_tfidf,test_set_tfidf]),y,5)\n",
        "        show_metrics('Logistic Regression/FastText',all_models[1]['lr_clf_ft'],validation_set_ft,validation_labels_ft,all_models[1]['lr_clf_ft_preds'],\\\n",
        "                    np.concatenate([train_set_ft,validation_set_ft,test_set_ft]),y,5)\n",
        "\n",
        "    else:\n",
        "        show_metrics('Logistic Regression/Word2Vec',lr_clf_w2v,validation_set_w2v,validation_labels_w2v,validation_predictions_lr_w2v,\\\n",
        "                    np.concatenate([train_set_w2v,validation_set_w2v,test_set_w2v]),y,5)\n",
        "        show_metrics('Logistic Regression/TFIDF',lr_clf_tfidf,validation_set_tfidf,validation_labels_tfidf,validation_predictions_lr_tfidf,\\\n",
        "                    np.concatenate([train_set_tfidf,validation_set_tfidf,test_set_tfidf]),y,5)\n",
        "        show_metrics('Logistic Regression/FastText',lr_clf_ft,validation_set_ft,validation_predictions_lr_ft,\\\n",
        "                    np.concatenate([train_set_ft,validation_set_ft,test_set_ft]),y,5)"
      ]
    },
    {
      "cell_type": "code",
      "execution_count": null,
      "metadata": {},
      "outputs": [],
      "source": [
        "if PRINT_METRICS:\n",
        "    if USE_PICKLES:\n",
        "        show_metrics('Random Forest/Word2Vec',all_models[2]['rf_clf_w2v'],validation_set_w2v,validation_labels_w2v,all_models[2]['rf_clf_w2v_preds'],X_W2V,y,5)\n",
        "        show_metrics('Random Forest/TFIDF',all_models[2]['rf_clf_tfidf'],validation_set_tfidf,validation_labels_tfidf,all_models[2]['rf_clf_tfidf_preds'],\\\n",
        "                    np.concatenate([train_set_tfidf,validation_set_tfidf,test_set_tfidf]),y,5)\n",
        "        show_metrics('Random Forest/FastText',all_models[2]['rf_clf_ft'],validation_set_ft,validation_labels_ft,all_models[2]['rf_clf_ft_preds'],X_FT,y,5)\n",
        "\n",
        "    else:\n",
        "        show_metrics('Random Forest/Word2Vec',rf_clf_w2v,validation_set_w2v,validation_labels_w2v,validation_predictions_rf_w2v,\\\n",
        "                    np.concatenate([train_set_w2v,validation_set_w2v,test_set_w2v]),y,5)\n",
        "        show_metrics('Random Forest/TFIDF',rf_clf_tfidf,validation_set_tfidf,validation_labels_tfidf,validation_predictions_rf_tfidf,\\\n",
        "                    np.concatenate([train_set_tfidf,validation_set_tfidf,test_set_tfidf]),y,5)\n",
        "        show_metrics('Random Forest/FastText',rf_clf_ft,validation_set_ft,validation_labels_ft,validation_predictions_rf_ft,\\\n",
        "                    np.concatenate([train_set_ft,validation_set_ft,test_set_ft]),y,5)"
      ]
    },
    {
      "cell_type": "code",
      "execution_count": null,
      "metadata": {},
      "outputs": [],
      "source": [
        "if PRINT_METRICS:\n",
        "    if USE_PICKLES:\n",
        "        show_metrics('XGBoost/Word2Vec',all_models[3]['xgb_clf_w2v'],validation_set_w2v,validation_labels_w2v,all_models[3]['xgb_clf_w2v_preds'],X_W2V,y,5)\n",
        "        show_metrics('XGBoost/TFIDF',all_models[3]['xgb_clf_tfidf'],validation_set_tfidf,validation_labels_tfidf,all_models[3]['xgb_clf_tfidf_preds'],\\\n",
        "                    np.concatenate([train_set_tfidf,validation_set_tfidf,test_set_tfidf]),y,5)\n",
        "        show_metrics('XGBoost/FastText',all_models[3]['xgb_clf_ft'],validation_set_ft,validation_labels_ft,all_models[3]['xgb_clf_ft_preds'],X_FT,y,5)\n",
        "\n",
        "    else:\n",
        "        show_metrics('XGBoost/Word2Vec',xgb_clf_w2v,validation_set_w2v,validation_labels_w2v,validation_predictions_xgb_w2v,\\\n",
        "                    np.concatenate([train_set_w2v,validation_set_w2v,test_set_w2v]),y,5)\n",
        "        show_metrics('XGBoost/TFIDF',xgb_clf_tfidf,validation_set_tfidf,validation_labels_tfidf,validation_predictions_xgb_tfidf,\\\n",
        "                    np.concatenate([train_set_tfidf,validation_set_tfidf,test_set_tfidf]),y,5)\n",
        "        show_metrics('XGBoost/FastText',xgb_clf_ft,validation_set_ft,validation_labels_ft,validation_predictions_xgb_ft,\\\n",
        "                    np.concatenate([train_set_ft,validation_set_ft,test_set_ft]),y,5)"
      ]
    }
  ],
  "metadata": {
    "accelerator": "TPU",
    "colab": {
      "provenance": []
    },
    "gpuClass": "standard",
    "kernelspec": {
      "display_name": "Python 3 (ipykernel)",
      "language": "python",
      "name": "python3"
    },
    "language_info": {
      "codemirror_mode": {
        "name": "ipython",
        "version": 3
      },
      "file_extension": ".py",
      "mimetype": "text/x-python",
      "name": "python",
      "nbconvert_exporter": "python",
      "pygments_lexer": "ipython3",
      "version": "3.10.10"
    }
  },
  "nbformat": 4,
  "nbformat_minor": 0
}
