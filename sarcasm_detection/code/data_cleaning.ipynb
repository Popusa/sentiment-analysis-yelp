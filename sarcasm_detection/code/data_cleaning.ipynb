{
 "cells": [
  {
   "attachments": {},
   "cell_type": "markdown",
   "metadata": {},
   "source": [
    "## 1. Libraries, Constants,Utility Functions, and Loading in the Datasets"
   ]
  },
  {
   "cell_type": "code",
   "execution_count": 1,
   "metadata": {},
   "outputs": [
    {
     "name": "stderr",
     "output_type": "stream",
     "text": [
      "The system cannot find the path specified.\n"
     ]
    }
   ],
   "source": [
    "!pip install pandas numpy nltk scikit-learn wordcloud\\\n",
    "seaborn gensim tensorflow imblearn xgboost matplotlib unrar pyunpack more-itertools patool keras-tqdm > /dev/null"
   ]
  },
  {
   "cell_type": "code",
   "execution_count": 2,
   "metadata": {},
   "outputs": [],
   "source": [
    "UTILS_URL = 'https://f005.backblazeb2.com/file/gp-support-files/archived_nlp_ai_utils.py'\n",
    "UPDATING_VALUES_URL = 'https://f005.backblazeb2.com/file/gp-support-files/archived_updating_values.py'\n",
    "ALL_LIBS_URL = 'https://f005.backblazeb2.com/file/gp-support-files/archived_all_libs_dl.py'\n",
    "UTILS_FILE_NAME = 'archived_nlp_ai_utils'\n",
    "UPDATING_VALUES_FILE_NAME = 'archived_updating_values'\n",
    "ALL_LIBS_FILE_NAME = 'archived_all_libs_dl'\n",
    "FILE_EXT = '.py'"
   ]
  },
  {
   "cell_type": "code",
   "execution_count": 3,
   "metadata": {},
   "outputs": [],
   "source": [
    "import requests\n",
    "import os\n",
    "import math"
   ]
  },
  {
   "cell_type": "code",
   "execution_count": 4,
   "metadata": {},
   "outputs": [],
   "source": [
    "def get_dependencies(url,file_name,file_extension):\n",
    "    if os.path.exists(file_name + file_extension):\n",
    "        return print(file_name + \" already exists.\")\n",
    "    else:\n",
    "        print(f\"downloading {file_name}...\")\n",
    "        r = requests.get(url)\n",
    "        with open(file_name + file_extension, 'wb') as fd:\n",
    "            for chunk in r.iter_content():\n",
    "                fd.write(chunk)"
   ]
  },
  {
   "cell_type": "code",
   "execution_count": 5,
   "metadata": {},
   "outputs": [
    {
     "name": "stdout",
     "output_type": "stream",
     "text": [
      "archived_nlp_ai_utils already exists.\n",
      "archived_updating_values already exists.\n",
      "archived_all_libs_dl already exists.\n"
     ]
    }
   ],
   "source": [
    "get_dependencies(UTILS_URL,UTILS_FILE_NAME,FILE_EXT)\n",
    "get_dependencies(UPDATING_VALUES_URL,UPDATING_VALUES_FILE_NAME,FILE_EXT)\n",
    "get_dependencies(ALL_LIBS_URL,ALL_LIBS_FILE_NAME,FILE_EXT)"
   ]
  },
  {
   "cell_type": "code",
   "execution_count": 6,
   "metadata": {},
   "outputs": [
    {
     "name": "stderr",
     "output_type": "stream",
     "text": [
      "c:\\Users\\user\\AppData\\Local\\Programs\\Python\\Python310\\lib\\site-packages\\numpy\\_distributor_init.py:30: UserWarning: loaded more than 1 DLL from .libs:\n",
      "c:\\Users\\user\\AppData\\Local\\Programs\\Python\\Python310\\lib\\site-packages\\numpy\\.libs\\libopenblas.EL2C6PLE4ZYW3ECEVIV3OXXGRN2NRFM2.gfortran-win_amd64.dll\n",
      "c:\\Users\\user\\AppData\\Local\\Programs\\Python\\Python310\\lib\\site-packages\\numpy\\.libs\\libopenblas.FB5AE2TYXYH2IJRDKGDGQ3XBKLKTF43H.gfortran-win_amd64.dll\n",
      "  warnings.warn(\"loaded more than 1 DLL from .libs:\"\n",
      "[nltk_data] Downloading package punkt to\n",
      "[nltk_data]     C:\\Users\\user\\AppData\\Roaming\\nltk_data...\n",
      "[nltk_data]   Package punkt is already up-to-date!\n",
      "[nltk_data] Downloading package stopwords to\n",
      "[nltk_data]     C:\\Users\\user\\AppData\\Roaming\\nltk_data...\n",
      "[nltk_data]   Package stopwords is already up-to-date!\n",
      "[nltk_data] Downloading package averaged_perceptron_tagger to\n",
      "[nltk_data]     C:\\Users\\user\\AppData\\Roaming\\nltk_data...\n",
      "[nltk_data]   Package averaged_perceptron_tagger is already up-to-\n",
      "[nltk_data]       date!\n",
      "[nltk_data] Downloading package wordnet to\n",
      "[nltk_data]     C:\\Users\\user\\AppData\\Roaming\\nltk_data...\n",
      "[nltk_data]   Package wordnet is already up-to-date!\n"
     ]
    }
   ],
   "source": [
    "from archived_nlp_ai_utils import *"
   ]
  },
  {
   "cell_type": "code",
   "execution_count": 7,
   "metadata": {},
   "outputs": [],
   "source": [
    "DATASETS_DIR = '../datasets/'"
   ]
  },
  {
   "cell_type": "code",
   "execution_count": 8,
   "metadata": {},
   "outputs": [
    {
     "name": "stderr",
     "output_type": "stream",
     "text": [
      "C:\\Users\\user\\AppData\\Local\\Temp\\ipykernel_12948\\2099538317.py:5: DtypeWarning: Columns (0) have mixed types. Specify dtype option on import or set low_memory=False.\n",
      "  reddit_df = pd.read_csv(DATASETS_DIR + 'sarcasm_on_reddit.csv')\n"
     ]
    }
   ],
   "source": [
    "mustard_dataset = pd.read_json(DATASETS_DIR + 'MUStARD_text_only_data.json') \n",
    "\n",
    "headlines_df = pd.read_json(DATASETS_DIR + 'Sarcasm_Headlines_Dataset_v2.json', lines=True) \n",
    "\n",
    "reddit_df = pd.read_csv(DATASETS_DIR + 'sarcasm_on_reddit.csv')"
   ]
  },
  {
   "cell_type": "code",
   "execution_count": 9,
   "metadata": {},
   "outputs": [],
   "source": [
    "def distil_dataset(df,text_colname,labels_colname):\n",
    "    df.rename(columns={text_colname:'text',labels_colname:'labels'},inplace=True)\n",
    "    df = df[['text','labels']].copy()\n",
    "    df.reset_index(inplace=True)\n",
    "    df.drop('index',axis = 1,inplace=True)\n",
    "    return df"
   ]
  },
  {
   "cell_type": "code",
   "execution_count": 10,
   "metadata": {},
   "outputs": [],
   "source": [
    "def create_chunk(data,start_size,end_size):\n",
    "    chunk = data.iloc[start_size:end_size]\n",
    "    return chunk"
   ]
  },
  {
   "attachments": {},
   "cell_type": "markdown",
   "metadata": {},
   "source": [
    "## 2. Data Cleaning"
   ]
  },
  {
   "cell_type": "code",
   "execution_count": 11,
   "metadata": {},
   "outputs": [
    {
     "data": {
      "text/html": [
       "<div>\n",
       "<style scoped>\n",
       "    .dataframe tbody tr th:only-of-type {\n",
       "        vertical-align: middle;\n",
       "    }\n",
       "\n",
       "    .dataframe tbody tr th {\n",
       "        vertical-align: top;\n",
       "    }\n",
       "\n",
       "    .dataframe thead th {\n",
       "        text-align: right;\n",
       "    }\n",
       "</style>\n",
       "<table border=\"1\" class=\"dataframe\">\n",
       "  <thead>\n",
       "    <tr style=\"text-align: right;\">\n",
       "      <th></th>\n",
       "      <th>160</th>\n",
       "      <th>170</th>\n",
       "      <th>180</th>\n",
       "      <th>190</th>\n",
       "      <th>1105</th>\n",
       "      <th>1162</th>\n",
       "      <th>1175</th>\n",
       "      <th>1182</th>\n",
       "      <th>1213</th>\n",
       "      <th>1276</th>\n",
       "      <th>...</th>\n",
       "      <th>2623</th>\n",
       "      <th>2131</th>\n",
       "      <th>2236</th>\n",
       "      <th>2546</th>\n",
       "      <th>2242</th>\n",
       "      <th>2169</th>\n",
       "      <th>2235</th>\n",
       "      <th>234</th>\n",
       "      <th>2608</th>\n",
       "      <th>2524</th>\n",
       "    </tr>\n",
       "  </thead>\n",
       "  <tbody>\n",
       "    <tr>\n",
       "      <th>utterance</th>\n",
       "      <td>It's just a privilege to watch your mind at work.</td>\n",
       "      <td>I don't think I'll be able to stop thinking ab...</td>\n",
       "      <td>Since it's not bee season, you can have my epi...</td>\n",
       "      <td>Lois Lane is falling, accelerating at an initi...</td>\n",
       "      <td>I'm just inferring this is a couch because the...</td>\n",
       "      <td>Sheldon, if you were a robot, and I knew and y...</td>\n",
       "      <td>If you're compiling a mix CD for a double suic...</td>\n",
       "      <td>No. The dark crescent-shaped patterns under yo...</td>\n",
       "      <td>How's this? \"Pleased to meet you, Dr. Gablehau...</td>\n",
       "      <td>Yeah, my parents felt that naming me Leonard a...</td>\n",
       "      <td>...</td>\n",
       "      <td>What do you know? Its a treat for the eyes and...</td>\n",
       "      <td>I really don't wanna sit with Allen Iverson ov...</td>\n",
       "      <td>Gee, if only she were one and had no idea what...</td>\n",
       "      <td>Oh sure, she was probably up all night excited...</td>\n",
       "      <td>Are you still enjoying your nap?</td>\n",
       "      <td>Hes not right for the part, and if I suggest h...</td>\n",
       "      <td>Oh yeah he has a caretaker his older brother, ...</td>\n",
       "      <td>Is it me or the greetings gone downhill around...</td>\n",
       "      <td>You are right, by saying nice, I am virtually ...</td>\n",
       "      <td>Yes and we are \"very\" excited about it.</td>\n",
       "    </tr>\n",
       "    <tr>\n",
       "      <th>speaker</th>\n",
       "      <td>SHELDON</td>\n",
       "      <td>PENNY</td>\n",
       "      <td>SHELDON</td>\n",
       "      <td>SHELDON</td>\n",
       "      <td>SHELDON</td>\n",
       "      <td>HOWARD</td>\n",
       "      <td>SHELDON</td>\n",
       "      <td>SHELDON</td>\n",
       "      <td>SHELDON</td>\n",
       "      <td>LEONARD</td>\n",
       "      <td>...</td>\n",
       "      <td>CHANDLER</td>\n",
       "      <td>CHANDLER</td>\n",
       "      <td>CHANDLER</td>\n",
       "      <td>CHANDLER</td>\n",
       "      <td>CHANDLER</td>\n",
       "      <td>CHANDLER</td>\n",
       "      <td>CHANDLER</td>\n",
       "      <td>CHANDLER</td>\n",
       "      <td>CHANDLER</td>\n",
       "      <td>CHANDLER</td>\n",
       "    </tr>\n",
       "    <tr>\n",
       "      <th>context</th>\n",
       "      <td>[I never would have identified the fingerprint...</td>\n",
       "      <td>[This is one of my favorite places to kick bac...</td>\n",
       "      <td>[Here we go. Pad thai, no peanuts., But does i...</td>\n",
       "      <td>[A marathon? How many Superman movies are ther...</td>\n",
       "      <td>[Great Caesar's ghost, look at this place., So...</td>\n",
       "      <td>[On the other hand, no arousal., None?, None.,...</td>\n",
       "      <td>[Oh, good Lord., God, that's a good song.]</td>\n",
       "      <td>[How do I look?, Could you be more specific?, ...</td>\n",
       "      <td>[You know, I am not going to enjoy this party....</td>\n",
       "      <td>[He switched over to high-energy radiation res...</td>\n",
       "      <td>...</td>\n",
       "      <td>[Chandler?, Hey! Ah!, What do you think?, I th...</td>\n",
       "      <td>[Wish I could switch with someone.]</td>\n",
       "      <td>[You can't go away this weekend, its Emma's bi...</td>\n",
       "      <td>[Hey, Hey, where's the birthday girl?, Oh she ...</td>\n",
       "      <td>[Okay?, Hi Emma, it's the year 2020.]</td>\n",
       "      <td>[What am I gonna do now?, Just pass the tape a...</td>\n",
       "      <td>[Helo! Anybody in there order a celebrity?, Wh...</td>\n",
       "      <td>[Hey, You son of a bitch!]</td>\n",
       "      <td>[Did I go to this school?, Hey, there's Missy ...</td>\n",
       "      <td>[Anyway, if you don't feel like being alone to...</td>\n",
       "    </tr>\n",
       "    <tr>\n",
       "      <th>context_speakers</th>\n",
       "      <td>[LEONARD, SHELDON]</td>\n",
       "      <td>[HOWARD, PENNY, HOWARD, HOWARD, HOWARD, PENNY,...</td>\n",
       "      <td>[LEONARD, HOWARD, LEONARD]</td>\n",
       "      <td>[PENNY, SHELDON, PENNY, SHELDON, SHELDON, PENN...</td>\n",
       "      <td>[SHELDON, LEONARD, SHELDON, SHELDON, SHELDON, ...</td>\n",
       "      <td>[PERSON, LEONARD, PERSON, LEONARD, PERSON, LEO...</td>\n",
       "      <td>[SHELDON, LEONARD]</td>\n",
       "      <td>[LEONARD, SHELDON, LEONARD]</td>\n",
       "      <td>[SHELDON, LEONARD, SHELDON, LEONARD, SHELDON, ...</td>\n",
       "      <td>[PERSON, PERSON, LEONARD, PERSON, LEONARD, PER...</td>\n",
       "      <td>...</td>\n",
       "      <td>[PHOEBE, CHANDLER, MONICA, CHANDLER]</td>\n",
       "      <td>[CHANDLER]</td>\n",
       "      <td>[RACHEL, MONICA, RACHEL]</td>\n",
       "      <td>[MONICA, CHANDLER, RACHEL]</td>\n",
       "      <td>[ROSS, CHANDLER]</td>\n",
       "      <td>[CHANDLER, RACHEL]</td>\n",
       "      <td>[JOEY, PERSON, CHANDLER, PERSON]</td>\n",
       "      <td>[CHANDLER, JOEY]</td>\n",
       "      <td>[CHANDLER, ROSS, CHANDLER, ROSS]</td>\n",
       "      <td>[ROSS]</td>\n",
       "    </tr>\n",
       "    <tr>\n",
       "      <th>show</th>\n",
       "      <td>BBT</td>\n",
       "      <td>BBT</td>\n",
       "      <td>BBT</td>\n",
       "      <td>BBT</td>\n",
       "      <td>BBT</td>\n",
       "      <td>BBT</td>\n",
       "      <td>BBT</td>\n",
       "      <td>BBT</td>\n",
       "      <td>BBT</td>\n",
       "      <td>BBT</td>\n",
       "      <td>...</td>\n",
       "      <td>FRIENDS</td>\n",
       "      <td>FRIENDS</td>\n",
       "      <td>FRIENDS</td>\n",
       "      <td>FRIENDS</td>\n",
       "      <td>FRIENDS</td>\n",
       "      <td>FRIENDS</td>\n",
       "      <td>FRIENDS</td>\n",
       "      <td>FRIENDS</td>\n",
       "      <td>FRIENDS</td>\n",
       "      <td>FRIENDS</td>\n",
       "    </tr>\n",
       "    <tr>\n",
       "      <th>sarcasm</th>\n",
       "      <td>True</td>\n",
       "      <td>True</td>\n",
       "      <td>False</td>\n",
       "      <td>False</td>\n",
       "      <td>True</td>\n",
       "      <td>False</td>\n",
       "      <td>True</td>\n",
       "      <td>True</td>\n",
       "      <td>True</td>\n",
       "      <td>True</td>\n",
       "      <td>...</td>\n",
       "      <td>True</td>\n",
       "      <td>False</td>\n",
       "      <td>True</td>\n",
       "      <td>True</td>\n",
       "      <td>True</td>\n",
       "      <td>True</td>\n",
       "      <td>False</td>\n",
       "      <td>True</td>\n",
       "      <td>True</td>\n",
       "      <td>True</td>\n",
       "    </tr>\n",
       "  </tbody>\n",
       "</table>\n",
       "<p>6 rows × 690 columns</p>\n",
       "</div>"
      ],
      "text/plain": [
       "                                                               160   \\\n",
       "utterance         It's just a privilege to watch your mind at work.   \n",
       "speaker                                                     SHELDON   \n",
       "context           [I never would have identified the fingerprint...   \n",
       "context_speakers                                 [LEONARD, SHELDON]   \n",
       "show                                                            BBT   \n",
       "sarcasm                                                        True   \n",
       "\n",
       "                                                               170   \\\n",
       "utterance         I don't think I'll be able to stop thinking ab...   \n",
       "speaker                                                       PENNY   \n",
       "context           [This is one of my favorite places to kick bac...   \n",
       "context_speakers  [HOWARD, PENNY, HOWARD, HOWARD, HOWARD, PENNY,...   \n",
       "show                                                            BBT   \n",
       "sarcasm                                                        True   \n",
       "\n",
       "                                                               180   \\\n",
       "utterance         Since it's not bee season, you can have my epi...   \n",
       "speaker                                                     SHELDON   \n",
       "context           [Here we go. Pad thai, no peanuts., But does i...   \n",
       "context_speakers                         [LEONARD, HOWARD, LEONARD]   \n",
       "show                                                            BBT   \n",
       "sarcasm                                                       False   \n",
       "\n",
       "                                                               190   \\\n",
       "utterance         Lois Lane is falling, accelerating at an initi...   \n",
       "speaker                                                     SHELDON   \n",
       "context           [A marathon? How many Superman movies are ther...   \n",
       "context_speakers  [PENNY, SHELDON, PENNY, SHELDON, SHELDON, PENN...   \n",
       "show                                                            BBT   \n",
       "sarcasm                                                       False   \n",
       "\n",
       "                                                               1105  \\\n",
       "utterance         I'm just inferring this is a couch because the...   \n",
       "speaker                                                     SHELDON   \n",
       "context           [Great Caesar's ghost, look at this place., So...   \n",
       "context_speakers  [SHELDON, LEONARD, SHELDON, SHELDON, SHELDON, ...   \n",
       "show                                                            BBT   \n",
       "sarcasm                                                        True   \n",
       "\n",
       "                                                               1162  \\\n",
       "utterance         Sheldon, if you were a robot, and I knew and y...   \n",
       "speaker                                                      HOWARD   \n",
       "context           [On the other hand, no arousal., None?, None.,...   \n",
       "context_speakers  [PERSON, LEONARD, PERSON, LEONARD, PERSON, LEO...   \n",
       "show                                                            BBT   \n",
       "sarcasm                                                       False   \n",
       "\n",
       "                                                               1175  \\\n",
       "utterance         If you're compiling a mix CD for a double suic...   \n",
       "speaker                                                     SHELDON   \n",
       "context                  [Oh, good Lord., God, that's a good song.]   \n",
       "context_speakers                                 [SHELDON, LEONARD]   \n",
       "show                                                            BBT   \n",
       "sarcasm                                                        True   \n",
       "\n",
       "                                                               1182  \\\n",
       "utterance         No. The dark crescent-shaped patterns under yo...   \n",
       "speaker                                                     SHELDON   \n",
       "context           [How do I look?, Could you be more specific?, ...   \n",
       "context_speakers                        [LEONARD, SHELDON, LEONARD]   \n",
       "show                                                            BBT   \n",
       "sarcasm                                                        True   \n",
       "\n",
       "                                                               1213  \\\n",
       "utterance         How's this? \"Pleased to meet you, Dr. Gablehau...   \n",
       "speaker                                                     SHELDON   \n",
       "context           [You know, I am not going to enjoy this party....   \n",
       "context_speakers  [SHELDON, LEONARD, SHELDON, LEONARD, SHELDON, ...   \n",
       "show                                                            BBT   \n",
       "sarcasm                                                        True   \n",
       "\n",
       "                                                               1276  ...  \\\n",
       "utterance         Yeah, my parents felt that naming me Leonard a...  ...   \n",
       "speaker                                                     LEONARD  ...   \n",
       "context           [He switched over to high-energy radiation res...  ...   \n",
       "context_speakers  [PERSON, PERSON, LEONARD, PERSON, LEONARD, PER...  ...   \n",
       "show                                                            BBT  ...   \n",
       "sarcasm                                                        True  ...   \n",
       "\n",
       "                                                               2623  \\\n",
       "utterance         What do you know? Its a treat for the eyes and...   \n",
       "speaker                                                    CHANDLER   \n",
       "context           [Chandler?, Hey! Ah!, What do you think?, I th...   \n",
       "context_speakers               [PHOEBE, CHANDLER, MONICA, CHANDLER]   \n",
       "show                                                        FRIENDS   \n",
       "sarcasm                                                        True   \n",
       "\n",
       "                                                               2131  \\\n",
       "utterance         I really don't wanna sit with Allen Iverson ov...   \n",
       "speaker                                                    CHANDLER   \n",
       "context                         [Wish I could switch with someone.]   \n",
       "context_speakers                                         [CHANDLER]   \n",
       "show                                                        FRIENDS   \n",
       "sarcasm                                                       False   \n",
       "\n",
       "                                                               2236  \\\n",
       "utterance         Gee, if only she were one and had no idea what...   \n",
       "speaker                                                    CHANDLER   \n",
       "context           [You can't go away this weekend, its Emma's bi...   \n",
       "context_speakers                           [RACHEL, MONICA, RACHEL]   \n",
       "show                                                        FRIENDS   \n",
       "sarcasm                                                        True   \n",
       "\n",
       "                                                               2546  \\\n",
       "utterance         Oh sure, she was probably up all night excited...   \n",
       "speaker                                                    CHANDLER   \n",
       "context           [Hey, Hey, where's the birthday girl?, Oh she ...   \n",
       "context_speakers                         [MONICA, CHANDLER, RACHEL]   \n",
       "show                                                        FRIENDS   \n",
       "sarcasm                                                        True   \n",
       "\n",
       "                                                   2242  \\\n",
       "utterance              Are you still enjoying your nap?   \n",
       "speaker                                        CHANDLER   \n",
       "context           [Okay?, Hi Emma, it's the year 2020.]   \n",
       "context_speakers                       [ROSS, CHANDLER]   \n",
       "show                                            FRIENDS   \n",
       "sarcasm                                            True   \n",
       "\n",
       "                                                               2169  \\\n",
       "utterance         Hes not right for the part, and if I suggest h...   \n",
       "speaker                                                    CHANDLER   \n",
       "context           [What am I gonna do now?, Just pass the tape a...   \n",
       "context_speakers                                 [CHANDLER, RACHEL]   \n",
       "show                                                        FRIENDS   \n",
       "sarcasm                                                        True   \n",
       "\n",
       "                                                               2235  \\\n",
       "utterance         Oh yeah he has a caretaker his older brother, ...   \n",
       "speaker                                                    CHANDLER   \n",
       "context           [Helo! Anybody in there order a celebrity?, Wh...   \n",
       "context_speakers                   [JOEY, PERSON, CHANDLER, PERSON]   \n",
       "show                                                        FRIENDS   \n",
       "sarcasm                                                       False   \n",
       "\n",
       "                                                               234   \\\n",
       "utterance         Is it me or the greetings gone downhill around...   \n",
       "speaker                                                    CHANDLER   \n",
       "context                                  [Hey, You son of a bitch!]   \n",
       "context_speakers                                   [CHANDLER, JOEY]   \n",
       "show                                                        FRIENDS   \n",
       "sarcasm                                                        True   \n",
       "\n",
       "                                                               2608  \\\n",
       "utterance         You are right, by saying nice, I am virtually ...   \n",
       "speaker                                                    CHANDLER   \n",
       "context           [Did I go to this school?, Hey, there's Missy ...   \n",
       "context_speakers                   [CHANDLER, ROSS, CHANDLER, ROSS]   \n",
       "show                                                        FRIENDS   \n",
       "sarcasm                                                        True   \n",
       "\n",
       "                                                               2524  \n",
       "utterance                   Yes and we are \"very\" excited about it.  \n",
       "speaker                                                    CHANDLER  \n",
       "context           [Anyway, if you don't feel like being alone to...  \n",
       "context_speakers                                             [ROSS]  \n",
       "show                                                        FRIENDS  \n",
       "sarcasm                                                        True  \n",
       "\n",
       "[6 rows x 690 columns]"
      ]
     },
     "execution_count": 11,
     "metadata": {},
     "output_type": "execute_result"
    }
   ],
   "source": [
    "mustard_dataset"
   ]
  },
  {
   "cell_type": "code",
   "execution_count": 12,
   "metadata": {},
   "outputs": [],
   "source": [
    "mustard_df = mustard_dataset.T"
   ]
  },
  {
   "cell_type": "code",
   "execution_count": 13,
   "metadata": {},
   "outputs": [
    {
     "data": {
      "text/html": [
       "<div>\n",
       "<style scoped>\n",
       "    .dataframe tbody tr th:only-of-type {\n",
       "        vertical-align: middle;\n",
       "    }\n",
       "\n",
       "    .dataframe tbody tr th {\n",
       "        vertical-align: top;\n",
       "    }\n",
       "\n",
       "    .dataframe thead th {\n",
       "        text-align: right;\n",
       "    }\n",
       "</style>\n",
       "<table border=\"1\" class=\"dataframe\">\n",
       "  <thead>\n",
       "    <tr style=\"text-align: right;\">\n",
       "      <th></th>\n",
       "      <th>utterance</th>\n",
       "      <th>speaker</th>\n",
       "      <th>context</th>\n",
       "      <th>context_speakers</th>\n",
       "      <th>show</th>\n",
       "      <th>sarcasm</th>\n",
       "    </tr>\n",
       "  </thead>\n",
       "  <tbody>\n",
       "    <tr>\n",
       "      <th>160</th>\n",
       "      <td>It's just a privilege to watch your mind at work.</td>\n",
       "      <td>SHELDON</td>\n",
       "      <td>[I never would have identified the fingerprint...</td>\n",
       "      <td>[LEONARD, SHELDON]</td>\n",
       "      <td>BBT</td>\n",
       "      <td>1</td>\n",
       "    </tr>\n",
       "    <tr>\n",
       "      <th>170</th>\n",
       "      <td>I don't think I'll be able to stop thinking ab...</td>\n",
       "      <td>PENNY</td>\n",
       "      <td>[This is one of my favorite places to kick bac...</td>\n",
       "      <td>[HOWARD, PENNY, HOWARD, HOWARD, HOWARD, PENNY,...</td>\n",
       "      <td>BBT</td>\n",
       "      <td>1</td>\n",
       "    </tr>\n",
       "    <tr>\n",
       "      <th>180</th>\n",
       "      <td>Since it's not bee season, you can have my epi...</td>\n",
       "      <td>SHELDON</td>\n",
       "      <td>[Here we go. Pad thai, no peanuts., But does i...</td>\n",
       "      <td>[LEONARD, HOWARD, LEONARD]</td>\n",
       "      <td>BBT</td>\n",
       "      <td>0</td>\n",
       "    </tr>\n",
       "    <tr>\n",
       "      <th>190</th>\n",
       "      <td>Lois Lane is falling, accelerating at an initi...</td>\n",
       "      <td>SHELDON</td>\n",
       "      <td>[A marathon? How many Superman movies are ther...</td>\n",
       "      <td>[PENNY, SHELDON, PENNY, SHELDON, SHELDON, PENN...</td>\n",
       "      <td>BBT</td>\n",
       "      <td>0</td>\n",
       "    </tr>\n",
       "    <tr>\n",
       "      <th>1105</th>\n",
       "      <td>I'm just inferring this is a couch because the...</td>\n",
       "      <td>SHELDON</td>\n",
       "      <td>[Great Caesar's ghost, look at this place., So...</td>\n",
       "      <td>[SHELDON, LEONARD, SHELDON, SHELDON, SHELDON, ...</td>\n",
       "      <td>BBT</td>\n",
       "      <td>1</td>\n",
       "    </tr>\n",
       "  </tbody>\n",
       "</table>\n",
       "</div>"
      ],
      "text/plain": [
       "                                              utterance  speaker  \\\n",
       "160   It's just a privilege to watch your mind at work.  SHELDON   \n",
       "170   I don't think I'll be able to stop thinking ab...    PENNY   \n",
       "180   Since it's not bee season, you can have my epi...  SHELDON   \n",
       "190   Lois Lane is falling, accelerating at an initi...  SHELDON   \n",
       "1105  I'm just inferring this is a couch because the...  SHELDON   \n",
       "\n",
       "                                                context  \\\n",
       "160   [I never would have identified the fingerprint...   \n",
       "170   [This is one of my favorite places to kick bac...   \n",
       "180   [Here we go. Pad thai, no peanuts., But does i...   \n",
       "190   [A marathon? How many Superman movies are ther...   \n",
       "1105  [Great Caesar's ghost, look at this place., So...   \n",
       "\n",
       "                                       context_speakers show  sarcasm  \n",
       "160                                  [LEONARD, SHELDON]  BBT        1  \n",
       "170   [HOWARD, PENNY, HOWARD, HOWARD, HOWARD, PENNY,...  BBT        1  \n",
       "180                          [LEONARD, HOWARD, LEONARD]  BBT        0  \n",
       "190   [PENNY, SHELDON, PENNY, SHELDON, SHELDON, PENN...  BBT        0  \n",
       "1105  [SHELDON, LEONARD, SHELDON, SHELDON, SHELDON, ...  BBT        1  "
      ]
     },
     "execution_count": 13,
     "metadata": {},
     "output_type": "execute_result"
    }
   ],
   "source": [
    "mustard_df['sarcasm'] = mustard_df['sarcasm'].astype(int)\n",
    "mustard_df.head()"
   ]
  },
  {
   "cell_type": "code",
   "execution_count": 14,
   "metadata": {},
   "outputs": [],
   "source": [
    "mustard_df = distil_dataset(mustard_df,'utterance','sarcasm')"
   ]
  },
  {
   "cell_type": "code",
   "execution_count": 15,
   "metadata": {},
   "outputs": [
    {
     "name": "stdout",
     "output_type": "stream",
     "text": [
      "                                                text  labels\n",
      "0  It's just a privilege to watch your mind at work.       1\n",
      "1  I don't think I'll be able to stop thinking ab...       1\n",
      "2  Since it's not bee season, you can have my epi...       0\n",
      "3  Lois Lane is falling, accelerating at an initi...       0\n",
      "4  I'm just inferring this is a couch because the...       1\n",
      "(690, 2)\n"
     ]
    }
   ],
   "source": [
    "print(mustard_df.head())\n",
    "print(mustard_df.shape)"
   ]
  },
  {
   "cell_type": "code",
   "execution_count": 16,
   "metadata": {},
   "outputs": [
    {
     "data": {
      "text/html": [
       "<div>\n",
       "<style scoped>\n",
       "    .dataframe tbody tr th:only-of-type {\n",
       "        vertical-align: middle;\n",
       "    }\n",
       "\n",
       "    .dataframe tbody tr th {\n",
       "        vertical-align: top;\n",
       "    }\n",
       "\n",
       "    .dataframe thead th {\n",
       "        text-align: right;\n",
       "    }\n",
       "</style>\n",
       "<table border=\"1\" class=\"dataframe\">\n",
       "  <thead>\n",
       "    <tr style=\"text-align: right;\">\n",
       "      <th></th>\n",
       "      <th>is_sarcastic</th>\n",
       "      <th>headline</th>\n",
       "      <th>article_link</th>\n",
       "    </tr>\n",
       "  </thead>\n",
       "  <tbody>\n",
       "    <tr>\n",
       "      <th>0</th>\n",
       "      <td>1</td>\n",
       "      <td>thirtysomething scientists unveil doomsday clo...</td>\n",
       "      <td>https://www.theonion.com/thirtysomething-scien...</td>\n",
       "    </tr>\n",
       "    <tr>\n",
       "      <th>1</th>\n",
       "      <td>0</td>\n",
       "      <td>dem rep. totally nails why congress is falling...</td>\n",
       "      <td>https://www.huffingtonpost.com/entry/donna-edw...</td>\n",
       "    </tr>\n",
       "    <tr>\n",
       "      <th>2</th>\n",
       "      <td>0</td>\n",
       "      <td>eat your veggies: 9 deliciously different recipes</td>\n",
       "      <td>https://www.huffingtonpost.com/entry/eat-your-...</td>\n",
       "    </tr>\n",
       "    <tr>\n",
       "      <th>3</th>\n",
       "      <td>1</td>\n",
       "      <td>inclement weather prevents liar from getting t...</td>\n",
       "      <td>https://local.theonion.com/inclement-weather-p...</td>\n",
       "    </tr>\n",
       "    <tr>\n",
       "      <th>4</th>\n",
       "      <td>1</td>\n",
       "      <td>mother comes pretty close to using word 'strea...</td>\n",
       "      <td>https://www.theonion.com/mother-comes-pretty-c...</td>\n",
       "    </tr>\n",
       "    <tr>\n",
       "      <th>...</th>\n",
       "      <td>...</td>\n",
       "      <td>...</td>\n",
       "      <td>...</td>\n",
       "    </tr>\n",
       "    <tr>\n",
       "      <th>28614</th>\n",
       "      <td>1</td>\n",
       "      <td>jews to celebrate rosh hashasha or something</td>\n",
       "      <td>https://www.theonion.com/jews-to-celebrate-ros...</td>\n",
       "    </tr>\n",
       "    <tr>\n",
       "      <th>28615</th>\n",
       "      <td>1</td>\n",
       "      <td>internal affairs investigator disappointed con...</td>\n",
       "      <td>https://local.theonion.com/internal-affairs-in...</td>\n",
       "    </tr>\n",
       "    <tr>\n",
       "      <th>28616</th>\n",
       "      <td>0</td>\n",
       "      <td>the most beautiful acceptance speech this week...</td>\n",
       "      <td>https://www.huffingtonpost.com/entry/andrew-ah...</td>\n",
       "    </tr>\n",
       "    <tr>\n",
       "      <th>28617</th>\n",
       "      <td>1</td>\n",
       "      <td>mars probe destroyed by orbiting spielberg-gat...</td>\n",
       "      <td>https://www.theonion.com/mars-probe-destroyed-...</td>\n",
       "    </tr>\n",
       "    <tr>\n",
       "      <th>28618</th>\n",
       "      <td>1</td>\n",
       "      <td>dad clarifies this not a food stop</td>\n",
       "      <td>https://www.theonion.com/dad-clarifies-this-no...</td>\n",
       "    </tr>\n",
       "  </tbody>\n",
       "</table>\n",
       "<p>28619 rows × 3 columns</p>\n",
       "</div>"
      ],
      "text/plain": [
       "       is_sarcastic                                           headline  \\\n",
       "0                 1  thirtysomething scientists unveil doomsday clo...   \n",
       "1                 0  dem rep. totally nails why congress is falling...   \n",
       "2                 0  eat your veggies: 9 deliciously different recipes   \n",
       "3                 1  inclement weather prevents liar from getting t...   \n",
       "4                 1  mother comes pretty close to using word 'strea...   \n",
       "...             ...                                                ...   \n",
       "28614             1       jews to celebrate rosh hashasha or something   \n",
       "28615             1  internal affairs investigator disappointed con...   \n",
       "28616             0  the most beautiful acceptance speech this week...   \n",
       "28617             1  mars probe destroyed by orbiting spielberg-gat...   \n",
       "28618             1                 dad clarifies this not a food stop   \n",
       "\n",
       "                                            article_link  \n",
       "0      https://www.theonion.com/thirtysomething-scien...  \n",
       "1      https://www.huffingtonpost.com/entry/donna-edw...  \n",
       "2      https://www.huffingtonpost.com/entry/eat-your-...  \n",
       "3      https://local.theonion.com/inclement-weather-p...  \n",
       "4      https://www.theonion.com/mother-comes-pretty-c...  \n",
       "...                                                  ...  \n",
       "28614  https://www.theonion.com/jews-to-celebrate-ros...  \n",
       "28615  https://local.theonion.com/internal-affairs-in...  \n",
       "28616  https://www.huffingtonpost.com/entry/andrew-ah...  \n",
       "28617  https://www.theonion.com/mars-probe-destroyed-...  \n",
       "28618  https://www.theonion.com/dad-clarifies-this-no...  \n",
       "\n",
       "[28619 rows x 3 columns]"
      ]
     },
     "execution_count": 16,
     "metadata": {},
     "output_type": "execute_result"
    }
   ],
   "source": [
    "headlines_df"
   ]
  },
  {
   "cell_type": "code",
   "execution_count": 17,
   "metadata": {},
   "outputs": [],
   "source": [
    "headlines_df = distil_dataset(headlines_df,'headline','is_sarcastic')"
   ]
  },
  {
   "cell_type": "code",
   "execution_count": 18,
   "metadata": {},
   "outputs": [
    {
     "name": "stdout",
     "output_type": "stream",
     "text": [
      "                                                text  labels\n",
      "0  thirtysomething scientists unveil doomsday clo...       1\n",
      "1  dem rep. totally nails why congress is falling...       0\n",
      "2  eat your veggies: 9 deliciously different recipes       0\n",
      "3  inclement weather prevents liar from getting t...       1\n",
      "4  mother comes pretty close to using word 'strea...       1\n",
      "(28619, 2)\n"
     ]
    }
   ],
   "source": [
    "print(headlines_df.head())\n",
    "print(headlines_df.shape)"
   ]
  },
  {
   "cell_type": "code",
   "execution_count": 19,
   "metadata": {},
   "outputs": [
    {
     "data": {
      "text/html": [
       "<div>\n",
       "<style scoped>\n",
       "    .dataframe tbody tr th:only-of-type {\n",
       "        vertical-align: middle;\n",
       "    }\n",
       "\n",
       "    .dataframe tbody tr th {\n",
       "        vertical-align: top;\n",
       "    }\n",
       "\n",
       "    .dataframe thead th {\n",
       "        text-align: right;\n",
       "    }\n",
       "</style>\n",
       "<table border=\"1\" class=\"dataframe\">\n",
       "  <thead>\n",
       "    <tr style=\"text-align: right;\">\n",
       "      <th></th>\n",
       "      <th>label</th>\n",
       "      <th>comment</th>\n",
       "      <th>author</th>\n",
       "      <th>subreddit</th>\n",
       "      <th>score</th>\n",
       "      <th>ups</th>\n",
       "      <th>downs</th>\n",
       "      <th>date</th>\n",
       "      <th>created_utc</th>\n",
       "      <th>parent_comment</th>\n",
       "    </tr>\n",
       "  </thead>\n",
       "  <tbody>\n",
       "    <tr>\n",
       "      <th>0</th>\n",
       "      <td>0</td>\n",
       "      <td>NC and NH.</td>\n",
       "      <td>Trumpbart</td>\n",
       "      <td>politics</td>\n",
       "      <td>2.0</td>\n",
       "      <td>-1.0</td>\n",
       "      <td>-1.0</td>\n",
       "      <td>2016-10</td>\n",
       "      <td>16-10-16 23:55</td>\n",
       "      <td>Yeah, I get that argument. At this point, I'd ...</td>\n",
       "    </tr>\n",
       "    <tr>\n",
       "      <th>1</th>\n",
       "      <td>0</td>\n",
       "      <td>You do know west teams play against west teams...</td>\n",
       "      <td>Shbshb906</td>\n",
       "      <td>nba</td>\n",
       "      <td>-4.0</td>\n",
       "      <td>-1.0</td>\n",
       "      <td>-1.0</td>\n",
       "      <td>2016-11</td>\n",
       "      <td>01-11-16 0:24</td>\n",
       "      <td>The blazers and Mavericks (The wests 5 and 6 s...</td>\n",
       "    </tr>\n",
       "    <tr>\n",
       "      <th>2</th>\n",
       "      <td>0</td>\n",
       "      <td>They were underdogs earlier today, but since G...</td>\n",
       "      <td>Creepeth</td>\n",
       "      <td>nfl</td>\n",
       "      <td>3.0</td>\n",
       "      <td>3.0</td>\n",
       "      <td>0.0</td>\n",
       "      <td>2016-09</td>\n",
       "      <td>22-09-16 21:45</td>\n",
       "      <td>They're favored to win.</td>\n",
       "    </tr>\n",
       "    <tr>\n",
       "      <th>3</th>\n",
       "      <td>0</td>\n",
       "      <td>This meme isn't funny none of the \"new york ni...</td>\n",
       "      <td>icebrotha</td>\n",
       "      <td>BlackPeopleTwitter</td>\n",
       "      <td>-8.0</td>\n",
       "      <td>-1.0</td>\n",
       "      <td>-1.0</td>\n",
       "      <td>2016-10</td>\n",
       "      <td>18-10-16 21:03</td>\n",
       "      <td>deadass don't kill my buzz</td>\n",
       "    </tr>\n",
       "    <tr>\n",
       "      <th>4</th>\n",
       "      <td>0</td>\n",
       "      <td>I could use one of those tools.</td>\n",
       "      <td>cush2push</td>\n",
       "      <td>MaddenUltimateTeam</td>\n",
       "      <td>6.0</td>\n",
       "      <td>-1.0</td>\n",
       "      <td>-1.0</td>\n",
       "      <td>2016-12</td>\n",
       "      <td>30-12-16 17:00</td>\n",
       "      <td>Yep can confirm I saw the tool they use for th...</td>\n",
       "    </tr>\n",
       "    <tr>\n",
       "      <th>...</th>\n",
       "      <td>...</td>\n",
       "      <td>...</td>\n",
       "      <td>...</td>\n",
       "      <td>...</td>\n",
       "      <td>...</td>\n",
       "      <td>...</td>\n",
       "      <td>...</td>\n",
       "      <td>...</td>\n",
       "      <td>...</td>\n",
       "      <td>...</td>\n",
       "    </tr>\n",
       "    <tr>\n",
       "      <th>1010822</th>\n",
       "      <td>1</td>\n",
       "      <td>I'm sure that Iran and N. Korea have the techn...</td>\n",
       "      <td>TwarkMain</td>\n",
       "      <td>reddit.com</td>\n",
       "      <td>2.0</td>\n",
       "      <td>2.0</td>\n",
       "      <td>0.0</td>\n",
       "      <td>2009-04</td>\n",
       "      <td>25-04-09 0:47</td>\n",
       "      <td>No one is calling this an engineered pathogen,...</td>\n",
       "    </tr>\n",
       "    <tr>\n",
       "      <th>1010823</th>\n",
       "      <td>1</td>\n",
       "      <td>whatever you do, don't vote green!</td>\n",
       "      <td>BCHarvey</td>\n",
       "      <td>climate</td>\n",
       "      <td>1.0</td>\n",
       "      <td>1.0</td>\n",
       "      <td>0.0</td>\n",
       "      <td>2009-05</td>\n",
       "      <td>14-05-09 22:27</td>\n",
       "      <td>In a move typical of their recent do-nothing a...</td>\n",
       "    </tr>\n",
       "    <tr>\n",
       "      <th>1010824</th>\n",
       "      <td>1</td>\n",
       "      <td>Perhaps this is an atheist conspiracy to make ...</td>\n",
       "      <td>rebelcommander</td>\n",
       "      <td>atheism</td>\n",
       "      <td>1.0</td>\n",
       "      <td>1.0</td>\n",
       "      <td>0.0</td>\n",
       "      <td>2009-01</td>\n",
       "      <td>11-01-09 0:22</td>\n",
       "      <td>Screw the Disabled--I've got to get to Church ...</td>\n",
       "    </tr>\n",
       "    <tr>\n",
       "      <th>1010825</th>\n",
       "      <td>1</td>\n",
       "      <td>The Slavs got their own country - it is called...</td>\n",
       "      <td>catsi</td>\n",
       "      <td>worldnews</td>\n",
       "      <td>1.0</td>\n",
       "      <td>1.0</td>\n",
       "      <td>0.0</td>\n",
       "      <td>2009-01</td>\n",
       "      <td>23-01-09 21:12</td>\n",
       "      <td>I've always been unsettled by that. I hear a l...</td>\n",
       "    </tr>\n",
       "    <tr>\n",
       "      <th>1010826</th>\n",
       "      <td>1</td>\n",
       "      <td>values, as in capitalism .. there is good mone...</td>\n",
       "      <td>frogking</td>\n",
       "      <td>politics</td>\n",
       "      <td>2.0</td>\n",
       "      <td>2.0</td>\n",
       "      <td>0.0</td>\n",
       "      <td>2009-01</td>\n",
       "      <td>24-01-09 6:20</td>\n",
       "      <td>Why do the people who make our laws seem unabl...</td>\n",
       "    </tr>\n",
       "  </tbody>\n",
       "</table>\n",
       "<p>1010827 rows × 10 columns</p>\n",
       "</div>"
      ],
      "text/plain": [
       "        label                                            comment  \\\n",
       "0           0                                         NC and NH.   \n",
       "1           0  You do know west teams play against west teams...   \n",
       "2           0  They were underdogs earlier today, but since G...   \n",
       "3           0  This meme isn't funny none of the \"new york ni...   \n",
       "4           0                    I could use one of those tools.   \n",
       "...       ...                                                ...   \n",
       "1010822     1  I'm sure that Iran and N. Korea have the techn...   \n",
       "1010823     1                 whatever you do, don't vote green!   \n",
       "1010824     1  Perhaps this is an atheist conspiracy to make ...   \n",
       "1010825     1  The Slavs got their own country - it is called...   \n",
       "1010826     1  values, as in capitalism .. there is good mone...   \n",
       "\n",
       "                 author           subreddit  score  ups  downs     date  \\\n",
       "0             Trumpbart            politics    2.0 -1.0   -1.0  2016-10   \n",
       "1             Shbshb906                 nba   -4.0 -1.0   -1.0  2016-11   \n",
       "2              Creepeth                 nfl    3.0  3.0    0.0  2016-09   \n",
       "3             icebrotha  BlackPeopleTwitter   -8.0 -1.0   -1.0  2016-10   \n",
       "4             cush2push  MaddenUltimateTeam    6.0 -1.0   -1.0  2016-12   \n",
       "...                 ...                 ...    ...  ...    ...      ...   \n",
       "1010822       TwarkMain          reddit.com    2.0  2.0    0.0  2009-04   \n",
       "1010823        BCHarvey             climate    1.0  1.0    0.0  2009-05   \n",
       "1010824  rebelcommander             atheism    1.0  1.0    0.0  2009-01   \n",
       "1010825           catsi           worldnews    1.0  1.0    0.0  2009-01   \n",
       "1010826        frogking            politics    2.0  2.0    0.0  2009-01   \n",
       "\n",
       "            created_utc                                     parent_comment  \n",
       "0        16-10-16 23:55  Yeah, I get that argument. At this point, I'd ...  \n",
       "1         01-11-16 0:24  The blazers and Mavericks (The wests 5 and 6 s...  \n",
       "2        22-09-16 21:45                            They're favored to win.  \n",
       "3        18-10-16 21:03                         deadass don't kill my buzz  \n",
       "4        30-12-16 17:00  Yep can confirm I saw the tool they use for th...  \n",
       "...                 ...                                                ...  \n",
       "1010822   25-04-09 0:47  No one is calling this an engineered pathogen,...  \n",
       "1010823  14-05-09 22:27  In a move typical of their recent do-nothing a...  \n",
       "1010824   11-01-09 0:22  Screw the Disabled--I've got to get to Church ...  \n",
       "1010825  23-01-09 21:12  I've always been unsettled by that. I hear a l...  \n",
       "1010826   24-01-09 6:20  Why do the people who make our laws seem unabl...  \n",
       "\n",
       "[1010827 rows x 10 columns]"
      ]
     },
     "execution_count": 19,
     "metadata": {},
     "output_type": "execute_result"
    }
   ],
   "source": [
    "reddit_df"
   ]
  },
  {
   "cell_type": "code",
   "execution_count": 20,
   "metadata": {},
   "outputs": [],
   "source": [
    "reddit_df = distil_dataset(reddit_df,'comment','label')"
   ]
  },
  {
   "cell_type": "code",
   "execution_count": 21,
   "metadata": {},
   "outputs": [
    {
     "name": "stdout",
     "output_type": "stream",
     "text": [
      "                                                text labels\n",
      "0                                         NC and NH.      0\n",
      "1  You do know west teams play against west teams...      0\n",
      "2  They were underdogs earlier today, but since G...      0\n",
      "3  This meme isn't funny none of the \"new york ni...      0\n",
      "4                    I could use one of those tools.      0\n",
      "(1010827, 2)\n"
     ]
    }
   ],
   "source": [
    "print(reddit_df.head())\n",
    "print(reddit_df.shape)"
   ]
  },
  {
   "cell_type": "code",
   "execution_count": 22,
   "metadata": {},
   "outputs": [],
   "source": [
    "total_df = pd.concat([mustard_df,headlines_df,reddit_df])"
   ]
  },
  {
   "cell_type": "code",
   "execution_count": 23,
   "metadata": {},
   "outputs": [
    {
     "data": {
      "text/html": [
       "<div>\n",
       "<style scoped>\n",
       "    .dataframe tbody tr th:only-of-type {\n",
       "        vertical-align: middle;\n",
       "    }\n",
       "\n",
       "    .dataframe tbody tr th {\n",
       "        vertical-align: top;\n",
       "    }\n",
       "\n",
       "    .dataframe thead th {\n",
       "        text-align: right;\n",
       "    }\n",
       "</style>\n",
       "<table border=\"1\" class=\"dataframe\">\n",
       "  <thead>\n",
       "    <tr style=\"text-align: right;\">\n",
       "      <th></th>\n",
       "      <th>text</th>\n",
       "      <th>labels</th>\n",
       "    </tr>\n",
       "  </thead>\n",
       "  <tbody>\n",
       "    <tr>\n",
       "      <th>0</th>\n",
       "      <td>It's just a privilege to watch your mind at work.</td>\n",
       "      <td>1</td>\n",
       "    </tr>\n",
       "    <tr>\n",
       "      <th>1</th>\n",
       "      <td>I don't think I'll be able to stop thinking ab...</td>\n",
       "      <td>1</td>\n",
       "    </tr>\n",
       "    <tr>\n",
       "      <th>2</th>\n",
       "      <td>Since it's not bee season, you can have my epi...</td>\n",
       "      <td>0</td>\n",
       "    </tr>\n",
       "    <tr>\n",
       "      <th>3</th>\n",
       "      <td>Lois Lane is falling, accelerating at an initi...</td>\n",
       "      <td>0</td>\n",
       "    </tr>\n",
       "    <tr>\n",
       "      <th>4</th>\n",
       "      <td>I'm just inferring this is a couch because the...</td>\n",
       "      <td>1</td>\n",
       "    </tr>\n",
       "    <tr>\n",
       "      <th>...</th>\n",
       "      <td>...</td>\n",
       "      <td>...</td>\n",
       "    </tr>\n",
       "    <tr>\n",
       "      <th>1010822</th>\n",
       "      <td>I'm sure that Iran and N. Korea have the techn...</td>\n",
       "      <td>1</td>\n",
       "    </tr>\n",
       "    <tr>\n",
       "      <th>1010823</th>\n",
       "      <td>whatever you do, don't vote green!</td>\n",
       "      <td>1</td>\n",
       "    </tr>\n",
       "    <tr>\n",
       "      <th>1010824</th>\n",
       "      <td>Perhaps this is an atheist conspiracy to make ...</td>\n",
       "      <td>1</td>\n",
       "    </tr>\n",
       "    <tr>\n",
       "      <th>1010825</th>\n",
       "      <td>The Slavs got their own country - it is called...</td>\n",
       "      <td>1</td>\n",
       "    </tr>\n",
       "    <tr>\n",
       "      <th>1010826</th>\n",
       "      <td>values, as in capitalism .. there is good mone...</td>\n",
       "      <td>1</td>\n",
       "    </tr>\n",
       "  </tbody>\n",
       "</table>\n",
       "<p>1040136 rows × 2 columns</p>\n",
       "</div>"
      ],
      "text/plain": [
       "                                                      text labels\n",
       "0        It's just a privilege to watch your mind at work.      1\n",
       "1        I don't think I'll be able to stop thinking ab...      1\n",
       "2        Since it's not bee season, you can have my epi...      0\n",
       "3        Lois Lane is falling, accelerating at an initi...      0\n",
       "4        I'm just inferring this is a couch because the...      1\n",
       "...                                                    ...    ...\n",
       "1010822  I'm sure that Iran and N. Korea have the techn...      1\n",
       "1010823                 whatever you do, don't vote green!      1\n",
       "1010824  Perhaps this is an atheist conspiracy to make ...      1\n",
       "1010825  The Slavs got their own country - it is called...      1\n",
       "1010826  values, as in capitalism .. there is good mone...      1\n",
       "\n",
       "[1040136 rows x 2 columns]"
      ]
     },
     "execution_count": 23,
     "metadata": {},
     "output_type": "execute_result"
    }
   ],
   "source": [
    "total_df"
   ]
  },
  {
   "cell_type": "code",
   "execution_count": 24,
   "metadata": {},
   "outputs": [
    {
     "data": {
      "text/plain": [
       "42694"
      ]
     },
     "execution_count": 24,
     "metadata": {},
     "output_type": "execute_result"
    }
   ],
   "source": [
    "total_df.duplicated().sum()"
   ]
  },
  {
   "cell_type": "code",
   "execution_count": 25,
   "metadata": {},
   "outputs": [],
   "source": [
    "total_df.drop_duplicates(inplace=True)"
   ]
  },
  {
   "cell_type": "code",
   "execution_count": 26,
   "metadata": {},
   "outputs": [
    {
     "data": {
      "text/plain": [
       "text      4\n",
       "labels    0\n",
       "dtype: int64"
      ]
     },
     "execution_count": 26,
     "metadata": {},
     "output_type": "execute_result"
    }
   ],
   "source": [
    "total_df['text'].replace('', np.nan, inplace=True)\n",
    "total_df.isnull().sum()"
   ]
  },
  {
   "cell_type": "code",
   "execution_count": 27,
   "metadata": {},
   "outputs": [],
   "source": [
    "total_df.dropna(inplace=True)"
   ]
  },
  {
   "cell_type": "code",
   "execution_count": 28,
   "metadata": {},
   "outputs": [],
   "source": [
    "classes = get_classes_count(total_df['labels'])"
   ]
  },
  {
   "cell_type": "code",
   "execution_count": 29,
   "metadata": {},
   "outputs": [
    {
     "data": {
      "text/plain": [
       "[{0: 468494}, {1: 464788}, {2: 32665}, {3: 31491}]"
      ]
     },
     "execution_count": 29,
     "metadata": {},
     "output_type": "execute_result"
    }
   ],
   "source": [
    "classes"
   ]
  },
  {
   "cell_type": "code",
   "execution_count": 30,
   "metadata": {},
   "outputs": [
    {
     "data": {
      "text/plain": [
       "array([1, 0, '1', '0'], dtype=object)"
      ]
     },
     "execution_count": 30,
     "metadata": {},
     "output_type": "execute_result"
    }
   ],
   "source": [
    "total_df['labels'].unique()"
   ]
  },
  {
   "cell_type": "code",
   "execution_count": 31,
   "metadata": {},
   "outputs": [],
   "source": [
    "total_df['labels'] = [int(label) for label in total_df['labels']]"
   ]
  },
  {
   "cell_type": "code",
   "execution_count": 32,
   "metadata": {},
   "outputs": [
    {
     "data": {
      "text/plain": [
       "array([1, 0], dtype=int64)"
      ]
     },
     "execution_count": 32,
     "metadata": {},
     "output_type": "execute_result"
    }
   ],
   "source": [
    "total_df['labels'].unique()"
   ]
  },
  {
   "cell_type": "code",
   "execution_count": 33,
   "metadata": {},
   "outputs": [
    {
     "data": {
      "text/plain": [
       "[{0: 501159}, {1: 496279}]"
      ]
     },
     "execution_count": 33,
     "metadata": {},
     "output_type": "execute_result"
    }
   ],
   "source": [
    "classes = get_classes_count(total_df['labels'])\n",
    "\n",
    "classes"
   ]
  },
  {
   "cell_type": "code",
   "execution_count": 34,
   "metadata": {},
   "outputs": [
    {
     "data": {
      "image/png": "[encoded data removed]",
      "text/plain": [
       "<Figure size 432x288 with 1 Axes>"
      ]
     },
     "metadata": {},
     "output_type": "display_data"
    }
   ],
   "source": [
    "visualize_ratings_pie(total_df['labels'], use_dict = classes)"
   ]
  },
  {
   "attachments": {},
   "cell_type": "markdown",
   "metadata": {},
   "source": [
    "## 3. Separate Data Into Chunks, and Save as CSVs"
   ]
  },
  {
   "cell_type": "code",
   "execution_count": 35,
   "metadata": {},
   "outputs": [
    {
     "data": {
      "text/plain": [
       "(997438, 2)"
      ]
     },
     "execution_count": 35,
     "metadata": {},
     "output_type": "execute_result"
    }
   ],
   "source": [
    "total_df.shape"
   ]
  },
  {
   "cell_type": "code",
   "execution_count": 36,
   "metadata": {},
   "outputs": [],
   "source": [
    "test = 'this is a test. I hope this is working correctly.'"
   ]
  },
  {
   "attachments": {},
   "cell_type": "markdown",
   "metadata": {},
   "source": [
    "this be a test i hope this be work correctly ==> Lemmatizer\n",
    "\n",
    "thi be a test i hope thi be work correctli ==> Lemmatizer + Stemmer"
   ]
  },
  {
   "cell_type": "code",
   "execution_count": 39,
   "metadata": {},
   "outputs": [
    {
     "data": {
      "text/plain": [
       "'test hope work correctly'"
      ]
     },
     "execution_count": 39,
     "metadata": {},
     "output_type": "execute_result"
    }
   ],
   "source": [
    "process_corpus(remove_stop_words(test))"
   ]
  },
  {
   "cell_type": "code",
   "execution_count": 38,
   "metadata": {},
   "outputs": [],
   "source": [
    "def split_data(total_df):\n",
    "    data_rows = total_df.shape[0]\n",
    "    data_chunks = []\n",
    "    CHUNKS_COUNT = 10\n",
    "    CHUNK_SIZE = math.ceil(data_rows / CHUNKS_COUNT)\n",
    "    start_slice = 0\n",
    "    chunk_slice = CHUNK_SIZE\n",
    "\n",
    "    print(CHUNKS_COUNT)\n",
    "    print(CHUNK_SIZE)\n",
    "    print(start_slice)\n",
    "    print(chunk_slice)\n",
    "\n",
    "    for i in range(CHUNKS_COUNT):\n",
    "        data_chunks.append(create_chunk(total_df,start_slice,chunk_slice))\n",
    "        start_slice += CHUNK_SIZE\n",
    "        chunk_slice += CHUNK_SIZE\n",
    "    return data_chunks"
   ]
  },
  {
   "cell_type": "code",
   "execution_count": 39,
   "metadata": {},
   "outputs": [
    {
     "name": "stdout",
     "output_type": "stream",
     "text": [
      "10\n",
      "99744\n",
      "0\n",
      "99744\n"
     ]
    }
   ],
   "source": [
    "data_chunks = split_data(total_df)"
   ]
  },
  {
   "cell_type": "code",
   "execution_count": 40,
   "metadata": {},
   "outputs": [],
   "source": [
    "if not os.path.exists(DATASETS_DIR + 'sd_data_chunks'):\n",
    "    os.mkdir(DATASETS_DIR + 'sd_data_chunks')"
   ]
  },
  {
   "cell_type": "code",
   "execution_count": 41,
   "metadata": {},
   "outputs": [],
   "source": [
    "if not os.path.exists(DATASETS_DIR + 'preprocessed_sd_data_chunks'):\n",
    "    os.mkdir(DATASETS_DIR + 'preprocessed_sd_data_chunks')"
   ]
  },
  {
   "cell_type": "code",
   "execution_count": 42,
   "metadata": {},
   "outputs": [],
   "source": [
    "CHUNK_NAME = 'sd_chunk_'"
   ]
  },
  {
   "cell_type": "code",
   "execution_count": 43,
   "metadata": {},
   "outputs": [],
   "source": [
    "SAVED_CHUNKS_DIR = DATASETS_DIR + 'sd_data_chunks/' + CHUNK_NAME"
   ]
  },
  {
   "cell_type": "code",
   "execution_count": 44,
   "metadata": {},
   "outputs": [],
   "source": [
    "PREPROCESSED_SAVED_CHUNKS_DIR = DATASETS_DIR + 'preprocessed_sd_data_chunks/' + CHUNK_NAME"
   ]
  },
  {
   "cell_type": "code",
   "execution_count": 45,
   "metadata": {},
   "outputs": [],
   "source": [
    "for itr,chunk in enumerate(data_chunks):\n",
    "    chunk.to_csv(SAVED_CHUNKS_DIR + str(itr + 1) + '.csv',index=False)"
   ]
  },
  {
   "cell_type": "code",
   "execution_count": 46,
   "metadata": {},
   "outputs": [
    {
     "data": {
      "text/plain": [
       "(997438, 2)"
      ]
     },
     "execution_count": 46,
     "metadata": {},
     "output_type": "execute_result"
    }
   ],
   "source": [
    "all_dfs = []\n",
    "for i,chunk in enumerate(data_chunks):\n",
    "    all_dfs.append(pd.read_csv(SAVED_CHUNKS_DIR + str(i + 1) + \".csv\"))\n",
    "\n",
    "df_total = pd.concat(all_dfs)\n",
    "df_total.shape"
   ]
  },
  {
   "cell_type": "code",
   "execution_count": 47,
   "metadata": {},
   "outputs": [],
   "source": [
    "corpus = [process_corpus(text) for text in total_df['text']]"
   ]
  },
  {
   "cell_type": "code",
   "execution_count": 48,
   "metadata": {},
   "outputs": [],
   "source": [
    "total_df['text'] = corpus"
   ]
  },
  {
   "cell_type": "code",
   "execution_count": 49,
   "metadata": {},
   "outputs": [
    {
     "name": "stdout",
     "output_type": "stream",
     "text": [
      "10\n",
      "99744\n",
      "0\n",
      "99744\n"
     ]
    }
   ],
   "source": [
    "preprocessed_data_chunks = split_data(total_df)"
   ]
  },
  {
   "cell_type": "code",
   "execution_count": 50,
   "metadata": {},
   "outputs": [],
   "source": [
    "for itr,chunk in enumerate(preprocessed_data_chunks):\n",
    "    chunk.to_csv(PREPROCESSED_SAVED_CHUNKS_DIR + str(itr + 1) + '.csv',index=False)"
   ]
  },
  {
   "cell_type": "code",
   "execution_count": 51,
   "metadata": {},
   "outputs": [
    {
     "data": {
      "text/plain": [
       "(997438, 2)"
      ]
     },
     "execution_count": 51,
     "metadata": {},
     "output_type": "execute_result"
    }
   ],
   "source": [
    "all_dfs = []\n",
    "for i,chunk in enumerate(preprocessed_data_chunks):\n",
    "    all_dfs.append(pd.read_csv(SAVED_CHUNKS_DIR + str(i + 1) + \".csv\"))\n",
    "\n",
    "df_total_preprocessed = pd.concat(all_dfs)\n",
    "df_total.shape"
   ]
  },
  {
   "cell_type": "code",
   "execution_count": 56,
   "metadata": {},
   "outputs": [
    {
     "data": {
      "text/plain": [
       "True"
      ]
     },
     "execution_count": 56,
     "metadata": {},
     "output_type": "execute_result"
    }
   ],
   "source": [
    "df_total.shape == total_df.shape"
   ]
  },
  {
   "cell_type": "code",
   "execution_count": 53,
   "metadata": {},
   "outputs": [],
   "source": [
    "total_df.reset_index(inplace=True)\n",
    "total_df.drop('index',axis=1,inplace=True)\n",
    "df_total.reset_index(inplace=True)\n",
    "df_total.drop('index',axis=1,inplace=True)\n",
    "df_total_preprocessed.reset_index(inplace=True)\n",
    "df_total_preprocessed.drop('index',axis=1,inplace=True)"
   ]
  },
  {
   "cell_type": "code",
   "execution_count": 59,
   "metadata": {},
   "outputs": [
    {
     "data": {
      "text/plain": [
       "True"
      ]
     },
     "execution_count": 59,
     "metadata": {},
     "output_type": "execute_result"
    }
   ],
   "source": [
    "df_total.shape == df_total_preprocessed.shape"
   ]
  }
 ],
 "metadata": {
  "kernelspec": {
   "display_name": "Python 3",
   "language": "python",
   "name": "python3"
  },
  "language_info": {
   "codemirror_mode": {
    "name": "ipython",
    "version": 3
   },
   "file_extension": ".py",
   "mimetype": "text/x-python",
   "name": "python",
   "nbconvert_exporter": "python",
   "pygments_lexer": "ipython3",
   "version": "3.10.10"
  },
  "orig_nbformat": 4
 },
 "nbformat": 4,
 "nbformat_minor": 2
}
