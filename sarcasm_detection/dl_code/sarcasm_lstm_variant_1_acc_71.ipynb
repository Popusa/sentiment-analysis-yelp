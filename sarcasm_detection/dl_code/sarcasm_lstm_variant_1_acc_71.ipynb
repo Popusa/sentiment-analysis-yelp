{
 "cells": [
  {
   "cell_type": "code",
   "execution_count": 1,
   "metadata": {},
   "outputs": [],
   "source": [
    "VARIANT_NUM = 1"
   ]
  },
  {
   "cell_type": "markdown",
   "metadata": {},
   "source": [
    "# LSTM Model for Sarcasm Detection"
   ]
  },
  {
   "cell_type": "markdown",
   "metadata": {},
   "source": [
    "#### Goal of This File:\n",
    "\n",
    "##### 1. Import Libraries, Helper Functions, and Constants ==> Data Sourcing and Munging ==> Utility Functions ==> Loading the Data ==> Merging all Individual Files\n",
    "\n",
    "##### 2. Data Processing\n",
    "\n",
    "##### 3. Bidirectional LSTM\n",
    "\n",
    "##### 4. Conclusion ==> Results ==> Tensorboard"
   ]
  },
  {
   "cell_type": "markdown",
   "metadata": {},
   "source": [
    "## 1. Import Libraries, Helper Functions and Load Constants"
   ]
  },
  {
   "cell_type": "code",
   "execution_count": 2,
   "metadata": {
    "scrolled": false
   },
   "outputs": [
    {
     "name": "stdout",
     "output_type": "stream",
     "text": [
      "\u001b[33mWARNING: Running pip as the 'root' user can result in broken permissions and conflicting behaviour with the system package manager. It is recommended to use a virtual environment instead: https://pip.pypa.io/warnings/venv\u001b[0m\u001b[33m\r\n",
      "\u001b[0m\r\n",
      "\u001b[1m[\u001b[0m\u001b[34;49mnotice\u001b[0m\u001b[1;39;49m]\u001b[0m\u001b[39;49m A new release of pip is available: \u001b[0m\u001b[31;49m23.0.1\u001b[0m\u001b[39;49m -> \u001b[0m\u001b[32;49m23.1.2\u001b[0m\r\n",
      "\u001b[1m[\u001b[0m\u001b[34;49mnotice\u001b[0m\u001b[1;39;49m]\u001b[0m\u001b[39;49m To update, run: \u001b[0m\u001b[32;49mpython3 -m pip install --upgrade pip\u001b[0m\r\n"
     ]
    }
   ],
   "source": [
    "!pip install pandas numpy nltk scikit-learn wordcloud\\\n",
    "seaborn gensim tensorflow imblearn xgboost matplotlib unrar pyunpack more-itertools patool > /dev/null"
   ]
  },
  {
   "cell_type": "code",
   "execution_count": 3,
   "metadata": {},
   "outputs": [
    {
     "name": "stdout",
     "output_type": "stream",
     "text": [
      "Reading package lists... Done\n",
      "Building dependency tree       \n",
      "Reading state information... Done\n",
      "unrar is already the newest version (1:5.6.6-2build1).\n",
      "0 upgraded, 0 newly installed, 0 to remove and 61 not upgraded.\n",
      "Reading package lists... Done\n",
      "Building dependency tree       \n",
      "Reading state information... Done\n",
      "rar is already the newest version (2:5.5.0-1build1).\n",
      "0 upgraded, 0 newly installed, 0 to remove and 61 not upgraded.\n"
     ]
    }
   ],
   "source": [
    "VAST = True\n",
    "\n",
    "if VAST:\n",
    "    !sudo apt-get install unrar\n",
    "    !sudo apt-get install rar\n",
    "\n",
    "GDRIVE = True"
   ]
  },
  {
   "cell_type": "code",
   "execution_count": 4,
   "metadata": {},
   "outputs": [],
   "source": [
    "UTILS_URL = 'https://f005.backblazeb2.com/file/gp-support-files/archived_nlp_ai_utils.py'\n",
    "UPDATING_VALUES_URL = 'https://f005.backblazeb2.com/file/gp-support-files/archived_updating_values.py'\n",
    "ALL_LIBS_URL = 'https://f005.backblazeb2.com/file/gp-support-files/archived_all_libs_dl.py'\n",
    "CHUNKS_URLS_FILE_URL = 'https://f005.backblazeb2.com/file/gp-support-files/chunks_urls.py'\n",
    "\n",
    "UTILS_FILE_NAME = 'archived_nlp_ai_utils'\n",
    "UPDATING_VALUES_FILE_NAME = 'archived_updating_values'\n",
    "ALL_LIBS_FILE_NAME = 'archived_all_libs_dl'\n",
    "CHUNKS_URLS_FILE_NAME = 'sd_chunks_urls'\n",
    "\n",
    "DEP_FILE_EXT = '.py'"
   ]
  },
  {
   "cell_type": "code",
   "execution_count": 5,
   "metadata": {},
   "outputs": [],
   "source": [
    "import requests\n",
    "import os\n",
    "\n",
    "def get_dependencies(url,file_name,file_extension):\n",
    "    if os.path.exists(file_name + file_extension):\n",
    "        return print(file_name + \" already exists.\")\n",
    "    else:\n",
    "        print(f\"downloading {file_name}...\")\n",
    "        r = requests.get(url)\n",
    "        with open(file_name + file_extension, 'wb') as fd:\n",
    "            for chunk in r.iter_content():\n",
    "                fd.write(chunk)"
   ]
  },
  {
   "cell_type": "code",
   "execution_count": 6,
   "metadata": {},
   "outputs": [
    {
     "name": "stdout",
     "output_type": "stream",
     "text": [
      "archived_nlp_ai_utils already exists.\n",
      "archived_updating_values already exists.\n",
      "archived_all_libs_dl already exists.\n",
      "sd_chunks_urls already exists.\n"
     ]
    }
   ],
   "source": [
    "get_dependencies(UTILS_URL,UTILS_FILE_NAME,DEP_FILE_EXT)\n",
    "get_dependencies(UPDATING_VALUES_URL,UPDATING_VALUES_FILE_NAME,DEP_FILE_EXT)\n",
    "get_dependencies(ALL_LIBS_URL,ALL_LIBS_FILE_NAME,DEP_FILE_EXT)\n",
    "get_dependencies(CHUNKS_URLS_FILE_URL,CHUNKS_URLS_FILE_NAME,DEP_FILE_EXT)"
   ]
  },
  {
   "cell_type": "code",
   "execution_count": 7,
   "metadata": {},
   "outputs": [
    {
     "name": "stderr",
     "output_type": "stream",
     "text": [
      "[nltk_data] Downloading package punkt to /root/nltk_data...\n",
      "[nltk_data]   Package punkt is already up-to-date!\n",
      "[nltk_data] Downloading package stopwords to /root/nltk_data...\n",
      "[nltk_data]   Package stopwords is already up-to-date!\n",
      "[nltk_data] Downloading package averaged_perceptron_tagger to\n",
      "[nltk_data]     /root/nltk_data...\n",
      "[nltk_data]   Package averaged_perceptron_tagger is already up-to-\n",
      "[nltk_data]       date!\n",
      "[nltk_data] Downloading package wordnet to /root/nltk_data...\n",
      "[nltk_data]   Package wordnet is already up-to-date!\n",
      "2023-06-08 19:43:48.366025: I tensorflow/core/platform/cpu_feature_guard.cc:182] This TensorFlow binary is optimized to use available CPU instructions in performance-critical operations.\n",
      "To enable the following instructions: AVX2 FMA, in other operations, rebuild TensorFlow with the appropriate compiler flags.\n"
     ]
    }
   ],
   "source": [
    "from archived_nlp_ai_utils import *\n",
    "from sd_chunks_urls import SD_CHUNKS_URLS\n",
    "from archived_updating_values import *"
   ]
  },
  {
   "cell_type": "code",
   "execution_count": 63,
   "metadata": {},
   "outputs": [],
   "source": [
    "TF_ENABLE_ONEDNN_OPTS = 0\n",
    "os.environ['TF_CPP_MIN_LOG_LEVEL'] = '2'\n",
    "DATA_URLS = SD_CHUNKS_URLS\n",
    "GLOVE_URL = 'https://f005.backblazeb2.com/file/glove-embeddings-dims/glove.6B.100d.txt'\n",
    "LIMIT = 10\n",
    "TRAINED_MODELS_COUNT = TRAINED_MODELS\n",
    "\n",
    "if GDRIVE:\n",
    "    PICKLES_DIR = 'sd_pickle_files'\n",
    "    DATA_PATH = 'datasets'\n",
    "    GLOVE_FILES_DIR = 'glove_files'\n",
    "    SAVED_MODELS_DIR = 'sd_saved_models'\n",
    "else:\n",
    "    PICKLES_DIR = '../sd_pickle_files'\n",
    "    DATA_PATH = '../datasets'\n",
    "    GLOVE_FILES_DIR = '../glove_files'\n",
    "    SAVED_MODELS_DIR = '../sd_saved_models'\n",
    "\n",
    "PREPROCESSED_CHUNKS_PATH = DATA_PATH + \"/preprocessed_sd_data_chunks/\"\n",
    "PROCESSED_DATA_DIR = DATA_PATH + \"/processed_data/\"\n",
    "BASE_FILE_NAME = \"sd_chunk_\"\n",
    "FILE_FORMAT = \".csv\"\n",
    "DATA_IN_CHUNK = 99744\n",
    "if LIMIT == 10:\n",
    "    ACTUAL_DATA_SHAPE = DATA_IN_CHUNK * LIMIT - 2\n",
    "else:\n",
    "    ACTUAL_DATA_SHAPE = DATA_IN_CHUNK * LIMIT\n",
    "RANDOM_STATE = CONST_RANDOM_STATE\n",
    "DELETE_PICKLES_AFTER_TRAINING = True"
   ]
  },
  {
   "cell_type": "markdown",
   "metadata": {},
   "source": [
    "### 1.1 Data Sourcing and Munging"
   ]
  },
  {
   "cell_type": "markdown",
   "metadata": {},
   "source": [
    "#### 1.1.1 Loading The Data"
   ]
  },
  {
   "cell_type": "code",
   "execution_count": 9,
   "metadata": {
    "scrolled": false
   },
   "outputs": [
    {
     "name": "stdout",
     "output_type": "stream",
     "text": [
      "sd_chunk_1 already exists.\n",
      "sd_chunk_2 already exists.\n",
      "sd_chunk_3 already exists.\n",
      "sd_chunk_4 already exists.\n",
      "sd_chunk_5 already exists.\n",
      "sd_chunk_6 already exists.\n",
      "sd_chunk_7 already exists.\n",
      "sd_chunk_8 already exists.\n",
      "sd_chunk_9 already exists.\n",
      "sd_chunk_10 already exists.\n"
     ]
    }
   ],
   "source": [
    "if not os.path.exists(DATA_PATH):\n",
    "    os.mkdir(DATA_PATH)\n",
    "if not os.path.exists(PREPROCESSED_CHUNKS_PATH):\n",
    "    os.mkdir(PREPROCESSED_CHUNKS_PATH)\n",
    "get_chunks(DATA_URLS,LIMIT,1,BASE_FILE_NAME,PREPROCESSED_CHUNKS_PATH,FILE_FORMAT)"
   ]
  },
  {
   "cell_type": "markdown",
   "metadata": {},
   "source": [
    "#### 1.1.2 Merging all Individual Files"
   ]
  },
  {
   "cell_type": "code",
   "execution_count": 10,
   "metadata": {},
   "outputs": [],
   "source": [
    "#get all names of downloaded files\n",
    "all_file_names = get_all_file_names(BASE_FILE_NAME,LIMIT)"
   ]
  },
  {
   "cell_type": "code",
   "execution_count": 11,
   "metadata": {},
   "outputs": [],
   "source": [
    "#read all chunks into a list\n",
    "list_dfs = read_chunks(all_file_names,PREPROCESSED_CHUNKS_PATH,FILE_FORMAT)"
   ]
  },
  {
   "cell_type": "code",
   "execution_count": 12,
   "metadata": {},
   "outputs": [],
   "source": [
    "#concatenate all chunks into a singular df\n",
    "df = group_up_chunks(list_dfs)"
   ]
  },
  {
   "cell_type": "code",
   "execution_count": 13,
   "metadata": {},
   "outputs": [
    {
     "data": {
      "text/plain": [
       "100.0"
      ]
     },
     "execution_count": 13,
     "metadata": {},
     "output_type": "execute_result"
    }
   ],
   "source": [
    "#check how much of the data was actually downloaded\n",
    "percent_loaded = check_no_missing_data(df.shape[0],ACTUAL_DATA_SHAPE)\n",
    "percent_loaded"
   ]
  },
  {
   "cell_type": "code",
   "execution_count": 14,
   "metadata": {},
   "outputs": [],
   "source": [
    "df.reset_index(inplace = True)\n",
    "df.drop(['index'],axis = 1,inplace = True)"
   ]
  },
  {
   "cell_type": "code",
   "execution_count": 15,
   "metadata": {},
   "outputs": [
    {
     "data": {
      "text/plain": [
       "text      4331\n",
       "labels       0\n",
       "dtype: int64"
      ]
     },
     "execution_count": 15,
     "metadata": {},
     "output_type": "execute_result"
    }
   ],
   "source": [
    "df.isnull().sum()"
   ]
  },
  {
   "cell_type": "code",
   "execution_count": 16,
   "metadata": {},
   "outputs": [],
   "source": [
    "df.dropna(inplace = True)"
   ]
  },
  {
   "cell_type": "code",
   "execution_count": 17,
   "metadata": {},
   "outputs": [],
   "source": [
    "df['text'].replace('', np.nan, inplace=True)\n",
    "df.dropna(inplace = True)"
   ]
  },
  {
   "cell_type": "code",
   "execution_count": 18,
   "metadata": {},
   "outputs": [
    {
     "data": {
      "text/plain": [
       "text      0\n",
       "labels    0\n",
       "dtype: int64"
      ]
     },
     "execution_count": 18,
     "metadata": {},
     "output_type": "execute_result"
    }
   ],
   "source": [
    "df.isnull().sum()"
   ]
  },
  {
   "cell_type": "markdown",
   "metadata": {},
   "source": [
    "## 2. Data Processing"
   ]
  },
  {
   "cell_type": "code",
   "execution_count": 19,
   "metadata": {},
   "outputs": [],
   "source": [
    "X = df['text']\n",
    "y = df['labels']"
   ]
  },
  {
   "cell_type": "code",
   "execution_count": 20,
   "metadata": {},
   "outputs": [],
   "source": [
    "X = pd.Series([str(text) for text in X])"
   ]
  },
  {
   "cell_type": "markdown",
   "metadata": {},
   "source": [
    "### 2.2 GloVe + Hyperparameters"
   ]
  },
  {
   "cell_type": "code",
   "execution_count": 21,
   "metadata": {},
   "outputs": [],
   "source": [
    "if not os.path.exists(GLOVE_FILES_DIR):\n",
    "    os.mkdir(GLOVE_FILES_DIR)"
   ]
  },
  {
   "cell_type": "code",
   "execution_count": 22,
   "metadata": {
    "scrolled": true
   },
   "outputs": [
    {
     "name": "stdout",
     "output_type": "stream",
     "text": [
      "glove.6B.100d already exists.\n"
     ]
    }
   ],
   "source": [
    "get_chunks([GLOVE_URL],0,1,\"glove.6B.100d\",GLOVE_FILES_DIR + '/','.txt',False)"
   ]
  },
  {
   "cell_type": "code",
   "execution_count": 23,
   "metadata": {},
   "outputs": [
    {
     "name": "stdout",
     "output_type": "stream",
     "text": [
      "Getting Unique Words...\n"
     ]
    }
   ],
   "source": [
    "print('Getting Unique Words...')\n",
    "UNIQUE_WORDS = set(' '.join(X).split())"
   ]
  },
  {
   "cell_type": "markdown",
   "metadata": {},
   "source": [
    "### Hyperparameters"
   ]
  },
  {
   "cell_type": "code",
   "execution_count": 24,
   "metadata": {},
   "outputs": [],
   "source": [
    "VOCAB_SIZE = len(UNIQUE_WORDS)\n",
    "LSTM_UNITS = 256\n",
    "DENSE_UNITS = 1024\n",
    "LABELS_COUNT = 1\n",
    "EMBEDDING_DIM = 100\n",
    "MAX_TEXT_LEN = 150\n",
    "CONV_FILTERS = 60\n",
    "CONV_KERNEL_SIZE = 5\n",
    "DROPOUT_VAL = 0.2\n",
    "TRUNC_TYPE = 'post'\n",
    "PADDING_TYPE = 'post'\n",
    "OOV_TOKEN = \"<OOV>\"\n",
    "BATCH_SIZE = 128\n",
    "EPOCHS = 50"
   ]
  },
  {
   "cell_type": "markdown",
   "metadata": {},
   "source": [
    "##### ==> here is a quick explaination of how the dataset will be split using a smaller sample example.\n",
    "##### ==> dataset => 100\n",
    "##### ==> train_set => tr_s (example: 80)\n",
    "##### ==> valid_set => vs (example: 10)\n",
    "##### ==> test_set => te_s (example: 10)\n",
    "##### ==> t = tr_s (80) + vs (10)\n",
    "##### ==> train_set = x[:80]\n",
    "##### ==> valid_set = x[80:t]\n",
    "##### ==> test_set = x[t:] why t? because => vs = ts\n",
    "\n",
    "##### use this guideline if you are confused about how the train-validation-test split was done. Also, this is a future guide for me as well in case I forget."
   ]
  },
  {
   "cell_type": "markdown",
   "metadata": {},
   "source": [
    "* train_set_size = 6,990,280 * 0.8 = 5,592,224\n",
    "* valid_set_size = 6,990,280 * 0.1 = 699,028\n",
    "* train_plus_valid = 5,592,224 + 699,028 = 6,291,252\n",
    "\n",
    "==> To Confirm: test_size = 6,990,280 - 6,291,252 = 699,028\n",
    "\n",
    "* train_set = [0:5,592,224]\n",
    "* train_labels = [0:5,592,224]\n",
    "* validation_set = [5,592,224:6,291,252] ==> 699,028\n",
    "* validation_labels = [5,592,224:6,291,252] ==> 699,028\n",
    "* test_set = [6,291,252,6,990,280] ==> 699,028\n",
    "* test_labels = [6,291,252,6,990,280] ==> 699,028"
   ]
  },
  {
   "cell_type": "code",
   "execution_count": 25,
   "metadata": {
    "scrolled": true
   },
   "outputs": [],
   "source": [
    "TRAIN_PERCENT = 0.8\n",
    "VALID_TEST_PERCENT = 0.1\n",
    "TRAIN_SIZE = int(ACTUAL_DATA_SHAPE * TRAIN_PERCENT)\n",
    "VALID_TEST_SIZE = int(ACTUAL_DATA_SHAPE * VALID_TEST_PERCENT)\n",
    "TOTAL_TEST_SIZE = TRAIN_SIZE + VALID_TEST_SIZE\n",
    "train_set = X[:TRAIN_SIZE]\n",
    "train_labels = y[:TRAIN_SIZE]\n",
    "validation_set = X[TRAIN_SIZE:TOTAL_TEST_SIZE]\n",
    "validation_labels = y[TRAIN_SIZE:TOTAL_TEST_SIZE]\n",
    "test_set = X[TOTAL_TEST_SIZE:]\n",
    "test_labels = y[TOTAL_TEST_SIZE:]"
   ]
  },
  {
   "cell_type": "code",
   "execution_count": 26,
   "metadata": {},
   "outputs": [],
   "source": [
    "validation_set.reset_index(drop=True,inplace=True)\n",
    "test_set.reset_index(drop=True,inplace=True)"
   ]
  },
  {
   "cell_type": "code",
   "execution_count": 27,
   "metadata": {},
   "outputs": [],
   "source": [
    "if not os.path.exists(PROCESSED_DATA_DIR):\n",
    "    os.mkdir(PROCESSED_DATA_DIR)"
   ]
  },
  {
   "cell_type": "code",
   "execution_count": 28,
   "metadata": {},
   "outputs": [],
   "source": [
    "# NOTE: THIS CELL TAKES A WHILE TO RUN.\n",
    "if not os.path.exists(PROCESSED_DATA_DIR + \"train_set_padded.pickle\"):\n",
    "    print(\"Tokenizing the Dataset...\")\n",
    "    tokenizer = Tokenizer(num_words=VOCAB_SIZE, oov_token=OOV_TOKEN)\n",
    "    tokenizer.fit_on_texts(train_set)\n",
    "    words_to_index = tokenizer.word_index"
   ]
  },
  {
   "cell_type": "code",
   "execution_count": 29,
   "metadata": {},
   "outputs": [],
   "source": [
    "# NOTE: THIS CELL TAKES A WHILE TO RUN.\n",
    "if not os.path.exists(PROCESSED_DATA_DIR + \"train_set_padded.pickle\"):\n",
    "    print(\"Padding the Training Set.\")\n",
    "    train_sequences = tokenizer.texts_to_sequences(train_set)\n",
    "    train_set_padded = pad_sequences(train_sequences,value=0.0, maxlen=MAX_TEXT_LEN, padding=PADDING_TYPE, truncating=TRUNC_TYPE)\n",
    "    \n",
    "if not os.path.exists(PROCESSED_DATA_DIR + \"valid_set_padded.pickle\"):\n",
    "    print(\"Padding the Validation Set.\")\n",
    "    valid_sequences = tokenizer.texts_to_sequences(validation_set)\n",
    "    valid_set_padded = pad_sequences(valid_sequences,value=0.0, maxlen=MAX_TEXT_LEN, padding=PADDING_TYPE, truncating=TRUNC_TYPE)\n",
    "    \n",
    "if not os.path.exists(PROCESSED_DATA_DIR + \"test_set_padded.pickle\"):\n",
    "    print(\"Padding the Testing Set.\")\n",
    "    test_sequences = tokenizer.texts_to_sequences(test_set)\n",
    "    test_set_padded = pad_sequences(test_sequences,value=0.0, maxlen=MAX_TEXT_LEN, padding=PADDING_TYPE, truncating=TRUNC_TYPE)"
   ]
  },
  {
   "cell_type": "code",
   "execution_count": 30,
   "metadata": {},
   "outputs": [],
   "source": [
    "if not os.path.exists(PROCESSED_DATA_DIR + \"train_set_padded.pickle\"):\n",
    "    print(\"Re-formatting Train Set Shape.\")\n",
    "    train_set_padded = np.array(train_set_padded)\n",
    "    \n",
    "if not os.path.exists(PROCESSED_DATA_DIR + \"train_labels.pickle\"):\n",
    "    print(\"Re-formatting Train Labels Shape.\")\n",
    "    train_labels = np.array(train_labels)\n",
    "    \n",
    "if not os.path.exists(PROCESSED_DATA_DIR + \"valid_set_padded.pickle\"): \n",
    "    print(\"Re-formatting Validation Set Shape.\")\n",
    "    valid_set_padded = np.array(valid_set_padded)\n",
    "\n",
    "if not os.path.exists(PROCESSED_DATA_DIR + \"validation_labels.pickle\"):\n",
    "    print(\"Re-formatting Validation Labels Shape.\")\n",
    "    validation_labels = np.array(validation_labels)\n",
    "\n",
    "if not os.path.exists(PROCESSED_DATA_DIR + \"test_set_padded.pickle\"):\n",
    "    print(\"Re-formatting Testing Set Shape.\")\n",
    "    test_set_padded = np.array(test_set_padded)\n",
    "\n",
    "if not os.path.exists(PROCESSED_DATA_DIR + \"test_labels.pickle\"):\n",
    "    print(\"Re-formatting Testing Labels Shape.\")\n",
    "    test_labels = np.array(test_labels)"
   ]
  },
  {
   "cell_type": "code",
   "execution_count": 31,
   "metadata": {},
   "outputs": [],
   "source": [
    "word_to_vec_map = read_glove_vector(GLOVE_FILES_DIR + '/glove.6B.100d.txt')"
   ]
  },
  {
   "cell_type": "code",
   "execution_count": 32,
   "metadata": {},
   "outputs": [],
   "source": [
    "if not os.path.exists(PROCESSED_DATA_DIR + \"EMBEDDING_LAYER.pickle\") :\n",
    "    print(\"Generating Embedding From Scratch.\")\n",
    "    vocab_mapping = len(words_to_index)\n",
    "    embed_vector_len = word_to_vec_map['moon'].shape[0]\n",
    "\n",
    "    emb_matrix = np.zeros((vocab_mapping, embed_vector_len))\n",
    "\n",
    "    for word, index in words_to_index.items():\n",
    "        embedding_vector = word_to_vec_map.get(word)\n",
    "        if embedding_vector is not None:\n",
    "            emb_matrix[index, :] = embedding_vector\n",
    "\n",
    "    EMBEDDING_LAYER = Embedding(input_dim=vocab_mapping,\\\n",
    "                                output_dim=embed_vector_len, input_length=MAX_TEXT_LEN, weights = [emb_matrix], trainable=True)"
   ]
  },
  {
   "cell_type": "code",
   "execution_count": 33,
   "metadata": {},
   "outputs": [
    {
     "name": "stdout",
     "output_type": "stream",
     "text": [
      "Using Pickle File!\n",
      "Using Pickle File!\n"
     ]
    }
   ],
   "source": [
    "if os.path.exists(PROCESSED_DATA_DIR + \"train_set_padded.pickle\") :\n",
    "    print(\"Using Pickle File!\")\n",
    "    train_set_padded = pickle.load(open(PROCESSED_DATA_DIR + \"train_set_padded.pickle\", \"rb\"))\n",
    "else:\n",
    "    pickle_out = open(PROCESSED_DATA_DIR + \"train_set_padded.pickle\",'wb')\n",
    "    pickle.dump(train_set_padded,pickle_out)\n",
    "    pickle_out.close()\n",
    "    \n",
    "if os.path.exists(PROCESSED_DATA_DIR + \"train_labels.pickle\") :\n",
    "    print(\"Using Pickle File!\")\n",
    "    train_labels = pickle.load(open(PROCESSED_DATA_DIR + \"train_labels.pickle\", \"rb\"))\n",
    "else:\n",
    "    pickle_out = open(PROCESSED_DATA_DIR + \"train_labels.pickle\",'wb')\n",
    "    pickle.dump(train_labels,pickle_out)\n",
    "    pickle_out.close()"
   ]
  },
  {
   "cell_type": "code",
   "execution_count": 34,
   "metadata": {},
   "outputs": [
    {
     "name": "stdout",
     "output_type": "stream",
     "text": [
      "Using Pickle File!\n",
      "Using Pickle File!\n"
     ]
    }
   ],
   "source": [
    "if os.path.exists(PROCESSED_DATA_DIR + \"valid_set_padded.pickle\") :\n",
    "    print(\"Using Pickle File!\")\n",
    "    valid_set_padded = pickle.load(open(PROCESSED_DATA_DIR + \"valid_set_padded.pickle\", \"rb\"))\n",
    "else:\n",
    "    pickle_out = open(PROCESSED_DATA_DIR + \"valid_set_padded.pickle\",'wb')\n",
    "    pickle.dump(valid_set_padded,pickle_out)\n",
    "    pickle_out.close()\n",
    "    \n",
    "if os.path.exists(PROCESSED_DATA_DIR + \"validation_labels.pickle\") :\n",
    "    print(\"Using Pickle File!\")\n",
    "    validation_labels = pickle.load(open(PROCESSED_DATA_DIR + \"validation_labels.pickle\", \"rb\"))\n",
    "else:\n",
    "    pickle_out = open(PROCESSED_DATA_DIR + \"validation_labels.pickle\",'wb')\n",
    "    pickle.dump(validation_labels,pickle_out)\n",
    "    pickle_out.close()"
   ]
  },
  {
   "cell_type": "code",
   "execution_count": 35,
   "metadata": {},
   "outputs": [
    {
     "name": "stdout",
     "output_type": "stream",
     "text": [
      "Using Pickle File!\n",
      "Using Pickle File!\n"
     ]
    }
   ],
   "source": [
    "if os.path.exists(PROCESSED_DATA_DIR + \"test_set_padded.pickle\") :\n",
    "    print(\"Using Pickle File!\")\n",
    "    test_set_padded = pickle.load(open(PROCESSED_DATA_DIR + \"test_set_padded.pickle\", \"rb\"))\n",
    "else:\n",
    "    pickle_out = open(PROCESSED_DATA_DIR + \"test_set_padded.pickle\",'wb')\n",
    "    pickle.dump(test_set_padded,pickle_out)\n",
    "    pickle_out.close()\n",
    "    \n",
    "if os.path.exists(PROCESSED_DATA_DIR + \"test_labels.pickle\") :\n",
    "    print(\"Using Pickle File!\")\n",
    "    test_labels = pickle.load(open(PROCESSED_DATA_DIR + \"test_labels.pickle\", \"rb\"))\n",
    "else:\n",
    "    pickle_out = open(PROCESSED_DATA_DIR + \"test_labels.pickle\",'wb')\n",
    "    pickle.dump(test_labels,pickle_out)\n",
    "    pickle_out.close()"
   ]
  },
  {
   "cell_type": "code",
   "execution_count": 36,
   "metadata": {},
   "outputs": [
    {
     "name": "stdout",
     "output_type": "stream",
     "text": [
      "Using Pickle File!\n"
     ]
    }
   ],
   "source": [
    "if os.path.exists(PROCESSED_DATA_DIR + \"EMBEDDING_LAYER.pickle\") :\n",
    "    print(\"Using Pickle File!\")\n",
    "    EMBEDDING_LAYER = pickle.load(open(PROCESSED_DATA_DIR + \"EMBEDDING_LAYER.pickle\", \"rb\"))\n",
    "else:\n",
    "    print(\"Pickling Embedding Layer!\")\n",
    "    pickle_out = open(PROCESSED_DATA_DIR + \"EMBEDDING_LAYER.pickle\",'wb')\n",
    "    pickle.dump(EMBEDDING_LAYER,pickle_out)\n",
    "    pickle_out.close()"
   ]
  },
  {
   "cell_type": "markdown",
   "metadata": {},
   "source": [
    "## 3. LSTM"
   ]
  },
  {
   "cell_type": "markdown",
   "metadata": {},
   "source": [
    "The requirements to use the cuDNN implementation are:\n",
    "\n",
    "* activation == tanh\n",
    "* recurrent_activation == sigmoid\n",
    "* recurrent_dropout == 0\n",
    "* unroll is False\n",
    "* use_bias is True\n",
    "* Inputs, if use masking, are strictly right-padded.\n",
    "* Eager execution is enabled in the outermost context."
   ]
  },
  {
   "cell_type": "code",
   "execution_count": 37,
   "metadata": {
    "scrolled": true
   },
   "outputs": [
    {
     "name": "stderr",
     "output_type": "stream",
     "text": [
      "2023-06-08 19:43:57.520839: I tensorflow/compiler/xla/stream_executor/cuda/cuda_gpu_executor.cc:996] successful NUMA node read from SysFS had negative value (-1), but there must be at least one NUMA node, so returning NUMA node zero. See more at https://github.com/torvalds/linux/blob/v6.0/Documentation/ABI/testing/sysfs-bus-pci#L344-L355\n",
      "2023-06-08 19:43:57.527990: I tensorflow/compiler/xla/stream_executor/cuda/cuda_gpu_executor.cc:996] successful NUMA node read from SysFS had negative value (-1), but there must be at least one NUMA node, so returning NUMA node zero. See more at https://github.com/torvalds/linux/blob/v6.0/Documentation/ABI/testing/sysfs-bus-pci#L344-L355\n",
      "2023-06-08 19:43:57.529127: I tensorflow/compiler/xla/stream_executor/cuda/cuda_gpu_executor.cc:996] successful NUMA node read from SysFS had negative value (-1), but there must be at least one NUMA node, so returning NUMA node zero. See more at https://github.com/torvalds/linux/blob/v6.0/Documentation/ABI/testing/sysfs-bus-pci#L344-L355\n",
      "2023-06-08 19:43:58.072120: I tensorflow/compiler/xla/stream_executor/cuda/cuda_gpu_executor.cc:996] successful NUMA node read from SysFS had negative value (-1), but there must be at least one NUMA node, so returning NUMA node zero. See more at https://github.com/torvalds/linux/blob/v6.0/Documentation/ABI/testing/sysfs-bus-pci#L344-L355\n",
      "2023-06-08 19:43:58.072523: I tensorflow/compiler/xla/stream_executor/cuda/cuda_gpu_executor.cc:996] successful NUMA node read from SysFS had negative value (-1), but there must be at least one NUMA node, so returning NUMA node zero. See more at https://github.com/torvalds/linux/blob/v6.0/Documentation/ABI/testing/sysfs-bus-pci#L344-L355\n",
      "2023-06-08 19:43:58.072853: I tensorflow/compiler/xla/stream_executor/cuda/cuda_gpu_executor.cc:996] successful NUMA node read from SysFS had negative value (-1), but there must be at least one NUMA node, so returning NUMA node zero. See more at https://github.com/torvalds/linux/blob/v6.0/Documentation/ABI/testing/sysfs-bus-pci#L344-L355\n",
      "2023-06-08 19:43:58.073156: I tensorflow/core/common_runtime/gpu/gpu_device.cc:1635] Created device /job:localhost/replica:0/task:0/device:GPU:0 with 22250 MB memory:  -> device: 0, name: NVIDIA GeForce RTX 3090, pci bus id: 0000:22:00.0, compute capability: 8.6\n"
     ]
    },
    {
     "name": "stdout",
     "output_type": "stream",
     "text": [
      "WARNING:tensorflow:From /tmp/ipykernel_13919/2746697609.py:4: The name tf.keras.backend.set_session is deprecated. Please use tf.compat.v1.keras.backend.set_session instead.\n",
      "\n"
     ]
    },
    {
     "name": "stderr",
     "output_type": "stream",
     "text": [
      "2023-06-08 19:43:58.310344: I tensorflow/compiler/xla/stream_executor/cuda/cuda_gpu_executor.cc:996] successful NUMA node read from SysFS had negative value (-1), but there must be at least one NUMA node, so returning NUMA node zero. See more at https://github.com/torvalds/linux/blob/v6.0/Documentation/ABI/testing/sysfs-bus-pci#L344-L355\n",
      "2023-06-08 19:43:58.310780: I tensorflow/compiler/xla/stream_executor/cuda/cuda_gpu_executor.cc:996] successful NUMA node read from SysFS had negative value (-1), but there must be at least one NUMA node, so returning NUMA node zero. See more at https://github.com/torvalds/linux/blob/v6.0/Documentation/ABI/testing/sysfs-bus-pci#L344-L355\n",
      "2023-06-08 19:43:58.311109: I tensorflow/compiler/xla/stream_executor/cuda/cuda_gpu_executor.cc:996] successful NUMA node read from SysFS had negative value (-1), but there must be at least one NUMA node, so returning NUMA node zero. See more at https://github.com/torvalds/linux/blob/v6.0/Documentation/ABI/testing/sysfs-bus-pci#L344-L355\n",
      "2023-06-08 19:43:58.311586: I tensorflow/compiler/xla/stream_executor/cuda/cuda_gpu_executor.cc:996] successful NUMA node read from SysFS had negative value (-1), but there must be at least one NUMA node, so returning NUMA node zero. See more at https://github.com/torvalds/linux/blob/v6.0/Documentation/ABI/testing/sysfs-bus-pci#L344-L355\n",
      "2023-06-08 19:43:58.311922: I tensorflow/compiler/xla/stream_executor/cuda/cuda_gpu_executor.cc:996] successful NUMA node read from SysFS had negative value (-1), but there must be at least one NUMA node, so returning NUMA node zero. See more at https://github.com/torvalds/linux/blob/v6.0/Documentation/ABI/testing/sysfs-bus-pci#L344-L355\n",
      "2023-06-08 19:43:58.312246: I tensorflow/compiler/xla/stream_executor/cuda/cuda_gpu_executor.cc:996] successful NUMA node read from SysFS had negative value (-1), but there must be at least one NUMA node, so returning NUMA node zero. See more at https://github.com/torvalds/linux/blob/v6.0/Documentation/ABI/testing/sysfs-bus-pci#L344-L355\n",
      "2023-06-08 19:43:58.312627: I tensorflow/compiler/xla/stream_executor/cuda/cuda_gpu_executor.cc:996] successful NUMA node read from SysFS had negative value (-1), but there must be at least one NUMA node, so returning NUMA node zero. See more at https://github.com/torvalds/linux/blob/v6.0/Documentation/ABI/testing/sysfs-bus-pci#L344-L355\n",
      "2023-06-08 19:43:58.312955: I tensorflow/compiler/xla/stream_executor/cuda/cuda_gpu_executor.cc:996] successful NUMA node read from SysFS had negative value (-1), but there must be at least one NUMA node, so returning NUMA node zero. See more at https://github.com/torvalds/linux/blob/v6.0/Documentation/ABI/testing/sysfs-bus-pci#L344-L355\n",
      "2023-06-08 19:43:58.313255: I tensorflow/core/common_runtime/gpu/gpu_device.cc:1635] Created device /job:localhost/replica:0/task:0/device:GPU:0 with 22250 MB memory:  -> device: 0, name: NVIDIA GeForce RTX 3090, pci bus id: 0000:22:00.0, compute capability: 8.6\n",
      "2023-06-08 19:43:58.572718: I tensorflow/core/common_runtime/executor.cc:1197] [/device:CPU:0] (DEBUG INFO) Executor start aborting (this does not indicate an error and you can ignore this message): INVALID_ARGUMENT: You must feed a value for placeholder tensor 'gradients/split_2_grad/concat/split_2/split_dim' with dtype int32\n",
      "\t [[{{node gradients/split_2_grad/concat/split_2/split_dim}}]]\n",
      "2023-06-08 19:43:58.573570: I tensorflow/core/common_runtime/executor.cc:1197] [/device:CPU:0] (DEBUG INFO) Executor start aborting (this does not indicate an error and you can ignore this message): INVALID_ARGUMENT: You must feed a value for placeholder tensor 'gradients/split_grad/concat/split/split_dim' with dtype int32\n",
      "\t [[{{node gradients/split_grad/concat/split/split_dim}}]]\n",
      "2023-06-08 19:43:58.574362: I tensorflow/core/common_runtime/executor.cc:1197] [/device:CPU:0] (DEBUG INFO) Executor start aborting (this does not indicate an error and you can ignore this message): INVALID_ARGUMENT: You must feed a value for placeholder tensor 'gradients/split_1_grad/concat/split_1/split_dim' with dtype int32\n",
      "\t [[{{node gradients/split_1_grad/concat/split_1/split_dim}}]]\n",
      "2023-06-08 19:43:58.655938: I tensorflow/core/common_runtime/executor.cc:1197] [/device:CPU:0] (DEBUG INFO) Executor start aborting (this does not indicate an error and you can ignore this message): INVALID_ARGUMENT: You must feed a value for placeholder tensor 'gradients/ReverseV2_grad/ReverseV2/ReverseV2/axis' with dtype int32 and shape [1]\n",
      "\t [[{{node gradients/ReverseV2_grad/ReverseV2/ReverseV2/axis}}]]\n",
      "2023-06-08 19:43:58.683123: I tensorflow/core/common_runtime/executor.cc:1197] [/device:CPU:0] (DEBUG INFO) Executor start aborting (this does not indicate an error and you can ignore this message): INVALID_ARGUMENT: You must feed a value for placeholder tensor 'gradients/split_2_grad/concat/split_2/split_dim' with dtype int32\n",
      "\t [[{{node gradients/split_2_grad/concat/split_2/split_dim}}]]\n",
      "2023-06-08 19:43:58.683799: I tensorflow/core/common_runtime/executor.cc:1197] [/device:CPU:0] (DEBUG INFO) Executor start aborting (this does not indicate an error and you can ignore this message): INVALID_ARGUMENT: You must feed a value for placeholder tensor 'gradients/split_grad/concat/split/split_dim' with dtype int32\n",
      "\t [[{{node gradients/split_grad/concat/split/split_dim}}]]\n",
      "2023-06-08 19:43:58.684448: I tensorflow/core/common_runtime/executor.cc:1197] [/device:CPU:0] (DEBUG INFO) Executor start aborting (this does not indicate an error and you can ignore this message): INVALID_ARGUMENT: You must feed a value for placeholder tensor 'gradients/split_1_grad/concat/split_1/split_dim' with dtype int32\n",
      "\t [[{{node gradients/split_1_grad/concat/split_1/split_dim}}]]\n"
     ]
    }
   ],
   "source": [
    "configproto = tf.compat.v1.ConfigProto() \n",
    "configproto.gpu_options.allow_growth = True\n",
    "sess = tf.compat.v1.Session(config=configproto) \n",
    "tf.compat.v1.keras.backend.set_session(sess)\n",
    "\n",
    "tf.keras.backend.clear_session()\n",
    "tf.random.set_seed(RANDOM_STATE)\n",
    "np.random.seed(RANDOM_STATE)\n",
    "inputs = tf.keras.Input(shape=(MAX_TEXT_LEN,))\n",
    "x = EMBEDDING_LAYER(inputs)\n",
    "x = tf.keras.layers.Dropout(DROPOUT_VAL)(x)\n",
    "x = tf.keras.layers.Conv1D(filters=CONV_FILTERS, kernel_size=CONV_KERNEL_SIZE, padding='same')(x)\n",
    "x = tf.keras.layers.GlobalMaxPooling1D(keepdims=True)(x)\n",
    "x = tf.keras.layers.BatchNormalization(synchronized=True)(x)\n",
    "x = tf.keras.layers.Bidirectional(tf.keras.layers.LSTM(LSTM_UNITS))(x)\n",
    "x = tf.keras.layers.Dense(DENSE_UNITS)(x)\n",
    "outputs = tf.keras.layers.Dense(LABELS_COUNT, activation=\"sigmoid\")(x)\n",
    "\n",
    "lstm_model = tf.keras.Model(inputs=inputs, outputs=outputs)"
   ]
  },
  {
   "cell_type": "code",
   "execution_count": 38,
   "metadata": {
    "scrolled": true
   },
   "outputs": [
    {
     "name": "stdout",
     "output_type": "stream",
     "text": [
      "Model: \"model\"\n",
      "_________________________________________________________________\n",
      " Layer (type)                Output Shape              Param #   \n",
      "=================================================================\n",
      " input_1 (InputLayer)        [(None, 150)]             0         \n",
      "                                                                 \n",
      " embedding (Embedding)       (None, 150, 100)          12575700  \n",
      "                                                                 \n",
      " dropout (Dropout)           (None, 150, 100)          0         \n",
      "                                                                 \n",
      " conv1d (Conv1D)             (None, 150, 60)           30060     \n",
      "                                                                 \n",
      " global_max_pooling1d (Globa  (None, 1, 60)            0         \n",
      " lMaxPooling1D)                                                  \n",
      "                                                                 \n",
      " batch_normalization (BatchN  (None, 1, 60)            240       \n",
      " ormalization)                                                   \n",
      "                                                                 \n",
      " bidirectional (Bidirectiona  (None, 512)              649216    \n",
      " l)                                                              \n",
      "                                                                 \n",
      " dense (Dense)               (None, 1024)              525312    \n",
      "                                                                 \n",
      " dense_1 (Dense)             (None, 1)                 1025      \n",
      "                                                                 \n",
      "=================================================================\n",
      "Total params: 13,781,553\n",
      "Trainable params: 13,781,433\n",
      "Non-trainable params: 120\n",
      "_________________________________________________________________\n"
     ]
    }
   ],
   "source": [
    "lstm_model.summary()"
   ]
  },
  {
   "cell_type": "code",
   "execution_count": 39,
   "metadata": {},
   "outputs": [],
   "source": [
    "log_dir = \"sd_logs/fit/\" + datetime.datetime.now().strftime(\"%Y%m%d-%H%M%S\")\n",
    "tensorboard_callback = tf.keras.callbacks.TensorBoard(log_dir=\"./logs\")"
   ]
  },
  {
   "cell_type": "code",
   "execution_count": 40,
   "metadata": {},
   "outputs": [],
   "source": [
    "metrics_callback = MetricsCallback(test_data = valid_set_padded, y_true = validation_labels)"
   ]
  },
  {
   "cell_type": "code",
   "execution_count": 41,
   "metadata": {
    "scrolled": true
   },
   "outputs": [
    {
     "name": "stdout",
     "output_type": "stream",
     "text": [
      "Epoch 1/50\n"
     ]
    },
    {
     "name": "stderr",
     "output_type": "stream",
     "text": [
      "2023-06-08 19:43:59.123856: I tensorflow/core/common_runtime/executor.cc:1197] [/device:CPU:0] (DEBUG INFO) Executor start aborting (this does not indicate an error and you can ignore this message): INVALID_ARGUMENT: You must feed a value for placeholder tensor 'gradients/split_2_grad/concat/split_2/split_dim' with dtype int32\n",
      "\t [[{{node gradients/split_2_grad/concat/split_2/split_dim}}]]\n",
      "2023-06-08 19:43:59.124932: I tensorflow/core/common_runtime/executor.cc:1197] [/device:CPU:0] (DEBUG INFO) Executor start aborting (this does not indicate an error and you can ignore this message): INVALID_ARGUMENT: You must feed a value for placeholder tensor 'gradients/split_grad/concat/split/split_dim' with dtype int32\n",
      "\t [[{{node gradients/split_grad/concat/split/split_dim}}]]\n",
      "2023-06-08 19:43:59.125638: I tensorflow/core/common_runtime/executor.cc:1197] [/device:CPU:0] (DEBUG INFO) Executor start aborting (this does not indicate an error and you can ignore this message): INVALID_ARGUMENT: You must feed a value for placeholder tensor 'gradients/split_1_grad/concat/split_1/split_dim' with dtype int32\n",
      "\t [[{{node gradients/split_1_grad/concat/split_1/split_dim}}]]\n",
      "2023-06-08 19:43:59.208243: I tensorflow/core/common_runtime/executor.cc:1197] [/device:CPU:0] (DEBUG INFO) Executor start aborting (this does not indicate an error and you can ignore this message): INVALID_ARGUMENT: You must feed a value for placeholder tensor 'gradients/ReverseV2_grad/ReverseV2/ReverseV2/axis' with dtype int32 and shape [1]\n",
      "\t [[{{node gradients/ReverseV2_grad/ReverseV2/ReverseV2/axis}}]]\n",
      "2023-06-08 19:43:59.236254: I tensorflow/core/common_runtime/executor.cc:1197] [/device:CPU:0] (DEBUG INFO) Executor start aborting (this does not indicate an error and you can ignore this message): INVALID_ARGUMENT: You must feed a value for placeholder tensor 'gradients/split_2_grad/concat/split_2/split_dim' with dtype int32\n",
      "\t [[{{node gradients/split_2_grad/concat/split_2/split_dim}}]]\n",
      "2023-06-08 19:43:59.236996: I tensorflow/core/common_runtime/executor.cc:1197] [/device:CPU:0] (DEBUG INFO) Executor start aborting (this does not indicate an error and you can ignore this message): INVALID_ARGUMENT: You must feed a value for placeholder tensor 'gradients/split_grad/concat/split/split_dim' with dtype int32\n",
      "\t [[{{node gradients/split_grad/concat/split/split_dim}}]]\n",
      "2023-06-08 19:43:59.237731: I tensorflow/core/common_runtime/executor.cc:1197] [/device:CPU:0] (DEBUG INFO) Executor start aborting (this does not indicate an error and you can ignore this message): INVALID_ARGUMENT: You must feed a value for placeholder tensor 'gradients/split_1_grad/concat/split_1/split_dim' with dtype int32\n",
      "\t [[{{node gradients/split_1_grad/concat/split_1/split_dim}}]]\n",
      "2023-06-08 19:43:59.654947: I tensorflow/core/common_runtime/executor.cc:1197] [/device:CPU:0] (DEBUG INFO) Executor start aborting (this does not indicate an error and you can ignore this message): INVALID_ARGUMENT: You must feed a value for placeholder tensor 'gradients/ReverseV2_grad/ReverseV2/ReverseV2/axis' with dtype int32 and shape [1]\n",
      "\t [[{{node gradients/ReverseV2_grad/ReverseV2/ReverseV2/axis}}]]\n",
      "2023-06-08 19:44:00.176828: I tensorflow/core/common_runtime/executor.cc:1197] [/device:CPU:0] (DEBUG INFO) Executor start aborting (this does not indicate an error and you can ignore this message): INVALID_ARGUMENT: You must feed a value for placeholder tensor 'gradients/split_2_grad/concat/split_2/split_dim' with dtype int32\n",
      "\t [[{{node gradients/split_2_grad/concat/split_2/split_dim}}]]\n",
      "2023-06-08 19:44:00.178004: I tensorflow/core/common_runtime/executor.cc:1197] [/device:CPU:0] (DEBUG INFO) Executor start aborting (this does not indicate an error and you can ignore this message): INVALID_ARGUMENT: You must feed a value for placeholder tensor 'gradients/split_grad/concat/split/split_dim' with dtype int32\n",
      "\t [[{{node gradients/split_grad/concat/split/split_dim}}]]\n",
      "2023-06-08 19:44:00.178697: I tensorflow/core/common_runtime/executor.cc:1197] [/device:CPU:0] (DEBUG INFO) Executor start aborting (this does not indicate an error and you can ignore this message): INVALID_ARGUMENT: You must feed a value for placeholder tensor 'gradients/split_1_grad/concat/split_1/split_dim' with dtype int32\n",
      "\t [[{{node gradients/split_1_grad/concat/split_1/split_dim}}]]\n",
      "2023-06-08 19:44:00.262208: I tensorflow/core/common_runtime/executor.cc:1197] [/device:CPU:0] (DEBUG INFO) Executor start aborting (this does not indicate an error and you can ignore this message): INVALID_ARGUMENT: You must feed a value for placeholder tensor 'gradients/ReverseV2_grad/ReverseV2/ReverseV2/axis' with dtype int32 and shape [1]\n",
      "\t [[{{node gradients/ReverseV2_grad/ReverseV2/ReverseV2/axis}}]]\n",
      "2023-06-08 19:44:00.291047: I tensorflow/core/common_runtime/executor.cc:1197] [/device:CPU:0] (DEBUG INFO) Executor start aborting (this does not indicate an error and you can ignore this message): INVALID_ARGUMENT: You must feed a value for placeholder tensor 'gradients/split_2_grad/concat/split_2/split_dim' with dtype int32\n",
      "\t [[{{node gradients/split_2_grad/concat/split_2/split_dim}}]]\n",
      "2023-06-08 19:44:00.291816: I tensorflow/core/common_runtime/executor.cc:1197] [/device:CPU:0] (DEBUG INFO) Executor start aborting (this does not indicate an error and you can ignore this message): INVALID_ARGUMENT: You must feed a value for placeholder tensor 'gradients/split_grad/concat/split/split_dim' with dtype int32\n",
      "\t [[{{node gradients/split_grad/concat/split/split_dim}}]]\n",
      "2023-06-08 19:44:00.292523: I tensorflow/core/common_runtime/executor.cc:1197] [/device:CPU:0] (DEBUG INFO) Executor start aborting (this does not indicate an error and you can ignore this message): INVALID_ARGUMENT: You must feed a value for placeholder tensor 'gradients/split_1_grad/concat/split_1/split_dim' with dtype int32\n",
      "\t [[{{node gradients/split_1_grad/concat/split_1/split_dim}}]]\n",
      "2023-06-08 19:44:00.578521: I tensorflow/core/common_runtime/executor.cc:1197] [/device:CPU:0] (DEBUG INFO) Executor start aborting (this does not indicate an error and you can ignore this message): INVALID_ARGUMENT: You must feed a value for placeholder tensor 'gradients/ReverseV2_grad/ReverseV2/ReverseV2/axis' with dtype int32 and shape [1]\n",
      "\t [[{{node gradients/ReverseV2_grad/ReverseV2/ReverseV2/axis}}]]\n",
      "2023-06-08 19:44:01.783648: I tensorflow/compiler/xla/stream_executor/cuda/cuda_dnn.cc:424] Loaded cuDNN version 8600\n",
      "2023-06-08 19:44:02.488056: I tensorflow/compiler/xla/stream_executor/cuda/cuda_blas.cc:637] TensorFloat-32 will be used for the matrix multiplication. This will only be logged once.\n",
      "2023-06-08 19:44:02.491691: I tensorflow/compiler/xla/service/service.cc:169] XLA service 0x7f7468008500 initialized for platform CUDA (this does not guarantee that XLA will be used). Devices:\n",
      "2023-06-08 19:44:02.491727: I tensorflow/compiler/xla/service/service.cc:177]   StreamExecutor device (0): NVIDIA GeForce RTX 3090, Compute Capability 8.6\n",
      "2023-06-08 19:44:02.497552: I tensorflow/compiler/mlir/tensorflow/utils/dump_mlir_util.cc:269] disabling MLIR crash reproducer, set env var `MLIR_CRASH_REPRODUCER_DIRECTORY` to enable.\n",
      "2023-06-08 19:44:02.614092: I ./tensorflow/compiler/jit/device_compiler.h:180] Compiled cluster using XLA!  This line is logged at most once for the lifetime of the process.\n"
     ]
    },
    {
     "name": "stdout",
     "output_type": "stream",
     "text": [
      "6234/6234 [==============================] - ETA: 0s - loss: 0.6723 - accuracy: 0.5799 - recall: 0.5356 - precision: 0.5795"
     ]
    },
    {
     "name": "stderr",
     "output_type": "stream",
     "text": [
      "2023-06-08 19:45:17.700730: I tensorflow/core/common_runtime/executor.cc:1197] [/device:CPU:0] (DEBUG INFO) Executor start aborting (this does not indicate an error and you can ignore this message): INVALID_ARGUMENT: You must feed a value for placeholder tensor 'gradients/split_2_grad/concat/split_2/split_dim' with dtype int32\n",
      "\t [[{{node gradients/split_2_grad/concat/split_2/split_dim}}]]\n",
      "2023-06-08 19:45:17.701805: I tensorflow/core/common_runtime/executor.cc:1197] [/device:CPU:0] (DEBUG INFO) Executor start aborting (this does not indicate an error and you can ignore this message): INVALID_ARGUMENT: You must feed a value for placeholder tensor 'gradients/split_grad/concat/split/split_dim' with dtype int32\n",
      "\t [[{{node gradients/split_grad/concat/split/split_dim}}]]\n",
      "2023-06-08 19:45:17.702495: I tensorflow/core/common_runtime/executor.cc:1197] [/device:CPU:0] (DEBUG INFO) Executor start aborting (this does not indicate an error and you can ignore this message): INVALID_ARGUMENT: You must feed a value for placeholder tensor 'gradients/split_1_grad/concat/split_1/split_dim' with dtype int32\n",
      "\t [[{{node gradients/split_1_grad/concat/split_1/split_dim}}]]\n",
      "2023-06-08 19:45:17.783838: I tensorflow/core/common_runtime/executor.cc:1197] [/device:CPU:0] (DEBUG INFO) Executor start aborting (this does not indicate an error and you can ignore this message): INVALID_ARGUMENT: You must feed a value for placeholder tensor 'gradients/ReverseV2_grad/ReverseV2/ReverseV2/axis' with dtype int32 and shape [1]\n",
      "\t [[{{node gradients/ReverseV2_grad/ReverseV2/ReverseV2/axis}}]]\n",
      "2023-06-08 19:45:17.810525: I tensorflow/core/common_runtime/executor.cc:1197] [/device:CPU:0] (DEBUG INFO) Executor start aborting (this does not indicate an error and you can ignore this message): INVALID_ARGUMENT: You must feed a value for placeholder tensor 'gradients/split_2_grad/concat/split_2/split_dim' with dtype int32\n",
      "\t [[{{node gradients/split_2_grad/concat/split_2/split_dim}}]]\n",
      "2023-06-08 19:45:17.811244: I tensorflow/core/common_runtime/executor.cc:1197] [/device:CPU:0] (DEBUG INFO) Executor start aborting (this does not indicate an error and you can ignore this message): INVALID_ARGUMENT: You must feed a value for placeholder tensor 'gradients/split_grad/concat/split/split_dim' with dtype int32\n",
      "\t [[{{node gradients/split_grad/concat/split/split_dim}}]]\n",
      "2023-06-08 19:45:17.811920: I tensorflow/core/common_runtime/executor.cc:1197] [/device:CPU:0] (DEBUG INFO) Executor start aborting (this does not indicate an error and you can ignore this message): INVALID_ARGUMENT: You must feed a value for placeholder tensor 'gradients/split_1_grad/concat/split_1/split_dim' with dtype int32\n",
      "\t [[{{node gradients/split_1_grad/concat/split_1/split_dim}}]]\n"
     ]
    },
    {
     "name": "stdout",
     "output_type": "stream",
     "text": [
      "6234/6234 [==============================] - 81s 12ms/step - loss: 0.6723 - accuracy: 0.5799 - recall: 0.5356 - precision: 0.5795 - val_loss: 0.6499 - val_accuracy: 0.6194 - val_recall: 0.5886 - val_precision: 0.6695 - lr: 1.0000e-05\n",
      "Epoch 2/50\n",
      "6234/6234 [==============================] - 48s 8ms/step - loss: 0.6553 - accuracy: 0.6086 - recall: 0.5583 - precision: 0.6126 - val_loss: 0.6344 - val_accuracy: 0.6376 - val_recall: 0.5862 - val_precision: 0.6972 - lr: 1.0000e-05\n",
      "Epoch 3/50\n",
      "6234/6234 [==============================] - 46s 7ms/step - loss: 0.6449 - accuracy: 0.6215 - recall: 0.5631 - precision: 0.6293 - val_loss: 0.6279 - val_accuracy: 0.6435 - val_recall: 0.5649 - val_precision: 0.7175 - lr: 1.0000e-05\n",
      "Epoch 4/50\n",
      "6234/6234 [==============================] - 45s 7ms/step - loss: 0.6372 - accuracy: 0.6317 - recall: 0.5673 - precision: 0.6429 - val_loss: 0.6187 - val_accuracy: 0.6522 - val_recall: 0.5687 - val_precision: 0.7301 - lr: 1.0000e-05\n",
      "Epoch 5/50\n",
      "6234/6234 [==============================] - 45s 7ms/step - loss: 0.6307 - accuracy: 0.6396 - recall: 0.5708 - precision: 0.6536 - val_loss: 0.6112 - val_accuracy: 0.6597 - val_recall: 0.5802 - val_precision: 0.7363 - lr: 1.0000e-05\n",
      "Epoch 6/50\n",
      "6234/6234 [==============================] - 45s 7ms/step - loss: 0.6254 - accuracy: 0.6456 - recall: 0.5743 - precision: 0.6615 - val_loss: 0.6073 - val_accuracy: 0.6624 - val_recall: 0.5723 - val_precision: 0.7459 - lr: 1.0000e-05\n",
      "Epoch 7/50\n",
      "6234/6234 [==============================] - 45s 7ms/step - loss: 0.6202 - accuracy: 0.6505 - recall: 0.5783 - precision: 0.6676 - val_loss: 0.5994 - val_accuracy: 0.6693 - val_recall: 0.5967 - val_precision: 0.7427 - lr: 1.0000e-05\n",
      "Epoch 8/50\n",
      "6234/6234 [==============================] - 45s 7ms/step - loss: 0.6161 - accuracy: 0.6549 - recall: 0.5813 - precision: 0.6734 - val_loss: 0.5974 - val_accuracy: 0.6707 - val_recall: 0.5869 - val_precision: 0.7513 - lr: 1.0000e-05\n",
      "Epoch 9/50\n",
      "6234/6234 [==============================] - 44s 7ms/step - loss: 0.6122 - accuracy: 0.6587 - recall: 0.5864 - precision: 0.6773 - val_loss: 0.5945 - val_accuracy: 0.6738 - val_recall: 0.5842 - val_precision: 0.7587 - lr: 1.0000e-05\n",
      "Epoch 10/50\n",
      "6234/6234 [==============================] - 45s 7ms/step - loss: 0.6091 - accuracy: 0.6623 - recall: 0.5886 - precision: 0.6821 - val_loss: 0.5886 - val_accuracy: 0.6780 - val_recall: 0.5994 - val_precision: 0.7561 - lr: 1.0000e-05\n",
      "Epoch 11/50\n",
      "6234/6234 [==============================] - 45s 7ms/step - loss: 0.6058 - accuracy: 0.6652 - recall: 0.5920 - precision: 0.6853 - val_loss: 0.5877 - val_accuracy: 0.6793 - val_recall: 0.5950 - val_precision: 0.7613 - lr: 1.0000e-05\n",
      "Epoch 12/50\n",
      "6234/6234 [==============================] - 45s 7ms/step - loss: 0.6031 - accuracy: 0.6682 - recall: 0.5954 - precision: 0.6886 - val_loss: 0.5850 - val_accuracy: 0.6819 - val_recall: 0.6002 - val_precision: 0.7624 - lr: 1.0000e-05\n",
      "Epoch 13/50\n",
      "6234/6234 [==============================] - 45s 7ms/step - loss: 0.6007 - accuracy: 0.6703 - recall: 0.5988 - precision: 0.6907 - val_loss: 0.5830 - val_accuracy: 0.6843 - val_recall: 0.6038 - val_precision: 0.7644 - lr: 1.0000e-05\n",
      "Epoch 14/50\n",
      "6234/6234 [==============================] - 45s 7ms/step - loss: 0.5985 - accuracy: 0.6725 - recall: 0.6024 - precision: 0.6925 - val_loss: 0.5803 - val_accuracy: 0.6864 - val_recall: 0.6131 - val_precision: 0.7620 - lr: 1.0000e-05\n",
      "Epoch 15/50\n",
      "6234/6234 [==============================] - 45s 7ms/step - loss: 0.5967 - accuracy: 0.6744 - recall: 0.6047 - precision: 0.6946 - val_loss: 0.5808 - val_accuracy: 0.6860 - val_recall: 0.6029 - val_precision: 0.7680 - lr: 1.0000e-05\n",
      "Epoch 16/50\n",
      "6234/6234 [==============================] - 44s 7ms/step - loss: 0.5950 - accuracy: 0.6759 - recall: 0.6060 - precision: 0.6965 - val_loss: 0.5768 - val_accuracy: 0.6896 - val_recall: 0.6252 - val_precision: 0.7596 - lr: 1.0000e-05\n",
      "Epoch 17/50\n",
      "6234/6234 [==============================] - 45s 7ms/step - loss: 0.5930 - accuracy: 0.6780 - recall: 0.6100 - precision: 0.6981 - val_loss: 0.5759 - val_accuracy: 0.6911 - val_recall: 0.6201 - val_precision: 0.7656 - lr: 1.0000e-05\n",
      "Epoch 18/50\n",
      "6234/6234 [==============================] - 45s 7ms/step - loss: 0.5919 - accuracy: 0.6792 - recall: 0.6110 - precision: 0.6996 - val_loss: 0.5750 - val_accuracy: 0.6917 - val_recall: 0.6249 - val_precision: 0.7635 - lr: 1.0000e-05\n",
      "Epoch 19/50\n",
      "6234/6234 [==============================] - 45s 7ms/step - loss: 0.5899 - accuracy: 0.6808 - recall: 0.6134 - precision: 0.7010 - val_loss: 0.5737 - val_accuracy: 0.6935 - val_recall: 0.6284 - val_precision: 0.7644 - lr: 1.0000e-05\n",
      "Epoch 20/50\n",
      "6234/6234 [==============================] - 45s 7ms/step - loss: 0.5886 - accuracy: 0.6822 - recall: 0.6155 - precision: 0.7025 - val_loss: 0.5725 - val_accuracy: 0.6945 - val_recall: 0.6259 - val_precision: 0.7678 - lr: 1.0000e-05\n",
      "Epoch 21/50\n",
      "6234/6234 [==============================] - 45s 7ms/step - loss: 0.5870 - accuracy: 0.6838 - recall: 0.6186 - precision: 0.7036 - val_loss: 0.5722 - val_accuracy: 0.6951 - val_recall: 0.6186 - val_precision: 0.7735 - lr: 1.0000e-05\n",
      "Epoch 22/50\n",
      "6234/6234 [==============================] - 45s 7ms/step - loss: 0.5859 - accuracy: 0.6849 - recall: 0.6193 - precision: 0.7050 - val_loss: 0.5688 - val_accuracy: 0.6973 - val_recall: 0.6377 - val_precision: 0.7649 - lr: 1.0000e-05\n",
      "Epoch 23/50\n",
      "6234/6234 [==============================] - 44s 7ms/step - loss: 0.5847 - accuracy: 0.6867 - recall: 0.6219 - precision: 0.7067 - val_loss: 0.5687 - val_accuracy: 0.6977 - val_recall: 0.6287 - val_precision: 0.7713 - lr: 1.0000e-05\n",
      "Epoch 24/50\n",
      "6234/6234 [==============================] - 45s 7ms/step - loss: 0.5837 - accuracy: 0.6866 - recall: 0.6211 - precision: 0.7070 - val_loss: 0.5692 - val_accuracy: 0.6976 - val_recall: 0.6257 - val_precision: 0.7733 - lr: 1.0000e-05\n",
      "Epoch 25/50\n",
      "6234/6234 [==============================] - 44s 7ms/step - loss: 0.5824 - accuracy: 0.6875 - recall: 0.6221 - precision: 0.7079 - val_loss: 0.5673 - val_accuracy: 0.6994 - val_recall: 0.6342 - val_precision: 0.7707 - lr: 1.0000e-05\n",
      "Epoch 26/50\n",
      "6234/6234 [==============================] - 45s 7ms/step - loss: 0.5813 - accuracy: 0.6890 - recall: 0.6253 - precision: 0.7089 - val_loss: 0.5660 - val_accuracy: 0.7007 - val_recall: 0.6382 - val_precision: 0.7703 - lr: 1.0000e-05\n",
      "Epoch 27/50\n",
      "6234/6234 [==============================] - 45s 7ms/step - loss: 0.5798 - accuracy: 0.6909 - recall: 0.6271 - precision: 0.7112 - val_loss: 0.5671 - val_accuracy: 0.7001 - val_recall: 0.6269 - val_precision: 0.7769 - lr: 1.0000e-05\n",
      "Epoch 28/50\n",
      "6234/6234 [==============================] - 45s 7ms/step - loss: 0.5789 - accuracy: 0.6911 - recall: 0.6282 - precision: 0.7110 - val_loss: 0.5655 - val_accuracy: 0.7017 - val_recall: 0.6387 - val_precision: 0.7718 - lr: 1.0000e-05\n",
      "Epoch 29/50\n",
      "6234/6234 [==============================] - 45s 7ms/step - loss: 0.5779 - accuracy: 0.6923 - recall: 0.6287 - precision: 0.7126 - val_loss: 0.5650 - val_accuracy: 0.7019 - val_recall: 0.6428 - val_precision: 0.7693 - lr: 1.0000e-05\n",
      "Epoch 30/50\n",
      "6234/6234 [==============================] - 44s 7ms/step - loss: 0.5766 - accuracy: 0.6932 - recall: 0.6314 - precision: 0.7128 - val_loss: 0.5645 - val_accuracy: 0.7020 - val_recall: 0.6367 - val_precision: 0.7736 - lr: 1.0000e-05\n",
      "Epoch 31/50\n",
      "6234/6234 [==============================] - 45s 7ms/step - loss: 0.5762 - accuracy: 0.6936 - recall: 0.6319 - precision: 0.7133 - val_loss: 0.5637 - val_accuracy: 0.7031 - val_recall: 0.6376 - val_precision: 0.7748 - lr: 1.0000e-05\n",
      "Epoch 32/50\n",
      "6234/6234 [==============================] - 44s 7ms/step - loss: 0.5752 - accuracy: 0.6943 - recall: 0.6323 - precision: 0.7142 - val_loss: 0.5633 - val_accuracy: 0.7030 - val_recall: 0.6411 - val_precision: 0.7724 - lr: 1.0000e-05\n",
      "Epoch 33/50\n",
      "6234/6234 [==============================] - 45s 7ms/step - loss: 0.5744 - accuracy: 0.6948 - recall: 0.6330 - precision: 0.7147 - val_loss: 0.5620 - val_accuracy: 0.7042 - val_recall: 0.6468 - val_precision: 0.7707 - lr: 1.0000e-05\n",
      "Epoch 34/50\n",
      "6234/6234 [==============================] - 45s 7ms/step - loss: 0.5734 - accuracy: 0.6964 - recall: 0.6360 - precision: 0.7159 - val_loss: 0.5623 - val_accuracy: 0.7038 - val_recall: 0.6403 - val_precision: 0.7742 - lr: 1.0000e-05\n",
      "Epoch 35/50\n",
      "6234/6234 [==============================] - 45s 7ms/step - loss: 0.5728 - accuracy: 0.6968 - recall: 0.6359 - precision: 0.7166 - val_loss: 0.5599 - val_accuracy: 0.7059 - val_recall: 0.6507 - val_precision: 0.7711 - lr: 1.0000e-05\n",
      "Epoch 36/50\n",
      "6234/6234 [==============================] - 45s 7ms/step - loss: 0.5721 - accuracy: 0.6974 - recall: 0.6373 - precision: 0.7169 - val_loss: 0.5618 - val_accuracy: 0.7044 - val_recall: 0.6360 - val_precision: 0.7782 - lr: 1.0000e-05\n",
      "Epoch 37/50\n",
      "6234/6234 [==============================] - 44s 7ms/step - loss: 0.5712 - accuracy: 0.6981 - recall: 0.6385 - precision: 0.7175 - val_loss: 0.5585 - val_accuracy: 0.7064 - val_recall: 0.6567 - val_precision: 0.7682 - lr: 1.0000e-05\n",
      "Epoch 38/50\n",
      "6234/6234 [==============================] - 45s 7ms/step - loss: 0.5702 - accuracy: 0.6991 - recall: 0.6397 - precision: 0.7185 - val_loss: 0.5607 - val_accuracy: 0.7051 - val_recall: 0.6415 - val_precision: 0.7756 - lr: 1.0000e-05\n",
      "Epoch 39/50\n",
      "6234/6234 [==============================] - 44s 7ms/step - loss: 0.5691 - accuracy: 0.7001 - recall: 0.6406 - precision: 0.7197 - val_loss: 0.5586 - val_accuracy: 0.7067 - val_recall: 0.6516 - val_precision: 0.7717 - lr: 1.0000e-05\n",
      "Epoch 40/50\n",
      "6227/6234 [============================>.] - ETA: 0s - loss: 0.5687 - accuracy: 0.7000 - recall: 0.6411 - precision: 0.7193\n",
      "Epoch 40: ReduceLROnPlateau reducing learning rate to 9.999999747378752e-07.\n",
      "6234/6234 [==============================] - 44s 7ms/step - loss: 0.5688 - accuracy: 0.7000 - recall: 0.6411 - precision: 0.7193 - val_loss: 0.5582 - val_accuracy: 0.7068 - val_recall: 0.6505 - val_precision: 0.7728 - lr: 1.0000e-05\n",
      "Epoch 41/50\n",
      "6234/6234 [==============================] - 45s 7ms/step - loss: 0.5676 - accuracy: 0.7011 - recall: 0.6422 - precision: 0.7206 - val_loss: 0.5582 - val_accuracy: 0.7070 - val_recall: 0.6514 - val_precision: 0.7724 - lr: 1.0000e-06\n",
      "Epoch 42/50\n",
      "6234/6234 [==============================] - 45s 7ms/step - loss: 0.5677 - accuracy: 0.7017 - recall: 0.6433 - precision: 0.7210 - val_loss: 0.5583 - val_accuracy: 0.7070 - val_recall: 0.6501 - val_precision: 0.7733 - lr: 1.0000e-06\n",
      "Epoch 43/50\n",
      "6230/6234 [============================>.] - ETA: 0s - loss: 0.5674 - accuracy: 0.7016 - recall: 0.6430 - precision: 0.7209\n",
      "Epoch 43: ReduceLROnPlateau reducing learning rate to 9.999999974752428e-08.\n",
      "6234/6234 [==============================] - 45s 7ms/step - loss: 0.5674 - accuracy: 0.7016 - recall: 0.6430 - precision: 0.7209 - val_loss: 0.5586 - val_accuracy: 0.7068 - val_recall: 0.6486 - val_precision: 0.7739 - lr: 1.0000e-06\n",
      "Epoch 44/50\n",
      "6234/6234 [==============================] - 45s 7ms/step - loss: 0.5675 - accuracy: 0.7012 - recall: 0.6419 - precision: 0.7208 - val_loss: 0.5585 - val_accuracy: 0.7070 - val_recall: 0.6489 - val_precision: 0.7741 - lr: 1.0000e-07\n",
      "Epoch 45/50\n",
      "6230/6234 [============================>.] - ETA: 0s - loss: 0.5673 - accuracy: 0.7013 - recall: 0.6423 - precision: 0.7207Restoring model weights from the end of the best epoch: 37.\n",
      "6234/6234 [==============================] - 45s 7ms/step - loss: 0.5673 - accuracy: 0.7012 - recall: 0.6423 - precision: 0.7207 - val_loss: 0.5580 - val_accuracy: 0.7073 - val_recall: 0.6524 - val_precision: 0.7724 - lr: 1.0000e-07\n",
      "Epoch 45: early stopping\n"
     ]
    }
   ],
   "source": [
    "lstm_model.compile(optimizer=Adam(learning_rate = 1e-5,amsgrad = True), loss = BinaryCrossentropy(), metrics=['accuracy','Recall','Precision'])\n",
    "history = lstm_model.fit(train_set_padded, train_labels,validation_data = (valid_set_padded,validation_labels),\\\n",
    "                    batch_size=BATCH_SIZE, epochs=EPOCHS,\\\n",
    "                             callbacks=[tensorboard_callback,EarlyStopping(patience=8,min_delta=0.0005,mode='min',verbose = 1,restore_best_weights=True,monitor='val_loss'),ReduceLROnPlateau(monitor=\"val_loss\",mode = 'min',factor=0.1,verbose = 1,min_delta=0.0005,patience=3)])"
   ]
  },
  {
   "cell_type": "code",
   "execution_count": 42,
   "metadata": {},
   "outputs": [],
   "source": [
    "def recall_m(y_true, y_pred):\n",
    "    true_positives = K.sum(K.round(K.clip(y_true * y_pred, 0, 1)))\n",
    "    possible_positives = K.sum(K.round(K.clip(y_true, 0, 1)))\n",
    "    recall = true_positives / (possible_positives + K.epsilon())\n",
    "    return recall\n",
    "\n",
    "def precision_m(y_true, y_pred):\n",
    "    true_positives = K.sum(K.round(K.clip(y_true * y_pred, 0, 1)))\n",
    "    predicted_positives = K.sum(K.round(K.clip(y_pred, 0, 1)))\n",
    "    precision = true_positives / (predicted_positives + K.epsilon())\n",
    "    return precision\n",
    "\n",
    "def f1_m(y_true, y_pred):\n",
    "    precision = precision_m(y_true, y_pred)\n",
    "    recall = recall_m(y_true, y_pred)\n",
    "    return 2*((precision*recall)/(precision+recall+K.epsilon()))"
   ]
  },
  {
   "cell_type": "code",
   "execution_count": 57,
   "metadata": {},
   "outputs": [],
   "source": [
    "if not os.path.exists(SAVED_MODELS_DIR):\n",
    "    os.mkdir(SAVED_MODELS_DIR)"
   ]
  },
  {
   "cell_type": "code",
   "execution_count": 58,
   "metadata": {},
   "outputs": [],
   "source": [
    "TRAINED_MODELS_COUNT = datetime.datetime.now().strftime(\"%Y%m%d-%H%M%S\")\n",
    "if VARIANT_NUM == 0:\n",
    "    lstm_model.save_weights(SAVED_MODELS_DIR + \"/sd_lstm_model_base\" + \".h5\")\n",
    "else:\n",
    "    lstm_model.save_weights(SAVED_MODELS_DIR + \"/sd_lstm_model_variant_\" + str(VARIANT_NUM) + \".h5\")"
   ]
  },
  {
   "cell_type": "code",
   "execution_count": 59,
   "metadata": {},
   "outputs": [],
   "source": [
    "if VARIANT_NUM == 0:\n",
    "    pickle_out = open(SAVED_MODELS_DIR + \"/sd_lstm_model_params_base\" + \".pickle\",'wb')\n",
    "else:\n",
    "    pickle_out = open(SAVED_MODELS_DIR + \"/sd_lstm_model_params_\" + str(VARIANT_NUM) + \".pickle\",'wb')\n",
    "pickle.dump({'EMBEDDING_DIM':EMBEDDING_DIM,'MAX_TEXT_LEN':MAX_TEXT_LEN,'BATCH_SIZE':BATCH_SIZE,'EPOCHS':EPOCHS,\\\n",
    "             'train_set_size':len(train_set),'optimizer':str(lstm_model.optimizer),\\\n",
    "             'learning_rate':str(lstm_model.optimizer.learning_rate),\\\n",
    "             'conv_filters':CONV_FILTERS,'conv_kernel':CONV_KERNEL_SIZE,\\\n",
    "             'chunks_used':(len(train_set) + len(validation_set) + len(test_set)) // DATA_IN_CHUNK,\\\n",
    "            'LSTM_UNITS':LSTM_UNITS,'DENSE_UNITS':DENSE_UNITS,'LABELS_COUNT':LABELS_COUNT},pickle_out)\n",
    "pickle_out.close()"
   ]
  },
  {
   "cell_type": "code",
   "execution_count": 60,
   "metadata": {},
   "outputs": [],
   "source": [
    "np.save(SAVED_MODELS_DIR + \"/\" + 'sd_lstm_model_' + str(VARIANT_NUM) + '.npy',history.history)"
   ]
  },
  {
   "cell_type": "markdown",
   "metadata": {},
   "source": [
    "## 4. Conclusion"
   ]
  },
  {
   "cell_type": "code",
   "execution_count": 61,
   "metadata": {},
   "outputs": [],
   "source": [
    "if VAST:\n",
    "    !tar -czf sd_lstm_model_variant_one_logs.tar.gz logs"
   ]
  },
  {
   "cell_type": "code",
   "execution_count": 64,
   "metadata": {},
   "outputs": [],
   "source": [
    "if DELETE_PICKLES_AFTER_TRAINING:\n",
    "    if GDRIVE:\n",
    "        !rm -r datasets/processed_data\n",
    "    else:\n",
    "        !rm -r ../datasets/processed_data"
   ]
  },
  {
   "cell_type": "code",
   "execution_count": 68,
   "metadata": {},
   "outputs": [
    {
     "name": "stdout",
     "output_type": "stream",
     "text": [
      "2982/2982 [==============================] - 8s 3ms/step - loss: 0.5566 - accuracy: 0.7091 - recall: 0.6684 - precision: 0.7784\n",
      "test loss, test acc: [0.5565776824951172, 0.7090678811073303]\n"
     ]
    }
   ],
   "source": [
    "results = lstm_model.evaluate(test_set_padded, test_labels)\n",
    "print(\"test loss, test acc:\", results[:2])"
   ]
  },
  {
   "cell_type": "markdown",
   "metadata": {},
   "source": [
    "### 4.1 Results"
   ]
  },
  {
   "cell_type": "code",
   "execution_count": 66,
   "metadata": {},
   "outputs": [
    {
     "data": {
      "image/png": "[encoded data removed]",
      "text/plain": [
       "<Figure size 640x480 with 1 Axes>"
      ]
     },
     "metadata": {},
     "output_type": "display_data"
    },
    {
     "data": {
      "image/png": "[encoded data removed]",
      "text/plain": [
       "<Figure size 640x480 with 1 Axes>"
      ]
     },
     "metadata": {},
     "output_type": "display_data"
    }
   ],
   "source": [
    "acc = history.history['accuracy']\n",
    "val_acc = history.history['val_accuracy']\n",
    "loss = history.history['loss']\n",
    "val_loss = history.history['val_loss']\n",
    "\n",
    "epochs = range(len(acc))\n",
    "\n",
    "plt.plot(epochs, acc, 'r', label='Training accuracy')\n",
    "plt.plot(epochs, val_acc, 'b', label='Validation accuracy')\n",
    "plt.title('Training and validation accuracy')\n",
    "plt.xlabel(\"epochs\")\n",
    "plt.ylabel(\"accuracy\")\n",
    "plt.legend()\n",
    "plt.figure()\n",
    "\n",
    "plt.plot(epochs, loss, 'r', label='Training Loss')\n",
    "plt.plot(epochs, val_loss, 'b', label='Validation Loss')\n",
    "plt.title('Training and validation loss')\n",
    "plt.xlabel(\"epochs\")\n",
    "plt.ylabel(\"accuracy\")\n",
    "plt.legend()\n",
    "\n",
    "plt.show()"
   ]
  },
  {
   "cell_type": "markdown",
   "metadata": {},
   "source": [
    "### 4.2 Tensorboard"
   ]
  },
  {
   "cell_type": "code",
   "execution_count": null,
   "metadata": {},
   "outputs": [],
   "source": [
    "# %load_ext tensorboard\n",
    "# %tensorboard --logdir logs/fit"
   ]
  }
 ],
 "metadata": {
  "kernelspec": {
   "display_name": "Python 3 (ipykernel)",
   "language": "python",
   "name": "python3"
  },
  "language_info": {
   "codemirror_mode": {
    "name": "ipython",
    "version": 3
   },
   "file_extension": ".py",
   "mimetype": "text/x-python",
   "name": "python",
   "nbconvert_exporter": "python",
   "pygments_lexer": "ipython3",
   "version": "3.8.10"
  }
 },
 "nbformat": 4,
 "nbformat_minor": 2
}
