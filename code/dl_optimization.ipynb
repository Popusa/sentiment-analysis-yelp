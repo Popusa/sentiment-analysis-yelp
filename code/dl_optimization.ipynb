{
 "cells": [
  {
   "attachments": {},
   "cell_type": "markdown",
   "metadata": {},
   "source": [
    "# Deep Learning Optimization"
   ]
  },
  {
   "attachments": {},
   "cell_type": "markdown",
   "metadata": {},
   "source": [
    "#### Goal of This File:\n",
    "\n",
    "##### 1. Confirm Findings From ML File ==> Sklearn Embeddings vs Gensim Embeddings ==> Sentiment Polarity Final Score ==> 3 labels vs 5 labels\n",
    "\n",
    "##### 2. XGBoost\n",
    "\n",
    "##### 3. Simple RNN\n",
    "\n",
    "##### 4. LSTM ==> Bidirectional LSTM\n",
    "\n",
    "##### 5. Sequence-to-Vector Transformers\n",
    "\n",
    "##### 6. Conclusion"
   ]
  },
  {
   "attachments": {},
   "cell_type": "markdown",
   "metadata": {},
   "source": [
    "## 1. Import Libraries and Helper Functions"
   ]
  },
  {
   "cell_type": "code",
   "execution_count": null,
   "metadata": {},
   "outputs": [],
   "source": [
    "import pandas as pd\n",
    "import requests\n",
    "from nlp_ml_utils import *\n",
    "from chunks_urls import CHUNKS_URLS\n",
    "URLS = CHUNKS_URLS\n",
    "LIMIT = 60"
   ]
  },
  {
   "attachments": {},
   "cell_type": "markdown",
   "metadata": {},
   "source": [
    "### 1.1 Data Sourcing and Munging"
   ]
  },
  {
   "attachments": {},
   "cell_type": "markdown",
   "metadata": {},
   "source": [
    "#### 1.1.1 Utility Functions"
   ]
  },
  {
   "cell_type": "code",
   "execution_count": null,
   "metadata": {},
   "outputs": [],
   "source": [
    "def get_chunks(urls):\n",
    "  for i,url in enumerate(urls):\n",
    "    r = requests.get(url)\n",
    "    file_name = \"chunk_\" + str(i + 1)\n",
    "    print(f\"Downloading {file_name}...\")\n",
    "    with open(file_name, 'wb') as fd:\n",
    "      for chunk in r.iter_content():\n",
    "        fd.write(chunk)"
   ]
  },
  {
   "cell_type": "code",
   "execution_count": null,
   "metadata": {},
   "outputs": [],
   "source": [
    "def group_up_chunks(dfs):\n",
    "    return pd.concat(dfs)"
   ]
  },
  {
   "attachments": {},
   "cell_type": "markdown",
   "metadata": {},
   "source": [
    "### 1.2 Data Preparation and Pre-processing"
   ]
  },
  {
   "cell_type": "code",
   "execution_count": null,
   "metadata": {},
   "outputs": [],
   "source": []
  }
 ],
 "metadata": {
  "language_info": {
   "name": "python"
  },
  "orig_nbformat": 4
 },
 "nbformat": 4,
 "nbformat_minor": 2
}
