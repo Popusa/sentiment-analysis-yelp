{
 "cells": [
  {
   "cell_type": "code",
   "execution_count": 1,
   "id": "2c3e78a5",
   "metadata": {},
   "outputs": [
    {
     "data": {
      "text/plain": [
       "{'colsample_bytree': 0.7,\n",
       " 'learning_rate': 0.3,\n",
       " 'max_depth': 9,\n",
       " 'min_child_weight': 1,\n",
       " 'subsample': 1.0}"
      ]
     },
     "execution_count": 1,
     "metadata": {},
     "output_type": "execute_result"
    }
   ],
   "source": [
    "import pickle\n",
    "best_params = pickle.load(open(\"best_params.pickle\", \"rb\"))\n",
    "best_params"
   ]
  },
  {
   "cell_type": "code",
   "execution_count": 49,
   "id": "68646ec2",
   "metadata": {},
   "outputs": [],
   "source": [
    "import pandas as pd\n",
    "import sklearn\n",
    "import numpy as np\n",
    "from imblearn.over_sampling import SMOTE,RandomOverSampler\n",
    "from sklearn import metrics\n",
    "from sklearn.tree import DecisionTreeClassifier\n",
    "from sklearn.ensemble import RandomForestClassifier\n",
    "from sklearn.model_selection import train_test_split\n",
    "from gensim.test.utils import common_texts\n",
    "from gensim.models import Word2Vec\n",
    "import nltk"
   ]
  },
  {
   "cell_type": "code",
   "execution_count": null,
   "id": "d099a423",
   "metadata": {},
   "outputs": [],
   "source": [
    "df = pd.read_csv(\"../smaller_dataset/yelp coffee/raw_yelp_review_data_processed.csv\")\n",
    "df_unprocessed = pd.read_csv(\"smaller_dataset/yelp coffee/raw_yelp_review_data.csv\")"
   ]
  },
  {
   "cell_type": "code",
   "execution_count": 24,
   "id": "3eaae7a4",
   "metadata": {},
   "outputs": [],
   "source": [
    "def tokenize_review(text):\n",
    "    return nltk.word_tokenize(text)"
   ]
  },
  {
   "cell_type": "code",
   "execution_count": 25,
   "id": "07ba20ab",
   "metadata": {},
   "outputs": [],
   "source": [
    "reviews_tokens = [tokenize_review(review) for review in X]"
   ]
  },
  {
   "cell_type": "code",
   "execution_count": 1,
   "id": "ab7c714d",
   "metadata": {},
   "outputs": [
    {
     "ename": "NameError",
     "evalue": "name 'Word2Vec' is not defined",
     "output_type": "error",
     "traceback": [
      "\u001b[1;31m---------------------------------------------------------------------------\u001b[0m",
      "\u001b[1;31mNameError\u001b[0m                                 Traceback (most recent call last)",
      "\u001b[1;32m~\\AppData\\Local\\Temp/ipykernel_17436/1362027351.py\u001b[0m in \u001b[0;36m<module>\u001b[1;34m\u001b[0m\n\u001b[1;32m----> 1\u001b[1;33m \u001b[0mmodel\u001b[0m \u001b[1;33m=\u001b[0m \u001b[0mWord2Vec\u001b[0m\u001b[1;33m(\u001b[0m\u001b[0msentences\u001b[0m\u001b[1;33m=\u001b[0m\u001b[0mreviews_tokens\u001b[0m\u001b[1;33m,\u001b[0m \u001b[0mvector_size\u001b[0m\u001b[1;33m=\u001b[0m\u001b[1;36m100\u001b[0m\u001b[1;33m,\u001b[0m \u001b[0mwindow\u001b[0m\u001b[1;33m=\u001b[0m\u001b[1;36m5\u001b[0m\u001b[1;33m,\u001b[0m \u001b[0mmin_count\u001b[0m\u001b[1;33m=\u001b[0m\u001b[1;36m1\u001b[0m\u001b[1;33m,\u001b[0m \u001b[0mworkers\u001b[0m\u001b[1;33m=\u001b[0m\u001b[1;36m4\u001b[0m\u001b[1;33m)\u001b[0m\u001b[1;33m\u001b[0m\u001b[1;33m\u001b[0m\u001b[0m\n\u001b[0m\u001b[0;32m      2\u001b[0m \u001b[0mmodel\u001b[0m\u001b[1;33m.\u001b[0m\u001b[0msave\u001b[0m\u001b[1;33m(\u001b[0m\u001b[1;34m\"test_w2v.model\"\u001b[0m\u001b[1;33m)\u001b[0m\u001b[1;33m\u001b[0m\u001b[1;33m\u001b[0m\u001b[0m\n",
      "\u001b[1;31mNameError\u001b[0m: name 'Word2Vec' is not defined"
     ]
    }
   ],
   "source": [
    "model = Word2Vec(sentences=reviews_tokens, vector_size=100, window=5, min_count=1, workers=4)\n",
    "# model.save(\"test_w2v.model\")"
   ]
  },
  {
   "cell_type": "code",
   "execution_count": 35,
   "id": "00d35cfa",
   "metadata": {},
   "outputs": [],
   "source": [
    "X = np.zeros((len(reviews_tokens), model.vector_size))\n",
    "labels = y\n",
    "for i, review in enumerate(reviews_tokens):\n",
    "    for word in review:\n",
    "        if word in model.wv:\n",
    "            X[i] += model.wv[word]\n",
    "    X[i] /= len(reviews_tokens)"
   ]
  },
  {
   "cell_type": "code",
   "execution_count": 44,
   "id": "fe317b16",
   "metadata": {},
   "outputs": [],
   "source": [
    "x_train,x_test,y_train,y_test = train_test_split(X,labels,stratify=labels,test_size=0.2,random_state=42)"
   ]
  },
  {
   "cell_type": "code",
   "execution_count": 50,
   "id": "b8614f96",
   "metadata": {},
   "outputs": [],
   "source": [
    "clf = RandomForestClassifier(random_state=42)\n",
    "clf.fit(x_train, y_train)\n",
    "y_pred = clf.predict(x_test)\n",
    "accuracy = metrics.accuracy_score(y_test,y_pred)"
   ]
  },
  {
   "cell_type": "code",
   "execution_count": 51,
   "id": "c7303511",
   "metadata": {},
   "outputs": [
    {
     "data": {
      "text/plain": [
       "0.5516992046276211"
      ]
     },
     "execution_count": 51,
     "metadata": {},
     "output_type": "execute_result"
    }
   ],
   "source": [
    "accuracy"
   ]
  },
  {
   "cell_type": "code",
   "execution_count": 60,
   "id": "4ad7f747",
   "metadata": {},
   "outputs": [],
   "source": [
    "test_review = \"This coffee is a vibe. I cannot imagine living in a world where you do not exist, Starbucks.\"\n",
    "test_token = nltk.word_tokenize(test_review)\n",
    "test_vector = np.zeros(model.vector_size)\n",
    "for word in test_token:\n",
    "    if word in model.wv:\n",
    "        test_vector += model.wv[word]\n",
    "test_vector /= len(test_token)\n",
    "predicted_label = clf.predict([test_vector])[0]"
   ]
  },
  {
   "cell_type": "code",
   "execution_count": 61,
   "id": "087c6fd6",
   "metadata": {},
   "outputs": [
    {
     "data": {
      "text/plain": [
       "4"
      ]
     },
     "execution_count": 61,
     "metadata": {},
     "output_type": "execute_result"
    }
   ],
   "source": [
    "predicted_label"
   ]
  }
 ],
 "metadata": {
  "kernelspec": {
   "display_name": "Python 3 (ipykernel)",
   "language": "python",
   "name": "python3"
  },
  "language_info": {
   "codemirror_mode": {
    "name": "ipython",
    "version": 3
   },
   "file_extension": ".py",
   "mimetype": "text/x-python",
   "name": "python",
   "nbconvert_exporter": "python",
   "pygments_lexer": "ipython3",
   "version": "3.10.10"
  }
 },
 "nbformat": 4,
 "nbformat_minor": 5
}
